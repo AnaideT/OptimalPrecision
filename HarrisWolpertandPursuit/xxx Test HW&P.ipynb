{
 "cells": [
  {
   "cell_type": "code",
   "execution_count": 26,
   "metadata": {},
   "outputs": [
    {
     "name": "stdout",
     "output_type": "stream",
     "text": [
      "The autoreload extension is already loaded. To reload it, use:\n",
      "  %reload_ext autoreload\n"
     ]
    },
    {
     "data": {
      "text/plain": [
       "array([ 23648.46184793,  23648.46184793,  23648.46184793,  23648.46184793,\n",
       "        23648.46184793,  23648.46184793,  23648.46184793,  23648.46184793,\n",
       "        23648.46184793,  23648.46184793,  23648.46184793,  23648.46184793,\n",
       "        23648.46184793,  23648.46184793,  23648.46184793,  23648.46184793,\n",
       "        23648.46184793,  23648.46184793,  23648.46184793,  23648.46184793,\n",
       "        23648.46184793,  23648.46184793,  23648.46184793,  23648.46184793,\n",
       "        23648.46184793,  23648.46184793,  23648.46184793,  23648.46184793,\n",
       "        23648.46184793,  23648.46184793,  23648.46184793,  23648.46184793,\n",
       "        23648.46184793,  23648.46184793,  23648.46184793,  23648.46184793,\n",
       "        23648.46184793,  23648.46184793,  23648.46184793,  23648.46184793,\n",
       "        23648.46184793, -23648.46184793, -23648.46184793, -23648.46184793,\n",
       "       -23648.46184793, -23648.46184793, -23648.46184793, -23648.46184793,\n",
       "       -23648.46184793, -23648.46184793,      0.        ,      0.        ,\n",
       "            0.        ,      0.        ,      0.        ,      0.        ,\n",
       "            0.        ,      0.        ,      0.        ,      0.        ,\n",
       "            0.        ,      0.        ,      0.        ,      0.        ,\n",
       "            0.        ,      0.        ,      0.        ,      0.        ,\n",
       "            0.        ,      0.        ,      0.        ,      0.        ,\n",
       "            0.        ,      0.        ,      0.        ,      0.        ,\n",
       "            0.        ,      0.        ,      0.        ,      0.        ,\n",
       "            0.        ,      0.        ,      0.        ,      0.        ,\n",
       "            0.        ,      0.        ,      0.        ,      0.        ,\n",
       "            0.        ,      0.        ,      0.        ,      0.        ,\n",
       "            0.        ,      0.        ,      0.        ,      0.        ,\n",
       "            0.        ,      0.        ,      0.        ,      0.        ,\n",
       "            0.        ])"
      ]
     },
     "execution_count": 26,
     "metadata": {},
     "output_type": "execute_result"
    }
   ],
   "source": [
    "from HarrisWolpertandPursuit import*\n",
    "\n",
    "%load_ext autoreload\n",
    "%autoreload 2\n",
    "\n",
    "#dt = 0.001\n",
    "#tau = .013\n",
    "#A = np.array([[1., dt], [0., 1-dt/tau]])\n",
    "#T = 50\n",
    "#R = 50\n",
    "#B = np.array([0., dt])\n",
    "\n",
    "#A_pow(A, B, T, R)\n",
    "BB = BangBang()\n",
    "BB.command_u()\n",
    "\n"
   ]
  },
  {
   "cell_type": "code",
   "execution_count": null,
   "metadata": {
    "collapsed": true
   },
   "outputs": [],
   "source": [
    "import numpy as np\n",
    "\n",
    "np.around()"
   ]
  }
 ],
 "metadata": {
  "kernelspec": {
   "display_name": "Python 3",
   "language": "python",
   "name": "python3"
  },
  "language_info": {
   "codemirror_mode": {
    "name": "ipython",
    "version": 3
   },
   "file_extension": ".py",
   "mimetype": "text/x-python",
   "name": "python",
   "nbconvert_exporter": "python",
   "pygments_lexer": "ipython3",
   "version": "3.5.2"
  }
 },
 "nbformat": 4,
 "nbformat_minor": 2
}
