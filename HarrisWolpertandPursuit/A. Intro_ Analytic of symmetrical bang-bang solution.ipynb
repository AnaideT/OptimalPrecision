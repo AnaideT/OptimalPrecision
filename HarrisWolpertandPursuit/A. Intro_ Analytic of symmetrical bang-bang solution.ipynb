{
 "cells": [
  {
   "cell_type": "markdown",
   "metadata": {},
   "source": [
    "TODO : add explanatory plots\n",
    "\n",
    "TODO /!\\ solve the equation in 1. or 2. ??? "
   ]
  },
  {
   "cell_type": "markdown",
   "metadata": {},
   "source": [
    "# 1. Bio-mechanical model of the eye\n",
    "\n",
    "Naturally any movement of the eye can mathematically be represented by the following differential equation, which represents a linear model of the eye : \n",
    "  \n",
    "$$\n",
    "\\dfrac{d\\dot{x}(t)}{dt} = -\\frac{1}{\\tau}\\cdot\\dot{x}(t)+u(t)\n",
    "$$\n",
    "\n",
    "where $\\tau$ is a constant of the eye, with $\\left[\\tau\\right] = s$"
   ]
  },
  {
   "cell_type": "markdown",
   "metadata": {},
   "source": [
    "If we take some examples to illustrate the equation we obtain the plots below : ... "
   ]
  },
  {
   "cell_type": "code",
   "execution_count": 1,
   "metadata": {
    "collapsed": true
   },
   "outputs": [],
   "source": [
    "# TODO: add plots"
   ]
  },
  {
   "cell_type": "markdown",
   "metadata": {},
   "source": [
    "# 2. Symmetrical bang-bang : analytical solution\n",
    "\n",
    "  \n",
    "## 2.1. Reach of the target\n",
    "\n",
    "Let $t$ be the time variable, $T$ the time (in $s$) when the target is pointed, $x(t)$ and $\\dot{x}(t)$ respectively the position and the velocity at time $t$, $x_T$ the position to reach, $\\rho \\in \\left [0 ,1\\right]$.  \n",
    "$x(t=0) = 0$ and $\\dot{x}(t=0) = 0$  \n",
    "  \n",
    "$\\newcommand{\\intervalle}[2]{\\left[#1\\mathclose{}\\mathpunct{};#2\\right]}\n",
    "\\newcommand{\\intervallefo}[2]{\\left[#1\\mathclose{}\\mathpunct{};#2\\right[}\n",
    "\\newcommand{\\intervalleof}[2]{\\left]#1\\mathclose{}\\mathpunct{};#2\\right]}\n",
    "\\newcommand{\\intervalleoo}[2]{\\left]#1\\mathclose{}\\mathpunct{};#2\\right[}$  \n",
    "$\\forall t \\in \\intervalle{0}{\\rho\\cdot T} : u(t) = U_+$  \n",
    "$\\forall t \\in \\intervalleof{\\rho\\cdot T}{T} : u(t) = U_-$  \n",
    "$\\forall t \\in \\intervalleoo{T}{+\\infty} : u(t) = U_{\\infty}$  \n",
    "  \n",
    "Formally, \n",
    "$$\n",
    "u(t) = \\mathbb 1_{\\intervalle{0}{\\rho\\cdot T}} \\cdot U_+ + \\mathbb 1_{\\intervalleof{\\rho\\cdot T}{T}} \\cdot U_- + \\mathbb 1_{\\intervalleoo{T}{+\\infty}} \\cdot U_\\infty\n",
    "$$\n",
    "\n",
    "where $\\mathbb 1_{\\mathcal{I}}$ is the [indicator function](https://en.wiktionary.org/wiki/indicator_function#English) of the interval $\\mathcal{I}$\n",
    "  \n",
    "We will solve the following differential equation, which represents a linear model of the eye, on the previous intervals:  \n",
    "  \n",
    "$$\n",
    "\\dfrac{d\\dot{x}(t)}{dt} = -\\frac{1}{\\tau}\\cdot\\dot{x}(t)+u(t)\n",
    "$$\n",
    "\n",
    "where $\\tau$ is a constant of the eye, with $\\left[\\tau\\right] = s$"
   ]
  },
  {
   "cell_type": "code",
   "execution_count": 2,
   "metadata": {
    "collapsed": true
   },
   "outputs": [],
   "source": [
    "import numpy as np\n",
    "import matplotlib.pyplot as plt\n",
    "%matplotlib inline\n",
    "\n",
    "from HarrisWolpertandPursuit import BangBang\n",
    "BB = BangBang()"
   ]
  },
  {
   "cell_type": "markdown",
   "metadata": {},
   "source": [
    "On $\\intervalle{0}{\\rho\\cdot T}: \\dfrac{d\\dot{x}(t)}{dt} = -\\dfrac{1}{\\tau}\\cdot\\dot{x}(t)+U_+$  \n",
    "  \n",
    "We find:  $\\dot{x}(t) = U_+\\cdot\\tau\\left (1-e^{- \\frac{t}{\\tau}} \\right )$ and so : $x(t) = U_+\\cdot\\tau\\left [t-\\tau\\left(1-e^{- \\frac{t}{\\tau}} \\right )\\right]$"
   ]
  },
  {
   "cell_type": "markdown",
   "metadata": {},
   "source": [
    "On $\\intervalleof{\\rho\\cdot T}{T}: \\dfrac{d\\dot{x}(t)}{dt} = -\\dfrac{1}{\\tau}\\cdot\\dot{x}(t)+U_-$  \n",
    "  \n",
    "We find:  $\\dot{x}(t) = U_-\\cdot\\tau\\left (1-e^{\\frac{T-t}{\\tau}} \\right )$ and so : $x(t) = x_T - U_-\\cdot\\tau\\left [T-t+\\tau\\left(1-e^{\\frac{T-t}{\\tau}} \\right )\\right]$\n",
    " "
   ]
  },
  {
   "cell_type": "markdown",
   "metadata": {},
   "source": [
    "On $\\intervalleoo{T}{+\\infty}: \\dfrac{d\\dot{x}(t)}{dt} = -\\dfrac{1}{\\tau}\\cdot\\dot{x}(t)+U_{\\infty}$  \n",
    "  \n",
    "We find:  $U_{\\infty} = 0$ since $\\forall t \\in \\intervalleoo{T}{+\\infty}, \\dot{x}(t) = 0$ (and $\\ddot{x}(t) = 0$) and so : $x(t) = x_T$\n",
    " "
   ]
  },
  {
   "cell_type": "markdown",
   "metadata": {},
   "source": [
    "Then, we use the continuity of the velocity at time $\\rho\\cdot T$ to find relations between $U_+$, $U_-$ and $\\rho$.  \n",
    "  \n",
    "We assume that $U_+ = U_{MAX}$ and $U_- = - U_{MAX}$.  \n",
    "  \n",
    "We deduce : $\\dot{x}(\\rho T) = U_{MAX}\\cdot\\tau\\left(1-e^{- \\frac{\\rho T}{\\tau}} \\right ) = -U_{MAX}\\cdot\\tau\\left(1-e^{\\frac{\\left(1-\\rho\\right)T}{\\tau}} \\right )$.  \n",
    "  \n",
    "Finally: $\\rho = -\\dfrac{\\tau}{T}\\ln \\left(\\dfrac{2}{1+e^{\\frac{T}{\\tau}}}\\right)$\n",
    "($= \\dfrac{\\tau}{T}\\log \\left(\\dfrac{1+e^{\\frac{T}{\\tau}}{2}}\\right)$)"
   ]
  },
  {
   "cell_type": "markdown",
   "metadata": {},
   "source": [
    "The continuity of the position at time $\\rho\\cdot T $ enables to find $U_{MAX}: U_{MAX} = \\dfrac{1}{\\tau}\\dfrac{1}{\\left (2\\rho-1\\right)T-\\tau\\left(2-e^{-\\frac{\\rho T}{\\tau}} - e^{\\frac{\\left(1-\\rho \\right)T}{\\tau}}\\right)} \\cdot  x_T$"
   ]
  },
  {
   "cell_type": "markdown",
   "metadata": {},
   "source": [
    "Note: since the relation is linear, trajectories are linear in 2D for any target's position."
   ]
  },
  {
   "cell_type": "markdown",
   "metadata": {
    "collapsed": true
   },
   "source": [
    "x = np.concatenate((Umax*tau*(time[0:rhoT]-tau*(1-np.exp(-1/tau*time[0:rhoT]))),\n",
    "                    xT+Umax*tau*(t_T-time[rhoT:T]+tau*(1-np.exp(1/tau*(t_T-time[rhoT:T])))),\n",
    "                    xT*np.ones(R+1)))\n",
    "v = np.concatenate((Umax*tau*(1-np.exp(-1/tau*time[0:rhoT])),\n",
    "                    -Umax*tau*(1-np.exp(1/tau*(t_T-time[rhoT:T]))),\n",
    "                    np.zeros(R+1)))\n",
    "u = np.concatenate((Umax*np.ones(rhoT),\n",
    "                    -Umax*np.ones(T-rhoT),\n",
    "                    np.zeros(R+1)))"
   ]
  },
  {
   "cell_type": "code",
   "execution_count": 3,
   "metadata": {},
   "outputs": [
    {
     "data": {
      "text/plain": [
       "array([ 23648.46184793,  23648.46184793,  23648.46184793,  23648.46184793,\n",
       "        23648.46184793,  23648.46184793,  23648.46184793,  23648.46184793,\n",
       "        23648.46184793,  23648.46184793,  23648.46184793,  23648.46184793,\n",
       "        23648.46184793,  23648.46184793,  23648.46184793,  23648.46184793,\n",
       "        23648.46184793,  23648.46184793,  23648.46184793,  23648.46184793,\n",
       "        23648.46184793,  23648.46184793,  23648.46184793,  23648.46184793,\n",
       "        23648.46184793,  23648.46184793,  23648.46184793,  23648.46184793,\n",
       "        23648.46184793,  23648.46184793,  23648.46184793,  23648.46184793,\n",
       "        23648.46184793,  23648.46184793,  23648.46184793,  23648.46184793,\n",
       "        23648.46184793,  23648.46184793,  23648.46184793,  23648.46184793,\n",
       "        23648.46184793, -23648.46184793, -23648.46184793, -23648.46184793,\n",
       "       -23648.46184793, -23648.46184793, -23648.46184793, -23648.46184793,\n",
       "       -23648.46184793, -23648.46184793,      0.        ,      0.        ,\n",
       "            0.        ,      0.        ,      0.        ,      0.        ,\n",
       "            0.        ,      0.        ,      0.        ,      0.        ,\n",
       "            0.        ,      0.        ,      0.        ,      0.        ,\n",
       "            0.        ,      0.        ,      0.        ,      0.        ,\n",
       "            0.        ,      0.        ,      0.        ,      0.        ,\n",
       "            0.        ,      0.        ,      0.        ,      0.        ,\n",
       "            0.        ,      0.        ,      0.        ,      0.        ,\n",
       "            0.        ,      0.        ,      0.        ,      0.        ,\n",
       "            0.        ,      0.        ,      0.        ,      0.        ,\n",
       "            0.        ,      0.        ,      0.        ,      0.        ,\n",
       "            0.        ,      0.        ,      0.        ,      0.        ,\n",
       "            0.        ,      0.        ,      0.        ,      0.        ,\n",
       "            0.        ])"
      ]
     },
     "execution_count": 3,
     "metadata": {},
     "output_type": "execute_result"
    }
   ],
   "source": [
    "# show the array of the control signal for the asymmetrical bang-bang\n",
    "BB.command_u()"
   ]
  },
  {
   "cell_type": "code",
   "execution_count": 4,
   "metadata": {},
   "outputs": [
    {
     "data": {
      "text/plain": [
       "Text(0,0.5,'Control signal $u$')"
      ]
     },
     "execution_count": 4,
     "metadata": {},
     "output_type": "execute_result"
    },
    {
     "data": {
      "image/png": "[encoded data removed]",
      "text/plain": [
       "<matplotlib.figure.Figure at 0x7f37a23b9ac8>"
      ]
     },
     "metadata": {},
     "output_type": "display_data"
    }
   ],
   "source": [
    "fig_width = 15\n",
    "fig, ax = plt.subplots(1, 1, figsize=(fig_width, fig_width/1.618))\n",
    "\n",
    "ax.step(BB.time_ms(), BB.command_u(), '-', where = 'post', lw = 3)\n",
    "ax.plot([0,(BB.t_T+BB.t_R)*1000],[0,0], 'r--', lw = 2)\n",
    "plt.text(38.7, 1000, r'$\\rho \\cdot T$', fontsize = 30)\n",
    "plt.text(49, 1000, r'$T$', fontsize = 30)\n",
    "plt.text(42, BB.Umax(), r'$U_{MAX}$', fontsize = 30)\n",
    "plt.text(51, -BB.Umax(), r'$U_{MIN}$', fontsize = 30)\n",
    "\n",
    "ax.ticklabel_format(axis='y', style='scientific', scilimits=(-3, 3))\n",
    "#ax.set_xlim(0, 150)\n",
    "ax.set_title('Bang-bang model', fontsize = 30)\n",
    "ax.set_xlabel('Time (ms)', fontsize=25)\n",
    "ax.set_ylabel(r'Control signal $u$', fontsize=25)\n"
   ]
  },
  {
   "cell_type": "code",
   "execution_count": 5,
   "metadata": {
    "scrolled": false
   },
   "outputs": [
    {
     "data": {
      "text/plain": [
       "(-0.5, 10.5)"
      ]
     },
     "execution_count": 5,
     "metadata": {},
     "output_type": "execute_result"
    },
    {
     "data": {
      "image/png": "[encoded data removed]",
      "text/plain": [
       "<matplotlib.figure.Figure at 0x7f37a039e748>"
      ]
     },
     "metadata": {},
     "output_type": "display_data"
    }
   ],
   "source": [
    "fig_width = 5\n",
    "fig, ax = plt.subplots(1, 1, figsize=(fig_width, fig_width/1.618))\n",
    "\n",
    "ax.plot(BB.time_ms(), BB.theory_x(), '-',lw = 3)\n",
    "ax.plot([0,(BB.t_T+BB.t_R)*1000],[BB.xT,BB.xT], 'r--',lw=2)\n",
    "#ax.plot(time_ms, pos+10-pos[100])\n",
    "#ax.plot([start, start], [2*(p-0.5)*x2[25]-0.5,2*(p-0.5)*x2[25]+0.5], color ='r')\n",
    "#ax.plot([start-2.3, start+2.3], [2*(p-0.5)*x2[25],2*(p-0.5)*x2[25]], color ='r')\n",
    "\n",
    "ax.set_title(r'Position $x$', fontsize=15)\n",
    "ax.set_xlabel('Time (ms)', fontsize=12)\n",
    "ax.set_ylabel('Position (deg)', fontsize=12)\n",
    "ax.ticklabel_format(axis='y', style='scientific', scilimits=(-3, 3))\n",
    "\n",
    "ax.set_ylim(-0.5, BB.xT+0.5)\n"
   ]
  },
  {
   "cell_type": "code",
   "execution_count": 6,
   "metadata": {
    "scrolled": false
   },
   "outputs": [
    {
     "data": {
      "image/png": "[encoded data removed]",
      "text/plain": [
       "<matplotlib.figure.Figure at 0x7f37a000f710>"
      ]
     },
     "metadata": {},
     "output_type": "display_data"
    }
   ],
   "source": [
    "fig_width = 5\n",
    "fig, ax = plt.subplots(1, 1, figsize=(fig_width, fig_width/1.618))\n",
    "\n",
    "ax.plot(BB.time_ms(), BB.theory_v(), '-',lw=3)\n",
    "ax.plot([0,(BB.t_T+BB.t_R)*1000],[0,0], 'r--',lw=2)\n",
    "\n",
    "ax.set_title(r'Velocity $v$',fontsize=15)\n",
    "ax.set_xlabel('Time (ms)', fontsize=12)\n",
    "ax.set_ylabel(r'Velocity ($deg.s^{-1}$)', fontsize=12)\n",
    "ax.ticklabel_format(axis='y', style='scientific', scilimits=(-3, 3))\n"
   ]
  },
  {
   "cell_type": "markdown",
   "metadata": {},
   "source": [
    "## 2.2. Reach and pursuit of the target\n",
    "\n",
    "Here, the target is moving with the velocity $v$. We want to reach the moving target (which position at time $t$ is $x_T+v t$) and then follow it. \n",
    "\n",
    "Again, \n",
    "$$\n",
    "u(t) = \\mathbb 1_{\\intervalle{0}{\\rho\\cdot T}} \\cdot U_+ + \\mathbb 1_{\\intervalleof{\\rho\\cdot T}{T}} \\cdot U_- + \\mathbb 1_{\\intervalleoo{T}{+\\infty}} \\cdot U_\\infty\n",
    "$$\n",
    "\n",
    "We will solve the following differential equation, which represents a linear model of the eye, on the previous intervals:  \n",
    "  \n",
    "$$\n",
    "\\dfrac{d\\dot{x}(t)}{dt} = -\\frac{1}{\\tau}\\cdot\\dot{x}(t)+u(t)\n",
    "$$\n",
    "\n",
    "On $\\intervalle{0}{\\rho\\cdot T}: \\dfrac{d\\dot{x}(t)}{dt} = -\\dfrac{1}{\\tau}\\cdot\\dot{x}(t)+U_+$  \n",
    "  \n",
    "We find:  $\\dot{x}(t) = U_+\\cdot\\tau\\left (1-e^{- \\frac{t}{\\tau}} \\right )$ and so : $x(t) = U_+\\cdot\\tau\\left [t-\\tau\\left(1-e^{- \\frac{t}{\\tau}} \\right )\\right]$\n",
    "\n",
    "On $\\intervalleof{\\rho\\cdot T}{T}: \\dfrac{d\\dot{x}(t)}{dt} = -\\dfrac{1}{\\tau}\\cdot\\dot{x}(t)+U_-$  \n",
    "  \n",
    "We find:  $\\dot{x}(t) = U_-\\cdot\\tau\\left (1-e^{\\frac{T-t}{\\tau}} \\right ) + v\\cdot e^{\\frac{T-t}{\\tau}}$ and so : $x(t) = x_T +v\\cdot T- U_-\\cdot\\tau\\left [T-t+\\tau\\left(1-e^{\\frac{T-t}{\\tau}} \\right )\\right] + v\\cdot \\tau\\left(1-e^{\\frac{T-t}{\\tau}} \\right )$\n",
    "\n",
    "On $\\intervalleoo{T}{+\\infty}: \\dfrac{d\\dot{x}(t)}{dt} = -\\dfrac{1}{\\tau}\\cdot\\dot{x}(t)+U_{\\infty}$  \n",
    "  \n",
    "We find:  $U_{\\infty} = \\dfrac{1}{\\tau}\\cdot v$ since $\\forall t \\in \\intervalleoo{T}{+\\infty}, \\dot{x}(t) = v$ (and $\\ddot{x}(t) = 0$) and so : $x(t) = v\\cdot \\left ( t - T \\right)+x_T+v\\cdot T$\n",
    "\n",
    "Then, we use the continuity of the velocity at time $\\rho\\cdot T$ to find relations between $U_+$, $U_-$ and $\\rho$.  \n",
    "  \n",
    "We assume that $U_+ = U_{MAX}$ and $U_- = - U_{MAX}$.  \n",
    "  \n",
    "We deduce : $\\dot{x}(\\rho T) = U_{MAX}\\cdot\\tau\\left(1-e^{- \\frac{\\rho T}{\\tau}} \\right ) = -U_{MAX}\\cdot\\tau\\left(1-e^{\\frac{\\left(1-\\rho\\right)T}{\\tau}} \\right )+v\\cdot e^{\\frac{\\left(1-\\rho\\right)T}{\\tau}}$.  \n",
    "  \n",
    "Finally: $U_{MAX} = -\\dfrac{\\frac{1}{\\tau} \\cdot v \\cdot e^{\\frac{\\left(1-\\rho\\right)T}{\\tau}}}{2-e^{-\\frac{\\rho T}{\\tau}}-e^{\\frac{\\left(1-\\rho\\right)T}{\\tau}}}$\n",
    "\n",
    "\n",
    "The continuity of the position at time $\\rho \\cdot T$ enables to find the value of $\\rho$.\n",
    "Indeed, $\\rho$ is the unique solution in $\\intervalle{0}{1}$ of :\n",
    "$$\n",
    "\\left(x_T+v\\cdot T \\right)\\left(2-e^{-\\frac{\\rho T}{\\tau}}-e^{\\frac{\\left(1-\\rho\\right)T}{\\tau}}\\right) +v\\cdot\\tau\\left(1-e^{\\frac{\\left(1-\\rho\\right)T}{\\tau}}\\right)\\left(2-e^{-\\frac{\\rho T}{\\tau}}-e^{\\frac{\\left(1-\\rho\\right)T}{\\tau}}\\right)-v\\cdot e^{\\frac{\\left(1-\\rho\\right)T}{\\tau}}\\left [\\left(2\\rho-1\\right)T-\\tau\\left(2-e^{-\\frac{\\rho T}{\\tau}}-e^{\\frac{\\left(1-\\rho\\right)T}{\\tau}} \\right )\\right] = 0\n",
    "$$\n",
    "\n",
    "Numerically, we find $\\rho$, and then we deduce $U_{MAX}$, which enables to compute the position and the velocity of the bangbang."
   ]
  },
  {
   "cell_type": "code",
   "execution_count": 7,
   "metadata": {},
   "outputs": [
    {
     "data": {
      "text/plain": [
       "(0.5, 1)"
      ]
     },
     "execution_count": 7,
     "metadata": {},
     "output_type": "execute_result"
    },
    {
     "data": {
      "image/png": "[encoded data removed]",
      "text/plain": [
       "<matplotlib.figure.Figure at 0x7f379fd8a9b0>"
      ]
     },
     "metadata": {},
     "output_type": "display_data"
    }
   ],
   "source": [
    "vrho = np.linspace(0.5, 1, 100001)\n",
    "y = (BB.xT+BB.v0*BB.t_T+BB.v0*BB.tau*(1-np.exp((1-vrho)*BB.t_T/BB.tau)))*(2-np.exp(-vrho*BB.t_T/BB.tau)-np.exp((1-vrho)*BB.t_T/BB.tau))+BB.v0*np.exp((1-vrho)*BB.t_T/BB.tau)*((1-vrho)*BB.t_T+BB.tau*(1-np.exp((1-vrho)*BB.t_T/BB.tau)))-BB.v0*np.exp((1-vrho)*BB.t_T/BB.tau)*(vrho*BB.t_T-BB.tau*(1-np.exp(-vrho*BB.t_T/BB.tau)))\n",
    "\n",
    "fig_width = 5\n",
    "fig, ax = plt.subplots(1, 1, figsize=(fig_width, fig_width/1.618))\n",
    "ax.plot(vrho,y,lw=2)\n",
    "ax.plot([0.5,1],[0,0],lw=2)\n",
    "ax.set_title(r'Unique zero-value $\\rho$', fontsize=15)\n",
    "ax.set_xlabel(r'$\\rho$', fontsize=15)\n",
    "ax.set_ylabel('y', fontsize=12)\n",
    "ax.set_xlim(0.5, 1)\n"
   ]
  },
  {
   "cell_type": "code",
   "execution_count": 8,
   "metadata": {
    "collapsed": true
   },
   "outputs": [],
   "source": [
    "rho_pursuit = vrho[np.argmin(np.abs(y))]\n",
    "Umax_pursuit = 1/BB.tau*BB.v0*np.exp((1-rho_pursuit)*BB.t_T/BB.tau)/(2-np.exp((1-rho_pursuit)*BB.t_T/BB.tau)-np.exp(-rho_pursuit*BB.t_T/BB.tau))\n",
    "rhoT_pursuit = int(np.round(BB.T()*rho_pursuit))"
   ]
  },
  {
   "cell_type": "code",
   "execution_count": 9,
   "metadata": {},
   "outputs": [
    {
     "data": {
      "text/plain": [
       "25454.350459477904"
      ]
     },
     "execution_count": 9,
     "metadata": {},
     "output_type": "execute_result"
    }
   ],
   "source": [
    "Umax_pursuit"
   ]
  },
  {
   "cell_type": "code",
   "execution_count": 10,
   "metadata": {
    "collapsed": true
   },
   "outputs": [],
   "source": [
    "x_pursuit = np.concatenate((Umax_pursuit*BB.tau*(BB.time()[0:rhoT_pursuit]-BB.tau*(1-np.exp(-1/BB.tau*BB.time()[0:rhoT_pursuit]))),BB.xT+BB.v0*BB.t_T+Umax_pursuit*BB.tau*(BB.t_T-BB.time()[rhoT_pursuit:BB.T()]+BB.tau*(1-np.exp(1/BB.tau*(BB.t_T-BB.time()[rhoT_pursuit:BB.T()]))))+BB.tau*BB.v0*(1-np.exp(1/BB.tau*(BB.t_T-BB.time()[rhoT_pursuit:BB.T()]))),BB.xT+BB.v0*BB.t_T+BB.v0*(BB.time()[BB.T():(BB.T()+BB.R()+1)]-BB.t_T)))\n",
    "v_pursuit = np.concatenate((Umax_pursuit*BB.tau*(1-np.exp(-1/BB.tau*BB.time()[0:rhoT_pursuit])),-Umax_pursuit*BB.tau*(1-np.exp(1/BB.tau*(BB.t_T-BB.time()[rhoT_pursuit:BB.T()])))+BB.v0*np.exp(1/BB.tau*(BB.t_T-BB.time()[rhoT_pursuit:BB.T()])),BB.v0*np.ones(BB.R()+1)))\n",
    "u_pursuit = np.concatenate((Umax_pursuit*np.ones(rhoT_pursuit),-Umax_pursuit*np.ones(BB.T()-rhoT_pursuit),1/BB.tau*BB.v0*np.ones(BB.R()+1)))"
   ]
  },
  {
   "cell_type": "code",
   "execution_count": 11,
   "metadata": {},
   "outputs": [
    {
     "data": {
      "text/plain": [
       "array([ 25454.35045948,  25454.35045948,  25454.35045948,  25454.35045948,\n",
       "        25454.35045948,  25454.35045948,  25454.35045948,  25454.35045948,\n",
       "        25454.35045948,  25454.35045948,  25454.35045948,  25454.35045948,\n",
       "        25454.35045948,  25454.35045948,  25454.35045948,  25454.35045948,\n",
       "        25454.35045948,  25454.35045948,  25454.35045948,  25454.35045948,\n",
       "        25454.35045948,  25454.35045948,  25454.35045948,  25454.35045948,\n",
       "        25454.35045948,  25454.35045948,  25454.35045948,  25454.35045948,\n",
       "        25454.35045948,  25454.35045948,  25454.35045948,  25454.35045948,\n",
       "        25454.35045948,  25454.35045948,  25454.35045948,  25454.35045948,\n",
       "        25454.35045948,  25454.35045948,  25454.35045948,  25454.35045948,\n",
       "        25454.35045948,  25454.35045948, -25454.35045948, -25454.35045948,\n",
       "       -25454.35045948, -25454.35045948, -25454.35045948, -25454.35045948,\n",
       "       -25454.35045948, -25454.35045948,   1538.46153846,   1538.46153846,\n",
       "         1538.46153846,   1538.46153846,   1538.46153846,   1538.46153846,\n",
       "         1538.46153846,   1538.46153846,   1538.46153846,   1538.46153846,\n",
       "         1538.46153846,   1538.46153846,   1538.46153846,   1538.46153846,\n",
       "         1538.46153846,   1538.46153846,   1538.46153846,   1538.46153846,\n",
       "         1538.46153846,   1538.46153846,   1538.46153846,   1538.46153846,\n",
       "         1538.46153846,   1538.46153846,   1538.46153846,   1538.46153846,\n",
       "         1538.46153846,   1538.46153846,   1538.46153846,   1538.46153846,\n",
       "         1538.46153846,   1538.46153846,   1538.46153846,   1538.46153846,\n",
       "         1538.46153846,   1538.46153846,   1538.46153846,   1538.46153846,\n",
       "         1538.46153846,   1538.46153846,   1538.46153846,   1538.46153846,\n",
       "         1538.46153846,   1538.46153846,   1538.46153846,   1538.46153846,\n",
       "         1538.46153846,   1538.46153846,   1538.46153846,   1538.46153846,\n",
       "         1538.46153846])"
      ]
     },
     "execution_count": 11,
     "metadata": {},
     "output_type": "execute_result"
    }
   ],
   "source": [
    "u_pursuit"
   ]
  },
  {
   "cell_type": "code",
   "execution_count": 12,
   "metadata": {
    "scrolled": false
   },
   "outputs": [
    {
     "data": {
      "text/plain": [
       "(-30000, 30000)"
      ]
     },
     "execution_count": 12,
     "metadata": {},
     "output_type": "execute_result"
    },
    {
     "data": {
      "image/png": "[encoded data removed]",
      "text/plain": [
       "<matplotlib.figure.Figure at 0x7f379fd74e80>"
      ]
     },
     "metadata": {},
     "output_type": "display_data"
    }
   ],
   "source": [
    "fig_width = 5\n",
    "fig, ax = plt.subplots(1, 1, figsize=(fig_width, fig_width/1.618))\n",
    "\n",
    "ax.plot(BB.time_ms(), u_pursuit, '-',lw = 3)\n",
    "ax.plot([0,(BB.t_T+BB.t_R)*1000],[0,0], 'r--',lw = 2)\n",
    "ax.set_title(r'Control signal $u$', fontsize = 15)\n",
    "ax.set_xlabel('Time (ms)', fontsize=12)\n",
    "ax.set_ylabel(r'$u$', fontsize=12)\n",
    "ax.ticklabel_format(axis='y', style='scientific', scilimits=(-3, 3))\n",
    "ax.set_ylim(-30000, 30000)\n"
   ]
  },
  {
   "cell_type": "code",
   "execution_count": 13,
   "metadata": {
    "scrolled": false
   },
   "outputs": [
    {
     "data": {
      "text/plain": [
       "(-0.5, 12.5)"
      ]
     },
     "execution_count": 13,
     "metadata": {},
     "output_type": "execute_result"
    },
    {
     "data": {
      "image/png": "[encoded data removed]",
      "text/plain": [
       "<matplotlib.figure.Figure at 0x7f379fca6208>"
      ]
     },
     "metadata": {},
     "output_type": "display_data"
    }
   ],
   "source": [
    "fig_width = 5\n",
    "fig, ax = plt.subplots(1, 1, figsize=(fig_width, fig_width/1.618))\n",
    "\n",
    "ax.plot(BB.time_ms(), x_pursuit, '-',lw=3)\n",
    "ax.plot([0,(BB.t_T+BB.t_R)*1000],[BB.xT,BB.xT+BB.v0*(BB.t_T+BB.t_R)], 'r--',lw=2)\n",
    "ax.set_title(r'Position $x$', fontsize=15)\n",
    "ax.set_xlabel('Time (ms)', fontsize=12)\n",
    "ax.set_ylabel('Position (deg)', fontsize=12)\n",
    "ax.ticklabel_format(axis='y', style='scientific', scilimits=(-3, 3))\n",
    "ax.set_ylim(-0.5, BB.xT+BB.v0*(BB.t_T+BB.t_R)+0.5)\n"
   ]
  },
  {
   "cell_type": "code",
   "execution_count": 14,
   "metadata": {
    "scrolled": false
   },
   "outputs": [
    {
     "data": {
      "image/png": "[encoded data removed]",
      "text/plain": [
       "<matplotlib.figure.Figure at 0x7f379fd8a400>"
      ]
     },
     "metadata": {},
     "output_type": "display_data"
    }
   ],
   "source": [
    "fig_width = 5\n",
    "fig, ax = plt.subplots(1, 1, figsize=(fig_width, fig_width/1.618))\n",
    "\n",
    "ax.plot(BB.time_ms(), v_pursuit, '-',lw=3)\n",
    "ax.plot([0,(BB.t_T+BB.t_R)*1000],[BB.v0,BB.v0], 'r--',lw=2)\n",
    "ax.set_title(r'Velocity $v$',fontsize=15)\n",
    "ax.set_xlabel('Time (ms)', fontsize=12)\n",
    "ax.set_ylabel(r'Velocity ($deg.s^{-1}$)', fontsize=12)\n",
    "ax.ticklabel_format(axis='y', style='scientific', scilimits=(-3, 3))\n"
   ]
  },
  {
   "cell_type": "markdown",
   "metadata": {},
   "source": [
    "## 2.3. Linear prediction of the trajectory"
   ]
  },
  {
   "cell_type": "code",
   "execution_count": null,
   "metadata": {
    "collapsed": true
   },
   "outputs": [],
   "source": []
  }
 ],
 "metadata": {
  "kernelspec": {
   "display_name": "Python 3",
   "language": "python",
   "name": "python3"
  },
  "language_info": {
   "codemirror_mode": {
    "name": "ipython",
    "version": 3
   },
   "file_extension": ".py",
   "mimetype": "text/x-python",
   "name": "python",
   "nbconvert_exporter": "python",
   "pygments_lexer": "ipython3",
   "version": "3.5.2"
  },
  "toc": {
   "colors": {
    "hover_highlight": "#DAA520",
    "navigate_num": "#000000",
    "navigate_text": "#333333",
    "running_highlight": "#FF0000",
    "selected_highlight": "#FFD700",
    "sidebar_border": "#EEEEEE",
    "wrapper_background": "#FFFFFF"
   },
   "moveMenuLeft": true,
   "nav_menu": {
    "height": "66px",
    "width": "252px"
   },
   "navigate_menu": true,
   "number_sections": true,
   "sideBar": true,
   "threshold": 4,
   "toc_cell": false,
   "toc_section_display": "block",
   "toc_window_display": false,
   "widenNotebook": false
  }
 },
 "nbformat": 4,
 "nbformat_minor": 2
}
