{
 "cells": [
  {
   "cell_type": "markdown",
   "metadata": {},
   "source": [
    "TODO: test different target eccentricities\n",
    "\n",
    "TODO: test different target speed\n",
    "\n",
    "# 1. Generalized coordinates"
   ]
  },
  {
   "cell_type": "code",
   "execution_count": 1,
   "metadata": {
    "collapsed": true
   },
   "outputs": [],
   "source": [
    "import numpy as np\n",
    "import matplotlib.pyplot as plt\n",
    "%matplotlib inline\n",
    "from decimal import Decimal"
   ]
  },
  {
   "cell_type": "code",
   "execution_count": 2,
   "metadata": {
    "collapsed": true
   },
   "outputs": [],
   "source": [
    "from PlotFunctions import plot_signal, plot_position, plot_velocity, plot_variance, all_plots\n",
    "#%run PlotFunctions.py\n"
   ]
  },
  {
   "cell_type": "markdown",
   "metadata": {},
   "source": [
    "## 1.1. Definition\n",
    "For the linear models of the eye and arm, we consider a single-input single-output discrete-time system under control with the following state-update equation:\n",
    "$$\n",
    "\\tilde{x}_{t+1} = A\\tilde{x}_t+B\\left (u_t+w_t \\right)\n",
    "$$  \n",
    "where $\\tilde{x}_t$ is the $n$-dimentional state at time $t$, $\\tilde{x}_{t+1}$ is the $n$-dimentional state at time $t+dt$, $u_t$ the neural driving signal at time $t$, $w_t$ is a white noise with mean zero and variance $ku_t^2$, $A$ is a fixed $n \\times n$ matrix and B is a $n \\times 1$ vector both describing the dynamics of the system."
   ]
  },
  {
   "cell_type": "markdown",
   "metadata": {},
   "source": [
    "Here, A will be the following matrix:  \n",
    "\n",
    "$$ A = \n",
    "\\begin{bmatrix}\n",
    "1 & dt & \\frac{dt^2}{2} & \\cdots & \\frac{dt^n}{n!}\\\\\n",
    "0 & 1 & dt & \\ddots & \\vdots \\\\\n",
    "\\vdots & \\ddots & \\ddots & \\ddots & \\vdots\\\\\n",
    "0 & 0 & 0 & 1 & dt \\\\\n",
    "0 & \\cdots & \\cdots & \\cdots & 1-\\frac{dt}{\\tau}\n",
    "\\end{bmatrix}\n",
    "\\textbf{ }\\textbf{ }\\textbf{ }\\textbf{ }and\\textbf{ }\\textbf{ }\\textbf{ }\\textbf{ }\n",
    "B = \\begin{bmatrix} 0 \\\\ 0 \\\\ \\vdots \\\\ 0 \\\\ dt\\end{bmatrix}\n",
    "$$  \n",
    "  \n",
    "We choose this matrix since, according to the Taylor's formula:  \n",
    "$ x\\left (t+dt \\right) = x\\left (t \\right) + dt\\times \\dot{x}\\left (t \\right) + \\frac{dt^2}{2}\\times \\ddot{x}\\left (t \\right)+ \\dots + \\frac{dt^n}{n!}\\times x^{(n)}\\left (t \\right) + \\mathcal{o}\\left(dt^n\\right)\n",
    "$\n",
    "and  \n",
    "$x^{(n)}\\left (t+dt \\right) = \\left ( 1 - \\frac{dt}{\\tau} \\right)x^{(n)}\\left (t \\right) + dt\\left (u \\left (t\\right) + w\\left (t\\right) \\right)\n",
    "$"
   ]
  },
  {
   "cell_type": "code",
   "execution_count": 3,
   "metadata": {
    "collapsed": true
   },
   "outputs": [],
   "source": [
    "mvc\n",
    "\n",
    "#def fact(n): \n",
    "#    \"\"\"The factorial function\n",
    "#    Returns n!, that is n x (n-1) x (n-2) x ... x 1\n",
    "#    Recursive implementation\n",
    "#    \"\"\"\n",
    "#    if n == 0:\n",
    "#        return 1\n",
    "#    else:\n",
    "#        return(n*fact(n-1))"
   ]
  },
  {
   "cell_type": "code",
   "execution_count": 4,
   "metadata": {
    "collapsed": true
   },
   "outputs": [],
   "source": [
    "tau = 0.013\n",
    "dt = 0.001 # step time\n",
    "n = 2 # number of coordinates\n",
    "k = 0.01 # kind of accuracy parameter: the smaller k is, the more accurate is the pointing"
   ]
  },
  {
   "cell_type": "code",
   "execution_count": 5,
   "metadata": {
    "collapsed": true
   },
   "outputs": [],
   "source": [
    "# definition of A and B\n",
    "\n",
    "A = np.zeros((n,n))\n",
    "B = np.zeros(n)\n",
    "\n",
    "for i in np.arange(n):\n",
    "    for j in np.arange(i,n):\n",
    "        A[i,j] = dt**(j-i)/mvc.fact(j-i)\n",
    "A[n-1, n-1] = 1-dt/tau\n",
    "B[n-1] = dt"
   ]
  },
  {
   "cell_type": "code",
   "execution_count": 6,
   "metadata": {
    "collapsed": true
   },
   "outputs": [],
   "source": [
    "target = np.array([1,5,10,15,20,25,30,35,40])\n",
    "t_Tv = 0.03+0.002*5+0*target#0.02468+0.001739*target # see Transitioning from Saccade to SPEM using LQTC, Korentis & Enderle"
   ]
  },
  {
   "cell_type": "code",
   "execution_count": 7,
   "metadata": {},
   "outputs": [
    {
     "data": {
      "text/plain": [
       "array([ 0.04,  0.04,  0.04,  0.04,  0.04,  0.04,  0.04,  0.04,  0.04])"
      ]
     },
     "execution_count": 7,
     "metadata": {},
     "output_type": "execute_result"
    }
   ],
   "source": [
    "t_Tv"
   ]
  },
  {
   "cell_type": "code",
   "execution_count": 8,
   "metadata": {
    "collapsed": true
   },
   "outputs": [],
   "source": [
    "t_Tv = np.array([0.033,  0.042 ,  0.051,  0.059 ,  0.068,  0.077 , 0.086,  0.094 ])"
   ]
  },
  {
   "cell_type": "code",
   "execution_count": 9,
   "metadata": {
    "collapsed": true
   },
   "outputs": [],
   "source": [
    "t_T =  float(round(Decimal(t_Tv[0]),3)) #.05 # saccade duration\n",
    "t_R =  .1-float(round(Decimal(t_Tv[0]),3)) # .05 # fixing / pursuit duration\n",
    "T = int(np.round(t_T/dt))\n",
    "R = int(np.round(t_R/dt))\n",
    "time = np.linspace(0, t_T+t_R, R+T+1)\n",
    "time_ms = time*1000\n",
    "x0 = np.zeros(n) # starting point\n",
    "xT = np.zeros(n) # ending point\n",
    "xT[0] = 0.5\n",
    "x0[0] = 0\n",
    "x0[1] = 5\n",
    "v = 10\n",
    "#v = 10*np.cos(20*np.pi*time) # velocity of the target (deg/s)\n"
   ]
  },
  {
   "cell_type": "code",
   "execution_count": 10,
   "metadata": {
    "collapsed": true
   },
   "outputs": [],
   "source": [
    "def xT_f(t):\n",
    "#    return np.array([40+10/np.pi*np.cos(2*np.pi*t*dt), -20*np.sin(2*np.pi*t*dt)])\n",
    "    return np.array([target[0]+v*t*dt,v])"
   ]
  },
  {
   "cell_type": "code",
   "execution_count": 11,
   "metadata": {},
   "outputs": [
    {
     "name": "stdout",
     "output_type": "stream",
     "text": [
      "[ 1.    1.01  1.02  1.03  1.04  1.05  1.06  1.07  1.08  1.09  1.1   1.11\n",
      "  1.12  1.13  1.14  1.15  1.16  1.17  1.18  1.19  1.2   1.21  1.22  1.23\n",
      "  1.24  1.25  1.26  1.27  1.28  1.29  1.3   1.31  1.32  1.33  1.34  1.35\n",
      "  1.36  1.37  1.38  1.39  1.4   1.41  1.42  1.43  1.44  1.45  1.46  1.47\n",
      "  1.48  1.49  1.5   1.51  1.52  1.53  1.54  1.55  1.56  1.57  1.58  1.59\n",
      "  1.6   1.61  1.62  1.63  1.64  1.65  1.66  1.67  1.68  1.69  1.7   1.71\n",
      "  1.72  1.73  1.74  1.75  1.76  1.77  1.78  1.79  1.8   1.81  1.82  1.83\n",
      "  1.84  1.85  1.86  1.87  1.88  1.89  1.9   1.91  1.92  1.93  1.94  1.95\n",
      "  1.96  1.97  1.98  1.99  2.  ]\n"
     ]
    }
   ],
   "source": [
    "xx = np.zeros(T+R+1)\n",
    "vv = np.zeros(T+R+1)\n",
    "for i in np.arange(T+R+1):\n",
    "    xx[i] = xT_f(i)[0]\n",
    "    vv[i] = xT_f(i)[1]\n",
    "print(xx)"
   ]
  },
  {
   "cell_type": "code",
   "execution_count": 12,
   "metadata": {},
   "outputs": [
    {
     "data": {
      "text/plain": [
       "[<matplotlib.lines.Line2D at 0x7fdacfcb11d0>]"
      ]
     },
     "execution_count": 12,
     "metadata": {},
     "output_type": "execute_result"
    },
    {
     "data": {
      "image/png": "[encoded data removed]",
      "text/plain": [
       "<matplotlib.figure.Figure at 0x7fdad21be978>"
      ]
     },
     "metadata": {},
     "output_type": "display_data"
    }
   ],
   "source": [
    "plt.plot(xx)"
   ]
  },
  {
   "cell_type": "markdown",
   "metadata": {},
   "source": [
    "## 1.2. Mean and covariance matrix\n",
    "$\\tilde{x}_t = A\\tilde{x}_{t-1}+B\\left (u_{t-1}+w_{t-1} \\right) \\\\\n",
    "\\tilde{x}_t = A \\left (A\\tilde{x}_{t-2}+B\\left (u_{t-2}+w_{t-2} \\right)\\right) + B\\left (u_{t-1}+w_{t-1} \\right) \\\\\n",
    "...\\\\\n",
    "\\tilde{x}_t = A^t \\tilde{x}_0 + \\sum \\limits_{i=0}^{t-1}{A^{t-1-i}B \\left (u_i+w_i \\right)}\n",
    "$\n",
    "  \n",
    "We deduce the mean:\n",
    "$E\\left [\\tilde{x}_t \\right] = A^t \\tilde{x}_0 + \\sum \\limits_{i=0}^{t-1}{A^{t-1-i}Bu_i}$ since $E\\left [w_t \\right] = 0$.\n",
    "\n",
    "\n",
    "Then, $cov\\left [\\tilde{x}_t\\right ] = \\sum \\limits_{i=0}^{t-1}{\\left (A^{t-1-i}B \\right )\\left (A^{t-1-i}B \\right )^T E\\left [w_t^2 \\right]} = k\\sum \\limits_{i=0}^{t-1}{\\left (A^{t-1-i}B \\right )\\left (A^{t-1-i}B \\right )^T u_t^2}$\n"
   ]
  },
  {
   "cell_type": "markdown",
   "metadata": {},
   "source": [
    "  \n",
    "## 1.3. Minimum-variance problem\n",
    "Here, the problem we consider consists in minimizing the sum of the variance of the position after reaching the target. Let $V_t$ be the top-left value in the covariance matrix at time $t$. Then, we want to minimize $\\sum \\limits_{t=T+1}^{T+R}V_t +bias$. "
   ]
  },
  {
   "cell_type": "code",
   "execution_count": 13,
   "metadata": {
    "collapsed": true
   },
   "outputs": [],
   "source": [
    "def power(A, n): \n",
    "    \"\"\"\n",
    "    renvoie A puissance n où A est une matrice carrée\n",
    "        \n",
    "    \"\"\"\n",
    "    if n == 0:\n",
    "        return(np.eye(int(np.sqrt(np.size(A)))))\n",
    "    elif n == 1:\n",
    "        return A\n",
    "    else:\n",
    "        if n % 2 == 0:\n",
    "            A_half = power(A, n//2)\n",
    "            return(A_half.dot(A_half))\n",
    "        else:\n",
    "            A_half = power(A, (n-1)//2)\n",
    "            return(A.dot(A_half.dot(A_half)))\n",
    "\n",
    "def A_pow(A):\n",
    "    A_pow_array = np.zeros((T+R+1,n,n))\n",
    "\n",
    "    for i in np.arange(T+R+1):\n",
    "        A_pow_array[i] = power(A,i)\n",
    "    return A_pow_array\n",
    "\n",
    "A_pow_array = A_pow(A)\n",
    "\n",
    "def pow_fast(n):\n",
    "    return A_pow_array[n]\n",
    "\n",
    "ci0_array = np.zeros(T+R+1)\n",
    "\n",
    "\n",
    "for i in np.arange(T+R+1):\n",
    "    ci0_array[i] = (pow_fast(i).dot(B))[0]\n",
    "\n",
    "ci1_array = np.zeros(T+R+1)\n",
    "\n",
    "for i in np.arange(T+R+1):\n",
    "    ci1_array[i] = (pow_fast(i).dot(B))[1]\n",
    "    \n",
    "#ci2_array = np.zeros(T+R+1)\n",
    "\n",
    "#for i in np.arange(T+R+1):\n",
    "#    ci2_array[i] = (pow_fast(i).dot(B))[2]\n",
    "    \n",
    "#ci3_array = np.zeros(T+R+1)\n",
    "\n",
    "#for i in np.arange(T+R+1):\n",
    "#    ci3_array[i] = (pow_fast(i).dot(B))[3]\n",
    "\n",
    "ci = np.array([ci0_array, ci1_array])#, ci2_array])"
   ]
  },
  {
   "cell_type": "code",
   "execution_count": 14,
   "metadata": {
    "collapsed": true
   },
   "outputs": [],
   "source": [
    "def expectation(u, t):\n",
    "    \"\"\"Computation of the expectation of the state vector at time t, given u\n",
    "    \"\"\"\n",
    "    if t == 0:\n",
    "        return x0\n",
    "    else:\n",
    "        return pow_fast(t).dot(x0)+(ci[:,0:t]*np.flipud(u[0:t])).sum(axis = 1)\n"
   ]
  },
  {
   "cell_type": "code",
   "execution_count": 15,
   "metadata": {
    "collapsed": true
   },
   "outputs": [],
   "source": [
    "mult_v = np.array([0.01, 1]) # we select the level of each parameter in the cost function\n",
    "#mult_v2 = np.array([1, .0001])"
   ]
  },
  {
   "cell_type": "code",
   "execution_count": 16,
   "metadata": {
    "collapsed": true
   },
   "outputs": [],
   "source": [
    "def variance(u, t):\n",
    "    \"\"\"Computation of the variance of the state vector at time t, given u\n",
    "    \"\"\"\n",
    "    return k*(np.flipud(ci0_array[0:t]**2)*u[0:t]**2).sum()#*mult_v2[0]+k*(np.flipud(ci1_array[0:t]**2)*u[0:t]**2).sum()*mult_v2[1]"
   ]
  },
  {
   "cell_type": "code",
   "execution_count": 17,
   "metadata": {
    "collapsed": true
   },
   "outputs": [],
   "source": [
    "def bias(u, t):\n",
    "    \"\"\"Computation of the bias of the state vector at time t, given u\n",
    "    \"\"\"\n",
    "    return (((expectation(u, t)-(xT_f(t)))**2)*mult_v).sum()"
   ]
  },
  {
   "cell_type": "markdown",
   "metadata": {
    "collapsed": true
   },
   "source": [
    " \n",
    "This can be formulated as a quadratic programming problem, which we solved using a gradient descent."
   ]
  },
  {
   "cell_type": "markdown",
   "metadata": {},
   "source": [
    "## 1.4. Gradient descent\n",
    "\n",
    "Let $\\mathscr{C}$ be the cost function to minimize.  \n",
    "That is, we want to find $\\textbf{u}_{\\textbf{opt}} = \\underset{u_0, ..., u_{T+R}}{argmin} \\left (\\sum \\limits_{t=T+1}^{T+R}V_t  + \\sum \\limits_{t=T}^{T+R}\\|E\\left [\\tilde{x}_t\\right] - x_T \\|^2 \\right )= \\underset{u_0, ..., u_{T+R}}{argmin}\\left(\\mathscr{C}\\left (\\textbf{u}\\right)\\right)$.\n",
    "\n"
   ]
  },
  {
   "cell_type": "code",
   "execution_count": 18,
   "metadata": {
    "collapsed": true
   },
   "outputs": [],
   "source": [
    "def cost(u):\n",
    "    def var1d(t):\n",
    "        return(variance(u,t))\n",
    "    var_vec = np.vectorize(var1d)\n",
    "    def bias1d(t):\n",
    "        return(bias(u,t))\n",
    "    bias_vec = np.vectorize(bias1d)\n",
    "    return var_vec(T+1+np.arange(R)).sum() + bias_vec(T+np.arange(R+1)).sum()"
   ]
  },
  {
   "cell_type": "code",
   "execution_count": 19,
   "metadata": {
    "collapsed": true
   },
   "outputs": [],
   "source": [
    "def cost_deriv(u, i):\n",
    "    \"\"\"Derivative of the cost function with respect to u_i\n",
    "    \"\"\"\n",
    "    if i < T:\n",
    "        return (2*np.transpose(ci[:,(T-i-1):(T+R-i)])*np.array([((expectation(u,t)-xT_f(t))*mult_v).tolist() for t in (T+np.arange(R+1))])).sum() + 2*k*u[i]*(ci0_array[(T+1-i-1):(T+R-i)]**2).sum()\n",
    "    else:\n",
    "        return (2*np.transpose(ci[:,0:(T+R-i)])*np.array([((expectation(u,t)-xT_f(t))*mult_v).tolist() for t in (i+1+np.arange(R+T-i))])).sum() + 2*k*u[i]*(ci0_array[0:(T+R-i)]**2).sum()"
   ]
  },
  {
   "cell_type": "raw",
   "metadata": {},
   "source": [
    "def cost_deriv(u):\n",
    "    \"\"\"\n",
    "    Derivative of the cost function with respect to u_i for all i\n",
    "    \"\"\"\n",
    "    deriv = np.zeros_like(u)\n",
    "    for i in range(T):\n",
    "        deriv[i] = k*u[i]*np.sum((ci0_array[(T+1-i-1):(T+R-i)]**2))\n",
    "        for t in (T+np.arange(R+1)):\n",
    "            print((expectation(u,t)-xT_f(t))*mult_v)\n",
    "            deriv[i] += np.transpose(ci[:,(T-i-1):(T+R-i)])*((expectation(u,t)-xT_f(t))*mult_v)\n",
    "            \n",
    "    for i in range(T+R):\n",
    "        deriv[i] = k*u[i]*np.sum((ci0_array[0:(T+R-i)]**2))\n",
    "        for t in range(i+1+np.arange(R+T-i)):\n",
    "            deriv[i] += np.transpose(ci[:,0:(T+R-i)])*((expectation(u,t)-xT_f(t))*mult_v)\n",
    "    return deriv\n",
    "cost_deriv(u)"
   ]
  },
  {
   "cell_type": "markdown",
   "metadata": {
    "collapsed": true
   },
   "source": [
    "Iterating the following process, we will get the right $\\textbf{u}_{\\textbf{opt}}$ :  \n",
    "$\\forall i \\in \\left \\{ 0, ..., T+R-1 \\right \\} : u_i = u_i - \\eta \\times \\frac{\\partial \\mathscr{C}\\left(\\textbf{u}\\right)}{\\partial u_i}$"
   ]
  },
  {
   "cell_type": "code",
   "execution_count": 21,
   "metadata": {
    "collapsed": true
   },
   "outputs": [],
   "source": [
    "niter = 1000 #10000\n",
    "eta = 600 #6000"
   ]
  },
  {
   "cell_type": "code",
   "execution_count": 22,
   "metadata": {
    "collapsed": true
   },
   "outputs": [],
   "source": [
    "import time"
   ]
  },
  {
   "cell_type": "code",
   "execution_count": 23,
   "metadata": {
    "collapsed": true
   },
   "outputs": [],
   "source": [
    "ubang = np.ones(T+R+1)*v/tau"
   ]
  },
  {
   "cell_type": "raw",
   "metadata": {
    "scrolled": false
   },
   "source": [
    "debut = time.time()\n",
    "\n",
    "u = ubang.copy()\n",
    "a = np.zeros((niter+1, T+R+1)) # To save the evolution of the values of u at each iteration\n",
    "a[0, :] = u.copy()\n",
    "\n",
    "\n",
    "def loop_deriv():\n",
    "    for i in range(T+R):\n",
    "        u_old = u.copy()\n",
    "    #deriv = eta*np.array([cost_deriv(u_old, i) for i in np.arange(T+R)])\n",
    "    #deriv = eta*(cost_deriv(u_old, i) for i in np.arange(T+R))\n",
    "        deriv[i] = eta*(cost_deriv(u_old, i)\n",
    "        #return deriv, u_old\n",
    "        print(deriv)\n",
    "\n",
    "for i_iter in np.arange(niter):\n",
    "    #u_old = u.copy()\n",
    "    deriv, u_old = loop_deriv()\n",
    "    u[0:T+R] = u_old[0:T+R] - deriv\n",
    "    a[i_iter+1, :] = u.copy()\n",
    "\n",
    "fin = time.time()"
   ]
  },
  {
   "cell_type": "code",
   "execution_count": 24,
   "metadata": {
    "collapsed": true
   },
   "outputs": [],
   "source": [
    "debut = time.time()\n",
    "\n",
    "u = ubang.copy()\n",
    "a = np.zeros((niter+1, T+R+1)) # To save the evolution of the values of u at each iteration\n",
    "a[0, :] = u.copy()\n",
    "\n",
    "for i_iter in np.arange(niter):\n",
    "    u_old = u.copy()\n",
    "    u[0:T+R] = u_old[0:T+R] - eta*np.array([cost_deriv(u_old, i) for i in np.arange(T+R)])\n",
    "    a[i_iter+1, :] = u.copy()\n",
    "    \n",
    "fin = time.time()\n"
   ]
  },
  {
   "cell_type": "code",
   "execution_count": 25,
   "metadata": {},
   "outputs": [
    {
     "data": {
      "text/plain": [
       "array([ 782.84778441,  783.05763884,  783.28498046,  783.53126641,\n",
       "        783.79807526,  784.08711707,  784.4002444 ,  784.73946414,\n",
       "        785.1069504 ,  785.50505841,  785.9363396 ,  786.40355797,\n",
       "        786.90970777,  787.45803266,  788.05204654,  788.69555596,\n",
       "        789.39268457,  790.14789944,  790.96603971,  791.85234752,\n",
       "        792.81250156,  793.8526534 ,  794.9794668 ,  796.20016035,\n",
       "        797.5225536 ,  798.95511701,  800.50702609,  802.18821997,\n",
       "        804.00946485,  805.98242271,  808.11972562,  810.43505632,\n",
       "        812.94323535,  778.65297425,  768.31820312,  766.71330482,\n",
       "        767.5539213 ,  768.59017237,  769.23797897,  769.50263038,\n",
       "        769.53222426,  769.4601993 ,  769.36895209,  769.29644664,\n",
       "        769.25263439,  769.23369317,  769.2312699 ,  769.23731888,\n",
       "        769.24598066,  769.25381791,  769.25932715,  769.26226581,\n",
       "        769.26305691,  769.26236307,  769.260831  ,  769.25896964,\n",
       "        769.25711709,  769.25545715,  769.25405717,  769.25290933,\n",
       "        769.25196602,  769.25116581,  769.25044988,  769.24977054,\n",
       "        769.24909413,  769.24840032,  769.24767968,  769.24693053,\n",
       "        769.24615602,  769.24536166,  769.24455359,  769.24373748,\n",
       "        769.24291789,  769.24209813,  769.24128026,  769.24046534,\n",
       "        769.23965363,  769.2388449 ,  769.23803857,  769.23723394,\n",
       "        769.23643023,  769.23562674,  769.23482284,  769.23401803,\n",
       "        769.23321208,  769.23240509,  769.23159763,  769.23079092,\n",
       "        769.22998675,  769.22918715,  769.22839339,  769.22760397,\n",
       "        769.22681144,  769.22599854,  769.22513646,  769.2241927 ,\n",
       "        769.22316684,  769.22219412,  769.2217985 ,  769.22345553,\n",
       "        769.23076923])"
      ]
     },
     "execution_count": 25,
     "metadata": {},
     "output_type": "execute_result"
    }
   ],
   "source": [
    "u"
   ]
  },
  {
   "cell_type": "code",
   "execution_count": 26,
   "metadata": {
    "scrolled": false
   },
   "outputs": [
    {
     "data": {
      "text/plain": [
       "6.926842537191179"
      ]
     },
     "execution_count": 26,
     "metadata": {},
     "output_type": "execute_result"
    }
   ],
   "source": [
    "(fin-debut)*100/60/60"
   ]
  },
  {
   "cell_type": "markdown",
   "metadata": {},
   "source": [
    "Then, we draw $\\text{u}$, that is, the evolution of the control signal during the experiment."
   ]
  },
  {
   "cell_type": "code",
   "execution_count": 27,
   "metadata": {
    "scrolled": false
   },
   "outputs": [
    {
     "data": {
      "image/png": "[encoded data removed]",
      "text/plain": [
       "<matplotlib.figure.Figure at 0x7fdacfca0940>"
      ]
     },
     "metadata": {},
     "output_type": "display_data"
    }
   ],
   "source": [
    "plot_signal(a, 500, 1000, t_T, t_R, 0.001) #10000"
   ]
  },
  {
   "cell_type": "code",
   "execution_count": 28,
   "metadata": {
    "scrolled": false
   },
   "outputs": [
    {
     "data": {
      "text/plain": [
       "<matplotlib.legend.Legend at 0x7fdacfb1a898>"
      ]
     },
     "execution_count": 28,
     "metadata": {},
     "output_type": "execute_result"
    },
    {
     "data": {
      "image/png": "[encoded data removed]",
      "text/plain": [
       "<matplotlib.figure.Figure at 0x7fdacfb964e0>"
      ]
     },
     "metadata": {},
     "output_type": "display_data"
    }
   ],
   "source": [
    "fig_width = 15\n",
    "fig, ax = plt.subplots(1, 1, figsize=(fig_width, fig_width/1.618))\n",
    "ax.plot(time_ms, a[0], lw=2, label=\"bangbang\")\n",
    "ax.plot(time_ms, a[niter], lw=2, label=\"minimum-variance\")\n",
    "ax.plot([0,(t_T+t_R)*1000],[0,0],'r--')\n",
    "ax.legend()"
   ]
  },
  {
   "cell_type": "code",
   "execution_count": 29,
   "metadata": {
    "collapsed": true
   },
   "outputs": [],
   "source": [
    "position = np.zeros((niter+1,T+R+1))\n",
    "velocity = np.zeros((niter+1,T+R+1))\n",
    "\n",
    "for i in np.arange(niter+1):\n",
    "    for j in np.arange(T+R+1):\n",
    "        mean = expectation(a[i,:], j)\n",
    "        position[i,j] = mean[0]\n",
    "        velocity[i,j] = mean[1]"
   ]
  },
  {
   "cell_type": "code",
   "execution_count": 30,
   "metadata": {
    "scrolled": false
   },
   "outputs": [
    {
     "data": {
      "image/png": "[encoded data removed]",
      "text/plain": [
       "<matplotlib.figure.Figure at 0x7fdacfb998d0>"
      ]
     },
     "metadata": {},
     "output_type": "display_data"
    }
   ],
   "source": [
    "plot_position(position, 500, 1000, t_T, t_R, 0.001) #10000"
   ]
  },
  {
   "cell_type": "code",
   "execution_count": 31,
   "metadata": {
    "scrolled": false
   },
   "outputs": [
    {
     "data": {
      "text/plain": [
       "<matplotlib.legend.Legend at 0x7fdacfa9ecf8>"
      ]
     },
     "execution_count": 31,
     "metadata": {},
     "output_type": "execute_result"
    },
    {
     "data": {
      "image/png": "[encoded data removed]",
      "text/plain": [
       "<matplotlib.figure.Figure at 0x7fdacfac80b8>"
      ]
     },
     "metadata": {},
     "output_type": "display_data"
    }
   ],
   "source": [
    "fig_width = 15\n",
    "fig, ax = plt.subplots(1, 1, figsize=(fig_width, fig_width/1.618))\n",
    "ax.plot(time_ms, position[0], lw=2, label=\"bangbang\")\n",
    "ax.plot(time_ms, position[niter], lw=2, label=\"minimum-variance\")\n",
    "ax.plot(np.linspace(0,(t_T+t_R)*1000,T+R+1), xx,'r--')\n",
    "\n",
    "ax.legend()\n"
   ]
  },
  {
   "cell_type": "code",
   "execution_count": 32,
   "metadata": {
    "scrolled": false
   },
   "outputs": [
    {
     "data": {
      "text/plain": [
       "[<matplotlib.lines.Line2D at 0x7fdacfca0a90>]"
      ]
     },
     "execution_count": 32,
     "metadata": {},
     "output_type": "execute_result"
    },
    {
     "data": {
      "image/png": "[encoded data removed]",
      "text/plain": [
       "<matplotlib.figure.Figure at 0x7fdacfb3b748>"
      ]
     },
     "metadata": {},
     "output_type": "display_data"
    }
   ],
   "source": [
    "plot_velocity(velocity, 500, 1000, t_T, t_R, 0.001) # 10000\n",
    "\n",
    "plt.plot(time_ms, vv,'r--')"
   ]
  },
  {
   "cell_type": "code",
   "execution_count": 33,
   "metadata": {
    "scrolled": false
   },
   "outputs": [
    {
     "data": {
      "text/plain": [
       "<matplotlib.legend.Legend at 0x7fdacf9d7f28>"
      ]
     },
     "execution_count": 33,
     "metadata": {},
     "output_type": "execute_result"
    },
    {
     "data": {
      "image/png": "[encoded data removed]",
      "text/plain": [
       "<matplotlib.figure.Figure at 0x7fdacfa04748>"
      ]
     },
     "metadata": {},
     "output_type": "display_data"
    }
   ],
   "source": [
    "fig_width = 15\n",
    "fig, ax = plt.subplots(1, 1, figsize=(fig_width, fig_width/1.618))\n",
    "ax.plot(time_ms, velocity[0], lw=2, label=\"bangbang\")\n",
    "ax.plot(time_ms, velocity[niter], lw=2, label=\"minimum-variance\")\n",
    "ax.plot(np.linspace(0,(t_T+t_R)*1000,T+R+1), vv,'r--')\n",
    "ax.legend()"
   ]
  },
  {
   "cell_type": "code",
   "execution_count": 34,
   "metadata": {
    "collapsed": true
   },
   "outputs": [],
   "source": [
    "variancev = np.zeros((niter+1,T+R+1))\n",
    "\n",
    "for i in np.arange(niter+1):\n",
    "    for j in np.arange(T+R+1):\n",
    "        variancev[i,j] = variance(a[i,:], j)"
   ]
  },
  {
   "cell_type": "code",
   "execution_count": 35,
   "metadata": {
    "scrolled": false
   },
   "outputs": [
    {
     "data": {
      "image/png": "[encoded data removed]",
      "text/plain": [
       "<matplotlib.figure.Figure at 0x7fdacfa14be0>"
      ]
     },
     "metadata": {},
     "output_type": "display_data"
    }
   ],
   "source": [
    "plot_variance(variancev, 250, 500, t_T, t_R, 0.001) # 5000"
   ]
  },
  {
   "cell_type": "code",
   "execution_count": 36,
   "metadata": {
    "scrolled": false
   },
   "outputs": [
    {
     "data": {
      "text/plain": [
       "<matplotlib.legend.Legend at 0x7fdacf94cdd8>"
      ]
     },
     "execution_count": 36,
     "metadata": {},
     "output_type": "execute_result"
    },
    {
     "data": {
      "image/png": "[encoded data removed]",
      "text/plain": [
       "<matplotlib.figure.Figure at 0x7fdacf960f28>"
      ]
     },
     "metadata": {},
     "output_type": "display_data"
    }
   ],
   "source": [
    "fig_width = 15\n",
    "fig, ax = plt.subplots(1, 1, figsize=(fig_width, fig_width/1.618))\n",
    "ax.plot(time_ms, variancev[0], lw=2, label=\"bangbang\")\n",
    "ax.plot(time_ms, variancev[niter], lw=2, label=\"minimum-variance\")\n",
    "ax.legend()"
   ]
  },
  {
   "cell_type": "code",
   "execution_count": 37,
   "metadata": {
    "collapsed": true
   },
   "outputs": [],
   "source": [
    "vel = np.zeros((8,T+R+1))"
   ]
  },
  {
   "cell_type": "code",
   "execution_count": 38,
   "metadata": {
    "collapsed": true
   },
   "outputs": [],
   "source": [
    "pos = np.zeros((8,T+R+1))"
   ]
  },
  {
   "cell_type": "code",
   "execution_count": 39,
   "metadata": {
    "collapsed": true
   },
   "outputs": [],
   "source": [
    "vel[7,:] = velocity[niter]"
   ]
  },
  {
   "cell_type": "code",
   "execution_count": 40,
   "metadata": {
    "collapsed": true
   },
   "outputs": [],
   "source": [
    "pos[7,:] = position[niter]"
   ]
  },
  {
   "cell_type": "code",
   "execution_count": 41,
   "metadata": {
    "collapsed": true
   },
   "outputs": [],
   "source": [
    "# with pickle save the previous records for different parameters"
   ]
  },
  {
   "cell_type": "code",
   "execution_count": 76,
   "metadata": {
    "collapsed": true
   },
   "outputs": [],
   "source": [
    "def SymmetricalBangbang(tau, x0, xT, dt, t_T, t_R, v0):\n",
    "    \"\"\"\n",
    "    Returns the symmetrical (U+ = - U-) bangbang solution\n",
    "    \"\"\"\n",
    "    T = int(t_T/dt)\n",
    "    R = int(t_R/dt)\n",
    "    time = np.linspace(0, t_T+t_R, R+T+1)\n",
    "\n",
    "    if v0==0.:\n",
    "        vrho = np.linspace(0.5,1,1000001)\n",
    "        y = (xT-x0[0]-x0[1]*vrho*t_T)*(2-np.exp(-vrho*t_T/tau) - np.exp((1-vrho)*t_T/tau)) + x0[1]*((2*vrho-1)*t_T-tau*(2-np.exp(-vrho*t_T/tau)-np.exp((1-vrho)*t_T/tau)))\n",
    "\n",
    "        rho = vrho[np.argmin(np.abs(y))]\n",
    "        rhoT = int(np.round(T*rho))\n",
    "\n",
    "        Umax = 1/tau*(xT-x0[0]-x0[1]*rho*t_T)/((2*rho-1)*t_T-tau*(2-np.exp(-rho*t_T/tau)-np.exp((1-rho)*t_T/tau)))\n",
    "\n",
    "        xx = np.concatenate((Umax*tau*(time[0:rhoT]-tau*(1-np.exp(-time[0:rhoT]/tau)))+x0[1]*time[0:rhoT]+x0[0],\n",
    "                                 xT+Umax*tau*(t_T-time[rhoT:T]+tau*(1-np.exp((t_T-time[rhoT:T])/tau))),\n",
    "                                 xT*np.ones(R+1)))\n",
    "\n",
    "        vv = np.concatenate((Umax*tau*(1-np.exp(-time[0:rhoT]/tau))+x0[1],\n",
    "                                 -Umax*tau*(1-np.exp((t_T-time[rhoT:T])/tau)),\n",
    "                                 np.zeros(R+1)))\n",
    "\n",
    "        uu = np.concatenate((Umax*np.ones(rhoT),\n",
    "                                 -Umax*np.ones(T-rhoT),\n",
    "                                 np.zeros(R+1)))\n",
    "\n",
    "        return uu, xx, vv\n",
    "\n",
    "    else:\n",
    "        vrho = np.linspace(0.5,1,1000001)\n",
    "        y = (xT+v0*t_T-x0[0]-x0[1]*vrho*t_T + v0*tau*(1-np.exp((1-vrho)*t_T/tau))) * (2-np.exp(-vrho*t_T/tau) - np.exp((1-vrho)*t_T/tau)) - (v0*np.exp((1-vrho)*t_T/tau)-x0[1]) * ((2*vrho-1)*t_T-tau*(2-np.exp(-vrho*t_T/tau)-np.exp((1-vrho)*t_T/tau)))\n",
    "\n",
    "        rho_pursuit = vrho[np.argmin(np.abs(y))]\n",
    "        rhoT_pursuit = int(np.round(T*rho_pursuit))\n",
    "\n",
    "        Umax_pursuit = 1/tau*(v0*np.exp((1-rho_pursuit)*t_T/tau)-x0[1])/(2-np.exp((1-rho_pursuit)*t_T/tau)-np.exp(-rho_pursuit*t_T/tau))\n",
    "\n",
    "        x_pursuit = np.concatenate((Umax_pursuit*tau*(time[0:rhoT_pursuit]-tau*(1-np.exp(-time[0:rhoT_pursuit]/tau)))+x0[1]*time[0:rhoT_pursuit]+x0[0],\n",
    "                                        xT+v0*t_T+Umax_pursuit*tau*(t_T-time[rhoT_pursuit:T]+tau*(1-np.exp((t_T-time[rhoT_pursuit:T])/tau)))+tau*v0*(1-np.exp((t_T-time[rhoT_pursuit:T])/tau)),\n",
    "                                        xT+v0*t_T+v0*(time[T:(T+R+1)]-t_T)))\n",
    "\n",
    "        v_pursuit = np.concatenate((Umax_pursuit*tau*(1-np.exp(-time[0:rhoT_pursuit]/tau))+x0[1],\n",
    "                                        -Umax_pursuit*tau*(1-np.exp((t_T-time[rhoT_pursuit:T])/tau))+v0*np.exp((t_T-time[rhoT_pursuit:T])/tau),\n",
    "                                        v0*np.ones(R+1)))\n",
    "\n",
    "        u_pursuit = np.concatenate((Umax_pursuit*np.ones(rhoT_pursuit),\n",
    "                                        -Umax_pursuit*np.ones(T-rhoT_pursuit),\n",
    "                                        1/tau*v0*np.ones(R+1)))\n",
    "\n",
    "        return u_pursuit, x_pursuit, v_pursuit\n",
    "\n",
    "\n",
    "def vvariance(u):\n",
    "    \"\"\"\n",
    "    vectorized version of variance\n",
    "    \"\"\"\n",
    "    var = np.zeros(T+R+1)\n",
    "    for i in np.arange(T+R+1):\n",
    "        var[i] = variance(u,i)\n",
    "    return var\n",
    "\n",
    "\n",
    "def vexpectation(u):\n",
    "    \"\"\"\n",
    "    vectorized version of expectation\n",
    "    \"\"\"\n",
    "    exp = np.zeros((T+R+1, 2))\n",
    "    for i in np.arange(T+R+1):\n",
    "        exp[i, :] = expectation(u,i)\n",
    "    return exp\n"
   ]
  },
  {
   "cell_type": "code",
   "execution_count": 77,
   "metadata": {
    "collapsed": true
   },
   "outputs": [],
   "source": [
    "def AsymmetricalBangbang(tau, x0, xT, dt2, t_T, t_R, v0):\n",
    "    \"\"\"\n",
    "    Returns the asymmetrical (U+ =/= - U-) bangbang solution\n",
    "    \"\"\"\n",
    "    T2 = int(t_T/dt2)\n",
    "    R2 = int(t_R/dt2)\n",
    "    time = np.linspace(0, t_T+t_R, R2+T2+1)\n",
    "\n",
    "    A2 = np.array([[1, dt2], [0, 1-dt2/tau]])\n",
    "    B2 = np.array([0., dt2])\n",
    "\n",
    "    def A2_pow(A):\n",
    "        \"\"\"\n",
    "        compute the array of A^i of shape (T+R+1, 2, 2)\n",
    "        \"\"\"\n",
    "        A2_pow_array = np.zeros((T2+R2+1, 2, 2))\n",
    "        for i in np.arange(T2+R2+1):\n",
    "            A2_pow_array[i, :, :] = power(A, i)\n",
    "        return A2_pow_array\n",
    "\n",
    "    A2_pow_array = A2_pow(A2)\n",
    "\n",
    "    def pow_fast2(n):\n",
    "        return A2_pow_array[n,:,:]\n",
    "\n",
    "    ci0_array2 = np.zeros(T2+R2+1)\n",
    "    ci1_array2 = np.zeros(T2+R2+1)\n",
    "\n",
    "    for i in np.arange(T2+R2+1):\n",
    "        ci0_array2[i] = (A2_pow_array[i, :, :].dot(B2))[0]\n",
    "        ci1_array2[i] = (A2_pow_array[i, :, :].dot(B2))[1]\n",
    "\n",
    "    ci_array2 = np.array([ci0_array2, ci1_array2])\n",
    "\n",
    "\n",
    "    def expectation2(u, t):\n",
    "        \"\"\"\n",
    "        compute the expectation at time t given the control signal u\n",
    "\n",
    "        array of shape (2, 1)\n",
    "                \"\"\"\n",
    "        if t == 0:\n",
    "            return x0\n",
    "        else:\n",
    "            return pow_fast2(t).dot(x0)+(ci_array2[:,0:t]*np.flipud(u[0:t])).sum(axis = 1)\n",
    "\n",
    "    def variance2(u, t):\n",
    "        \"\"\"\n",
    "        compute the variance at time t given the control signal u\n",
    "        \"\"\"\n",
    "        return k*(np.flipud(ci0_array2[0:t]**2)*u[0:t]**2).sum()\n",
    "\n",
    "\n",
    "    n = 100 # number of rho's values\n",
    "    rho = np.linspace(0.5,0.999,n) # rho's tested values\n",
    "\n",
    "\n",
    "    Umoins = 1/tau*((xT-x0[0]+v0*(t_T+tau)-x0[1]*(rho*t_T+tau)) * (1-np.exp(-rho*t_T/tau)) - rho*t_T*(v0*np.exp((1-rho)*t_T/tau) - x0[1]))/(t_T-(1-rho)*t_T*np.exp(-rho*t_T/tau)-rho*t_T*np.exp((1-rho)*t_T/tau))\n",
    "\n",
    "    Uplus = (1-np.exp((1-rho)*t_T/tau))/(1-np.exp(-rho*t_T/tau))*Umoins+1/tau*(v0*np.exp((1-rho)*t_T/tau)-x0[1])/(1-np.exp(-rho*t_T/tau))\n",
    "\n",
    "    u = np.zeros((n-2, T2+R2+1))\n",
    "\n",
    "    for i in np.arange(n-2):\n",
    "        rhoT = int(T2*rho[i])\n",
    "        u[i,:] = np.concatenate((Uplus[i]*np.ones(rhoT), Umoins[i]*np.ones(T2-rhoT), 1/tau*v0*np.ones(R2+1)))\n",
    "\n",
    "\n",
    "    position = np.zeros((n-2, T2+R2+1))\n",
    "    velocity = np.zeros((n-2, T2+R2+1))\n",
    "\n",
    "    for i in np.arange(n-2):\n",
    "        for j in np.arange(T2+R2+1):\n",
    "            mean = expectation2(u[i,:], j)\n",
    "            position[i,j] = mean[0]\n",
    "            velocity[i,j] = mean[1]\n",
    "\n",
    "\n",
    "    variancev = np.zeros((n-2, T2+R2+1))\n",
    "\n",
    "    for i in np.arange(n-2):\n",
    "        for j in np.arange(T2+R2+1):\n",
    "            variancev[i,j] = variance2(u[i,:], j)\n",
    "\n",
    "\n",
    "    somme = np.zeros(n-2)\n",
    "    for i in np.arange(n-2):\n",
    "        for j in T2+np.arange(R2+1):\n",
    "            somme[i] += variancev[i,j]\n",
    "\n",
    "    ind_best = np.argmin(somme)\n",
    "    rho = rho[ind_best]\n",
    "\n",
    "    Umoins = 1/tau*((xT-x0[0]+v0*(t_T+tau)-x0[1]*(rho*t_T+tau)) * (1-np.exp(-rho*t_T/tau)) - rho*t_T*(v0*np.exp((1-rho)*t_T/tau) - x0[1])) / (t_T-(1-rho)*t_T*np.exp(-rho*t_T/tau)-rho*t_T*np.exp((1-rho)*t_T/tau))\n",
    "\n",
    "    Uplus = (1-np.exp((1-rho)*t_T/tau)) / (1-np.exp(-rho*t_T/tau)) * Umoins+1/tau * (v0*np.exp((1-rho)*t_T/tau)-x0[1]) / (1-np.exp(-rho*t_T/tau))\n",
    "\n",
    "    rhoT = int(T2*rho)\n",
    "\n",
    "    position[ind_best,0:rhoT] = tau*Uplus*(time[0:rhoT]-tau*(1-np.exp(-time[0:rhoT]/tau)))+x0[1]*time[0:rhoT]+x0[0]\n",
    "    position[ind_best,rhoT:T2] = xT+v0*t_T+v0*tau*(1-np.exp((t_T-time[rhoT:T2])/tau))-tau*Umoins*(t_T-time[rhoT:T2]+tau*(1-np.exp((t_T-time[rhoT:T2])/tau)))\n",
    "    position[ind_best,T2:(T2+R2+1)] = xT+v0*t_T+v0*(time[T2:(T2+R2+1)]-t_T)\n",
    "\n",
    "\n",
    "    velocity[ind_best,0:rhoT] = tau*Uplus*(1-np.exp(-time[0:rhoT]/tau))+x0[1]\n",
    "    velocity[ind_best,rhoT:T2] = v0*np.exp((t_T-time[rhoT:T2])/tau)+tau*Umoins*(1-np.exp((t_T-time[rhoT:T2])/tau))\n",
    "    velocity[ind_best,T2:(T2+R2+1)] = v0*np.ones(R2+1)\n",
    "\n",
    "\n",
    "    return u[ind_best, :], position[ind_best, :], velocity[ind_best, :], variancev[ind_best, :]*dt/dt2\n"
   ]
  },
  {
   "cell_type": "code",
   "execution_count": 78,
   "metadata": {
    "collapsed": true
   },
   "outputs": [],
   "source": [
    "### retrieve the files (for the cells are long to run in GeneralCoordinates. pynb) ### \n",
    "\n",
    "\n",
    "def record_pickle():\n",
    "    n_iter = 1000\n",
    "    record_each = 100\n",
    "    control_init = None\n",
    "    # First : test if the file already exists which mean that the function has already been used for this parameters\n",
    "    import pickle\n",
    "    import os\n",
    "    from os.path import isfile\n",
    "\n",
    "    # if the file exists we use it\n",
    "    if os.path.isfile('/media/ana/Doc & softwares/Users/Lessons/Master Marseille/M2 (2017-2018)/Internship M2a/OptimalPrecision/DataRecording'+'dt_'+str(dt)+'/'+'HW_tau='+str(tau)+'_dt='+str(dt)+'_tT='+str(t_T)+'_tR='+str(t_R)+'_k='+str(k)+'_niter='+str(n_iter)+'_xT='+str(xT[0])+'_v='+str(v)+'.pkl'):\n",
    "        import pandas as pd\n",
    "        record = pd.read_pickle('/media/ana/Doc & softwares/Users/Lessons/Master Marseille/M2 (2017-2018)/Internship M2a/OptimalPrecision/DataRecording'+'dt_'+str(dt)+'/'+'HW_tau='+str(tau)+'_dt='+str(dt)+'_tT='+str(t_T)+'_tR='+str(t_R)+'_k='+str(k)+'_niter='+str(n_iter)+'_xT='+str(xT[0])+'_v='+str(v)+'.pkl')\n",
    "        control = record.signal[n_iter]\n",
    "\n",
    "        # We compute the sym bangbang to have nice plots (that's why the time step is reduced)\n",
    "        control_bang1, pos_bang1, vel_bang1 = SymmetricalBangbang(tau, x0, xT[0], 0.0000001, t_T, t_R, v)\n",
    "\n",
    "        # useful to compute the variance\n",
    "        control_bang1bis, pos_bang1bis, vel_bang1bis = SymmetricalBangbang(tau, x0, xT[0], dt, t_T, t_R, v)\n",
    "\n",
    "        var_bang1 = vvariance(control_bang1bis)\n",
    "\n",
    "\n",
    "        bang_data = pd.DataFrame([{'signal':control_bang1,\n",
    "                                   'position':pos_bang1,\n",
    "                                   'velocity':vel_bang1,\n",
    "                                   'variance':var_bang1}],\n",
    "                                   index=[0])\n",
    "\n",
    "        # We compute the asym bangbang to have nice plots (that's why the time step is reduced)\n",
    "        control_bang2, pos_bang2, vel_bang2, var_bang2 = AsymmetricalBangbang(tau, x0, xT[0], 0.00001, t_T, t_R, v)\n",
    "\n",
    "        bang_data2 = pd.DataFrame([{'signal':control_bang2,\n",
    "                                   'position':pos_bang2,\n",
    "                                   'velocity':vel_bang2,\n",
    "                                   'variance':var_bang2}],\n",
    "                                   index=[1])\n",
    "\n",
    "        bang_data = pd.concat([bang_data, bang_data2])\n",
    "        return control, record, bang_data, t_T, t_R\n",
    "\n",
    "    # if not, we start from zero\n",
    "    else:\n",
    "\n",
    "        if record_each>0:\n",
    "            import pandas as pd\n",
    "            record = pd.DataFrame()\n",
    "\n",
    "        # if the initial control is given by the inputs, we use it\n",
    "        if not (control_init is None):\n",
    "            control = control_init.copy()\n",
    "\n",
    "        # if not, we start from a constant signal (faster than starting from a bangbang)\n",
    "        else:\n",
    "            control = np.ones(T+R+1)*v/tau\n",
    "\n",
    "        # We compute the sym bangbang to have nice plots (that's why the time step is reduced)\n",
    "        control_bang1, pos_bang1, vel_bang1 = SymmetricalBangbang(tau, x0, xT[0], 0.0000001, t_T, t_R, v)\n",
    "\n",
    "        # useful to compute the variance\n",
    "        control_bang1bis, pos_bang1bis, vel_bang1bis = SymmetricalBangbang(tau, x0, xT[0], dt, t_T, t_R, v)\n",
    "\n",
    "        var_bang1 = vvariance(control_bang1bis)\n",
    "\n",
    "\n",
    "        bang_data = pd.DataFrame([{'signal':control_bang1,\n",
    "                                   'position':pos_bang1,\n",
    "                                   'velocity':vel_bang1,\n",
    "                                   'variance':var_bang1}],\n",
    "                                   index=[0])\n",
    "\n",
    "        # We compute the asym bangbang to have nice plots (that's why the time step is reduced)\n",
    "        control_bang2, pos_bang2, vel_bang2, var_bang2 = AsymmetricalBangbang(tau, x0, xT[0], 0.00001, t_T, t_R, v)\n",
    "\n",
    "        bang_data2 = pd.DataFrame([{'signal':control_bang2,\n",
    "                                   'position':pos_bang2,\n",
    "                                   'velocity':vel_bang2,\n",
    "                                   'variance':var_bang2}],\n",
    "                                   index=[1])\n",
    "\n",
    "        bang_data = pd.concat([bang_data, bang_data2])\n",
    "\n",
    "\n",
    "\n",
    "        control[T+R] = 1/tau*v\n",
    "\n",
    "\n",
    "        cost_iter = np.zeros(0)\n",
    "        posT_iter = np.zeros(0)\n",
    "\n",
    "        for i_iter in np.arange(n_iter):\n",
    "\n",
    "            # Gradient descent\n",
    "            control_old = control.copy()\n",
    "            control[0:T+R] = control_old[0:T+R] - eta*np.array([cost_deriv(control_old, i) for i in np.arange(T+R)])\n",
    "            cost_iter = np.concatenate((cost_iter, np.array([cost(control_old)])))\n",
    "            posT_iter = np.concatenate((posT_iter, np.array([expectation(control_old, T)[0]])))\n",
    "\n",
    "            if record_each>0:\n",
    "                if i_iter % int(record_each) == 0:\n",
    "                    control_rec = control_old.copy()\n",
    "                    pos_rec = vexpectation(control_old)[:, 0]\n",
    "                    vel_rec = vexpectation(control_old)[:, 1]\n",
    "                    var_rec = vvariance(control_old)\n",
    "                    cost_rec = cost_iter.copy()\n",
    "                    cost_iter = np.zeros(0)\n",
    "                    posT_rec = posT_iter.copy()\n",
    "                    posT_iter = np.zeros(0)\n",
    "\n",
    "\n",
    "                    record_one = pd.DataFrame([{'signal':control_rec,\n",
    "                                                'position':pos_rec,\n",
    "                                                'velocity':vel_rec,\n",
    "                                                'variance':var_rec,\n",
    "                                                'cost':cost_rec,\n",
    "                                                'positionT':posT_rec}],\n",
    "                                                index=[i_iter])\n",
    "                    record = pd.concat([record, record_one])\n",
    "\n",
    "        record_last = pd.DataFrame([{'signal':control,\n",
    "                                     'position':vexpectation(control)[:, 0],\n",
    "                                     'velocity':vexpectation(control)[:, 1],\n",
    "                                     'variance':vvariance(control),\n",
    "                                     'cost':cost_iter,\n",
    "                                     'positionT':posT_iter}],\n",
    "                                     index=[n_iter])\n",
    "\n",
    "        record = pd.concat([record, record_last])\n",
    "\n",
    "    # '/home/baptiste/Documents/2017_OptimalPrecision' = '.'\n",
    "    # import os\n",
    "    # fname = os.path.join('DataRecording', 'machin', 'truc') \n",
    "        record.to_pickle('/media/ana/Doc & softwares/Users/Lessons/Master Marseille/M2 (2017-2018)/Internship M2a/OptimalPrecision/DataRecording'+'dt_'+str(dt)+'/'+'HW_tau='+str(tau)+'_dt='+str(dt)+'_tT='+str(t_T)+'_tR='+str(t_R)+'_k='+str(k)+'_niter='+str(n_iter)+'_xT='+str(xT[0])+'_v='+str(v)+'.pkl')\n",
    "\n",
    "        if record_each==0:\n",
    "            return control, bang_data, t_T, t_R\n",
    "        else:\n",
    "            return control, record, bang_data, t_T, t_R"
   ]
  },
  {
   "cell_type": "code",
   "execution_count": 79,
   "metadata": {},
   "outputs": [
    {
     "ename": "FileNotFoundError",
     "evalue": "[Errno 2] No such file or directory: '/media/ana/Doc & softwares/Users/Lessons/Master Marseille/M2 (2017-2018)/Internship M2a/OptimalPrecision/DataRecordingdt_0.001/HW_tau=0.013_dt=0.001_tT=0.033_tR=0.067_k=0.01_niter=1000_xT=0.5_v=10.pkl'",
     "output_type": "error",
     "traceback": [
      "\u001b[0;31m---------------------------------------------------------------------------\u001b[0m",
      "\u001b[0;31mFileNotFoundError\u001b[0m                         Traceback (most recent call last)",
      "\u001b[0;32m<ipython-input-79-bd9af18db790>\u001b[0m in \u001b[0;36m<module>\u001b[0;34m()\u001b[0m\n\u001b[0;32m----> 1\u001b[0;31m \u001b[0mrecord_pickle\u001b[0m\u001b[0;34m(\u001b[0m\u001b[0;34m)\u001b[0m\u001b[0;34m\u001b[0m\u001b[0m\n\u001b[0m",
      "\u001b[0;32m<ipython-input-78-3a5349202ca3>\u001b[0m in \u001b[0;36mrecord_pickle\u001b[0;34m()\u001b[0m\n\u001b[1;32m    135\u001b[0m     \u001b[0;31m# import os\u001b[0m\u001b[0;34m\u001b[0m\u001b[0;34m\u001b[0m\u001b[0m\n\u001b[1;32m    136\u001b[0m     \u001b[0;31m# fname = os.path.join('DataRecording', 'machin', 'truc')\u001b[0m\u001b[0;34m\u001b[0m\u001b[0;34m\u001b[0m\u001b[0m\n\u001b[0;32m--> 137\u001b[0;31m         \u001b[0mrecord\u001b[0m\u001b[0;34m.\u001b[0m\u001b[0mto_pickle\u001b[0m\u001b[0;34m(\u001b[0m\u001b[0;34m'/media/ana/Doc & softwares/Users/Lessons/Master Marseille/M2 (2017-2018)/Internship M2a/OptimalPrecision/DataRecording'\u001b[0m\u001b[0;34m+\u001b[0m\u001b[0;34m'dt_'\u001b[0m\u001b[0;34m+\u001b[0m\u001b[0mstr\u001b[0m\u001b[0;34m(\u001b[0m\u001b[0mdt\u001b[0m\u001b[0;34m)\u001b[0m\u001b[0;34m+\u001b[0m\u001b[0;34m'/'\u001b[0m\u001b[0;34m+\u001b[0m\u001b[0;34m'HW_tau='\u001b[0m\u001b[0;34m+\u001b[0m\u001b[0mstr\u001b[0m\u001b[0;34m(\u001b[0m\u001b[0mtau\u001b[0m\u001b[0;34m)\u001b[0m\u001b[0;34m+\u001b[0m\u001b[0;34m'_dt='\u001b[0m\u001b[0;34m+\u001b[0m\u001b[0mstr\u001b[0m\u001b[0;34m(\u001b[0m\u001b[0mdt\u001b[0m\u001b[0;34m)\u001b[0m\u001b[0;34m+\u001b[0m\u001b[0;34m'_tT='\u001b[0m\u001b[0;34m+\u001b[0m\u001b[0mstr\u001b[0m\u001b[0;34m(\u001b[0m\u001b[0mt_T\u001b[0m\u001b[0;34m)\u001b[0m\u001b[0;34m+\u001b[0m\u001b[0;34m'_tR='\u001b[0m\u001b[0;34m+\u001b[0m\u001b[0mstr\u001b[0m\u001b[0;34m(\u001b[0m\u001b[0mt_R\u001b[0m\u001b[0;34m)\u001b[0m\u001b[0;34m+\u001b[0m\u001b[0;34m'_k='\u001b[0m\u001b[0;34m+\u001b[0m\u001b[0mstr\u001b[0m\u001b[0;34m(\u001b[0m\u001b[0mk\u001b[0m\u001b[0;34m)\u001b[0m\u001b[0;34m+\u001b[0m\u001b[0;34m'_niter='\u001b[0m\u001b[0;34m+\u001b[0m\u001b[0mstr\u001b[0m\u001b[0;34m(\u001b[0m\u001b[0mn_iter\u001b[0m\u001b[0;34m)\u001b[0m\u001b[0;34m+\u001b[0m\u001b[0;34m'_xT='\u001b[0m\u001b[0;34m+\u001b[0m\u001b[0mstr\u001b[0m\u001b[0;34m(\u001b[0m\u001b[0mxT\u001b[0m\u001b[0;34m[\u001b[0m\u001b[0;36m0\u001b[0m\u001b[0;34m]\u001b[0m\u001b[0;34m)\u001b[0m\u001b[0;34m+\u001b[0m\u001b[0;34m'_v='\u001b[0m\u001b[0;34m+\u001b[0m\u001b[0mstr\u001b[0m\u001b[0;34m(\u001b[0m\u001b[0mv\u001b[0m\u001b[0;34m)\u001b[0m\u001b[0;34m+\u001b[0m\u001b[0;34m'.pkl'\u001b[0m\u001b[0;34m)\u001b[0m\u001b[0;34m\u001b[0m\u001b[0m\n\u001b[0m\u001b[1;32m    138\u001b[0m \u001b[0;34m\u001b[0m\u001b[0m\n\u001b[1;32m    139\u001b[0m         \u001b[0;32mif\u001b[0m \u001b[0mrecord_each\u001b[0m\u001b[0;34m==\u001b[0m\u001b[0;36m0\u001b[0m\u001b[0;34m:\u001b[0m\u001b[0;34m\u001b[0m\u001b[0m\n",
      "\u001b[0;32m~/.local/lib/python3.5/site-packages/pandas/core/generic.py\u001b[0m in \u001b[0;36mto_pickle\u001b[0;34m(self, path, compression, protocol)\u001b[0m\n\u001b[1;32m   1562\u001b[0m         \u001b[0;32mfrom\u001b[0m \u001b[0mpandas\u001b[0m\u001b[0;34m.\u001b[0m\u001b[0mio\u001b[0m\u001b[0;34m.\u001b[0m\u001b[0mpickle\u001b[0m \u001b[0;32mimport\u001b[0m \u001b[0mto_pickle\u001b[0m\u001b[0;34m\u001b[0m\u001b[0m\n\u001b[1;32m   1563\u001b[0m         return to_pickle(self, path, compression=compression,\n\u001b[0;32m-> 1564\u001b[0;31m                          protocol=protocol)\n\u001b[0m\u001b[1;32m   1565\u001b[0m \u001b[0;34m\u001b[0m\u001b[0m\n\u001b[1;32m   1566\u001b[0m     \u001b[0;32mdef\u001b[0m \u001b[0mto_clipboard\u001b[0m\u001b[0;34m(\u001b[0m\u001b[0mself\u001b[0m\u001b[0;34m,\u001b[0m \u001b[0mexcel\u001b[0m\u001b[0;34m=\u001b[0m\u001b[0;32mNone\u001b[0m\u001b[0;34m,\u001b[0m \u001b[0msep\u001b[0m\u001b[0;34m=\u001b[0m\u001b[0;32mNone\u001b[0m\u001b[0;34m,\u001b[0m \u001b[0;34m**\u001b[0m\u001b[0mkwargs\u001b[0m\u001b[0;34m)\u001b[0m\u001b[0;34m:\u001b[0m\u001b[0;34m\u001b[0m\u001b[0m\n",
      "\u001b[0;32m~/.local/lib/python3.5/site-packages/pandas/io/pickle.py\u001b[0m in \u001b[0;36mto_pickle\u001b[0;34m(obj, path, compression, protocol)\u001b[0m\n\u001b[1;32m     39\u001b[0m     f, fh = _get_handle(path, 'wb',\n\u001b[1;32m     40\u001b[0m                         \u001b[0mcompression\u001b[0m\u001b[0;34m=\u001b[0m\u001b[0minferred_compression\u001b[0m\u001b[0;34m,\u001b[0m\u001b[0;34m\u001b[0m\u001b[0m\n\u001b[0;32m---> 41\u001b[0;31m                         is_text=False)\n\u001b[0m\u001b[1;32m     42\u001b[0m     \u001b[0;32mif\u001b[0m \u001b[0mprotocol\u001b[0m \u001b[0;34m<\u001b[0m \u001b[0;36m0\u001b[0m\u001b[0;34m:\u001b[0m\u001b[0;34m\u001b[0m\u001b[0m\n\u001b[1;32m     43\u001b[0m         \u001b[0mprotocol\u001b[0m \u001b[0;34m=\u001b[0m \u001b[0mpkl\u001b[0m\u001b[0;34m.\u001b[0m\u001b[0mHIGHEST_PROTOCOL\u001b[0m\u001b[0;34m\u001b[0m\u001b[0m\n",
      "\u001b[0;32m~/.local/lib/python3.5/site-packages/pandas/io/common.py\u001b[0m in \u001b[0;36m_get_handle\u001b[0;34m(path_or_buf, mode, encoding, compression, memory_map, is_text)\u001b[0m\n\u001b[1;32m    394\u001b[0m         \u001b[0;32melse\u001b[0m\u001b[0;34m:\u001b[0m\u001b[0;34m\u001b[0m\u001b[0m\n\u001b[1;32m    395\u001b[0m             \u001b[0;31m# Python 3 and binary mode\u001b[0m\u001b[0;34m\u001b[0m\u001b[0;34m\u001b[0m\u001b[0m\n\u001b[0;32m--> 396\u001b[0;31m             \u001b[0mf\u001b[0m \u001b[0;34m=\u001b[0m \u001b[0mopen\u001b[0m\u001b[0;34m(\u001b[0m\u001b[0mpath_or_buf\u001b[0m\u001b[0;34m,\u001b[0m \u001b[0mmode\u001b[0m\u001b[0;34m)\u001b[0m\u001b[0;34m\u001b[0m\u001b[0m\n\u001b[0m\u001b[1;32m    397\u001b[0m         \u001b[0mhandles\u001b[0m\u001b[0;34m.\u001b[0m\u001b[0mappend\u001b[0m\u001b[0;34m(\u001b[0m\u001b[0mf\u001b[0m\u001b[0;34m)\u001b[0m\u001b[0;34m\u001b[0m\u001b[0m\n\u001b[1;32m    398\u001b[0m \u001b[0;34m\u001b[0m\u001b[0m\n",
      "\u001b[0;31mFileNotFoundError\u001b[0m: [Errno 2] No such file or directory: '/media/ana/Doc & softwares/Users/Lessons/Master Marseille/M2 (2017-2018)/Internship M2a/OptimalPrecision/DataRecordingdt_0.001/HW_tau=0.013_dt=0.001_tT=0.033_tR=0.067_k=0.01_niter=1000_xT=0.5_v=10.pkl'"
     ]
    }
   ],
   "source": [
    "record_pickle()"
   ]
  },
  {
   "cell_type": "code",
   "execution_count": 82,
   "metadata": {
    "collapsed": true
   },
   "outputs": [],
   "source": [
    "import numpy as np\n",
    "\n",
    "import pickle\n",
    "import pandas as pd\n",
    "record = pd.DataFrame()\n",
    "for i in np.arange(8):\n",
    "    record_one = pd.DataFrame([{'position':pos[i,:],'velocity':vel[i,:]}],index=[i])\n",
    "    record = pd.concat([record, record_one])\n",
    "record.to_pickle('/media/ana/Doc & softwares/Users/Lessons/Master Marseille/M2 (2017-2018)/Internship M2a/OptimalPrecision/DataRecording' + 'HarrisWolpertPursuit_dt=0.001_tau=0.013_data_for_main_sequence.pkl')"
   ]
  },
  {
   "cell_type": "code",
   "execution_count": 83,
   "metadata": {},
   "outputs": [
    {
     "ename": "FileNotFoundError",
     "evalue": "[Errno 2] No such file or directory: '/media/ana/Doc & softwares/Users/Lessons/Master Marseille/M2 (2017-2018)/Internship M2a/OptimalPrecision/DataRecordingHarrisWolpertPursuit_dt=0.002_beta=100_m=1_cosinus.pkl'",
     "output_type": "error",
     "traceback": [
      "\u001b[0;31m---------------------------------------------------------------------------\u001b[0m",
      "\u001b[0;31mFileNotFoundError\u001b[0m                         Traceback (most recent call last)",
      "\u001b[0;32m~/.local/lib/python3.5/site-packages/pandas/io/pickle.py\u001b[0m in \u001b[0;36mtry_read\u001b[0;34m(path, encoding)\u001b[0m\n\u001b[1;32m     98\u001b[0m         \u001b[0;32mtry\u001b[0m\u001b[0;34m:\u001b[0m\u001b[0;34m\u001b[0m\u001b[0m\n\u001b[0;32m---> 99\u001b[0;31m             \u001b[0;32mreturn\u001b[0m \u001b[0mread_wrapper\u001b[0m\u001b[0;34m(\u001b[0m\u001b[0;32mlambda\u001b[0m \u001b[0mf\u001b[0m\u001b[0;34m:\u001b[0m \u001b[0mpkl\u001b[0m\u001b[0;34m.\u001b[0m\u001b[0mload\u001b[0m\u001b[0;34m(\u001b[0m\u001b[0mf\u001b[0m\u001b[0;34m)\u001b[0m\u001b[0;34m)\u001b[0m\u001b[0;34m\u001b[0m\u001b[0m\n\u001b[0m\u001b[1;32m    100\u001b[0m         \u001b[0;32mexcept\u001b[0m \u001b[0mException\u001b[0m\u001b[0;34m:\u001b[0m\u001b[0;34m\u001b[0m\u001b[0m\n",
      "\u001b[0;32m~/.local/lib/python3.5/site-packages/pandas/io/pickle.py\u001b[0m in \u001b[0;36mread_wrapper\u001b[0;34m(func)\u001b[0m\n\u001b[1;32m     81\u001b[0m                             \u001b[0mcompression\u001b[0m\u001b[0;34m=\u001b[0m\u001b[0minferred_compression\u001b[0m\u001b[0;34m,\u001b[0m\u001b[0;34m\u001b[0m\u001b[0m\n\u001b[0;32m---> 82\u001b[0;31m                             is_text=False)\n\u001b[0m\u001b[1;32m     83\u001b[0m         \u001b[0;32mtry\u001b[0m\u001b[0;34m:\u001b[0m\u001b[0;34m\u001b[0m\u001b[0m\n",
      "\u001b[0;32m~/.local/lib/python3.5/site-packages/pandas/io/common.py\u001b[0m in \u001b[0;36m_get_handle\u001b[0;34m(path_or_buf, mode, encoding, compression, memory_map, is_text)\u001b[0m\n\u001b[1;32m    395\u001b[0m             \u001b[0;31m# Python 3 and binary mode\u001b[0m\u001b[0;34m\u001b[0m\u001b[0;34m\u001b[0m\u001b[0m\n\u001b[0;32m--> 396\u001b[0;31m             \u001b[0mf\u001b[0m \u001b[0;34m=\u001b[0m \u001b[0mopen\u001b[0m\u001b[0;34m(\u001b[0m\u001b[0mpath_or_buf\u001b[0m\u001b[0;34m,\u001b[0m \u001b[0mmode\u001b[0m\u001b[0;34m)\u001b[0m\u001b[0;34m\u001b[0m\u001b[0m\n\u001b[0m\u001b[1;32m    397\u001b[0m         \u001b[0mhandles\u001b[0m\u001b[0;34m.\u001b[0m\u001b[0mappend\u001b[0m\u001b[0;34m(\u001b[0m\u001b[0mf\u001b[0m\u001b[0;34m)\u001b[0m\u001b[0;34m\u001b[0m\u001b[0m\n",
      "\u001b[0;31mFileNotFoundError\u001b[0m: [Errno 2] No such file or directory: '/media/ana/Doc & softwares/Users/Lessons/Master Marseille/M2 (2017-2018)/Internship M2a/OptimalPrecision/DataRecordingHarrisWolpertPursuit_dt=0.002_beta=100_m=1_cosinus.pkl'",
      "\nDuring handling of the above exception, another exception occurred:\n",
      "\u001b[0;31mFileNotFoundError\u001b[0m                         Traceback (most recent call last)",
      "\u001b[0;32m~/.local/lib/python3.5/site-packages/pandas/io/pickle.py\u001b[0m in \u001b[0;36mtry_read\u001b[0;34m(path, encoding)\u001b[0m\n\u001b[1;32m    103\u001b[0m                 return read_wrapper(\n\u001b[0;32m--> 104\u001b[0;31m                     lambda f: pc.load(f, encoding=encoding, compat=False))\n\u001b[0m\u001b[1;32m    105\u001b[0m             \u001b[0;31m# compat pickle\u001b[0m\u001b[0;34m\u001b[0m\u001b[0;34m\u001b[0m\u001b[0m\n",
      "\u001b[0;32m~/.local/lib/python3.5/site-packages/pandas/io/pickle.py\u001b[0m in \u001b[0;36mread_wrapper\u001b[0;34m(func)\u001b[0m\n\u001b[1;32m     81\u001b[0m                             \u001b[0mcompression\u001b[0m\u001b[0;34m=\u001b[0m\u001b[0minferred_compression\u001b[0m\u001b[0;34m,\u001b[0m\u001b[0;34m\u001b[0m\u001b[0m\n\u001b[0;32m---> 82\u001b[0;31m                             is_text=False)\n\u001b[0m\u001b[1;32m     83\u001b[0m         \u001b[0;32mtry\u001b[0m\u001b[0;34m:\u001b[0m\u001b[0;34m\u001b[0m\u001b[0m\n",
      "\u001b[0;32m~/.local/lib/python3.5/site-packages/pandas/io/common.py\u001b[0m in \u001b[0;36m_get_handle\u001b[0;34m(path_or_buf, mode, encoding, compression, memory_map, is_text)\u001b[0m\n\u001b[1;32m    395\u001b[0m             \u001b[0;31m# Python 3 and binary mode\u001b[0m\u001b[0;34m\u001b[0m\u001b[0;34m\u001b[0m\u001b[0m\n\u001b[0;32m--> 396\u001b[0;31m             \u001b[0mf\u001b[0m \u001b[0;34m=\u001b[0m \u001b[0mopen\u001b[0m\u001b[0;34m(\u001b[0m\u001b[0mpath_or_buf\u001b[0m\u001b[0;34m,\u001b[0m \u001b[0mmode\u001b[0m\u001b[0;34m)\u001b[0m\u001b[0;34m\u001b[0m\u001b[0m\n\u001b[0m\u001b[1;32m    397\u001b[0m         \u001b[0mhandles\u001b[0m\u001b[0;34m.\u001b[0m\u001b[0mappend\u001b[0m\u001b[0;34m(\u001b[0m\u001b[0mf\u001b[0m\u001b[0;34m)\u001b[0m\u001b[0;34m\u001b[0m\u001b[0m\n",
      "\u001b[0;31mFileNotFoundError\u001b[0m: [Errno 2] No such file or directory: '/media/ana/Doc & softwares/Users/Lessons/Master Marseille/M2 (2017-2018)/Internship M2a/OptimalPrecision/DataRecordingHarrisWolpertPursuit_dt=0.002_beta=100_m=1_cosinus.pkl'",
      "\nDuring handling of the above exception, another exception occurred:\n",
      "\u001b[0;31mFileNotFoundError\u001b[0m                         Traceback (most recent call last)",
      "\u001b[0;32m~/.local/lib/python3.5/site-packages/pandas/io/pickle.py\u001b[0m in \u001b[0;36mread_pickle\u001b[0;34m(path, compression)\u001b[0m\n\u001b[1;32m    109\u001b[0m     \u001b[0;32mtry\u001b[0m\u001b[0;34m:\u001b[0m\u001b[0;34m\u001b[0m\u001b[0m\n\u001b[0;32m--> 110\u001b[0;31m         \u001b[0;32mreturn\u001b[0m \u001b[0mtry_read\u001b[0m\u001b[0;34m(\u001b[0m\u001b[0mpath\u001b[0m\u001b[0;34m)\u001b[0m\u001b[0;34m\u001b[0m\u001b[0m\n\u001b[0m\u001b[1;32m    111\u001b[0m     \u001b[0;32mexcept\u001b[0m\u001b[0;34m:\u001b[0m\u001b[0;34m\u001b[0m\u001b[0m\n",
      "\u001b[0;32m~/.local/lib/python3.5/site-packages/pandas/io/pickle.py\u001b[0m in \u001b[0;36mtry_read\u001b[0;34m(path, encoding)\u001b[0m\n\u001b[1;32m    107\u001b[0m                 return read_wrapper(\n\u001b[0;32m--> 108\u001b[0;31m                     lambda f: pc.load(f, encoding=encoding, compat=True))\n\u001b[0m\u001b[1;32m    109\u001b[0m     \u001b[0;32mtry\u001b[0m\u001b[0;34m:\u001b[0m\u001b[0;34m\u001b[0m\u001b[0m\n",
      "\u001b[0;32m~/.local/lib/python3.5/site-packages/pandas/io/pickle.py\u001b[0m in \u001b[0;36mread_wrapper\u001b[0;34m(func)\u001b[0m\n\u001b[1;32m     81\u001b[0m                             \u001b[0mcompression\u001b[0m\u001b[0;34m=\u001b[0m\u001b[0minferred_compression\u001b[0m\u001b[0;34m,\u001b[0m\u001b[0;34m\u001b[0m\u001b[0m\n\u001b[0;32m---> 82\u001b[0;31m                             is_text=False)\n\u001b[0m\u001b[1;32m     83\u001b[0m         \u001b[0;32mtry\u001b[0m\u001b[0;34m:\u001b[0m\u001b[0;34m\u001b[0m\u001b[0m\n",
      "\u001b[0;32m~/.local/lib/python3.5/site-packages/pandas/io/common.py\u001b[0m in \u001b[0;36m_get_handle\u001b[0;34m(path_or_buf, mode, encoding, compression, memory_map, is_text)\u001b[0m\n\u001b[1;32m    395\u001b[0m             \u001b[0;31m# Python 3 and binary mode\u001b[0m\u001b[0;34m\u001b[0m\u001b[0;34m\u001b[0m\u001b[0m\n\u001b[0;32m--> 396\u001b[0;31m             \u001b[0mf\u001b[0m \u001b[0;34m=\u001b[0m \u001b[0mopen\u001b[0m\u001b[0;34m(\u001b[0m\u001b[0mpath_or_buf\u001b[0m\u001b[0;34m,\u001b[0m \u001b[0mmode\u001b[0m\u001b[0;34m)\u001b[0m\u001b[0;34m\u001b[0m\u001b[0m\n\u001b[0m\u001b[1;32m    397\u001b[0m         \u001b[0mhandles\u001b[0m\u001b[0;34m.\u001b[0m\u001b[0mappend\u001b[0m\u001b[0;34m(\u001b[0m\u001b[0mf\u001b[0m\u001b[0;34m)\u001b[0m\u001b[0;34m\u001b[0m\u001b[0m\n",
      "\u001b[0;31mFileNotFoundError\u001b[0m: [Errno 2] No such file or directory: '/media/ana/Doc & softwares/Users/Lessons/Master Marseille/M2 (2017-2018)/Internship M2a/OptimalPrecision/DataRecordingHarrisWolpertPursuit_dt=0.002_beta=100_m=1_cosinus.pkl'",
      "\nDuring handling of the above exception, another exception occurred:\n",
      "\u001b[0;31mFileNotFoundError\u001b[0m                         Traceback (most recent call last)",
      "\u001b[0;32m~/.local/lib/python3.5/site-packages/pandas/io/pickle.py\u001b[0m in \u001b[0;36mtry_read\u001b[0;34m(path, encoding)\u001b[0m\n\u001b[1;32m     98\u001b[0m         \u001b[0;32mtry\u001b[0m\u001b[0;34m:\u001b[0m\u001b[0;34m\u001b[0m\u001b[0m\n\u001b[0;32m---> 99\u001b[0;31m             \u001b[0;32mreturn\u001b[0m \u001b[0mread_wrapper\u001b[0m\u001b[0;34m(\u001b[0m\u001b[0;32mlambda\u001b[0m \u001b[0mf\u001b[0m\u001b[0;34m:\u001b[0m \u001b[0mpkl\u001b[0m\u001b[0;34m.\u001b[0m\u001b[0mload\u001b[0m\u001b[0;34m(\u001b[0m\u001b[0mf\u001b[0m\u001b[0;34m)\u001b[0m\u001b[0;34m)\u001b[0m\u001b[0;34m\u001b[0m\u001b[0m\n\u001b[0m\u001b[1;32m    100\u001b[0m         \u001b[0;32mexcept\u001b[0m \u001b[0mException\u001b[0m\u001b[0;34m:\u001b[0m\u001b[0;34m\u001b[0m\u001b[0m\n",
      "\u001b[0;32m~/.local/lib/python3.5/site-packages/pandas/io/pickle.py\u001b[0m in \u001b[0;36mread_wrapper\u001b[0;34m(func)\u001b[0m\n\u001b[1;32m     81\u001b[0m                             \u001b[0mcompression\u001b[0m\u001b[0;34m=\u001b[0m\u001b[0minferred_compression\u001b[0m\u001b[0;34m,\u001b[0m\u001b[0;34m\u001b[0m\u001b[0m\n\u001b[0;32m---> 82\u001b[0;31m                             is_text=False)\n\u001b[0m\u001b[1;32m     83\u001b[0m         \u001b[0;32mtry\u001b[0m\u001b[0;34m:\u001b[0m\u001b[0;34m\u001b[0m\u001b[0m\n",
      "\u001b[0;32m~/.local/lib/python3.5/site-packages/pandas/io/common.py\u001b[0m in \u001b[0;36m_get_handle\u001b[0;34m(path_or_buf, mode, encoding, compression, memory_map, is_text)\u001b[0m\n\u001b[1;32m    395\u001b[0m             \u001b[0;31m# Python 3 and binary mode\u001b[0m\u001b[0;34m\u001b[0m\u001b[0;34m\u001b[0m\u001b[0m\n\u001b[0;32m--> 396\u001b[0;31m             \u001b[0mf\u001b[0m \u001b[0;34m=\u001b[0m \u001b[0mopen\u001b[0m\u001b[0;34m(\u001b[0m\u001b[0mpath_or_buf\u001b[0m\u001b[0;34m,\u001b[0m \u001b[0mmode\u001b[0m\u001b[0;34m)\u001b[0m\u001b[0;34m\u001b[0m\u001b[0m\n\u001b[0m\u001b[1;32m    397\u001b[0m         \u001b[0mhandles\u001b[0m\u001b[0;34m.\u001b[0m\u001b[0mappend\u001b[0m\u001b[0;34m(\u001b[0m\u001b[0mf\u001b[0m\u001b[0;34m)\u001b[0m\u001b[0;34m\u001b[0m\u001b[0m\n",
      "\u001b[0;31mFileNotFoundError\u001b[0m: [Errno 2] No such file or directory: '/media/ana/Doc & softwares/Users/Lessons/Master Marseille/M2 (2017-2018)/Internship M2a/OptimalPrecision/DataRecordingHarrisWolpertPursuit_dt=0.002_beta=100_m=1_cosinus.pkl'",
      "\nDuring handling of the above exception, another exception occurred:\n",
      "\u001b[0;31mFileNotFoundError\u001b[0m                         Traceback (most recent call last)",
      "\u001b[0;32m~/.local/lib/python3.5/site-packages/pandas/io/pickle.py\u001b[0m in \u001b[0;36mtry_read\u001b[0;34m(path, encoding)\u001b[0m\n\u001b[1;32m    103\u001b[0m                 return read_wrapper(\n\u001b[0;32m--> 104\u001b[0;31m                     lambda f: pc.load(f, encoding=encoding, compat=False))\n\u001b[0m\u001b[1;32m    105\u001b[0m             \u001b[0;31m# compat pickle\u001b[0m\u001b[0;34m\u001b[0m\u001b[0;34m\u001b[0m\u001b[0m\n",
      "\u001b[0;32m~/.local/lib/python3.5/site-packages/pandas/io/pickle.py\u001b[0m in \u001b[0;36mread_wrapper\u001b[0;34m(func)\u001b[0m\n\u001b[1;32m     81\u001b[0m                             \u001b[0mcompression\u001b[0m\u001b[0;34m=\u001b[0m\u001b[0minferred_compression\u001b[0m\u001b[0;34m,\u001b[0m\u001b[0;34m\u001b[0m\u001b[0m\n\u001b[0;32m---> 82\u001b[0;31m                             is_text=False)\n\u001b[0m\u001b[1;32m     83\u001b[0m         \u001b[0;32mtry\u001b[0m\u001b[0;34m:\u001b[0m\u001b[0;34m\u001b[0m\u001b[0m\n",
      "\u001b[0;32m~/.local/lib/python3.5/site-packages/pandas/io/common.py\u001b[0m in \u001b[0;36m_get_handle\u001b[0;34m(path_or_buf, mode, encoding, compression, memory_map, is_text)\u001b[0m\n\u001b[1;32m    395\u001b[0m             \u001b[0;31m# Python 3 and binary mode\u001b[0m\u001b[0;34m\u001b[0m\u001b[0;34m\u001b[0m\u001b[0m\n\u001b[0;32m--> 396\u001b[0;31m             \u001b[0mf\u001b[0m \u001b[0;34m=\u001b[0m \u001b[0mopen\u001b[0m\u001b[0;34m(\u001b[0m\u001b[0mpath_or_buf\u001b[0m\u001b[0;34m,\u001b[0m \u001b[0mmode\u001b[0m\u001b[0;34m)\u001b[0m\u001b[0;34m\u001b[0m\u001b[0m\n\u001b[0m\u001b[1;32m    397\u001b[0m         \u001b[0mhandles\u001b[0m\u001b[0;34m.\u001b[0m\u001b[0mappend\u001b[0m\u001b[0;34m(\u001b[0m\u001b[0mf\u001b[0m\u001b[0;34m)\u001b[0m\u001b[0;34m\u001b[0m\u001b[0m\n",
      "\u001b[0;31mFileNotFoundError\u001b[0m: [Errno 2] No such file or directory: '/media/ana/Doc & softwares/Users/Lessons/Master Marseille/M2 (2017-2018)/Internship M2a/OptimalPrecision/DataRecordingHarrisWolpertPursuit_dt=0.002_beta=100_m=1_cosinus.pkl'",
      "\nDuring handling of the above exception, another exception occurred:\n",
      "\u001b[0;31mFileNotFoundError\u001b[0m                         Traceback (most recent call last)",
      "\u001b[0;32m<ipython-input-83-726cfe4cdf11>\u001b[0m in \u001b[0;36m<module>\u001b[0;34m()\u001b[0m\n\u001b[1;32m      1\u001b[0m \u001b[0;32mimport\u001b[0m \u001b[0mpickle\u001b[0m\u001b[0;34m\u001b[0m\u001b[0m\n\u001b[1;32m      2\u001b[0m \u001b[0;32mimport\u001b[0m \u001b[0mpandas\u001b[0m \u001b[0;32mas\u001b[0m \u001b[0mpd\u001b[0m\u001b[0;34m\u001b[0m\u001b[0m\n\u001b[0;32m----> 3\u001b[0;31m \u001b[0mrecord\u001b[0m \u001b[0;34m=\u001b[0m \u001b[0mpd\u001b[0m\u001b[0;34m.\u001b[0m\u001b[0mread_pickle\u001b[0m\u001b[0;34m(\u001b[0m\u001b[0;34m'/media/ana/Doc & softwares/Users/Lessons/Master Marseille/M2 (2017-2018)/Internship M2a/OptimalPrecision/DataRecording'\u001b[0m \u001b[0;34m+\u001b[0m \u001b[0;34m'HarrisWolpertPursuit_dt=0.002_beta=100_m=1_cosinus.pkl'\u001b[0m\u001b[0;34m)\u001b[0m\u001b[0;34m\u001b[0m\u001b[0m\n\u001b[0m",
      "\u001b[0;32m~/.local/lib/python3.5/site-packages/pandas/io/pickle.py\u001b[0m in \u001b[0;36mread_pickle\u001b[0;34m(path, compression)\u001b[0m\n\u001b[1;32m    111\u001b[0m     \u001b[0;32mexcept\u001b[0m\u001b[0;34m:\u001b[0m\u001b[0;34m\u001b[0m\u001b[0m\n\u001b[1;32m    112\u001b[0m         \u001b[0;32mif\u001b[0m \u001b[0mPY3\u001b[0m\u001b[0;34m:\u001b[0m\u001b[0;34m\u001b[0m\u001b[0m\n\u001b[0;32m--> 113\u001b[0;31m             \u001b[0;32mreturn\u001b[0m \u001b[0mtry_read\u001b[0m\u001b[0;34m(\u001b[0m\u001b[0mpath\u001b[0m\u001b[0;34m,\u001b[0m \u001b[0mencoding\u001b[0m\u001b[0;34m=\u001b[0m\u001b[0;34m'latin1'\u001b[0m\u001b[0;34m)\u001b[0m\u001b[0;34m\u001b[0m\u001b[0m\n\u001b[0m\u001b[1;32m    114\u001b[0m         \u001b[0;32mraise\u001b[0m\u001b[0;34m\u001b[0m\u001b[0m\n\u001b[1;32m    115\u001b[0m \u001b[0;34m\u001b[0m\u001b[0m\n",
      "\u001b[0;32m~/.local/lib/python3.5/site-packages/pandas/io/pickle.py\u001b[0m in \u001b[0;36mtry_read\u001b[0;34m(path, encoding)\u001b[0m\n\u001b[1;32m    106\u001b[0m             \u001b[0;32mexcept\u001b[0m\u001b[0;34m:\u001b[0m\u001b[0;34m\u001b[0m\u001b[0m\n\u001b[1;32m    107\u001b[0m                 return read_wrapper(\n\u001b[0;32m--> 108\u001b[0;31m                     lambda f: pc.load(f, encoding=encoding, compat=True))\n\u001b[0m\u001b[1;32m    109\u001b[0m     \u001b[0;32mtry\u001b[0m\u001b[0;34m:\u001b[0m\u001b[0;34m\u001b[0m\u001b[0m\n\u001b[1;32m    110\u001b[0m         \u001b[0;32mreturn\u001b[0m \u001b[0mtry_read\u001b[0m\u001b[0;34m(\u001b[0m\u001b[0mpath\u001b[0m\u001b[0;34m)\u001b[0m\u001b[0;34m\u001b[0m\u001b[0m\n",
      "\u001b[0;32m~/.local/lib/python3.5/site-packages/pandas/io/pickle.py\u001b[0m in \u001b[0;36mread_wrapper\u001b[0;34m(func)\u001b[0m\n\u001b[1;32m     80\u001b[0m         f, fh = _get_handle(path, 'rb',\n\u001b[1;32m     81\u001b[0m                             \u001b[0mcompression\u001b[0m\u001b[0;34m=\u001b[0m\u001b[0minferred_compression\u001b[0m\u001b[0;34m,\u001b[0m\u001b[0;34m\u001b[0m\u001b[0m\n\u001b[0;32m---> 82\u001b[0;31m                             is_text=False)\n\u001b[0m\u001b[1;32m     83\u001b[0m         \u001b[0;32mtry\u001b[0m\u001b[0;34m:\u001b[0m\u001b[0;34m\u001b[0m\u001b[0m\n\u001b[1;32m     84\u001b[0m             \u001b[0;32mreturn\u001b[0m \u001b[0mfunc\u001b[0m\u001b[0;34m(\u001b[0m\u001b[0mf\u001b[0m\u001b[0;34m)\u001b[0m\u001b[0;34m\u001b[0m\u001b[0m\n",
      "\u001b[0;32m~/.local/lib/python3.5/site-packages/pandas/io/common.py\u001b[0m in \u001b[0;36m_get_handle\u001b[0;34m(path_or_buf, mode, encoding, compression, memory_map, is_text)\u001b[0m\n\u001b[1;32m    394\u001b[0m         \u001b[0;32melse\u001b[0m\u001b[0;34m:\u001b[0m\u001b[0;34m\u001b[0m\u001b[0m\n\u001b[1;32m    395\u001b[0m             \u001b[0;31m# Python 3 and binary mode\u001b[0m\u001b[0;34m\u001b[0m\u001b[0;34m\u001b[0m\u001b[0m\n\u001b[0;32m--> 396\u001b[0;31m             \u001b[0mf\u001b[0m \u001b[0;34m=\u001b[0m \u001b[0mopen\u001b[0m\u001b[0;34m(\u001b[0m\u001b[0mpath_or_buf\u001b[0m\u001b[0;34m,\u001b[0m \u001b[0mmode\u001b[0m\u001b[0;34m)\u001b[0m\u001b[0;34m\u001b[0m\u001b[0m\n\u001b[0m\u001b[1;32m    397\u001b[0m         \u001b[0mhandles\u001b[0m\u001b[0;34m.\u001b[0m\u001b[0mappend\u001b[0m\u001b[0;34m(\u001b[0m\u001b[0mf\u001b[0m\u001b[0;34m)\u001b[0m\u001b[0;34m\u001b[0m\u001b[0m\n\u001b[1;32m    398\u001b[0m \u001b[0;34m\u001b[0m\u001b[0m\n",
      "\u001b[0;31mFileNotFoundError\u001b[0m: [Errno 2] No such file or directory: '/media/ana/Doc & softwares/Users/Lessons/Master Marseille/M2 (2017-2018)/Internship M2a/OptimalPrecision/DataRecordingHarrisWolpertPursuit_dt=0.002_beta=100_m=1_cosinus.pkl'"
     ]
    }
   ],
   "source": [
    "import pickle\n",
    "import pandas as pd\n",
    "record = pd.read_pickle('/media/ana/Doc & softwares/Users/Lessons/Master Marseille/M2 (2017-2018)/Internship M2a/OptimalPrecision/DataRecording' + 'HarrisWolpertPursuit_dt=0.002_beta=100_m=1_cosinus.pkl')"
   ]
  },
  {
   "cell_type": "code",
   "execution_count": 84,
   "metadata": {},
   "outputs": [
    {
     "data": {
      "text/plain": [
       "<matplotlib.figure.Figure at 0x7fdacfa317f0>"
      ]
     },
     "metadata": {},
     "output_type": "display_data"
    },
    {
     "data": {
      "image/png": "[encoded data removed]",
      "text/plain": [
       "<matplotlib.figure.Figure at 0x7fdacab2e7f0>"
      ]
     },
     "metadata": {},
     "output_type": "display_data"
    }
   ],
   "source": [
    "%run PlotFunctions.py\n",
    "\n",
    "col = np.zeros((8,3))\n",
    "for i in np.arange(8):\n",
    "    col[i] = (8-i)/(2*8),0,i/(2*8)\n",
    "\n",
    "fig_width = 5\n",
    "fig, ax = plt.subplots(1, 1, figsize=(fig_width, fig_width/1.618))\n",
    "#plt.plot(np.linspace(0,200,2*T+2*R+1), np.concatenate((record_position[0],np.ones(100)*record_position[0][T+R])), color = col[0], lw = 2)\n",
    "#plt.plot(np.linspace(0,200,2*T+2*R+1), np.concatenate((record_position[1],np.ones(100)*record_position[1][T+R])), color = col[1], lw = 2)\n",
    "#plt.plot(np.linspace(0,200,2*T+2*R+1), np.concatenate((record_position[2],np.ones(100)*record_position[2][T+R])), color = col[2], lw = 2)\n",
    "#plt.plot(np.linspace(0,200,2*T+2*R+1), np.concatenate((record_position[3],np.ones(100)*record_position[3][T+R])), color = col[3], lw = 2)\n",
    "#plt.plot(np.linspace(0,200,2*T+2*R+1), np.concatenate((record_position[4],np.ones(100)*record_position[4][T+R])), color = col[4], lw = 2)\n",
    "#plt.plot(np.linspace(0,200,2*T+2*R+1), np.concatenate((record_position[5],np.ones(100)*record_position[5][T+R])), color = col[5], lw = 2)\n",
    "#plt.plot(np.linspace(0,200,2*T+2*R+1), np.concatenate((record_position[6],np.ones(100)*record_position[6][T+R])), color = col[6], lw = 2)\n",
    "#plt.plot(np.linspace(0,200,2*T+2*R+1), np.concatenate((record_position[7],np.ones(100)*record_position[7][T+R])), color = col[7], lw = 2)\n",
    "\n",
    "for i in range(8):\n",
    "    ax.plot(np.linspace(0, 200, 2*T+2*R+1), \n",
    "            np.concatenate((record.position[i],np.ones(100)*record.position[i][T+R])), \n",
    "            color = col[i], lw = 2)\n",
    "\n",
    "\n",
    "plt.plot(np.linspace(0,200,2*T+2*R+1), np.concatenate((record.position[0],np.ones(100)*record.position[0][T+R])), color = col[0], lw = 2)\n",
    "plt.plot(np.linspace(0,200,2*T+2*R+1), np.concatenate((record.position[1],np.ones(100)*record.position[1][T+R])), color = col[1], lw = 2)\n",
    "plt.plot(np.linspace(0,200,2*T+2*R+1), np.concatenate((record.position[2],np.ones(100)*record.position[2][T+R])), color = col[2], lw = 2)\n",
    "plt.plot(np.linspace(0,200,2*T+2*R+1), np.concatenate((record.position[3],np.ones(100)*record.position[3][T+R])), color = col[3], lw = 2)\n",
    "plt.plot(np.linspace(0,200,2*T+2*R+1), np.concatenate((record.position[4],np.ones(100)*record.position[4][T+R])), color = col[4], lw = 2)\n",
    "plt.plot(np.linspace(0,200,2*T+2*R+1), np.concatenate((record.position[5],np.ones(100)*record.position[5][T+R])), color = col[5], lw = 2)\n",
    "plt.plot(np.linspace(0,200,2*T+2*R+1), np.concatenate((record.position[6],np.ones(100)*record.position[6][T+R])), color = col[6], lw = 2)\n",
    "plt.plot(np.linspace(0,200,2*T+2*R+1), np.concatenate((record.position[7],np.ones(100)*record.position[7][T+R])), color = col[7], lw = 2)\n",
    "\n",
    "#ax.plot(np.linspace(0,2*(t_T+t_R)*1000,2*T+2*R+1), np.ones(2*T+2*R+1)*target[0],'r--')\n",
    "#ax.plot(np.linspace(0,2*(t_T+t_R)*1000,2*T+2*R+1), np.ones(2*T+2*R+1)*target[1],'r--')\n",
    "#ax.plot(np.linspace(0,2*(t_T+t_R)*1000,2*T+2*R+1), np.ones(2*T+2*R+1)*target[2],'r--')\n",
    "#ax.plot(np.linspace(0,2*(t_T+t_R)*1000,2*T+2*R+1), np.ones(2*T+2*R+1)*target[3],'r--')\n",
    "#ax.plot(np.linspace(0,2*(t_T+t_R)*1000,2*T+2*R+1), np.ones(2*T+2*R+1)*target[4],'r--')\n",
    "#ax.plot(np.linspace(0,2*(t_T+t_R)*1000,2*T+2*R+1), np.ones(2*T+2*R+1)*target[5],'r--')\n",
    "#ax.plot(np.linspace(0,2*(t_T+t_R)*1000,2*T+2*R+1), np.ones(2*T+2*R+1)*target[6],'r--')\n",
    "#ax.plot(np.linspace(0,2*(t_T+t_R)*1000,2*T+2*R+1), np.ones(2*T+2*R+1)*target[7],'r--')\n",
    "plt.text(170, 2.5, r'$x_T = 5$', fontsize = 10)\n",
    "plt.text(170, 7.5, r'$x_T = 10$', fontsize = 10)\n",
    "plt.text(170, 12.5, r'$x_T = 15$', fontsize = 10)\n",
    "plt.text(170, 17.5, r'$x_T = 20$', fontsize = 10)\n",
    "plt.text(170, 22.5, r'$x_T = 25$', fontsize = 10)\n",
    "plt.text(170, 27.5, r'$x_T = 30$', fontsize = 10)\n",
    "plt.text(170, 32.5, r'$x_T = 35$', fontsize = 10)\n",
    "plt.text(170, 37.5, r'$x_T = 40$', fontsize = 10)\n",
    "\n",
    "\n",
    "ax.set_ylim(-0.5, target[7]+0.5)\n",
    "\n",
    "ax.set_title(r'Evolution of the position for different amplitudes $x_T$', fontsize = 10)\n",
    "ax.set_xlabel('Time ($ms$)', fontsize=10)\n",
    "ax.set_ylabel(r'Position ($deg$)', fontsize=10)\n",
    "plt.savefig('diffamplitudepos.png')"
   ]
  },
  {
   "cell_type": "code",
   "execution_count": 85,
   "metadata": {},
   "outputs": [
    {
     "data": {
      "text/plain": [
       "Text(0,0.5,'Velocity ($deg\\\\cdot s^{-1}$)')"
      ]
     },
     "execution_count": 85,
     "metadata": {},
     "output_type": "execute_result"
    },
    {
     "data": {
      "image/png": "[encoded data removed]",
      "text/plain": [
       "<matplotlib.figure.Figure at 0x7fdaca972390>"
      ]
     },
     "metadata": {},
     "output_type": "display_data"
    }
   ],
   "source": [
    "col = np.zeros((8,3))\n",
    "for i in np.arange(8):\n",
    "    col[i] = (8-i)/(2*8),0,i/(2*8)\n",
    "\n",
    "fig_width = 5\n",
    "fig, ax = plt.subplots(1, 1, figsize=(fig_width, fig_width/1.618))\n",
    "plt.plot(np.linspace(0,200,2*T+2*R+1), np.concatenate((record.velocity[0],np.zeros(100))), color = col[0], label= r'$x_T = 5$', lw = 2)\n",
    "plt.plot(np.linspace(0,200,2*T+2*R+1), np.concatenate((record.velocity[1],np.zeros(100))), color = col[1], label= r'$x_T = 10$', lw = 2)\n",
    "plt.plot(np.linspace(0,200,2*T+2*R+1), np.concatenate((record.velocity[2],np.zeros(100))), color = col[2], label= r'$x_T = 15$', lw = 2)\n",
    "plt.plot(np.linspace(0,200,2*T+2*R+1), np.concatenate((record.velocity[3],np.zeros(100))), color = col[3], label= r'$x_T = 20$', lw = 2)\n",
    "plt.plot(np.linspace(0,200,2*T+2*R+1), np.concatenate((record.velocity[4],np.zeros(100))), color = col[4], label= r'$x_T = 25$', lw = 2)\n",
    "plt.plot(np.linspace(0,200,2*T+2*R+1), np.concatenate((record.velocity[5],np.zeros(100))), color = col[5], label= r'$x_T = 30$', lw = 2)\n",
    "plt.plot(np.linspace(0,200,2*T+2*R+1), np.concatenate((record.velocity[6],np.zeros(100))), color = col[6], label= r'$x_T = 35$', lw = 2)\n",
    "plt.plot(np.linspace(0,200,2*T+2*R+1), np.concatenate((record.velocity[7],np.zeros(100))), color = col[7], label= r'$x_T = 40$', lw = 2)\n",
    "\n",
    "ax.legend(prop={'size':8})\n",
    "\n",
    "\n",
    "ax.set_ylim(-20, 600)\n",
    "\n",
    "ax.set_title(r'Evolution of the velocity for different amplitudes $x_T$', fontsize = 10)\n",
    "ax.set_xlabel('Time ($ms$)', fontsize=10)\n",
    "ax.set_ylabel(r'Velocity ($deg\\cdot s^{-1}$)', fontsize=10)\n",
    "\n"
   ]
  },
  {
   "cell_type": "code",
   "execution_count": 86,
   "metadata": {
    "collapsed": true
   },
   "outputs": [],
   "source": [
    "peak_vel = np.array([max(record.velocity[0]),max(record.velocity[1]),max(record.velocity[2]),max(record.velocity[3]),max(record.velocity[4]),max(record.velocity[5]),max(record.velocity[6]),max(record.velocity[7])])"
   ]
  },
  {
   "cell_type": "code",
   "execution_count": 87,
   "metadata": {},
   "outputs": [
    {
     "ename": "ValueError",
     "evalue": "operands could not be broadcast together with shapes (10,) (9,) ",
     "output_type": "error",
     "traceback": [
      "\u001b[0;31m---------------------------------------------------------------------------\u001b[0m",
      "\u001b[0;31mValueError\u001b[0m                                Traceback (most recent call last)",
      "\u001b[0;32m<ipython-input-87-6bf0c00d0bdd>\u001b[0m in \u001b[0;36m<module>\u001b[0;34m()\u001b[0m\n\u001b[0;32m----> 1\u001b[0;31m \u001b[0malpha\u001b[0m \u001b[0;34m=\u001b[0m \u001b[0;34m(\u001b[0m\u001b[0mnp\u001b[0m\u001b[0;34m.\u001b[0m\u001b[0msqrt\u001b[0m\u001b[0;34m(\u001b[0m\u001b[0mnp\u001b[0m\u001b[0;34m.\u001b[0m\u001b[0mconcatenate\u001b[0m\u001b[0;34m(\u001b[0m\u001b[0;34m(\u001b[0m\u001b[0mnp\u001b[0m\u001b[0;34m.\u001b[0m\u001b[0mzeros\u001b[0m\u001b[0;34m(\u001b[0m\u001b[0;36m1\u001b[0m\u001b[0;34m)\u001b[0m\u001b[0;34m,\u001b[0m\u001b[0mtarget\u001b[0m\u001b[0;34m)\u001b[0m\u001b[0;34m)\u001b[0m\u001b[0;34m)\u001b[0m\u001b[0;34m*\u001b[0m\u001b[0mnp\u001b[0m\u001b[0;34m.\u001b[0m\u001b[0mconcatenate\u001b[0m\u001b[0;34m(\u001b[0m\u001b[0;34m(\u001b[0m\u001b[0mnp\u001b[0m\u001b[0;34m.\u001b[0m\u001b[0mzeros\u001b[0m\u001b[0;34m(\u001b[0m\u001b[0;36m1\u001b[0m\u001b[0;34m)\u001b[0m\u001b[0;34m,\u001b[0m\u001b[0mpeak_vel\u001b[0m\u001b[0;34m)\u001b[0m\u001b[0;34m)\u001b[0m\u001b[0;34m)\u001b[0m\u001b[0;34m.\u001b[0m\u001b[0msum\u001b[0m\u001b[0;34m(\u001b[0m\u001b[0;34m)\u001b[0m\u001b[0;34m/\u001b[0m\u001b[0;34m(\u001b[0m\u001b[0;34m(\u001b[0m\u001b[0mnp\u001b[0m\u001b[0;34m.\u001b[0m\u001b[0mconcatenate\u001b[0m\u001b[0;34m(\u001b[0m\u001b[0;34m(\u001b[0m\u001b[0mnp\u001b[0m\u001b[0;34m.\u001b[0m\u001b[0mzeros\u001b[0m\u001b[0;34m(\u001b[0m\u001b[0;36m1\u001b[0m\u001b[0;34m)\u001b[0m\u001b[0;34m,\u001b[0m\u001b[0mtarget\u001b[0m\u001b[0;34m)\u001b[0m\u001b[0;34m)\u001b[0m\u001b[0;34m)\u001b[0m\u001b[0;34m.\u001b[0m\u001b[0msum\u001b[0m\u001b[0;34m(\u001b[0m\u001b[0;34m)\u001b[0m\u001b[0;34m)\u001b[0m\u001b[0;34m\u001b[0m\u001b[0m\n\u001b[0m",
      "\u001b[0;31mValueError\u001b[0m: operands could not be broadcast together with shapes (10,) (9,) "
     ]
    }
   ],
   "source": [
    "alpha = (np.sqrt(np.concatenate((np.zeros(1),target)))*np.concatenate((np.zeros(1),peak_vel))).sum()/((np.concatenate((np.zeros(1),target))).sum())"
   ]
  },
  {
   "cell_type": "code",
   "execution_count": 88,
   "metadata": {
    "scrolled": false
   },
   "outputs": [
    {
     "ename": "ValueError",
     "evalue": "x and y must have same first dimension, but have shapes (10,) and (9,)",
     "output_type": "error",
     "traceback": [
      "\u001b[0;31m---------------------------------------------------------------------------\u001b[0m",
      "\u001b[0;31mValueError\u001b[0m                                Traceback (most recent call last)",
      "\u001b[0;32m<ipython-input-88-624429018bf9>\u001b[0m in \u001b[0;36m<module>\u001b[0;34m()\u001b[0m\n\u001b[1;32m      1\u001b[0m \u001b[0mfig_width\u001b[0m \u001b[0;34m=\u001b[0m \u001b[0;36m5\u001b[0m\u001b[0;34m\u001b[0m\u001b[0m\n\u001b[1;32m      2\u001b[0m \u001b[0mfig\u001b[0m\u001b[0;34m,\u001b[0m \u001b[0max\u001b[0m \u001b[0;34m=\u001b[0m \u001b[0mplt\u001b[0m\u001b[0;34m.\u001b[0m\u001b[0msubplots\u001b[0m\u001b[0;34m(\u001b[0m\u001b[0;36m1\u001b[0m\u001b[0;34m,\u001b[0m \u001b[0;36m1\u001b[0m\u001b[0;34m,\u001b[0m \u001b[0mfigsize\u001b[0m\u001b[0;34m=\u001b[0m\u001b[0;34m(\u001b[0m\u001b[0mfig_width\u001b[0m\u001b[0;34m,\u001b[0m \u001b[0mfig_width\u001b[0m\u001b[0;34m/\u001b[0m\u001b[0;36m1.618\u001b[0m\u001b[0;34m)\u001b[0m\u001b[0;34m)\u001b[0m\u001b[0;34m\u001b[0m\u001b[0m\n\u001b[0;32m----> 3\u001b[0;31m \u001b[0mplt\u001b[0m\u001b[0;34m.\u001b[0m\u001b[0mplot\u001b[0m\u001b[0;34m(\u001b[0m\u001b[0mnp\u001b[0m\u001b[0;34m.\u001b[0m\u001b[0mconcatenate\u001b[0m\u001b[0;34m(\u001b[0m\u001b[0;34m(\u001b[0m\u001b[0mnp\u001b[0m\u001b[0;34m.\u001b[0m\u001b[0mzeros\u001b[0m\u001b[0;34m(\u001b[0m\u001b[0;36m1\u001b[0m\u001b[0;34m)\u001b[0m\u001b[0;34m,\u001b[0m\u001b[0mtarget\u001b[0m\u001b[0;34m)\u001b[0m\u001b[0;34m)\u001b[0m\u001b[0;34m,\u001b[0m \u001b[0mnp\u001b[0m\u001b[0;34m.\u001b[0m\u001b[0mconcatenate\u001b[0m\u001b[0;34m(\u001b[0m\u001b[0;34m(\u001b[0m\u001b[0mnp\u001b[0m\u001b[0;34m.\u001b[0m\u001b[0mzeros\u001b[0m\u001b[0;34m(\u001b[0m\u001b[0;36m1\u001b[0m\u001b[0;34m)\u001b[0m\u001b[0;34m,\u001b[0m\u001b[0mpeak_vel\u001b[0m\u001b[0;34m)\u001b[0m\u001b[0;34m)\u001b[0m\u001b[0;34m,\u001b[0m\u001b[0mlw\u001b[0m \u001b[0;34m=\u001b[0m \u001b[0;36m2\u001b[0m\u001b[0;34m)\u001b[0m\u001b[0;34m\u001b[0m\u001b[0m\n\u001b[0m\u001b[1;32m      4\u001b[0m \u001b[0max\u001b[0m\u001b[0;34m.\u001b[0m\u001b[0mset_ylim\u001b[0m\u001b[0;34m(\u001b[0m\u001b[0;34m-\u001b[0m\u001b[0;36m20\u001b[0m\u001b[0;34m,\u001b[0m \u001b[0;36m600\u001b[0m\u001b[0;34m)\u001b[0m\u001b[0;34m\u001b[0m\u001b[0m\n\u001b[1;32m      5\u001b[0m \u001b[0;34m\u001b[0m\u001b[0m\n",
      "\u001b[0;32m~/.local/lib/python3.5/site-packages/matplotlib/pyplot.py\u001b[0m in \u001b[0;36mplot\u001b[0;34m(*args, **kwargs)\u001b[0m\n\u001b[1;32m   3259\u001b[0m                       mplDeprecation)\n\u001b[1;32m   3260\u001b[0m     \u001b[0;32mtry\u001b[0m\u001b[0;34m:\u001b[0m\u001b[0;34m\u001b[0m\u001b[0m\n\u001b[0;32m-> 3261\u001b[0;31m         \u001b[0mret\u001b[0m \u001b[0;34m=\u001b[0m \u001b[0max\u001b[0m\u001b[0;34m.\u001b[0m\u001b[0mplot\u001b[0m\u001b[0;34m(\u001b[0m\u001b[0;34m*\u001b[0m\u001b[0margs\u001b[0m\u001b[0;34m,\u001b[0m \u001b[0;34m**\u001b[0m\u001b[0mkwargs\u001b[0m\u001b[0;34m)\u001b[0m\u001b[0;34m\u001b[0m\u001b[0m\n\u001b[0m\u001b[1;32m   3262\u001b[0m     \u001b[0;32mfinally\u001b[0m\u001b[0;34m:\u001b[0m\u001b[0;34m\u001b[0m\u001b[0m\n\u001b[1;32m   3263\u001b[0m         \u001b[0max\u001b[0m\u001b[0;34m.\u001b[0m\u001b[0m_hold\u001b[0m \u001b[0;34m=\u001b[0m \u001b[0mwashold\u001b[0m\u001b[0;34m\u001b[0m\u001b[0m\n",
      "\u001b[0;32m~/.local/lib/python3.5/site-packages/matplotlib/__init__.py\u001b[0m in \u001b[0;36minner\u001b[0;34m(ax, *args, **kwargs)\u001b[0m\n\u001b[1;32m   1715\u001b[0m                     warnings.warn(msg % (label_namer, func.__name__),\n\u001b[1;32m   1716\u001b[0m                                   RuntimeWarning, stacklevel=2)\n\u001b[0;32m-> 1717\u001b[0;31m             \u001b[0;32mreturn\u001b[0m \u001b[0mfunc\u001b[0m\u001b[0;34m(\u001b[0m\u001b[0max\u001b[0m\u001b[0;34m,\u001b[0m \u001b[0;34m*\u001b[0m\u001b[0margs\u001b[0m\u001b[0;34m,\u001b[0m \u001b[0;34m**\u001b[0m\u001b[0mkwargs\u001b[0m\u001b[0;34m)\u001b[0m\u001b[0;34m\u001b[0m\u001b[0m\n\u001b[0m\u001b[1;32m   1718\u001b[0m         \u001b[0mpre_doc\u001b[0m \u001b[0;34m=\u001b[0m \u001b[0minner\u001b[0m\u001b[0;34m.\u001b[0m\u001b[0m__doc__\u001b[0m\u001b[0;34m\u001b[0m\u001b[0m\n\u001b[1;32m   1719\u001b[0m         \u001b[0;32mif\u001b[0m \u001b[0mpre_doc\u001b[0m \u001b[0;32mis\u001b[0m \u001b[0;32mNone\u001b[0m\u001b[0;34m:\u001b[0m\u001b[0;34m\u001b[0m\u001b[0m\n",
      "\u001b[0;32m~/.local/lib/python3.5/site-packages/matplotlib/axes/_axes.py\u001b[0m in \u001b[0;36mplot\u001b[0;34m(self, *args, **kwargs)\u001b[0m\n\u001b[1;32m   1370\u001b[0m         \u001b[0mkwargs\u001b[0m \u001b[0;34m=\u001b[0m \u001b[0mcbook\u001b[0m\u001b[0;34m.\u001b[0m\u001b[0mnormalize_kwargs\u001b[0m\u001b[0;34m(\u001b[0m\u001b[0mkwargs\u001b[0m\u001b[0;34m,\u001b[0m \u001b[0m_alias_map\u001b[0m\u001b[0;34m)\u001b[0m\u001b[0;34m\u001b[0m\u001b[0m\n\u001b[1;32m   1371\u001b[0m \u001b[0;34m\u001b[0m\u001b[0m\n\u001b[0;32m-> 1372\u001b[0;31m         \u001b[0;32mfor\u001b[0m \u001b[0mline\u001b[0m \u001b[0;32min\u001b[0m \u001b[0mself\u001b[0m\u001b[0;34m.\u001b[0m\u001b[0m_get_lines\u001b[0m\u001b[0;34m(\u001b[0m\u001b[0;34m*\u001b[0m\u001b[0margs\u001b[0m\u001b[0;34m,\u001b[0m \u001b[0;34m**\u001b[0m\u001b[0mkwargs\u001b[0m\u001b[0;34m)\u001b[0m\u001b[0;34m:\u001b[0m\u001b[0;34m\u001b[0m\u001b[0m\n\u001b[0m\u001b[1;32m   1373\u001b[0m             \u001b[0mself\u001b[0m\u001b[0;34m.\u001b[0m\u001b[0madd_line\u001b[0m\u001b[0;34m(\u001b[0m\u001b[0mline\u001b[0m\u001b[0;34m)\u001b[0m\u001b[0;34m\u001b[0m\u001b[0m\n\u001b[1;32m   1374\u001b[0m             \u001b[0mlines\u001b[0m\u001b[0;34m.\u001b[0m\u001b[0mappend\u001b[0m\u001b[0;34m(\u001b[0m\u001b[0mline\u001b[0m\u001b[0;34m)\u001b[0m\u001b[0;34m\u001b[0m\u001b[0m\n",
      "\u001b[0;32m~/.local/lib/python3.5/site-packages/matplotlib/axes/_base.py\u001b[0m in \u001b[0;36m_grab_next_args\u001b[0;34m(self, *args, **kwargs)\u001b[0m\n\u001b[1;32m    402\u001b[0m                 \u001b[0mthis\u001b[0m \u001b[0;34m+=\u001b[0m \u001b[0margs\u001b[0m\u001b[0;34m[\u001b[0m\u001b[0;36m0\u001b[0m\u001b[0;34m]\u001b[0m\u001b[0;34m,\u001b[0m\u001b[0;34m\u001b[0m\u001b[0m\n\u001b[1;32m    403\u001b[0m                 \u001b[0margs\u001b[0m \u001b[0;34m=\u001b[0m \u001b[0margs\u001b[0m\u001b[0;34m[\u001b[0m\u001b[0;36m1\u001b[0m\u001b[0;34m:\u001b[0m\u001b[0;34m]\u001b[0m\u001b[0;34m\u001b[0m\u001b[0m\n\u001b[0;32m--> 404\u001b[0;31m             \u001b[0;32mfor\u001b[0m \u001b[0mseg\u001b[0m \u001b[0;32min\u001b[0m \u001b[0mself\u001b[0m\u001b[0;34m.\u001b[0m\u001b[0m_plot_args\u001b[0m\u001b[0;34m(\u001b[0m\u001b[0mthis\u001b[0m\u001b[0;34m,\u001b[0m \u001b[0mkwargs\u001b[0m\u001b[0;34m)\u001b[0m\u001b[0;34m:\u001b[0m\u001b[0;34m\u001b[0m\u001b[0m\n\u001b[0m\u001b[1;32m    405\u001b[0m                 \u001b[0;32myield\u001b[0m \u001b[0mseg\u001b[0m\u001b[0;34m\u001b[0m\u001b[0m\n\u001b[1;32m    406\u001b[0m \u001b[0;34m\u001b[0m\u001b[0m\n",
      "\u001b[0;32m~/.local/lib/python3.5/site-packages/matplotlib/axes/_base.py\u001b[0m in \u001b[0;36m_plot_args\u001b[0;34m(self, tup, kwargs)\u001b[0m\n\u001b[1;32m    382\u001b[0m             \u001b[0mx\u001b[0m\u001b[0;34m,\u001b[0m \u001b[0my\u001b[0m \u001b[0;34m=\u001b[0m \u001b[0mindex_of\u001b[0m\u001b[0;34m(\u001b[0m\u001b[0mtup\u001b[0m\u001b[0;34m[\u001b[0m\u001b[0;34m-\u001b[0m\u001b[0;36m1\u001b[0m\u001b[0;34m]\u001b[0m\u001b[0;34m)\u001b[0m\u001b[0;34m\u001b[0m\u001b[0m\n\u001b[1;32m    383\u001b[0m \u001b[0;34m\u001b[0m\u001b[0m\n\u001b[0;32m--> 384\u001b[0;31m         \u001b[0mx\u001b[0m\u001b[0;34m,\u001b[0m \u001b[0my\u001b[0m \u001b[0;34m=\u001b[0m \u001b[0mself\u001b[0m\u001b[0;34m.\u001b[0m\u001b[0m_xy_from_xy\u001b[0m\u001b[0;34m(\u001b[0m\u001b[0mx\u001b[0m\u001b[0;34m,\u001b[0m \u001b[0my\u001b[0m\u001b[0;34m)\u001b[0m\u001b[0;34m\u001b[0m\u001b[0m\n\u001b[0m\u001b[1;32m    385\u001b[0m \u001b[0;34m\u001b[0m\u001b[0m\n\u001b[1;32m    386\u001b[0m         \u001b[0;32mif\u001b[0m \u001b[0mself\u001b[0m\u001b[0;34m.\u001b[0m\u001b[0mcommand\u001b[0m \u001b[0;34m==\u001b[0m \u001b[0;34m'plot'\u001b[0m\u001b[0;34m:\u001b[0m\u001b[0;34m\u001b[0m\u001b[0m\n",
      "\u001b[0;32m~/.local/lib/python3.5/site-packages/matplotlib/axes/_base.py\u001b[0m in \u001b[0;36m_xy_from_xy\u001b[0;34m(self, x, y)\u001b[0m\n\u001b[1;32m    241\u001b[0m         \u001b[0;32mif\u001b[0m \u001b[0mx\u001b[0m\u001b[0;34m.\u001b[0m\u001b[0mshape\u001b[0m\u001b[0;34m[\u001b[0m\u001b[0;36m0\u001b[0m\u001b[0;34m]\u001b[0m \u001b[0;34m!=\u001b[0m \u001b[0my\u001b[0m\u001b[0;34m.\u001b[0m\u001b[0mshape\u001b[0m\u001b[0;34m[\u001b[0m\u001b[0;36m0\u001b[0m\u001b[0;34m]\u001b[0m\u001b[0;34m:\u001b[0m\u001b[0;34m\u001b[0m\u001b[0m\n\u001b[1;32m    242\u001b[0m             raise ValueError(\"x and y must have same first dimension, but \"\n\u001b[0;32m--> 243\u001b[0;31m                              \"have shapes {} and {}\".format(x.shape, y.shape))\n\u001b[0m\u001b[1;32m    244\u001b[0m         \u001b[0;32mif\u001b[0m \u001b[0mx\u001b[0m\u001b[0;34m.\u001b[0m\u001b[0mndim\u001b[0m \u001b[0;34m>\u001b[0m \u001b[0;36m2\u001b[0m \u001b[0;32mor\u001b[0m \u001b[0my\u001b[0m\u001b[0;34m.\u001b[0m\u001b[0mndim\u001b[0m \u001b[0;34m>\u001b[0m \u001b[0;36m2\u001b[0m\u001b[0;34m:\u001b[0m\u001b[0;34m\u001b[0m\u001b[0m\n\u001b[1;32m    245\u001b[0m             raise ValueError(\"x and y can be no greater than 2-D, but have \"\n",
      "\u001b[0;31mValueError\u001b[0m: x and y must have same first dimension, but have shapes (10,) and (9,)"
     ]
    },
    {
     "data": {
      "image/png": "[encoded data removed]",
      "text/plain": [
       "<matplotlib.figure.Figure at 0x7fdaca8d3e10>"
      ]
     },
     "metadata": {},
     "output_type": "display_data"
    }
   ],
   "source": [
    "fig_width = 5\n",
    "fig, ax = plt.subplots(1, 1, figsize=(fig_width, fig_width/1.618))\n",
    "plt.plot(np.concatenate((np.zeros(1),target)), np.concatenate((np.zeros(1),peak_vel)),lw = 2)\n",
    "ax.set_ylim(-20, 600)\n",
    "\n",
    "ax.set_title('Main sequence diagram', fontsize = 12)\n",
    "ax.set_xlabel('Amplitude ($deg$)', fontsize=10)\n",
    "ax.set_ylabel(r'Peak velocity ($deg\\cdot s^{-1}$)', fontsize=10)"
   ]
  },
  {
   "cell_type": "code",
   "execution_count": 89,
   "metadata": {},
   "outputs": [
    {
     "ename": "NameError",
     "evalue": "name 'alpha' is not defined",
     "output_type": "error",
     "traceback": [
      "\u001b[0;31m---------------------------------------------------------------------------\u001b[0m",
      "\u001b[0;31mNameError\u001b[0m                                 Traceback (most recent call last)",
      "\u001b[0;32m<ipython-input-89-d046cd9b7ffb>\u001b[0m in \u001b[0;36m<module>\u001b[0;34m()\u001b[0m\n\u001b[0;32m----> 1\u001b[0;31m \u001b[0malpha\u001b[0m\u001b[0;34m\u001b[0m\u001b[0m\n\u001b[0m",
      "\u001b[0;31mNameError\u001b[0m: name 'alpha' is not defined"
     ]
    }
   ],
   "source": [
    "alpha"
   ]
  },
  {
   "cell_type": "code",
   "execution_count": 54,
   "metadata": {
    "collapsed": true
   },
   "outputs": [],
   "source": [
    "cost_p = np.zeros(niter+1)\n",
    "\n",
    "for i in np.arange(niter+1):\n",
    "    cost_p[i] = cost(a[i])"
   ]
  },
  {
   "cell_type": "code",
   "execution_count": 55,
   "metadata": {},
   "outputs": [
    {
     "data": {
      "text/plain": [
       "Text(0,0.5,'Cost')"
      ]
     },
     "execution_count": 55,
     "metadata": {},
     "output_type": "execute_result"
    },
    {
     "data": {
      "image/png": "[encoded data removed]",
      "text/plain": [
       "<matplotlib.figure.Figure at 0x7fae9a8c5780>"
      ]
     },
     "metadata": {},
     "output_type": "display_data"
    }
   ],
   "source": [
    "fig_width = 15\n",
    "fig, ax = plt.subplots(1, 1, figsize=(fig_width, fig_width/1.618))\n",
    "\n",
    "ax.plot(cost_p, '-', lw = 2)\n",
    "ax.set_title('Cost')\n",
    "ax.set_xlabel('Number of iterations', fontsize=14)\n",
    "ax.set_ylabel('Cost', fontsize=14)\n"
   ]
  },
  {
   "cell_type": "markdown",
   "metadata": {},
   "source": [
    "Finally, we trace the position at time T for each iteration."
   ]
  },
  {
   "cell_type": "code",
   "execution_count": 56,
   "metadata": {
    "collapsed": true
   },
   "outputs": [],
   "source": [
    "positionT = np.zeros(niter+1)\n",
    "\n",
    "for i in np.arange(niter+1):\n",
    "    positionT[i] = (expectation(a[i], T))[0]"
   ]
  },
  {
   "cell_type": "code",
   "execution_count": 57,
   "metadata": {
    "scrolled": false
   },
   "outputs": [
    {
     "data": {
      "text/plain": [
       "[<matplotlib.lines.Line2D at 0x7fae9ab27278>]"
      ]
     },
     "execution_count": 57,
     "metadata": {},
     "output_type": "execute_result"
    },
    {
     "data": {
      "image/png": "[encoded data removed]",
      "text/plain": [
       "<matplotlib.figure.Figure at 0x7fae9ab37a20>"
      ]
     },
     "metadata": {},
     "output_type": "display_data"
    }
   ],
   "source": [
    "fig_width = 15\n",
    "fig, ax = plt.subplots(1, 1, figsize=(fig_width, fig_width/1.618))\n",
    "\n",
    "ax.plot(positionT, '-', lw=2)\n",
    "ax.set_title('Position at time T')\n",
    "ax.set_xlabel('Number of iterations', fontsize=14)\n",
    "ax.set_ylabel('Position (deg)', fontsize=14)\n",
    "ax.plot([0,niter],[xT[0]+v*t_T ,xT[0]+v*t_T],'r--')\n"
   ]
  },
  {
   "cell_type": "code",
   "execution_count": 4,
   "metadata": {},
   "outputs": [
    {
     "ename": "NameError",
     "evalue": "name 'pos' is not defined",
     "output_type": "error",
     "traceback": [
      "\u001b[0;31m---------------------------------------------------------------------------\u001b[0m",
      "\u001b[0;31mNameError\u001b[0m                                 Traceback (most recent call last)",
      "\u001b[0;32m<ipython-input-4-9c565b236eb0>\u001b[0m in \u001b[0;36m<module>\u001b[0;34m()\u001b[0m\n\u001b[1;32m      5\u001b[0m \u001b[0mrecord\u001b[0m \u001b[0;34m=\u001b[0m \u001b[0mpd\u001b[0m\u001b[0;34m.\u001b[0m\u001b[0mDataFrame\u001b[0m\u001b[0;34m(\u001b[0m\u001b[0;34m)\u001b[0m\u001b[0;34m\u001b[0m\u001b[0m\n\u001b[1;32m      6\u001b[0m \u001b[0;32mfor\u001b[0m \u001b[0mi\u001b[0m \u001b[0;32min\u001b[0m \u001b[0mnp\u001b[0m\u001b[0;34m.\u001b[0m\u001b[0marange\u001b[0m\u001b[0;34m(\u001b[0m\u001b[0;36m8\u001b[0m\u001b[0;34m)\u001b[0m\u001b[0;34m:\u001b[0m\u001b[0;34m\u001b[0m\u001b[0m\n\u001b[0;32m----> 7\u001b[0;31m     \u001b[0mrecord_one\u001b[0m \u001b[0;34m=\u001b[0m \u001b[0mpd\u001b[0m\u001b[0;34m.\u001b[0m\u001b[0mDataFrame\u001b[0m\u001b[0;34m(\u001b[0m\u001b[0;34m[\u001b[0m\u001b[0;34m{\u001b[0m\u001b[0;34m'position'\u001b[0m\u001b[0;34m:\u001b[0m\u001b[0mpos\u001b[0m\u001b[0;34m[\u001b[0m\u001b[0mi\u001b[0m\u001b[0;34m,\u001b[0m\u001b[0;34m:\u001b[0m\u001b[0;34m]\u001b[0m\u001b[0;34m,\u001b[0m\u001b[0;34m'velocity'\u001b[0m\u001b[0;34m:\u001b[0m\u001b[0mvel\u001b[0m\u001b[0;34m[\u001b[0m\u001b[0mi\u001b[0m\u001b[0;34m,\u001b[0m\u001b[0;34m:\u001b[0m\u001b[0;34m]\u001b[0m\u001b[0;34m}\u001b[0m\u001b[0;34m]\u001b[0m\u001b[0;34m,\u001b[0m\u001b[0mindex\u001b[0m\u001b[0;34m=\u001b[0m\u001b[0;34m[\u001b[0m\u001b[0mi\u001b[0m\u001b[0;34m]\u001b[0m\u001b[0;34m)\u001b[0m\u001b[0;34m\u001b[0m\u001b[0m\n\u001b[0m\u001b[1;32m      8\u001b[0m     \u001b[0mrecord\u001b[0m \u001b[0;34m=\u001b[0m \u001b[0mpd\u001b[0m\u001b[0;34m.\u001b[0m\u001b[0mconcat\u001b[0m\u001b[0;34m(\u001b[0m\u001b[0;34m[\u001b[0m\u001b[0mrecord\u001b[0m\u001b[0;34m,\u001b[0m \u001b[0mrecord_one\u001b[0m\u001b[0;34m]\u001b[0m\u001b[0;34m)\u001b[0m\u001b[0;34m\u001b[0m\u001b[0m\n\u001b[1;32m      9\u001b[0m \u001b[0mrecord\u001b[0m\u001b[0;34m.\u001b[0m\u001b[0mto_pickle\u001b[0m\u001b[0;34m(\u001b[0m\u001b[0;34m'/media/ana/Doc & softwares/Users/Lessons/Master Marseille/M2 (2017-2018)/Internship M2a/OptimalPrecision/DataRecording'\u001b[0m \u001b[0;34m+\u001b[0m \u001b[0;34m'HarrisWolpertPursuit_dt=0.001_tau=0.013_data_for_main_sequence.pkl'\u001b[0m\u001b[0;34m)\u001b[0m\u001b[0;34m\u001b[0m\u001b[0m\n",
      "\u001b[0;31mNameError\u001b[0m: name 'pos' is not defined"
     ]
    }
   ],
   "source": [
    "import numpy as np\n",
    "\n",
    "import pickle\n",
    "import pandas as pd\n",
    "record = pd.DataFrame()\n",
    "for i in np.arange(8):\n",
    "    record_one = pd.DataFrame([{'position':pos[i,:],'velocity':vel[i,:]}],index=[i])\n",
    "    record = pd.concat([record, record_one])\n",
    "record.to_pickle('/media/ana/Doc & softwares/Users/Lessons/Master Marseille/M2 (2017-2018)/Internship M2a/OptimalPrecision/DataRecording' + 'HarrisWolpertPursuit_dt=0.001_tau=0.013_data_for_main_sequence.pkl')"
   ]
  },
  {
   "cell_type": "code",
   "execution_count": null,
   "metadata": {
    "collapsed": true
   },
   "outputs": [],
   "source": [
    "import pickle\n",
    "import pandas as pd\n",
    "record = pd.read_pickle('/media/ana/Doc & softwares/Users/Lessons/Master Marseille/M2 (2017-2018)/Internship M2a/OptimalPrecision/DataRecording' + 'HarrisWolpertPursuit_dt=0.002_beta=100_m=1_cosinus.pkl')"
   ]
  },
  {
   "cell_type": "code",
   "execution_count": null,
   "metadata": {
    "collapsed": true
   },
   "outputs": [],
   "source": [
    "len(record_velocity[500])"
   ]
  },
  {
   "cell_type": "code",
   "execution_count": null,
   "metadata": {
    "collapsed": true
   },
   "outputs": [],
   "source": [
    "plot_signal(record_signal, 500, 10000, 0.1, 1.9, 0.002)"
   ]
  },
  {
   "cell_type": "code",
   "execution_count": null,
   "metadata": {
    "collapsed": true,
    "scrolled": false
   },
   "outputs": [],
   "source": [
    "plot_position(record_position, 500, 10000, 0.1, 1.9, 0.002)\n"
   ]
  },
  {
   "cell_type": "code",
   "execution_count": null,
   "metadata": {
    "collapsed": true,
    "scrolled": false
   },
   "outputs": [],
   "source": [
    "plot_velocity(record_velocity, 500, 10000, 0.1, 1.9, 0.002)\n"
   ]
  }
 ],
 "metadata": {
  "kernelspec": {
   "display_name": "Python 3",
   "language": "python",
   "name": "python3"
  },
  "language_info": {
   "codemirror_mode": {
    "name": "ipython",
    "version": 3
   },
   "file_extension": ".py",
   "mimetype": "text/x-python",
   "name": "python",
   "nbconvert_exporter": "python",
   "pygments_lexer": "ipython3",
   "version": "3.5.2"
  },
  "toc": {
   "colors": {
    "hover_highlight": "#DAA520",
    "navigate_num": "#000000",
    "navigate_text": "#333333",
    "running_highlight": "#FF0000",
    "selected_highlight": "#FFD700",
    "sidebar_border": "#EEEEEE",
    "wrapper_background": "#FFFFFF"
   },
   "moveMenuLeft": true,
   "nav_menu": {
    "height": "102px",
    "width": "252px"
   },
   "navigate_menu": true,
   "number_sections": true,
   "sideBar": true,
   "threshold": 4,
   "toc_cell": false,
   "toc_section_display": "block",
   "toc_window_display": false,
   "widenNotebook": false
  }
 },
 "nbformat": 4,
 "nbformat_minor": 2
}
