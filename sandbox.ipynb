{
 "cells": [
  {
   "cell_type": "code",
   "execution_count": 1,
   "metadata": {
    "collapsed": true
   },
   "outputs": [],
   "source": [
    "import numpy as np\n",
    "import numpy.random as alea\n",
    "import matplotlib.pyplot as plt\n",
    "%matplotlib inline"
   ]
  },
  {
   "cell_type": "code",
   "execution_count": 2,
   "metadata": {},
   "outputs": [
    {
     "data": {
      "text/plain": [
       "0.96002857102452199"
      ]
     },
     "execution_count": 2,
     "metadata": {},
     "output_type": "execute_result"
    }
   ],
   "source": [
    "55*np.tan(1*3.1415926535/180)"
   ]
  },
  {
   "cell_type": "code",
   "execution_count": 10,
   "metadata": {},
   "outputs": [
    {
     "data": {
      "text/plain": [
       "0.5000679685454903"
      ]
     },
     "execution_count": 10,
     "metadata": {},
     "output_type": "execute_result"
    }
   ],
   "source": [
    "(164/165)**114"
   ]
  },
  {
   "cell_type": "code",
   "execution_count": 3,
   "metadata": {
    "collapsed": true
   },
   "outputs": [],
   "source": [
    "x = np.linspace(0,0.1,100)\n",
    "\n",
    "y = x*x+(30/0.1-0.1)*x+10"
   ]
  },
  {
   "cell_type": "code",
   "execution_count": 4,
   "metadata": {},
   "outputs": [
    {
     "data": {
      "text/plain": [
       "[<matplotlib.lines.Line2D at 0x7f4e890b7ac8>]"
      ]
     },
     "execution_count": 4,
     "metadata": {},
     "output_type": "execute_result"
    },
    {
     "data": {
      "image/png": "[encoded data removed]",
      "text/plain": [
       "<matplotlib.figure.Figure at 0x7f4e890b7978>"
      ]
     },
     "metadata": {},
     "output_type": "display_data"
    }
   ],
   "source": [
    "plt.plot(x,y)\n",
    "plt.plot(x,np.zeros(100))"
   ]
  },
  {
   "cell_type": "code",
   "execution_count": 5,
   "metadata": {
    "collapsed": true
   },
   "outputs": [],
   "source": [
    "T = None"
   ]
  },
  {
   "cell_type": "code",
   "execution_count": 6,
   "metadata": {
    "collapsed": true
   },
   "outputs": [],
   "source": [
    "T = 7"
   ]
  },
  {
   "cell_type": "code",
   "execution_count": 7,
   "metadata": {},
   "outputs": [
    {
     "data": {
      "text/plain": [
       "7"
      ]
     },
     "execution_count": 7,
     "metadata": {},
     "output_type": "execute_result"
    }
   ],
   "source": [
    "T"
   ]
  },
  {
   "cell_type": "code",
   "execution_count": 8,
   "metadata": {},
   "outputs": [
    {
     "data": {
      "text/plain": [
       "0.11163000000000001"
      ]
     },
     "execution_count": 8,
     "metadata": {},
     "output_type": "execute_result"
    }
   ],
   "source": [
    "(0.02468+0.001739*50)"
   ]
  },
  {
   "cell_type": "code",
   "execution_count": 9,
   "metadata": {},
   "outputs": [
    {
     "data": {
      "text/plain": [
       "10994.6666592"
      ]
     },
     "execution_count": 9,
     "metadata": {},
     "output_type": "execute_result"
    }
   ],
   "source": [
    "224*49.0833333"
   ]
  },
  {
   "cell_type": "code",
   "execution_count": 10,
   "metadata": {},
   "outputs": [
    {
     "data": {
      "text/plain": [
       "[<matplotlib.lines.Line2D at 0x7f4e88d3fcc0>]"
      ]
     },
     "execution_count": 10,
     "metadata": {},
     "output_type": "execute_result"
    },
    {
     "data": {
      "image/png": "[encoded data removed]",
      "text/plain": [
       "<matplotlib.figure.Figure at 0x7f4e890cfac8>"
      ]
     },
     "metadata": {},
     "output_type": "display_data"
    }
   ],
   "source": [
    "tic = np.linspace(0,100,100)/100*np.linspace(0,100,100)/100*np.exp(np.linspace(0,100,100)/100)\n",
    "plt.plot(tic)"
   ]
  },
  {
   "cell_type": "code",
   "execution_count": 11,
   "metadata": {},
   "outputs": [
    {
     "ename": "NameError",
     "evalue": "name 'ss' is not defined",
     "output_type": "error",
     "traceback": [
      "\u001b[0;31m---------------------------------------------------------------------------\u001b[0m",
      "\u001b[0;31mNameError\u001b[0m                                 Traceback (most recent call last)",
      "\u001b[0;32m<ipython-input-11-a543b9622f7b>\u001b[0m in \u001b[0;36m<module>\u001b[0;34m()\u001b[0m\n\u001b[0;32m----> 1\u001b[0;31m \u001b[0mss\u001b[0m\u001b[0;34m\u001b[0m\u001b[0m\n\u001b[0m",
      "\u001b[0;31mNameError\u001b[0m: name 'ss' is not defined"
     ]
    }
   ],
   "source": [
    "ss"
   ]
  },
  {
   "cell_type": "code",
   "execution_count": null,
   "metadata": {
    "collapsed": true
   },
   "outputs": [],
   "source": [
    "281*40/12.5/60"
   ]
  },
  {
   "cell_type": "code",
   "execution_count": null,
   "metadata": {
    "collapsed": true
   },
   "outputs": [],
   "source": [
    "int((alea.randint(0,2)-0.5)*2)"
   ]
  },
  {
   "cell_type": "code",
   "execution_count": 12,
   "metadata": {},
   "outputs": [
    {
     "data": {
      "text/plain": [
       "<matplotlib.patches.FancyArrow at 0x7f4e88ca7c50>"
      ]
     },
     "execution_count": 12,
     "metadata": {},
     "output_type": "execute_result"
    },
    {
     "data": {
      "image/png": "[encoded data removed]",
      "text/plain": [
       "<matplotlib.figure.Figure at 0x7f4eac271eb8>"
      ]
     },
     "metadata": {},
     "output_type": "display_data"
    }
   ],
   "source": [
    "plt.arrow(10, 20, 1, 2)"
   ]
  },
  {
   "cell_type": "code",
   "execution_count": 13,
   "metadata": {},
   "outputs": [
    {
     "data": {
      "text/plain": [
       "array([ 1,  1,  1, -1,  1,  1,  1,  1,  1,  1,  1,  1,  1,  1,  1, -1,  1,\n",
       "       -1,  1, -1,  1, -1,  1,  1,  1, -1, -1, -1,  1, -1, -1, -1, -1, -1,\n",
       "        1,  1, -1, -1,  1,  1,  1, -1,  1,  1,  1, -1,  1,  1,  1, -1, -1,\n",
       "        1, -1,  1,  1,  1, -1,  1,  1, -1,  1,  1,  1,  1,  1,  1,  1, -1,\n",
       "        1, -1, -1, -1,  1, -1, -1,  1,  1, -1,  1, -1,  1,  1,  1,  1, -1,\n",
       "        1,  1,  1, -1,  1, -1,  1, -1,  1,  1,  1,  1, -1,  1,  1])"
      ]
     },
     "execution_count": 13,
     "metadata": {},
     "output_type": "execute_result"
    }
   ],
   "source": [
    "(2*(alea.binomial(1,0.6,100)-0.5)).astype(int)"
   ]
  },
  {
   "cell_type": "code",
   "execution_count": 14,
   "metadata": {
    "scrolled": true
   },
   "outputs": [
    {
     "data": {
      "text/plain": [
       "2002656"
      ]
     },
     "execution_count": 14,
     "metadata": {},
     "output_type": "execute_result"
    }
   ],
   "source": [
    "((2*(alea.binomial(1,0.6,10000000)-0.5)).astype(int)).sum()"
   ]
  },
  {
   "cell_type": "code",
   "execution_count": 2,
   "metadata": {
    "scrolled": true
   },
   "outputs": [
    {
     "data": {
      "text/plain": [
       "11.390625"
      ]
     },
     "execution_count": 2,
     "metadata": {},
     "output_type": "execute_result"
    }
   ],
   "source": [
    "1.5*1.5*1.5*1.5*1.5*1.5"
   ]
  },
  {
   "cell_type": "code",
   "execution_count": 16,
   "metadata": {
    "collapsed": true
   },
   "outputs": [],
   "source": [
    "x = np.array([0, 7, 14, 21, 28, 52, 59, 64, 71, 74, 78, 85, 99, 106, 120, 127, 134])\n",
    "y = np.array([123.6, 121.9, 122.7, 122.3, 121.8, 120.9, 120.9, 120.4, 120., 119.5, 119.9, 119.6, 119.2, 119.1, 118.8, 117.7, 117.3])-123.6"
   ]
  },
  {
   "cell_type": "code",
   "execution_count": 17,
   "metadata": {
    "collapsed": true
   },
   "outputs": [],
   "source": [
    "alpha = (x*y).sum()/((x**2).sum())"
   ]
  },
  {
   "cell_type": "code",
   "execution_count": 21,
   "metadata": {},
   "outputs": [
    {
     "data": {
      "text/plain": [
       "-0.046398157927287541"
      ]
     },
     "execution_count": 21,
     "metadata": {},
     "output_type": "execute_result"
    }
   ],
   "source": [
    "alpha"
   ]
  },
  {
   "cell_type": "code",
   "execution_count": 19,
   "metadata": {},
   "outputs": [
    {
     "data": {
      "text/plain": [
       "[<matplotlib.lines.Line2D at 0x7f4e88d00da0>]"
      ]
     },
     "execution_count": 19,
     "metadata": {},
     "output_type": "execute_result"
    },
    {
     "data": {
      "image/png": "[encoded data removed]",
      "text/plain": [
       "<matplotlib.figure.Figure at 0x7f4e88d00550>"
      ]
     },
     "metadata": {},
     "output_type": "display_data"
    }
   ],
   "source": [
    "plt.plot(x,y)\n",
    "plt.plot([0,133],[0,alpha*133])"
   ]
  },
  {
   "cell_type": "code",
   "execution_count": 125,
   "metadata": {},
   "outputs": [
    {
     "data": {
      "text/plain": [
       "0.0017500000000000003"
      ]
     },
     "execution_count": 125,
     "metadata": {},
     "output_type": "execute_result"
    }
   ],
   "source": [
    "(0.1-0.03)/40"
   ]
  },
  {
   "cell_type": "code",
   "execution_count": 36,
   "metadata": {},
   "outputs": [
    {
     "data": {
      "text/plain": [
       "[<matplotlib.lines.Line2D at 0x7fcdaa8d9240>]"
      ]
     },
     "execution_count": 36,
     "metadata": {},
     "output_type": "execute_result"
    },
    {
     "data": {
      "image/png": "[encoded data removed]",
      "text/plain": [
       "<matplotlib.figure.Figure at 0x7fcdaa952940>"
      ]
     },
     "metadata": {},
     "output_type": "display_data"
    }
   ],
   "source": [
    "A = np.array([5,10,15,20,25,30,35,40])\n",
    "T = np.array([0.03,0.039,0.066,0.074,0.1])\n",
    "PV = np.array([0,340,540,650,730,780])\n",
    "A2 = np.array([0,5,10,15,20,25])\n",
    "\n",
    "plt.plot(np.sqrt(A2),PV)"
   ]
  },
  {
   "cell_type": "code",
   "execution_count": 33,
   "metadata": {
    "scrolled": true
   },
   "outputs": [
    {
     "ename": "NameError",
     "evalue": "name 'rnd' is not defined",
     "output_type": "error",
     "traceback": [
      "\u001b[0;31m---------------------------------------------------------------------------\u001b[0m",
      "\u001b[0;31mNameError\u001b[0m                                 Traceback (most recent call last)",
      "\u001b[0;32m<ipython-input-33-ed146530c433>\u001b[0m in \u001b[0;36m<module>\u001b[0;34m()\u001b[0m\n\u001b[0;32m----> 1\u001b[0;31m \u001b[0mrnd\u001b[0m\u001b[0;34m(\u001b[0m\u001b[0;36m0\u001b[0m\u001b[0;34m,\u001b[0m\u001b[0;36m1\u001b[0m\u001b[0;34m)\u001b[0m\u001b[0;34m\u001b[0m\u001b[0m\n\u001b[0m",
      "\u001b[0;31mNameError\u001b[0m: name 'rnd' is not defined"
     ]
    }
   ],
   "source": [
    "rnd(0,1)"
   ]
  },
  {
   "cell_type": "code",
   "execution_count": 30,
   "metadata": {},
   "outputs": [
    {
     "data": {
      "text/plain": [
       "array([[ 0.        ,  0.        ,  0.        ],\n",
       "       [ 0.11111111,  0.        ,  0.        ],\n",
       "       [ 0.22222222,  0.        ,  0.        ],\n",
       "       [ 0.33333333,  0.        ,  0.        ],\n",
       "       [ 0.44444444,  0.        ,  0.        ],\n",
       "       [ 0.55555556,  0.        ,  0.        ],\n",
       "       [ 0.66666667,  0.        ,  0.        ],\n",
       "       [ 0.77777778,  0.        ,  0.        ],\n",
       "       [ 0.88888889,  0.        ,  0.        ]])"
      ]
     },
     "execution_count": 30,
     "metadata": {},
     "output_type": "execute_result"
    }
   ],
   "source": [
    "color"
   ]
  },
  {
   "cell_type": "code",
   "execution_count": 18,
   "metadata": {},
   "outputs": [
    {
     "data": {
      "text/plain": [
       "132.66666666666666"
      ]
     },
     "execution_count": 18,
     "metadata": {},
     "output_type": "execute_result"
    }
   ],
   "source": [
    "99.5*1200/60/60*4"
   ]
  },
  {
   "cell_type": "code",
   "execution_count": 12,
   "metadata": {
    "collapsed": true,
    "scrolled": true
   },
   "outputs": [],
   "source": [
    "import pickle\n",
    "import pandas as pd\n",
    "record = pd.read_pickle('/home/baptiste/Documents/2017_OptimalPrecision/DataRecording/'+'HarrisWolpertPursuit_dt=0.001_beta=100_m=1'+'.pkl')\n"
   ]
  },
  {
   "cell_type": "code",
   "execution_count": 13,
   "metadata": {
    "scrolled": false
   },
   "outputs": [
    {
     "data": {
      "text/html": [
       "<div>\n",
       "<style>\n",
       "    .dataframe thead tr:only-child th {\n",
       "        text-align: right;\n",
       "    }\n",
       "\n",
       "    .dataframe thead th {\n",
       "        text-align: left;\n",
       "    }\n",
       "\n",
       "    .dataframe tbody tr th {\n",
       "        vertical-align: top;\n",
       "    }\n",
       "</style>\n",
       "<table border=\"1\" class=\"dataframe\">\n",
       "  <thead>\n",
       "    <tr style=\"text-align: right;\">\n",
       "      <th></th>\n",
       "      <th>position</th>\n",
       "      <th>signal</th>\n",
       "      <th>variance</th>\n",
       "      <th>velocity</th>\n",
       "    </tr>\n",
       "  </thead>\n",
       "  <tbody>\n",
       "    <tr>\n",
       "      <th>0</th>\n",
       "      <td>[0.0, 0.01455638, 0.05636313, 0.12282701, 0.21...</td>\n",
       "      <td>[30091.2221319, 30091.2221319, 30091.2221319, ...</td>\n",
       "      <td>[0.0, 0.0, 4.52740824697e-07, 2.08713520185e-0...</td>\n",
       "      <td>[0.0, 28.63558393, 54.54613175, 77.99096494, 9...</td>\n",
       "    </tr>\n",
       "    <tr>\n",
       "      <th>100000</th>\n",
       "      <td>[0.0, 0.0, 0.0307086371251, 0.0890445526368, 0...</td>\n",
       "      <td>[30708.6371251, 30698.142099, 30686.4788418, 3...</td>\n",
       "      <td>[0.0, 0.0, 4.71510197041e-07, 2.17333977548e-0...</td>\n",
       "      <td>[0.0, 30.7086371251, 58.3359155116, 83.1888028...</td>\n",
       "    </tr>\n",
       "    <tr>\n",
       "      <th>200000</th>\n",
       "      <td>[0.0, 0.0, 0.0316615353506, 0.0918007362518, 0...</td>\n",
       "      <td>[31661.5353506, 31643.8190857, 31624.1289807, ...</td>\n",
       "      <td>[0.0, 0.0, 5.01226410378e-07, 2.31009298463e-0...</td>\n",
       "      <td>[0.0, 31.6615353506, 60.1392009012, 85.7494097...</td>\n",
       "    </tr>\n",
       "    <tr>\n",
       "      <th>300000</th>\n",
       "      <td>[0.0, 0.0, 0.0322603502958, 0.0935329210669, 0...</td>\n",
       "      <td>[32260.3502958, 32238.2555049, 32213.6972067, ...</td>\n",
       "      <td>[0.0, 0.0, 5.20365100603e-07, 2.39817057218e-0...</td>\n",
       "      <td>[0.0, 32.2603502958, 61.2725707711, 87.3590109...</td>\n",
       "    </tr>\n",
       "    <tr>\n",
       "      <th>400000</th>\n",
       "      <td>[0.0, 0.0, 0.0326368040232, 0.0946219816944, 0...</td>\n",
       "      <td>[32636.8040232, 32612.0540504, 32584.5429055, ...</td>\n",
       "      <td>[0.0, 0.0, 5.32580488423e-07, 2.4543885979e-06...</td>\n",
       "      <td>[0.0, 32.6368040232, 61.9851776712, 88.3712028...</td>\n",
       "    </tr>\n",
       "    <tr>\n",
       "      <th>500000</th>\n",
       "      <td>[0.0, 0.0, 0.0328735539134, 0.0953069460663, 0...</td>\n",
       "      <td>[32873.5539134, 32847.1936308, 32817.891208, 3...</td>\n",
       "      <td>[0.0, 0.0, 5.40335273449e-07, 2.49007940186e-0...</td>\n",
       "      <td>[0.0, 32.8735539134, 62.4333921529, 89.0079441...</td>\n",
       "    </tr>\n",
       "    <tr>\n",
       "      <th>600000</th>\n",
       "      <td>[0.0, 0.0, 0.0330224941667, 0.0957378960785, 0...</td>\n",
       "      <td>[33022.4941667, 32995.1571617, 32964.7679837, ...</td>\n",
       "      <td>[0.0, 0.0, 5.45242560496e-07, 2.51266584145e-0...</td>\n",
       "      <td>[0.0, 33.0224941667, 62.7154019118, 89.4086297...</td>\n",
       "    </tr>\n",
       "    <tr>\n",
       "      <th>700000</th>\n",
       "      <td>[0.0, 0.0, 0.0331162205497, 0.096009110106, 0....</td>\n",
       "      <td>[33116.2205497, 33088.2910615, 33057.2424914, ...</td>\n",
       "      <td>[0.0, 0.0, 5.48342031749e-07, 2.5269322373e-06...</td>\n",
       "      <td>[0.0, 33.1162205497, 62.8928895563, 89.6608430...</td>\n",
       "    </tr>\n",
       "    <tr>\n",
       "      <th>800000</th>\n",
       "      <td>[0.0, 0.0, 0.033175216307, 0.0961798383678, 0....</td>\n",
       "      <td>[33175.216307, 33146.9273846, 33115.4786907, 3...</td>\n",
       "      <td>[0.0, 0.0, 5.50297488507e-07, 2.53593333103e-0...</td>\n",
       "      <td>[0.0, 33.175216307, 63.0046220608, 89.81963854...</td>\n",
       "    </tr>\n",
       "    <tr>\n",
       "      <th>900000</th>\n",
       "      <td>[0.0, 0.0, 0.0332123586032, 0.0962873329575, 0...</td>\n",
       "      <td>[33212.3586032, 33183.8516114, 33152.1601014, ...</td>\n",
       "      <td>[0.0, 0.0, 5.51530381995e-07, 2.54160868289e-0...</td>\n",
       "      <td>[0.0, 33.2123586032, 63.0749743543, 89.9196370...</td>\n",
       "    </tr>\n",
       "    <tr>\n",
       "      <th>1000000</th>\n",
       "      <td>[0.0, 0.0, 0.0332357460992, 0.0963550243853, 0...</td>\n",
       "      <td>[33235.7460992, 33207.1067968, 33175.2679252, ...</td>\n",
       "      <td>[0.0, 0.0, 5.52307409386e-07, 2.54518571879e-0...</td>\n",
       "      <td>[0.0, 33.2357460992, 63.1192782861, 89.9826183...</td>\n",
       "    </tr>\n",
       "    <tr>\n",
       "      <th>1100000</th>\n",
       "      <td>[0.0, 0.0, 0.0332504740241, 0.0963976550873, 0...</td>\n",
       "      <td>[33250.4740241, 33221.7544415, 33189.8261353, ...</td>\n",
       "      <td>[0.0, 0.0, 5.52797011413e-07, 2.54743969529e-0...</td>\n",
       "      <td>[0.0, 33.2504740241, 63.1471810632, 90.0222890...</td>\n",
       "    </tr>\n",
       "    <tr>\n",
       "      <th>1200000</th>\n",
       "      <td>[0.0, 0.0, 0.0332597490645, 0.0964245039938, 0...</td>\n",
       "      <td>[33259.7490645, 33230.9807714, 33198.9981866, ...</td>\n",
       "      <td>[0.0, 0.0, 5.53105453915e-07, 2.54885973015e-0...</td>\n",
       "      <td>[0.0, 33.2597490645, 63.1647549294, 90.0472776...</td>\n",
       "    </tr>\n",
       "    <tr>\n",
       "      <th>1300000</th>\n",
       "      <td>[0.0, 0.0, 0.0332655899339, 0.0964414129608, 0...</td>\n",
       "      <td>[33265.5899339, 33236.7920864, 33204.7765606, ...</td>\n",
       "      <td>[0.0, 0.0, 5.53299736826e-07, 2.54975422404e-0...</td>\n",
       "      <td>[0.0, 33.2655899339, 63.1758230269, 90.0630172...</td>\n",
       "    </tr>\n",
       "    <tr>\n",
       "      <th>1400000</th>\n",
       "      <td>[0.0, 0.0, 0.0332692677913, 0.0964520608167, 0...</td>\n",
       "      <td>[33269.2677913, 33240.4520133, 33208.4164977, ...</td>\n",
       "      <td>[0.0, 0.0, 5.53422089683e-07, 2.55031756878e-0...</td>\n",
       "      <td>[0.0, 33.2692677913, 63.1827930255, 90.0729302...</td>\n",
       "    </tr>\n",
       "    <tr>\n",
       "      <th>1500000</th>\n",
       "      <td>[0.0, 0.0, 0.0332715832288, 0.096458764709, 0....</td>\n",
       "      <td>[33271.5832288, 33242.7565742, 33210.7089294, ...</td>\n",
       "      <td>[0.0, 0.0, 5.53499125277e-07, 2.55067227457e-0...</td>\n",
       "      <td>[0.0, 33.2715832288, 63.1871814801, 90.0791722...</td>\n",
       "    </tr>\n",
       "    <tr>\n",
       "      <th>1600000</th>\n",
       "      <td>[0.0, 0.0, 0.0332730405449, 0.096462984329, 0....</td>\n",
       "      <td>[33273.0405449, 33244.2072936, 33212.1522907, ...</td>\n",
       "      <td>[0.0, 0.0, 5.53547613553e-07, 2.55089554422e-0...</td>\n",
       "      <td>[0.0, 33.2730405449, 63.1899437841, 90.0831016...</td>\n",
       "    </tr>\n",
       "    <tr>\n",
       "      <th>1700000</th>\n",
       "      <td>[0.0, 0.0, 0.0332739574296, 0.0964656392947, 0...</td>\n",
       "      <td>[33273.9574296, 33245.1201785, 33213.0607131, ...</td>\n",
       "      <td>[0.0, 0.0, 5.53578121512e-07, 2.5510360265e-06...</td>\n",
       "      <td>[0.0, 33.2739574296, 63.1916818651, 90.0855743...</td>\n",
       "    </tr>\n",
       "    <tr>\n",
       "      <th>1800000</th>\n",
       "      <td>[0.0, 0.0, 0.0332745340223, 0.0964673089893, 0...</td>\n",
       "      <td>[33274.5340223, 33245.694347, 33213.632176, 33...</td>\n",
       "      <td>[0.0, 0.0, 5.535973072e-07, 2.5511243753e-06, ...</td>\n",
       "      <td>[0.0, 33.2745340223, 63.192774967, 90.08712964...</td>\n",
       "    </tr>\n",
       "    <tr>\n",
       "      <th>1900000</th>\n",
       "      <td>[0.0, 0.0, 0.0332748964033, 0.0964683584254, 0...</td>\n",
       "      <td>[33274.8964033, 33246.0552592, 33213.9914489, ...</td>\n",
       "      <td>[0.0, 0.0, 5.53609365324e-07, 2.55117990397e-0...</td>\n",
       "      <td>[0.0, 33.2748964033, 63.1934620222, 90.0881072...</td>\n",
       "    </tr>\n",
       "    <tr>\n",
       "      <th>2000000</th>\n",
       "      <td>[0.0, 0.0, 0.0332751239894, 0.096469017536, 0....</td>\n",
       "      <td>[33275.1239894, 33246.2819561, 33214.2171529, ...</td>\n",
       "      <td>[0.0, 0.0, 5.53616938255e-07, 2.55121477905e-0...</td>\n",
       "      <td>[0.0, 33.2751239894, 63.1938935466, 90.0887213...</td>\n",
       "    </tr>\n",
       "  </tbody>\n",
       "</table>\n",
       "</div>"
      ],
      "text/plain": [
       "                                                  position  \\\n",
       "0        [0.0, 0.01455638, 0.05636313, 0.12282701, 0.21...   \n",
       "100000   [0.0, 0.0, 0.0307086371251, 0.0890445526368, 0...   \n",
       "200000   [0.0, 0.0, 0.0316615353506, 0.0918007362518, 0...   \n",
       "300000   [0.0, 0.0, 0.0322603502958, 0.0935329210669, 0...   \n",
       "400000   [0.0, 0.0, 0.0326368040232, 0.0946219816944, 0...   \n",
       "500000   [0.0, 0.0, 0.0328735539134, 0.0953069460663, 0...   \n",
       "600000   [0.0, 0.0, 0.0330224941667, 0.0957378960785, 0...   \n",
       "700000   [0.0, 0.0, 0.0331162205497, 0.096009110106, 0....   \n",
       "800000   [0.0, 0.0, 0.033175216307, 0.0961798383678, 0....   \n",
       "900000   [0.0, 0.0, 0.0332123586032, 0.0962873329575, 0...   \n",
       "1000000  [0.0, 0.0, 0.0332357460992, 0.0963550243853, 0...   \n",
       "1100000  [0.0, 0.0, 0.0332504740241, 0.0963976550873, 0...   \n",
       "1200000  [0.0, 0.0, 0.0332597490645, 0.0964245039938, 0...   \n",
       "1300000  [0.0, 0.0, 0.0332655899339, 0.0964414129608, 0...   \n",
       "1400000  [0.0, 0.0, 0.0332692677913, 0.0964520608167, 0...   \n",
       "1500000  [0.0, 0.0, 0.0332715832288, 0.096458764709, 0....   \n",
       "1600000  [0.0, 0.0, 0.0332730405449, 0.096462984329, 0....   \n",
       "1700000  [0.0, 0.0, 0.0332739574296, 0.0964656392947, 0...   \n",
       "1800000  [0.0, 0.0, 0.0332745340223, 0.0964673089893, 0...   \n",
       "1900000  [0.0, 0.0, 0.0332748964033, 0.0964683584254, 0...   \n",
       "2000000  [0.0, 0.0, 0.0332751239894, 0.096469017536, 0....   \n",
       "\n",
       "                                                    signal  \\\n",
       "0        [30091.2221319, 30091.2221319, 30091.2221319, ...   \n",
       "100000   [30708.6371251, 30698.142099, 30686.4788418, 3...   \n",
       "200000   [31661.5353506, 31643.8190857, 31624.1289807, ...   \n",
       "300000   [32260.3502958, 32238.2555049, 32213.6972067, ...   \n",
       "400000   [32636.8040232, 32612.0540504, 32584.5429055, ...   \n",
       "500000   [32873.5539134, 32847.1936308, 32817.891208, 3...   \n",
       "600000   [33022.4941667, 32995.1571617, 32964.7679837, ...   \n",
       "700000   [33116.2205497, 33088.2910615, 33057.2424914, ...   \n",
       "800000   [33175.216307, 33146.9273846, 33115.4786907, 3...   \n",
       "900000   [33212.3586032, 33183.8516114, 33152.1601014, ...   \n",
       "1000000  [33235.7460992, 33207.1067968, 33175.2679252, ...   \n",
       "1100000  [33250.4740241, 33221.7544415, 33189.8261353, ...   \n",
       "1200000  [33259.7490645, 33230.9807714, 33198.9981866, ...   \n",
       "1300000  [33265.5899339, 33236.7920864, 33204.7765606, ...   \n",
       "1400000  [33269.2677913, 33240.4520133, 33208.4164977, ...   \n",
       "1500000  [33271.5832288, 33242.7565742, 33210.7089294, ...   \n",
       "1600000  [33273.0405449, 33244.2072936, 33212.1522907, ...   \n",
       "1700000  [33273.9574296, 33245.1201785, 33213.0607131, ...   \n",
       "1800000  [33274.5340223, 33245.694347, 33213.632176, 33...   \n",
       "1900000  [33274.8964033, 33246.0552592, 33213.9914489, ...   \n",
       "2000000  [33275.1239894, 33246.2819561, 33214.2171529, ...   \n",
       "\n",
       "                                                  variance  \\\n",
       "0        [0.0, 0.0, 4.52740824697e-07, 2.08713520185e-0...   \n",
       "100000   [0.0, 0.0, 4.71510197041e-07, 2.17333977548e-0...   \n",
       "200000   [0.0, 0.0, 5.01226410378e-07, 2.31009298463e-0...   \n",
       "300000   [0.0, 0.0, 5.20365100603e-07, 2.39817057218e-0...   \n",
       "400000   [0.0, 0.0, 5.32580488423e-07, 2.4543885979e-06...   \n",
       "500000   [0.0, 0.0, 5.40335273449e-07, 2.49007940186e-0...   \n",
       "600000   [0.0, 0.0, 5.45242560496e-07, 2.51266584145e-0...   \n",
       "700000   [0.0, 0.0, 5.48342031749e-07, 2.5269322373e-06...   \n",
       "800000   [0.0, 0.0, 5.50297488507e-07, 2.53593333103e-0...   \n",
       "900000   [0.0, 0.0, 5.51530381995e-07, 2.54160868289e-0...   \n",
       "1000000  [0.0, 0.0, 5.52307409386e-07, 2.54518571879e-0...   \n",
       "1100000  [0.0, 0.0, 5.52797011413e-07, 2.54743969529e-0...   \n",
       "1200000  [0.0, 0.0, 5.53105453915e-07, 2.54885973015e-0...   \n",
       "1300000  [0.0, 0.0, 5.53299736826e-07, 2.54975422404e-0...   \n",
       "1400000  [0.0, 0.0, 5.53422089683e-07, 2.55031756878e-0...   \n",
       "1500000  [0.0, 0.0, 5.53499125277e-07, 2.55067227457e-0...   \n",
       "1600000  [0.0, 0.0, 5.53547613553e-07, 2.55089554422e-0...   \n",
       "1700000  [0.0, 0.0, 5.53578121512e-07, 2.5510360265e-06...   \n",
       "1800000  [0.0, 0.0, 5.535973072e-07, 2.5511243753e-06, ...   \n",
       "1900000  [0.0, 0.0, 5.53609365324e-07, 2.55117990397e-0...   \n",
       "2000000  [0.0, 0.0, 5.53616938255e-07, 2.55121477905e-0...   \n",
       "\n",
       "                                                  velocity  \n",
       "0        [0.0, 28.63558393, 54.54613175, 77.99096494, 9...  \n",
       "100000   [0.0, 30.7086371251, 58.3359155116, 83.1888028...  \n",
       "200000   [0.0, 31.6615353506, 60.1392009012, 85.7494097...  \n",
       "300000   [0.0, 32.2603502958, 61.2725707711, 87.3590109...  \n",
       "400000   [0.0, 32.6368040232, 61.9851776712, 88.3712028...  \n",
       "500000   [0.0, 32.8735539134, 62.4333921529, 89.0079441...  \n",
       "600000   [0.0, 33.0224941667, 62.7154019118, 89.4086297...  \n",
       "700000   [0.0, 33.1162205497, 62.8928895563, 89.6608430...  \n",
       "800000   [0.0, 33.175216307, 63.0046220608, 89.81963854...  \n",
       "900000   [0.0, 33.2123586032, 63.0749743543, 89.9196370...  \n",
       "1000000  [0.0, 33.2357460992, 63.1192782861, 89.9826183...  \n",
       "1100000  [0.0, 33.2504740241, 63.1471810632, 90.0222890...  \n",
       "1200000  [0.0, 33.2597490645, 63.1647549294, 90.0472776...  \n",
       "1300000  [0.0, 33.2655899339, 63.1758230269, 90.0630172...  \n",
       "1400000  [0.0, 33.2692677913, 63.1827930255, 90.0729302...  \n",
       "1500000  [0.0, 33.2715832288, 63.1871814801, 90.0791722...  \n",
       "1600000  [0.0, 33.2730405449, 63.1899437841, 90.0831016...  \n",
       "1700000  [0.0, 33.2739574296, 63.1916818651, 90.0855743...  \n",
       "1800000  [0.0, 33.2745340223, 63.192774967, 90.08712964...  \n",
       "1900000  [0.0, 33.2748964033, 63.1934620222, 90.0881072...  \n",
       "2000000  [0.0, 33.2751239894, 63.1938935466, 90.0887213...  "
      ]
     },
     "execution_count": 13,
     "metadata": {},
     "output_type": "execute_result"
    }
   ],
   "source": [
    "record"
   ]
  }
 ],
 "metadata": {
  "kernelspec": {
   "display_name": "Python 3",
   "language": "python",
   "name": "python3"
  },
  "language_info": {
   "codemirror_mode": {
    "name": "ipython",
    "version": 3
   },
   "file_extension": ".py",
   "mimetype": "text/x-python",
   "name": "python",
   "nbconvert_exporter": "python",
   "pygments_lexer": "ipython3",
   "version": "3.4.2"
  }
 },
 "nbformat": 4,
 "nbformat_minor": 2
}
