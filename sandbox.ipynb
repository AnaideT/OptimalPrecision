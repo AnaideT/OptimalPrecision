{
 "cells": [
  {
   "cell_type": "code",
   "execution_count": 7,
   "metadata": {
    "collapsed": true
   },
   "outputs": [],
   "source": [
    "import numpy as np\n",
    "import matplotlib.pyplot as plt\n",
    "%matplotlib inline"
   ]
  },
  {
   "cell_type": "code",
   "execution_count": 2,
   "metadata": {},
   "outputs": [
    {
     "data": {
      "text/plain": [
       "[<matplotlib.lines.Line2D at 0x56ec098080>]"
      ]
     },
     "execution_count": 2,
     "metadata": {},
     "output_type": "execute_result"
    },
    {
     "data": {
      "image/png": "[encoded data removed]",
      "text/plain": [
       "<matplotlib.figure.Figure at 0x56ebc7dcc0>"
      ]
     },
     "metadata": {},
     "output_type": "display_data"
    }
   ],
   "source": [
    "plt.plot(np.random.rand(15))"
   ]
  },
  {
   "cell_type": "code",
   "execution_count": 3,
   "metadata": {
    "collapsed": true
   },
   "outputs": [],
   "source": [
    "# voir PEP 8\n",
    "x = np.arange(30)\n",
    "vitesse = 1-np.exp(-x/2)\n",
    "position = x-2*(1-np.exp(-x/2))"
   ]
  },
  {
   "cell_type": "code",
   "execution_count": 4,
   "metadata": {
    "collapsed": true
   },
   "outputs": [],
   "source": [
    "y = np.zeros(30)\n",
    "z = np.zeros(30)"
   ]
  },
  {
   "cell_type": "code",
   "execution_count": 5,
   "metadata": {
    "collapsed": true
   },
   "outputs": [],
   "source": [
    "for j in np.arange(0, 12):\n",
    "    y[8+j]=15*vitesse[j]"
   ]
  },
  {
   "cell_type": "code",
   "execution_count": 6,
   "metadata": {
    "collapsed": true
   },
   "outputs": [],
   "source": [
    "for j in np.arange(0, 14):\n",
    "    z[8+j]=position[j]"
   ]
  },
  {
   "cell_type": "code",
   "execution_count": 7,
   "metadata": {},
   "outputs": [
    {
     "data": {
      "image/png": "[encoded data removed]",
      "text/plain": [
       "<matplotlib.figure.Figure at 0x56ebcbc8d0>"
      ]
     },
     "metadata": {},
     "output_type": "display_data"
    }
   ],
   "source": [
    "\n",
    "\n",
    "plt.plot(x, y)\n",
    "\n",
    "z[21:30]=z[20]\n",
    "        \n",
    "plt.plot(x, z)\n",
    "\n",
    "xx = [20,20]\n",
    "yx = [18,-2]\n",
    "\n",
    "plt.plot(xx, yx, \"--\", label=\"ligne --\")\n",
    "\n",
    "\n",
    "\n",
    "plt.show() # affiche la figure a l'ecran"
   ]
  },
  {
   "cell_type": "code",
   "execution_count": 138,
   "metadata": {
    "collapsed": true
   },
   "outputs": [],
   "source": [
    "R = 25"
   ]
  },
  {
   "cell_type": "code",
   "execution_count": 139,
   "metadata": {
    "collapsed": true
   },
   "outputs": [],
   "source": [
    "T = 25"
   ]
  },
  {
   "cell_type": "code",
   "execution_count": 10,
   "metadata": {
    "collapsed": true
   },
   "outputs": [],
   "source": [
    "def power(A,n):\n",
    "    if n==0:\n",
    "        return(np.eye(int(np.sqrt(np.size(A)))));\n",
    "    else:\n",
    "        return(A.dot(power(A,n-1)));\n"
   ]
  },
  {
   "cell_type": "code",
   "execution_count": 11,
   "metadata": {
    "collapsed": true
   },
   "outputs": [],
   "source": [
    "def expectation(A,B,x0,u,t):\n",
    "    somme =  power(A,t).dot(x0)\n",
    "    for i in np.arange(t):\n",
    "        mat = power(A,t-i-1).dot(B)\n",
    "        somme = somme + mat*u[i]\n",
    "    return somme"
   ]
  },
  {
   "cell_type": "code",
   "execution_count": 12,
   "metadata": {
    "collapsed": true
   },
   "outputs": [],
   "source": [
    "def variance(A,B,k,u,t):\n",
    "    somme = 0.\n",
    "    for i in np.arange(t):\n",
    "        ci0 = (power(A,t-i-1).dot(B))[0]\n",
    "        somme = somme + k*ci0**2*u[i]**2\n",
    "    return somme"
   ]
  },
  {
   "cell_type": "code",
   "execution_count": 13,
   "metadata": {
    "collapsed": true
   },
   "outputs": [],
   "source": [
    "def bias(A,B,x0,u,t,xT):\n",
    "    mean = expectation(A,B,x0,u,t)\n",
    "    somme = (mean[0]-xT[0])**2\n",
    "    return somme"
   ]
  },
  {
   "cell_type": "code",
   "execution_count": 14,
   "metadata": {
    "collapsed": true
   },
   "outputs": [],
   "source": [
    "def cost(A,B,k,x0,u,xT):\n",
    "    somme = 0\n",
    "    for t in np.arange(R):\n",
    "        var = variance(A,B,k,u,t+T)\n",
    "        bia = bias(A,B,x0,u,t+T,xT)\n",
    "        somme = somme + var + bia\n",
    "    return somme"
   ]
  },
  {
   "cell_type": "code",
   "execution_count": 15,
   "metadata": {
    "collapsed": true
   },
   "outputs": [],
   "source": [
    "def costder(A,B,k,x0,u,xT,i):\n",
    "    ci0_2 = 0;\n",
    "    for t in np.arange(R):\n",
    "        if i < T:\n",
    "            ci0_2 = ci0_2 + ((power(A,T+t-i-1).dot(B))[0])**2\n",
    "    somme = 2*ci0_2*k*R\n",
    "    for t in np.arange(R):\n",
    "        if i < T:\n",
    "            ci0 = (power(A,t+T-i-1).dot(B))[0]\n",
    "            somme = somme + 2*ci0*((expectation(A,B,x0,u,t+T))[0]-xT[0])\n",
    "    return somme;"
   ]
  },
  {
   "cell_type": "code",
   "execution_count": 127,
   "metadata": {
    "collapsed": true
   },
   "outputs": [],
   "source": [
    "beta = 100"
   ]
  },
  {
   "cell_type": "code",
   "execution_count": 128,
   "metadata": {
    "collapsed": true
   },
   "outputs": [],
   "source": [
    "m = 1"
   ]
  },
  {
   "cell_type": "code",
   "execution_count": 130,
   "metadata": {
    "collapsed": true
   },
   "outputs": [],
   "source": [
    "A = np.array([[1.,1.],[0.,1-beta/m]])*0.001"
   ]
  },
  {
   "cell_type": "code",
   "execution_count": 149,
   "metadata": {
    "collapsed": true
   },
   "outputs": [],
   "source": [
    "A = np.array([[0,1],[9.26*0.092**2,0]])"
   ]
  },
  {
   "cell_type": "code",
   "execution_count": 150,
   "metadata": {},
   "outputs": [
    {
     "data": {
      "text/plain": [
       "array([[ 0.        ,  1.        ],\n",
       "       [ 0.07837664,  0.        ]])"
      ]
     },
     "execution_count": 150,
     "metadata": {},
     "output_type": "execute_result"
    }
   ],
   "source": [
    "A"
   ]
  },
  {
   "cell_type": "code",
   "execution_count": 131,
   "metadata": {
    "collapsed": true
   },
   "outputs": [],
   "source": [
    "B = np.array([0.,1/m])*0.001"
   ]
  },
  {
   "cell_type": "code",
   "execution_count": 151,
   "metadata": {
    "collapsed": true
   },
   "outputs": [],
   "source": [
    "B = np.array([0,1])"
   ]
  },
  {
   "cell_type": "code",
   "execution_count": 20,
   "metadata": {
    "collapsed": true
   },
   "outputs": [],
   "source": [
    "x0 = np.array([0.,0.])"
   ]
  },
  {
   "cell_type": "code",
   "execution_count": 21,
   "metadata": {
    "collapsed": true
   },
   "outputs": [],
   "source": [
    "xT = np.array([10.,0.])"
   ]
  },
  {
   "cell_type": "code",
   "execution_count": 22,
   "metadata": {
    "collapsed": true
   },
   "outputs": [],
   "source": [
    "k = 0.001"
   ]
  },
  {
   "cell_type": "code",
   "execution_count": 23,
   "metadata": {
    "collapsed": true
   },
   "outputs": [],
   "source": [
    "niter = 10"
   ]
  },
  {
   "cell_type": "code",
   "execution_count": 24,
   "metadata": {
    "collapsed": true
   },
   "outputs": [],
   "source": [
    "eta = 0.5"
   ]
  },
  {
   "cell_type": "code",
   "execution_count": 25,
   "metadata": {
    "collapsed": true
   },
   "outputs": [],
   "source": [
    "u = np.random.uniform(-5,5,T+R)"
   ]
  },
  {
   "cell_type": "code",
   "execution_count": 26,
   "metadata": {
    "collapsed": true
   },
   "outputs": [],
   "source": [
    "u[T:(T+R)] = 0"
   ]
  },
  {
   "cell_type": "code",
   "execution_count": 27,
   "metadata": {},
   "outputs": [
    {
     "data": {
      "text/plain": [
       "array([ 1.51869848,  0.28136074,  2.85701427,  1.55815387, -2.94431237,\n",
       "       -0.48885327,  1.49266667, -1.43338451, -4.12482911, -3.88110527,\n",
       "       -4.91073612, -3.0589213 , -2.47439476, -2.12324882, -0.33878286,\n",
       "        1.55441494,  3.69242193,  4.5607195 ,  3.77113807,  0.99923369,\n",
       "       -3.79608357,  4.10506652,  2.1123003 ,  2.68881209,  0.61698008,\n",
       "        0.        ,  0.        ,  0.        ,  0.        ,  0.        ,\n",
       "        0.        ,  0.        ,  0.        ,  0.        ,  0.        ,\n",
       "        0.        ,  0.        ,  0.        ,  0.        ,  0.        ,\n",
       "        0.        ,  0.        ,  0.        ,  0.        ,  0.        ,\n",
       "        0.        ,  0.        ,  0.        ,  0.        ,  0.        ])"
      ]
     },
     "execution_count": 27,
     "metadata": {},
     "output_type": "execute_result"
    }
   ],
   "source": [
    "u"
   ]
  },
  {
   "cell_type": "code",
   "execution_count": 28,
   "metadata": {
    "collapsed": true
   },
   "outputs": [],
   "source": [
    "a = np.zeros((niter+1,T+R));\n",
    "a[0] = u;\n",
    "for i in np.arange(niter):\n",
    "    v = u;\n",
    "    for j in np.arange(T):\n",
    "        u[j] = v[j] - eta*(costder(A,B,k,x0,v,xT,j));\n",
    "    a[i+1] = u;"
   ]
  },
  {
   "cell_type": "code",
   "execution_count": 29,
   "metadata": {},
   "outputs": [
    {
     "data": {
      "text/plain": [
       "array([ 62.43087406, -38.92509547,  28.09246505, -14.68478255,\n",
       "         7.51054283,  -7.21817821,   5.82403361,  -4.22129262,\n",
       "        -2.33037675,  -5.03611438,  -4.16730816,  -3.53743278,\n",
       "        -2.16639821,  -2.32149249,  -0.21118223,   1.4722841 ,\n",
       "         3.74528589,   4.52669332,   3.79303921,   0.9851369 ,\n",
       "        -3.78701022,   4.0992216 ,   2.11587028,   2.67882568,\n",
       "         0.29915373,   0.        ,   0.        ,   0.        ,\n",
       "         0.        ,   0.        ,   0.        ,   0.        ,\n",
       "         0.        ,   0.        ,   0.        ,   0.        ,\n",
       "         0.        ,   0.        ,   0.        ,   0.        ,\n",
       "         0.        ,   0.        ,   0.        ,   0.        ,\n",
       "         0.        ,   0.        ,   0.        ,   0.        ,\n",
       "         0.        ,   0.        ])"
      ]
     },
     "execution_count": 29,
     "metadata": {},
     "output_type": "execute_result"
    }
   ],
   "source": [
    "u"
   ]
  },
  {
   "cell_type": "code",
   "execution_count": 30,
   "metadata": {},
   "outputs": [
    {
     "ename": "NameError",
     "evalue": "name 'utest' is not defined",
     "output_type": "error",
     "traceback": [
      "\u001b[0;31m---------------------------------------------------------------------------\u001b[0m",
      "\u001b[0;31mNameError\u001b[0m                                 Traceback (most recent call last)",
      "\u001b[0;32m<ipython-input-30-546267ba030f>\u001b[0m in \u001b[0;36m<module>\u001b[0;34m()\u001b[0m\n\u001b[0;32m----> 1\u001b[0;31m \u001b[0mplt\u001b[0m\u001b[1;33m.\u001b[0m\u001b[0mplot\u001b[0m\u001b[1;33m(\u001b[0m\u001b[0mutest\u001b[0m\u001b[1;33m)\u001b[0m\u001b[1;33m\u001b[0m\u001b[0m\n\u001b[0m\u001b[1;32m      2\u001b[0m \u001b[1;33m\u001b[0m\u001b[0m\n\u001b[1;32m      3\u001b[0m \u001b[0mplt\u001b[0m\u001b[1;33m.\u001b[0m\u001b[0mshow\u001b[0m\u001b[1;33m(\u001b[0m\u001b[1;33m)\u001b[0m\u001b[1;33m\u001b[0m\u001b[0m\n",
      "\u001b[0;31mNameError\u001b[0m: name 'utest' is not defined"
     ]
    }
   ],
   "source": [
    "plt.plot(utest)\n",
    "\n",
    "plt.show()"
   ]
  },
  {
   "cell_type": "code",
   "execution_count": null,
   "metadata": {
    "collapsed": true,
    "scrolled": true
   },
   "outputs": [],
   "source": [
    "y = np.zeros(niter);\n",
    "\n",
    "for i in np.arange(niter):\n",
    "    y[i] = (expectation(A,B,x0,a[i],T))[0];\n",
    "    \n",
    "plt.plot(y)\n",
    "plt.show()"
   ]
  },
  {
   "cell_type": "code",
   "execution_count": null,
   "metadata": {
    "collapsed": true
   },
   "outputs": [],
   "source": [
    "y = np.zeros(T+R);\n",
    "\n",
    "for i in np.arange(T+R):\n",
    "    y[i] = (expectation(A,B,x0,u,i))[0];\n",
    "    \n",
    "plt.plot(y)\n",
    "plt.show()"
   ]
  },
  {
   "cell_type": "code",
   "execution_count": null,
   "metadata": {
    "collapsed": true
   },
   "outputs": [],
   "source": [
    "expectation(A,B,x0,u,2)"
   ]
  },
  {
   "cell_type": "code",
   "execution_count": null,
   "metadata": {
    "collapsed": true
   },
   "outputs": [],
   "source": [
    "variance(A,B,k,u,7)"
   ]
  },
  {
   "cell_type": "code",
   "execution_count": null,
   "metadata": {
    "collapsed": true
   },
   "outputs": [],
   "source": [
    "bias(A,B,x0,u,7,xT)"
   ]
  },
  {
   "cell_type": "code",
   "execution_count": null,
   "metadata": {
    "collapsed": true
   },
   "outputs": [],
   "source": [
    "cost(A,B,k,x0,u,xT)"
   ]
  },
  {
   "cell_type": "code",
   "execution_count": null,
   "metadata": {
    "collapsed": true
   },
   "outputs": [],
   "source": [
    "eta*costder(A,B,k,x0,u,xT,59)"
   ]
  },
  {
   "cell_type": "code",
   "execution_count": null,
   "metadata": {
    "collapsed": true
   },
   "outputs": [],
   "source": [
    "ci0 = (power(A,7-3-1).dot(B))[0];"
   ]
  },
  {
   "cell_type": "code",
   "execution_count": null,
   "metadata": {
    "collapsed": true
   },
   "outputs": [],
   "source": [
    "ci0"
   ]
  },
  {
   "cell_type": "code",
   "execution_count": null,
   "metadata": {
    "collapsed": true
   },
   "outputs": [],
   "source": [
    "u[T] = u[T] + eta*(costder(A,B,k,x0,u,xT,T));"
   ]
  },
  {
   "cell_type": "code",
   "execution_count": null,
   "metadata": {
    "collapsed": true
   },
   "outputs": [],
   "source": [
    "b = np.array([[1, 1, 1], [1, 1, 1], [1, 1, 1]])"
   ]
  },
  {
   "cell_type": "code",
   "execution_count": null,
   "metadata": {
    "collapsed": true
   },
   "outputs": [],
   "source": [
    "b"
   ]
  },
  {
   "cell_type": "code",
   "execution_count": null,
   "metadata": {
    "collapsed": true
   },
   "outputs": [],
   "source": [
    "b.dot(b)"
   ]
  },
  {
   "cell_type": "code",
   "execution_count": null,
   "metadata": {
    "collapsed": true
   },
   "outputs": [],
   "source": [
    "power(b,4)"
   ]
  },
  {
   "cell_type": "code",
   "execution_count": null,
   "metadata": {
    "collapsed": true,
    "scrolled": true
   },
   "outputs": [],
   "source": [
    "np.eye(7)"
   ]
  },
  {
   "cell_type": "code",
   "execution_count": null,
   "metadata": {
    "collapsed": true
   },
   "outputs": [],
   "source": [
    "a = np.arange(4)\n",
    "b = np.transpose(np.array([a,a]))"
   ]
  },
  {
   "cell_type": "code",
   "execution_count": null,
   "metadata": {
    "collapsed": true
   },
   "outputs": [],
   "source": [
    "np.array([a,a])*np.array([2,2,2,2])"
   ]
  },
  {
   "cell_type": "code",
   "execution_count": null,
   "metadata": {
    "collapsed": true,
    "scrolled": true
   },
   "outputs": [],
   "source": [
    "a[1:3]"
   ]
  },
  {
   "cell_type": "code",
   "execution_count": null,
   "metadata": {
    "collapsed": true
   },
   "outputs": [],
   "source": [
    "a**2"
   ]
  },
  {
   "cell_type": "code",
   "execution_count": null,
   "metadata": {
    "collapsed": true
   },
   "outputs": [],
   "source": [
    "[expectation(x) for x in liste]"
   ]
  },
  {
   "cell_type": "code",
   "execution_count": null,
   "metadata": {
    "collapsed": true
   },
   "outputs": [],
   "source": [
    "np.flipud(b)"
   ]
  },
  {
   "cell_type": "code",
   "execution_count": null,
   "metadata": {
    "collapsed": true
   },
   "outputs": [],
   "source": [
    "a[1,2] = 2\n",
    "sum(a)"
   ]
  },
  {
   "cell_type": "code",
   "execution_count": null,
   "metadata": {
    "collapsed": true
   },
   "outputs": [],
   "source": [
    "np.zeros((4,2))"
   ]
  },
  {
   "cell_type": "code",
   "execution_count": null,
   "metadata": {
    "collapsed": true
   },
   "outputs": [],
   "source": [
    "np.linspace(5, -5, 50)"
   ]
  },
  {
   "cell_type": "code",
   "execution_count": null,
   "metadata": {
    "collapsed": true
   },
   "outputs": [],
   "source": [
    "def dC(A,B,k,x0,u,xT):\n",
    "    somme = 0;\n",
    "    for t in (T+1+np.arange(R)):\n",
    "        for i in np.arrange(t):\n",
    "            ci0 = (power(A,t-i-1).dot(B))[0]; # to keep only the position term\n",
    "            somme = somme + 2*k*ci0**2*u[i]*(u[i+1]-u[i]) + 2*ci0*(u[i+1]-u[i])*((expectation(A,B,x0,u,t))[0]-xT[0]); # bias terms\n",
    "    return somme;"
   ]
  },
  {
   "cell_type": "code",
   "execution_count": null,
   "metadata": {
    "collapsed": true
   },
   "outputs": [],
   "source": [
    "def deriv(A,B,k,x0,u,xT,i):\n",
    "    if u[i+1]-u[i] & i < T+R:\n",
    "        return dC(A,B,k,x0,u,xT)/(u[i+1]-u[i])\n",
    "    else:\n",
    "        return 0;"
   ]
  },
  {
   "cell_type": "code",
   "execution_count": null,
   "metadata": {
    "collapsed": true,
    "scrolled": true
   },
   "outputs": [],
   "source": [
    "T+np.arange(R)"
   ]
  },
  {
   "cell_type": "markdown",
   "metadata": {},
   "source": [
    "## mutable arrays"
   ]
  },
  {
   "cell_type": "code",
   "execution_count": null,
   "metadata": {
    "collapsed": true
   },
   "outputs": [],
   "source": [
    "u = np.arange(12, 17)\n",
    "u"
   ]
  },
  {
   "cell_type": "code",
   "execution_count": null,
   "metadata": {
    "collapsed": true
   },
   "outputs": [],
   "source": [
    "new = u "
   ]
  },
  {
   "cell_type": "code",
   "execution_count": null,
   "metadata": {
    "collapsed": true
   },
   "outputs": [],
   "source": [
    "new"
   ]
  },
  {
   "cell_type": "code",
   "execution_count": null,
   "metadata": {
    "collapsed": true
   },
   "outputs": [],
   "source": [
    "new[0] = 1\n",
    "new"
   ]
  },
  {
   "cell_type": "code",
   "execution_count": null,
   "metadata": {
    "collapsed": true
   },
   "outputs": [],
   "source": [
    "u"
   ]
  },
  {
   "cell_type": "code",
   "execution_count": null,
   "metadata": {
    "collapsed": true
   },
   "outputs": [],
   "source": [
    "help(u)"
   ]
  },
  {
   "cell_type": "code",
   "execution_count": null,
   "metadata": {
    "collapsed": true
   },
   "outputs": [],
   "source": [
    "np.flipud(a) "
   ]
  },
  {
   "cell_type": "code",
   "execution_count": null,
   "metadata": {
    "collapsed": true
   },
   "outputs": [],
   "source": [
    "np.transpose(B)"
   ]
  },
  {
   "cell_type": "code",
   "execution_count": 152,
   "metadata": {},
   "outputs": [
    {
     "data": {
      "text/plain": [
       "array([ 1.,  0.])"
      ]
     },
     "execution_count": 152,
     "metadata": {},
     "output_type": "execute_result"
    }
   ],
   "source": [
    "A.dot(B)"
   ]
  },
  {
   "cell_type": "code",
   "execution_count": null,
   "metadata": {
    "collapsed": true
   },
   "outputs": [],
   "source": [
    "beta/m/4"
   ]
  },
  {
   "cell_type": "code",
   "execution_count": 135,
   "metadata": {},
   "outputs": [
    {
     "data": {
      "text/plain": [
       "array([ 0.,  0.])"
      ]
     },
     "execution_count": 135,
     "metadata": {},
     "output_type": "execute_result"
    }
   ],
   "source": [
    "power(A,500).dot(B)"
   ]
  },
  {
   "cell_type": "code",
   "execution_count": null,
   "metadata": {
    "collapsed": true
   },
   "outputs": [],
   "source": [
    "1/beta"
   ]
  },
  {
   "cell_type": "code",
   "execution_count": null,
   "metadata": {
    "collapsed": true
   },
   "outputs": [],
   "source": [
    "np.ones((2,4))"
   ]
  },
  {
   "cell_type": "code",
   "execution_count": null,
   "metadata": {
    "collapsed": true
   },
   "outputs": [],
   "source": [
    "a = [1,0,2,2]"
   ]
  },
  {
   "cell_type": "code",
   "execution_count": null,
   "metadata": {
    "collapsed": true
   },
   "outputs": [],
   "source": [
    "sum(2*a[i] for i in np.arange(4))"
   ]
  },
  {
   "cell_type": "code",
   "execution_count": 154,
   "metadata": {
    "collapsed": true
   },
   "outputs": [],
   "source": [
    "def power(A, n): \n",
    "    \"\"\"\n",
    "    renvoie A puissance n où A est une matrice carrée\n",
    "    \n",
    "    See also: np.linalg.matrix_power\n",
    "    \n",
    "    \"\"\"\n",
    "    if n == 0:\n",
    "        return(np.eye(int(np.sqrt(np.size(A)))))\n",
    "    elif n == 1:\n",
    "        return A\n",
    "    else:\n",
    "        if n % 2 == 0:\n",
    "            A_half = power(A, n//2)\n",
    "            return(A_half.dot(A_half))\n",
    "        else:\n",
    "            A_half = power(A, (n-1)//2)\n",
    "            return(A.dot(A_half.dot(A_half)))\n"
   ]
  },
  {
   "cell_type": "code",
   "execution_count": 155,
   "metadata": {
    "collapsed": true
   },
   "outputs": [],
   "source": [
    "def A_pow(A):\n",
    "    A_pow_array = np.zeros((T+R+1,2,2))\n",
    "\n",
    "    for i in np.arange(T+R+1):\n",
    "        A_pow_array[i] = power(A,i)\n",
    "    return A_pow_array"
   ]
  },
  {
   "cell_type": "code",
   "execution_count": 156,
   "metadata": {
    "collapsed": true
   },
   "outputs": [],
   "source": [
    "A_pow_array = A_pow(A)"
   ]
  },
  {
   "cell_type": "code",
   "execution_count": 157,
   "metadata": {
    "collapsed": true
   },
   "outputs": [],
   "source": [
    "def pow_fast(n):\n",
    "    return A_pow_array[n]"
   ]
  },
  {
   "cell_type": "code",
   "execution_count": 158,
   "metadata": {},
   "outputs": [
    {
     "data": {
      "text/plain": [
       "array([[  2.95755757e-06,   0.00000000e+00],\n",
       "       [  0.00000000e+00,   2.95755757e-06]])"
      ]
     },
     "execution_count": 158,
     "metadata": {},
     "output_type": "execute_result"
    }
   ],
   "source": [
    "pow_fast(10)"
   ]
  },
  {
   "cell_type": "code",
   "execution_count": null,
   "metadata": {
    "collapsed": true
   },
   "outputs": [],
   "source": [
    "0.99**5"
   ]
  },
  {
   "cell_type": "code",
   "execution_count": 159,
   "metadata": {
    "collapsed": true
   },
   "outputs": [],
   "source": [
    "ci0_array = np.zeros(T+R+1)\n",
    "\n",
    "for i in np.arange(T+R+1):\n",
    "    ci0_array[i] = (pow_fast(i).dot(B))[0]"
   ]
  },
  {
   "cell_type": "code",
   "execution_count": 160,
   "metadata": {
    "collapsed": true
   },
   "outputs": [],
   "source": [
    "ci0_99 = np.zeros(T+R+1)\n",
    "\n",
    "for i in np.arange(T+R+1):\n",
    "    ci0_99[i] = 0.99**i"
   ]
  },
  {
   "cell_type": "code",
   "execution_count": 161,
   "metadata": {
    "collapsed": true
   },
   "outputs": [],
   "source": [
    "def variance99(u, t):\n",
    "    somme = (m**2)*k*sum(np.flipud(ci0_99[0:t]*ci0_99[0:t])*u[0:t]*u[0:t])\n",
    "    return somme"
   ]
  },
  {
   "cell_type": "code",
   "execution_count": 162,
   "metadata": {},
   "outputs": [
    {
     "ename": "NameError",
     "evalue": "name 'u' is not defined",
     "output_type": "error",
     "traceback": [
      "\u001b[0;31m---------------------------------------------------------------------------\u001b[0m",
      "\u001b[0;31mNameError\u001b[0m                                 Traceback (most recent call last)",
      "\u001b[0;32m<ipython-input-162-1043d00af234>\u001b[0m in \u001b[0;36m<module>\u001b[0;34m()\u001b[0m\n\u001b[0;32m----> 1\u001b[0;31m \u001b[0mvariance99\u001b[0m\u001b[1;33m(\u001b[0m\u001b[0mu\u001b[0m\u001b[1;33m,\u001b[0m\u001b[1;36m47\u001b[0m\u001b[1;33m)\u001b[0m\u001b[1;33m\u001b[0m\u001b[0m\n\u001b[0m",
      "\u001b[0;31mNameError\u001b[0m: name 'u' is not defined"
     ]
    }
   ],
   "source": [
    "variance99(u,47)"
   ]
  },
  {
   "cell_type": "code",
   "execution_count": 163,
   "metadata": {
    "collapsed": true
   },
   "outputs": [],
   "source": [
    "u = np.array([  1.62098696e+00,   1.67164727e+00,   1.65241621e+00,\n",
    "         1.64069265e+00,   1.60177339e+00,   1.60177127e+00,\n",
    "         1.59316242e+00,   1.66421423e+00,   1.64090864e+00,\n",
    "         1.65031292e+00,   1.58986529e+00,   1.67333505e+00,\n",
    "         1.66124820e+00,   1.60672538e+00,   1.60404242e+00,\n",
    "         1.60418130e+00,   1.61480600e+00,   1.63419478e+00,\n",
    "         1.62603431e+00,   1.61366180e+00,   1.64185213e+00,\n",
    "         1.60029482e+00,   1.61271761e+00,   1.57927931e+00,\n",
    "        -1.45753727e-02,   8.82445076e-03,   3.44300566e-03,\n",
    "         1.33673939e-03,   5.18635843e-04,   2.01089364e-04,\n",
    "         7.79158630e-05,   3.01697900e-05,   1.16742157e-05,\n",
    "         4.51431189e-06,   1.74446892e-06,   6.73662128e-07,\n",
    "         2.59972643e-07,   1.00258034e-07,   3.86381322e-08,\n",
    "         1.48805117e-08,   5.72695530e-09,   2.20258785e-09,\n",
    "         8.46535526e-10,   3.25129319e-10,   1.24780313e-10,\n",
    "         4.78391432e-11,   1.82839885e-11,   6.86747193e-12,\n",
    "         2.27333197e-12,  -6.14318383e-14])"
   ]
  },
  {
   "cell_type": "code",
   "execution_count": 164,
   "metadata": {},
   "outputs": [
    {
     "ename": "NameError",
     "evalue": "name 'utest' is not defined",
     "output_type": "error",
     "traceback": [
      "\u001b[0;31m---------------------------------------------------------------------------\u001b[0m",
      "\u001b[0;31mNameError\u001b[0m                                 Traceback (most recent call last)",
      "\u001b[0;32m<ipython-input-164-9173ae6c3672>\u001b[0m in \u001b[0;36m<module>\u001b[0;34m()\u001b[0m\n\u001b[1;32m      2\u001b[0m \u001b[1;33m\u001b[0m\u001b[0m\n\u001b[1;32m      3\u001b[0m \u001b[1;32mfor\u001b[0m \u001b[0mi\u001b[0m \u001b[1;32min\u001b[0m \u001b[0mnp\u001b[0m\u001b[1;33m.\u001b[0m\u001b[0marange\u001b[0m\u001b[1;33m(\u001b[0m\u001b[0mT\u001b[0m\u001b[1;33m+\u001b[0m\u001b[0mR\u001b[0m\u001b[1;33m)\u001b[0m\u001b[1;33m:\u001b[0m\u001b[1;33m\u001b[0m\u001b[0m\n\u001b[0;32m----> 4\u001b[0;31m     \u001b[0mvari\u001b[0m\u001b[1;33m[\u001b[0m\u001b[0mi\u001b[0m\u001b[1;33m]\u001b[0m \u001b[1;33m=\u001b[0m \u001b[0mvariance99\u001b[0m\u001b[1;33m(\u001b[0m\u001b[0mutest\u001b[0m\u001b[1;33m,\u001b[0m\u001b[0mi\u001b[0m\u001b[1;33m)\u001b[0m\u001b[1;33m\u001b[0m\u001b[0m\n\u001b[0m\u001b[1;32m      5\u001b[0m \u001b[1;33m\u001b[0m\u001b[0m\n\u001b[1;32m      6\u001b[0m \u001b[0mplt\u001b[0m\u001b[1;33m.\u001b[0m\u001b[0mplot\u001b[0m\u001b[1;33m(\u001b[0m\u001b[0mvari\u001b[0m\u001b[1;33m)\u001b[0m\u001b[1;33m\u001b[0m\u001b[0m\n",
      "\u001b[0;31mNameError\u001b[0m: name 'utest' is not defined"
     ]
    }
   ],
   "source": [
    "vari = np.zeros(T+R)\n",
    "\n",
    "for i in np.arange(T+R):\n",
    "    vari[i] = variance99(utest,i)\n",
    "    \n",
    "plt.plot(vari)\n",
    "plt.show"
   ]
  },
  {
   "cell_type": "code",
   "execution_count": 165,
   "metadata": {},
   "outputs": [
    {
     "ename": "NameError",
     "evalue": "name 'expectation2' is not defined",
     "output_type": "error",
     "traceback": [
      "\u001b[0;31m---------------------------------------------------------------------------\u001b[0m",
      "\u001b[0;31mNameError\u001b[0m                                 Traceback (most recent call last)",
      "\u001b[0;32m<ipython-input-165-69617c771d93>\u001b[0m in \u001b[0;36m<module>\u001b[0;34m()\u001b[0m\n\u001b[1;32m      2\u001b[0m \u001b[1;33m\u001b[0m\u001b[0m\n\u001b[1;32m      3\u001b[0m \u001b[1;32mfor\u001b[0m \u001b[0mi\u001b[0m \u001b[1;32min\u001b[0m \u001b[0mnp\u001b[0m\u001b[1;33m.\u001b[0m\u001b[0marange\u001b[0m\u001b[1;33m(\u001b[0m\u001b[0mT\u001b[0m\u001b[1;33m+\u001b[0m\u001b[0mR\u001b[0m\u001b[1;33m)\u001b[0m\u001b[1;33m:\u001b[0m\u001b[1;33m\u001b[0m\u001b[0m\n\u001b[0;32m----> 4\u001b[0;31m     \u001b[0mposition\u001b[0m\u001b[1;33m[\u001b[0m\u001b[0mi\u001b[0m\u001b[1;33m]\u001b[0m \u001b[1;33m=\u001b[0m \u001b[1;33m(\u001b[0m\u001b[0mexpectation2\u001b[0m\u001b[1;33m(\u001b[0m\u001b[0mutest\u001b[0m\u001b[1;33m,\u001b[0m \u001b[0mi\u001b[0m\u001b[1;33m)\u001b[0m\u001b[1;33m)\u001b[0m\u001b[1;33m[\u001b[0m\u001b[1;36m0\u001b[0m\u001b[1;33m]\u001b[0m\u001b[1;33m;\u001b[0m\u001b[1;33m\u001b[0m\u001b[0m\n\u001b[0m\u001b[1;32m      5\u001b[0m \u001b[1;33m\u001b[0m\u001b[0m\n\u001b[1;32m      6\u001b[0m \u001b[0mplt\u001b[0m\u001b[1;33m.\u001b[0m\u001b[0mplot\u001b[0m\u001b[1;33m(\u001b[0m\u001b[0mposition\u001b[0m\u001b[1;33m)\u001b[0m\u001b[1;33m\u001b[0m\u001b[0m\n",
      "\u001b[0;31mNameError\u001b[0m: name 'expectation2' is not defined"
     ]
    }
   ],
   "source": [
    "position = np.zeros(T+R);\n",
    "\n",
    "for i in np.arange(T+R):\n",
    "    position[i] = (expectation2(utest, i))[0];\n",
    "    \n",
    "plt.plot(position)\n",
    "plt.show()"
   ]
  },
  {
   "cell_type": "code",
   "execution_count": 166,
   "metadata": {},
   "outputs": [
    {
     "ename": "NameError",
     "evalue": "name 'expectation2' is not defined",
     "output_type": "error",
     "traceback": [
      "\u001b[0;31m---------------------------------------------------------------------------\u001b[0m",
      "\u001b[0;31mNameError\u001b[0m                                 Traceback (most recent call last)",
      "\u001b[0;32m<ipython-input-166-896d235594aa>\u001b[0m in \u001b[0;36m<module>\u001b[0;34m()\u001b[0m\n\u001b[1;32m      2\u001b[0m \u001b[1;33m\u001b[0m\u001b[0m\n\u001b[1;32m      3\u001b[0m \u001b[1;32mfor\u001b[0m \u001b[0mi\u001b[0m \u001b[1;32min\u001b[0m \u001b[0mnp\u001b[0m\u001b[1;33m.\u001b[0m\u001b[0marange\u001b[0m\u001b[1;33m(\u001b[0m\u001b[0mT\u001b[0m\u001b[1;33m+\u001b[0m\u001b[0mR\u001b[0m\u001b[1;33m-\u001b[0m\u001b[1;36m1\u001b[0m\u001b[1;33m)\u001b[0m\u001b[1;33m:\u001b[0m\u001b[1;33m\u001b[0m\u001b[0m\n\u001b[0;32m----> 4\u001b[0;31m     \u001b[0mspeed\u001b[0m\u001b[1;33m[\u001b[0m\u001b[0mi\u001b[0m\u001b[1;33m]\u001b[0m \u001b[1;33m=\u001b[0m \u001b[1;33m(\u001b[0m\u001b[0mexpectation2\u001b[0m\u001b[1;33m(\u001b[0m\u001b[0mutest\u001b[0m\u001b[1;33m,\u001b[0m \u001b[0mi\u001b[0m\u001b[1;33m+\u001b[0m\u001b[1;36m1\u001b[0m\u001b[1;33m)\u001b[0m\u001b[1;33m)\u001b[0m\u001b[1;33m[\u001b[0m\u001b[1;36m1\u001b[0m\u001b[1;33m]\u001b[0m\u001b[1;33m\u001b[0m\u001b[0m\n\u001b[0m\u001b[1;32m      5\u001b[0m \u001b[1;33m\u001b[0m\u001b[0m\n\u001b[1;32m      6\u001b[0m \u001b[0mplt\u001b[0m\u001b[1;33m.\u001b[0m\u001b[0mplot\u001b[0m\u001b[1;33m(\u001b[0m\u001b[0mspeed\u001b[0m\u001b[1;33m)\u001b[0m\u001b[1;33m\u001b[0m\u001b[0m\n",
      "\u001b[0;31mNameError\u001b[0m: name 'expectation2' is not defined"
     ]
    }
   ],
   "source": [
    "speed = np.zeros(T+R)\n",
    "\n",
    "for i in np.arange(T+R-1):\n",
    "    speed[i] = (expectation2(utest, i+1))[1]\n",
    "    \n",
    "plt.plot(speed)\n",
    "plt.show()"
   ]
  },
  {
   "cell_type": "code",
   "execution_count": 167,
   "metadata": {},
   "outputs": [
    {
     "data": {
      "image/png": "[encoded data removed]",
      "text/plain": [
       "<matplotlib.figure.Figure at 0xa98c81b8d0>"
      ]
     },
     "metadata": {},
     "output_type": "display_data"
    }
   ],
   "source": [
    "utest = np.zeros(T+R)\n",
    "\n",
    "for i in np.arange(T):\n",
    "    utest[i] = 2.15-0.008*np.exp(0.15*i+2)\n",
    "    \n",
    "utest2 = np.zeros(T+R)\n",
    "\n",
    "for i in np.arange(T):\n",
    "    utest2[i] = 2.5\n",
    "utest2[T-5:T] = -2.5\n",
    "    \n",
    "plt.plot(utest)\n",
    "plt.plot(utest2)\n",
    "plt.show()"
   ]
  },
  {
   "cell_type": "code",
   "execution_count": 168,
   "metadata": {},
   "outputs": [
    {
     "data": {
      "text/plain": [
       "array([ 1.        ,  0.99      ,  0.9801    ,  0.970299  ,  0.96059601,\n",
       "        0.95099005,  0.94148015,  0.93206535,  0.92274469,  0.91351725,\n",
       "        0.90438208,  0.89533825,  0.88638487,  0.87752102,  0.86874581,\n",
       "        0.86005835,  0.85145777,  0.84294319,  0.83451376,  0.82616862,\n",
       "        0.81790694,  0.80972787,  0.80163059,  0.79361428,  0.78567814,\n",
       "        0.77782136,  0.77004315,  0.76234271,  0.75471929,  0.74717209,\n",
       "        0.73970037,  0.73230337,  0.72498034,  0.71773053,  0.71055323,\n",
       "        0.70344769,  0.69641322,  0.68944909,  0.6825546 ,  0.67572905,\n",
       "        0.66897176,  0.66228204,  0.65565922,  0.64910263,  0.6426116 ,\n",
       "        0.63618549,  0.62982363,  0.62352539,  0.61729014,  0.61111724,\n",
       "        0.60500607])"
      ]
     },
     "execution_count": 168,
     "metadata": {},
     "output_type": "execute_result"
    }
   ],
   "source": [
    "ci0_99"
   ]
  },
  {
   "cell_type": "code",
   "execution_count": 169,
   "metadata": {
    "collapsed": true
   },
   "outputs": [],
   "source": [
    "ci1_array = np.zeros(T+R+1)\n",
    "\n",
    "for i in np.arange(T+R+1):\n",
    "    ci1_array[i] = (pow_fast(i).dot(B))[1]"
   ]
  },
  {
   "cell_type": "code",
   "execution_count": 170,
   "metadata": {
    "collapsed": true
   },
   "outputs": [],
   "source": [
    "ci = np.array([ci0_array,ci1_array])"
   ]
  },
  {
   "cell_type": "code",
   "execution_count": 171,
   "metadata": {},
   "outputs": [
    {
     "data": {
      "text/plain": [
       "array([[  0.00000000e+00,   1.00000000e+00,   0.00000000e+00,\n",
       "          7.83766400e-02,   0.00000000e+00,   6.14289770e-03,\n",
       "          0.00000000e+00,   4.81459681e-04,   0.00000000e+00,\n",
       "          3.77351921e-05,   0.00000000e+00,   2.95755757e-06,\n",
       "          0.00000000e+00,   2.31803425e-07,   0.00000000e+00,\n",
       "          1.81679736e-08,   0.00000000e+00,   1.42394472e-09,\n",
       "          0.00000000e+00,   1.11604003e-10,   0.00000000e+00,\n",
       "          8.74714677e-12,   0.00000000e+00,   6.85571973e-13,\n",
       "          0.00000000e+00,   5.37328278e-14,   0.00000000e+00,\n",
       "          4.21139850e-15,   0.00000000e+00,   3.30075264e-16,\n",
       "          0.00000000e+00,   2.58701901e-17,   0.00000000e+00,\n",
       "          2.02761858e-18,   0.00000000e+00,   1.58917931e-19,\n",
       "          0.00000000e+00,   1.24554535e-20,   0.00000000e+00,\n",
       "          9.76216595e-22,   0.00000000e+00,   7.65125766e-23,\n",
       "          0.00000000e+00,   5.99679867e-24,   0.00000000e+00,\n",
       "          4.70008931e-25,   0.00000000e+00,   3.68377208e-26,\n",
       "          0.00000000e+00,   2.88721678e-27,   0.00000000e+00],\n",
       "       [  1.00000000e+00,   0.00000000e+00,   7.83766400e-02,\n",
       "          0.00000000e+00,   6.14289770e-03,   0.00000000e+00,\n",
       "          4.81459681e-04,   0.00000000e+00,   3.77351921e-05,\n",
       "          0.00000000e+00,   2.95755757e-06,   0.00000000e+00,\n",
       "          2.31803425e-07,   0.00000000e+00,   1.81679736e-08,\n",
       "          0.00000000e+00,   1.42394472e-09,   0.00000000e+00,\n",
       "          1.11604003e-10,   0.00000000e+00,   8.74714677e-12,\n",
       "          0.00000000e+00,   6.85571973e-13,   0.00000000e+00,\n",
       "          5.37328278e-14,   0.00000000e+00,   4.21139850e-15,\n",
       "          0.00000000e+00,   3.30075264e-16,   0.00000000e+00,\n",
       "          2.58701901e-17,   0.00000000e+00,   2.02761858e-18,\n",
       "          0.00000000e+00,   1.58917931e-19,   0.00000000e+00,\n",
       "          1.24554535e-20,   0.00000000e+00,   9.76216595e-22,\n",
       "          0.00000000e+00,   7.65125766e-23,   0.00000000e+00,\n",
       "          5.99679867e-24,   0.00000000e+00,   4.70008931e-25,\n",
       "          0.00000000e+00,   3.68377208e-26,   0.00000000e+00,\n",
       "          2.88721678e-27,   0.00000000e+00,   2.26290350e-28]])"
      ]
     },
     "execution_count": 171,
     "metadata": {},
     "output_type": "execute_result"
    }
   ],
   "source": [
    "ci"
   ]
  },
  {
   "cell_type": "code",
   "execution_count": null,
   "metadata": {
    "collapsed": true
   },
   "outputs": [],
   "source": [
    "def expectation2(u, t):\n",
    "    if t == 0:\n",
    "        return x0\n",
    "    else:\n",
    "        somme =  pow_fast(t).dot(x0)\n",
    "        somme += sum(np.transpose(ci[:,0:t]*np.flipud(u[0:t])))\n",
    "        return somme"
   ]
  },
  {
   "cell_type": "code",
   "execution_count": null,
   "metadata": {
    "collapsed": true
   },
   "outputs": [],
   "source": [
    "def variance2(u, t):\n",
    "    somme = np.array([(m**2)*k*sum(np.flipud(ci0_array[0:t]*ci0_array[0:t])*u[0:t]*u[0:t]),(m**2)*k*sum(np.flipud(ci1_array[0:t]*ci1_array[0:t])*u[0:t]*u[0:t])])\n",
    "    return somme"
   ]
  },
  {
   "cell_type": "code",
   "execution_count": null,
   "metadata": {
    "collapsed": true
   },
   "outputs": [],
   "source": [
    "def bias2(u, t):\n",
    "    mean = expectation2(u, t)\n",
    "    result = (mean-xT)**2\n",
    "    return result"
   ]
  },
  {
   "cell_type": "code",
   "execution_count": null,
   "metadata": {
    "collapsed": true
   },
   "outputs": [],
   "source": [
    "def cost2(u):\n",
    "    somme = 0\n",
    "    for t in (T+1+np.arange(R)):\n",
    "        var = variance2(u, t)\n",
    "        bia = bias2(u, t)\n",
    "        somme += var[0] + bia[0] + var[1] + bia[1]\n",
    "    somme += bias2(u,T)[0] + bias2(u,T)[1]\n",
    "    return somme"
   ]
  },
  {
   "cell_type": "code",
   "execution_count": null,
   "metadata": {
    "collapsed": true
   },
   "outputs": [],
   "source": [
    "def cost3(u):\n",
    "    return sum(sum(variance2(u, t)) + sum(bias2(u, t)) for t in (T+1+np.arange(R))) + sum(bias2(u,T))"
   ]
  },
  {
   "cell_type": "code",
   "execution_count": null,
   "metadata": {
    "collapsed": true
   },
   "outputs": [],
   "source": [
    "%%timeit\n",
    "cost2(utest)"
   ]
  },
  {
   "cell_type": "code",
   "execution_count": null,
   "metadata": {
    "collapsed": true
   },
   "outputs": [],
   "source": [
    "%%timeit\n",
    "cost3(utest)"
   ]
  },
  {
   "cell_type": "code",
   "execution_count": null,
   "metadata": {
    "collapsed": true
   },
   "outputs": [],
   "source": [
    "utest = 0.7963350789 * np.ones(T+R)\n",
    "utest[(T-1):T] *= -1\n",
    "utest[T:(T+R)] = 0\n",
    "expectation2(utest, T)"
   ]
  },
  {
   "cell_type": "code",
   "execution_count": 99,
   "metadata": {
    "collapsed": true
   },
   "outputs": [],
   "source": [
    "w = 500*np.flipud(1/np.linspace(1,500,10))"
   ]
  },
  {
   "cell_type": "code",
   "execution_count": 100,
   "metadata": {},
   "outputs": [
    {
     "data": {
      "text/plain": [
       "array([   1.        ,    1.12471882,    1.28498001,    1.4985015 ,\n",
       "          1.7971246 ,    2.24438903,    2.98804781,    4.46871897,\n",
       "          8.85826772,  500.        ])"
      ]
     },
     "execution_count": 100,
     "metadata": {},
     "output_type": "execute_result"
    }
   ],
   "source": [
    "w"
   ]
  },
  {
   "cell_type": "code",
   "execution_count": 124,
   "metadata": {
    "collapsed": true
   },
   "outputs": [],
   "source": [
    "w2 = np.array([1.4,2.5,3.4,4.1,4.6,5,5.4,5.8,6.2,6.6])-0.1"
   ]
  },
  {
   "cell_type": "code",
   "execution_count": 121,
   "metadata": {},
   "outputs": [
    {
     "data": {
      "text/plain": [
       "array([ 1.4,  2.3,  3.3,  4. ,  4.5,  4.9,  5.3,  5.7,  6.1,  6.5])"
      ]
     },
     "execution_count": 121,
     "metadata": {},
     "output_type": "execute_result"
    }
   ],
   "source": [
    "w2"
   ]
  },
  {
   "cell_type": "code",
   "execution_count": 125,
   "metadata": {
    "collapsed": true
   },
   "outputs": [],
   "source": [
    "w3 = np.log(1+np.exp(w2)/2)"
   ]
  },
  {
   "cell_type": "code",
   "execution_count": 126,
   "metadata": {},
   "outputs": [
    {
     "data": {
      "image/png": "[encoded data removed]",
      "text/plain": [
       "<matplotlib.figure.Figure at 0xa98cd4e160>"
      ]
     },
     "metadata": {},
     "output_type": "display_data"
    }
   ],
   "source": [
    "fig_width = 5\n",
    "fig, ax = plt.subplots(1, 1, figsize=(fig_width, fig_width*1.4))\n",
    "\n",
    "plt.plot(w2,100+100*w3,\"b:o\")\n",
    "plt.show()"
   ]
  },
  {
   "cell_type": "code",
   "execution_count": 127,
   "metadata": {},
   "outputs": [
    {
     "data": {
      "image/png": "[encoded data removed]",
      "text/plain": [
       "<matplotlib.figure.Figure at 0x67a1c3add8>"
      ]
     },
     "metadata": {},
     "output_type": "display_data"
    }
   ],
   "source": [
    "x = np.array([0.0000005,0.000005,0.00005,0.0001,0.0005,0.001,0.005,0.01,0.02,0.03,0.04,0.05,0.07,0.1,0.3,0.5,0.7,1])\n",
    "y = np.array([9.9956,9.9585,9.69276,9.49017,8.64413,8.08835,6.35500,5.46535,4.52218,3.96931,3.58235,3.28615,2.85099,2.40683,1.23859,0.84395,0.64121,0.47176])\n",
    "\n",
    "plt.plot(x,1/y)\n",
    "\n",
    "xx = np.linspace(0,1,18)\n",
    "\n",
    "yy = 0.24+1/0.53*xx\n",
    "\n",
    "plt.plot(xx,yy)\n",
    "\n",
    "\n",
    "plt.show()"
   ]
  },
  {
   "cell_type": "code",
   "execution_count": 169,
   "metadata": {},
   "outputs": [
    {
     "data": {
      "text/plain": [
       "array([[[[[-0.45165261, -0.02274669],\n",
       "          [-0.25105502,  0.38591322]],\n",
       "\n",
       "         [[ 0.18466468,  0.65368689],\n",
       "          [ 0.14716025, -0.41597533]]],\n",
       "\n",
       "\n",
       "        [[[-0.46084144,  2.33838978],\n",
       "          [-0.72000654,  1.60360161]],\n",
       "\n",
       "         [[-0.86025298, -2.71064781],\n",
       "          [ 0.36803435,  0.87468232]]]],\n",
       "\n",
       "\n",
       "\n",
       "       [[[[-0.16918132, -0.42184097],\n",
       "          [ 0.92329983, -1.28496916]],\n",
       "\n",
       "         [[-1.34655794, -0.29996183],\n",
       "          [ 0.90126117, -2.02863765]]],\n",
       "\n",
       "\n",
       "        [[[-1.17690069,  0.20602095],\n",
       "          [-1.93707349, -2.21289958]],\n",
       "\n",
       "         [[-1.07669983,  0.02371854],\n",
       "          [-0.20372854, -0.10296823]]]]])"
      ]
     },
     "execution_count": 169,
     "metadata": {},
     "output_type": "execute_result"
    }
   ],
   "source": [
    "np.random.randn(2,2,2,2,2)"
   ]
  },
  {
   "cell_type": "code",
   "execution_count": 153,
   "metadata": {
    "collapsed": true
   },
   "outputs": [],
   "source": [
    "a = np.array([1,2,3])"
   ]
  },
  {
   "cell_type": "code",
   "execution_count": 159,
   "metadata": {
    "collapsed": true
   },
   "outputs": [],
   "source": [
    "b = np.zeros((2,3))"
   ]
  },
  {
   "cell_type": "code",
   "execution_count": 171,
   "metadata": {
    "collapsed": true
   },
   "outputs": [],
   "source": [
    "b = np.asarray([a.tolist()]*3)"
   ]
  },
  {
   "cell_type": "code",
   "execution_count": 172,
   "metadata": {},
   "outputs": [
    {
     "data": {
      "text/plain": [
       "array([[1, 2, 3],\n",
       "       [1, 2, 3],\n",
       "       [1, 2, 3]])"
      ]
     },
     "execution_count": 172,
     "metadata": {},
     "output_type": "execute_result"
    }
   ],
   "source": [
    "b"
   ]
  },
  {
   "cell_type": "code",
   "execution_count": 174,
   "metadata": {},
   "outputs": [
    {
     "data": {
      "text/plain": [
       "array([14, 14, 14])"
      ]
     },
     "execution_count": 174,
     "metadata": {},
     "output_type": "execute_result"
    }
   ],
   "source": [
    "b @ a"
   ]
  },
  {
   "cell_type": "code",
   "execution_count": 176,
   "metadata": {},
   "outputs": [
    {
     "data": {
      "text/plain": [
       "4.826809000000001"
      ]
     },
     "execution_count": 176,
     "metadata": {},
     "output_type": "execute_result"
    }
   ],
   "source": [
    "1.3**6"
   ]
  },
  {
   "cell_type": "code",
   "execution_count": 221,
   "metadata": {
    "collapsed": true
   },
   "outputs": [],
   "source": [
    "def tic(a,b):\n",
    "    return np.sum(a+b)"
   ]
  },
  {
   "cell_type": "code",
   "execution_count": 237,
   "metadata": {
    "collapsed": true
   },
   "outputs": [],
   "source": [
    "a = np.array([1,2,3])"
   ]
  },
  {
   "cell_type": "code",
   "execution_count": 238,
   "metadata": {},
   "outputs": [
    {
     "data": {
      "text/plain": [
       "array([1, 2, 3])"
      ]
     },
     "execution_count": 238,
     "metadata": {},
     "output_type": "execute_result"
    }
   ],
   "source": [
    "np.copy(a)"
   ]
  },
  {
   "cell_type": "code",
   "execution_count": 217,
   "metadata": {},
   "outputs": [
    {
     "data": {
      "text/plain": [
       "array([6, 9])"
      ]
     },
     "execution_count": 217,
     "metadata": {},
     "output_type": "execute_result"
    }
   ],
   "source": [
    "np.sum(a,1)"
   ]
  },
  {
   "cell_type": "code",
   "execution_count": 216,
   "metadata": {},
   "outputs": [
    {
     "ename": "ValueError",
     "evalue": "axis must be less than arr.ndim; axis=1, rank=1.",
     "output_type": "error",
     "traceback": [
      "\u001b[0;31m---------------------------------------------------------------------------\u001b[0m",
      "\u001b[0;31mValueError\u001b[0m                                Traceback (most recent call last)",
      "\u001b[0;32m<ipython-input-216-4f7630ee2556>\u001b[0m in \u001b[0;36m<module>\u001b[0;34m()\u001b[0m\n\u001b[0;32m----> 1\u001b[0;31m \u001b[0mnp\u001b[0m\u001b[1;33m.\u001b[0m\u001b[0mapply_along_axis\u001b[0m\u001b[1;33m(\u001b[0m\u001b[0mtic\u001b[0m\u001b[1;33m,\u001b[0m \u001b[1;36m1\u001b[0m\u001b[1;33m,\u001b[0m \u001b[1;33m(\u001b[0m\u001b[0ma\u001b[0m\u001b[1;33m,\u001b[0m\u001b[1;36m7\u001b[0m\u001b[1;33m)\u001b[0m\u001b[1;33m)\u001b[0m\u001b[1;33m\u001b[0m\u001b[0m\n\u001b[0m",
      "\u001b[0;32mC:\\Users\\baptiste\\Anaconda3\\lib\\site-packages\\numpy\\lib\\shape_base.py\u001b[0m in \u001b[0;36mapply_along_axis\u001b[0;34m(func1d, axis, arr, *args, **kwargs)\u001b[0m\n\u001b[1;32m     81\u001b[0m     \u001b[1;32mif\u001b[0m \u001b[1;33m(\u001b[0m\u001b[0maxis\u001b[0m \u001b[1;33m>=\u001b[0m \u001b[0mnd\u001b[0m\u001b[1;33m)\u001b[0m\u001b[1;33m:\u001b[0m\u001b[1;33m\u001b[0m\u001b[0m\n\u001b[1;32m     82\u001b[0m         raise ValueError(\"axis must be less than arr.ndim; axis=%d, rank=%d.\"\n\u001b[0;32m---> 83\u001b[0;31m             % (axis, nd))\n\u001b[0m\u001b[1;32m     84\u001b[0m     \u001b[0mind\u001b[0m \u001b[1;33m=\u001b[0m \u001b[1;33m[\u001b[0m\u001b[1;36m0\u001b[0m\u001b[1;33m]\u001b[0m\u001b[1;33m*\u001b[0m\u001b[1;33m(\u001b[0m\u001b[0mnd\u001b[0m\u001b[1;33m-\u001b[0m\u001b[1;36m1\u001b[0m\u001b[1;33m)\u001b[0m\u001b[1;33m\u001b[0m\u001b[0m\n\u001b[1;32m     85\u001b[0m     \u001b[0mi\u001b[0m \u001b[1;33m=\u001b[0m \u001b[0mzeros\u001b[0m\u001b[1;33m(\u001b[0m\u001b[0mnd\u001b[0m\u001b[1;33m,\u001b[0m \u001b[1;34m'O'\u001b[0m\u001b[1;33m)\u001b[0m\u001b[1;33m\u001b[0m\u001b[0m\n",
      "\u001b[0;31mValueError\u001b[0m: axis must be less than arr.ndim; axis=1, rank=1."
     ]
    }
   ],
   "source": [
    "np.apply_along_axis(tic, 1, (a,7))"
   ]
  },
  {
   "cell_type": "code",
   "execution_count": 219,
   "metadata": {
    "collapsed": true
   },
   "outputs": [],
   "source": [
    "vfunc = np.vectorize(tic)"
   ]
  },
  {
   "cell_type": "code",
   "execution_count": 222,
   "metadata": {},
   "outputs": [
    {
     "data": {
      "text/plain": [
       "array([[0, 1, 2],\n",
       "       [1, 2, 3]])"
      ]
     },
     "execution_count": 222,
     "metadata": {},
     "output_type": "execute_result"
    }
   ],
   "source": [
    "vfunc(a,np.array([-1,-1,-1]))"
   ]
  },
  {
   "cell_type": "code",
   "execution_count": 234,
   "metadata": {
    "collapsed": true
   },
   "outputs": [],
   "source": [
    "p = [1,2,3]"
   ]
  },
  {
   "cell_type": "code",
   "execution_count": 235,
   "metadata": {},
   "outputs": [
    {
     "data": {
      "text/plain": [
       "2"
      ]
     },
     "execution_count": 235,
     "metadata": {},
     "output_type": "execute_result"
    }
   ],
   "source": [
    "p.pop(1)"
   ]
  },
  {
   "cell_type": "code",
   "execution_count": 236,
   "metadata": {},
   "outputs": [
    {
     "data": {
      "text/plain": [
       "[1, 3]"
      ]
     },
     "execution_count": 236,
     "metadata": {},
     "output_type": "execute_result"
    }
   ],
   "source": [
    "p"
   ]
  },
  {
   "cell_type": "code",
   "execution_count": 241,
   "metadata": {},
   "outputs": [
    {
     "data": {
      "text/plain": [
       "array([0, 0])"
      ]
     },
     "execution_count": 241,
     "metadata": {},
     "output_type": "execute_result"
    }
   ],
   "source": [
    "np.array([0,0])"
   ]
  },
  {
   "cell_type": "code",
   "execution_count": 9,
   "metadata": {
    "collapsed": true
   },
   "outputs": [],
   "source": [
    "tau = 0.01\n",
    "T = 0.05"
   ]
  },
  {
   "cell_type": "code",
   "execution_count": 191,
   "metadata": {
    "collapsed": true
   },
   "outputs": [],
   "source": [
    "rho = np.linspace(0.5,1,1001)"
   ]
  },
  {
   "cell_type": "code",
   "execution_count": 172,
   "metadata": {},
   "outputs": [
    {
     "data": {
      "text/plain": [
       "array([ 0.875   ,  0.875001,  0.875002, ...,  0.875998,  0.875999,  0.876   ])"
      ]
     },
     "execution_count": 172,
     "metadata": {},
     "output_type": "execute_result"
    }
   ],
   "source": [
    "rho"
   ]
  },
  {
   "cell_type": "code",
   "execution_count": 192,
   "metadata": {
    "collapsed": true
   },
   "outputs": [],
   "source": [
    "y = (11+20*tau*(1-np.exp((1-rho)*T/tau)))*(2-np.exp(-rho*T/tau)-np.exp((1-rho)*T/tau))+20*np.exp((1-rho)*T/tau)*((1-rho)*T+tau*(1-np.exp((1-rho)*T/tau)))-20*np.exp((1-rho)*T/tau)*(rho*T-tau*(1-np.exp(-rho*T/tau)))"
   ]
  },
  {
   "cell_type": "code",
   "execution_count": 22,
   "metadata": {},
   "outputs": [
    {
     "data": {
      "text/plain": [
       "array([], dtype=float64)"
      ]
     },
     "execution_count": 22,
     "metadata": {},
     "output_type": "execute_result"
    }
   ],
   "source": [
    "rho"
   ]
  },
  {
   "cell_type": "code",
   "execution_count": 28,
   "metadata": {
    "collapsed": true
   },
   "outputs": [],
   "source": [
    "npexp = np.vectorize(np.exp)"
   ]
  },
  {
   "cell_type": "code",
   "execution_count": 174,
   "metadata": {
    "scrolled": true
   },
   "outputs": [
    {
     "data": {
      "text/plain": [
       "array([-0.06652638, -0.06641779, -0.06630919, ...,  0.04159188,\n",
       "        0.04169995,  0.04180803])"
      ]
     },
     "execution_count": 174,
     "metadata": {},
     "output_type": "execute_result"
    }
   ],
   "source": [
    "y"
   ]
  },
  {
   "cell_type": "code",
   "execution_count": 194,
   "metadata": {},
   "outputs": [
    {
     "data": {
      "image/png": "[encoded data removed]",
      "text/plain": [
       "<matplotlib.figure.Figure at 0x32734c18d0>"
      ]
     },
     "metadata": {},
     "output_type": "display_data"
    }
   ],
   "source": [
    "plt.plot(rho,y)\n",
    "plt.plot([0.5,1],[0,0])\n",
    "plt.show()"
   ]
  },
  {
   "cell_type": "code",
   "execution_count": 186,
   "metadata": {},
   "outputs": [
    {
     "data": {
      "text/plain": [
       "array([ -1.40840484e-07,  -3.25655332e-08,   7.57094305e-08,\n",
       "         1.83984378e-07,   2.92259326e-07,   4.00534274e-07,\n",
       "         5.08809233e-07,   6.17084177e-07,   7.25359126e-07,\n",
       "         8.33634074e-07])"
      ]
     },
     "execution_count": 186,
     "metadata": {},
     "output_type": "execute_result"
    }
   ],
   "source": [
    "y[510:520]"
   ]
  },
  {
   "cell_type": "code",
   "execution_count": 187,
   "metadata": {},
   "outputs": [
    {
     "data": {
      "text/plain": [
       "0.87561351099999996"
      ]
     },
     "execution_count": 187,
     "metadata": {},
     "output_type": "execute_result"
    }
   ],
   "source": [
    "rho[511]"
   ]
  },
  {
   "cell_type": "code",
   "execution_count": 188,
   "metadata": {
    "collapsed": true
   },
   "outputs": [],
   "source": [
    "true_rho = 0.875613511"
   ]
  },
  {
   "cell_type": "code",
   "execution_count": 189,
   "metadata": {
    "collapsed": true
   },
   "outputs": [],
   "source": [
    "Umax = 100*20*np.exp((1-true_rho)*T/tau)/(2-np.exp(-true_rho*T/tau)-np.exp((1-true_rho)*T/tau))"
   ]
  },
  {
   "cell_type": "code",
   "execution_count": 190,
   "metadata": {},
   "outputs": [
    {
     "data": {
      "text/plain": [
       "29817.88442822358"
      ]
     },
     "execution_count": 190,
     "metadata": {},
     "output_type": "execute_result"
    }
   ],
   "source": [
    "Umax"
   ]
  },
  {
   "cell_type": "code",
   "execution_count": 16,
   "metadata": {
    "collapsed": true
   },
   "outputs": [],
   "source": [
    "rho = np.linspace(0.499,0.5,1001)"
   ]
  },
  {
   "cell_type": "code",
   "execution_count": 17,
   "metadata": {
    "collapsed": true
   },
   "outputs": [],
   "source": [
    "y = np.exp((2-rho)*T/tau)+np.exp(rho*T/tau)-np.exp((1+rho)*T/tau)-np.exp((1-rho)*T/tau)"
   ]
  },
  {
   "cell_type": "code",
   "execution_count": 18,
   "metadata": {},
   "outputs": [
    {
     "data": {
      "text/plain": [
       "[<matplotlib.lines.Line2D at 0x7f7cbcc0ae80>]"
      ]
     },
     "execution_count": 18,
     "metadata": {},
     "output_type": "execute_result"
    },
    {
     "data": {
      "image/png": "[encoded data removed]",
      "text/plain": [
       "<matplotlib.figure.Figure at 0x7f7cbcc81860>"
      ]
     },
     "metadata": {},
     "output_type": "display_data"
    }
   ],
   "source": [
    "plt.plot(rho,y)"
   ]
  },
  {
   "cell_type": "code",
   "execution_count": 19,
   "metadata": {},
   "outputs": [
    {
     "data": {
      "text/plain": [
       "array([ 0.17958599,  0.16162739,  0.14366879,  0.12571019,  0.1077516 ,\n",
       "        0.089793  ,  0.0718344 ,  0.0538758 ,  0.0359172 ,  0.0179586 ])"
      ]
     },
     "execution_count": 19,
     "metadata": {},
     "output_type": "execute_result"
    }
   ],
   "source": [
    "y[990:1000]"
   ]
  }
 ],
 "metadata": {
  "kernelspec": {
   "display_name": "Python 3",
   "language": "python",
   "name": "python3"
  },
  "language_info": {
   "codemirror_mode": {
    "name": "ipython",
    "version": 3
   },
   "file_extension": ".py",
   "mimetype": "text/x-python",
   "name": "python",
   "nbconvert_exporter": "python",
   "pygments_lexer": "ipython3",
   "version": "3.4.2"
  }
 },
 "nbformat": 4,
 "nbformat_minor": 2
}
