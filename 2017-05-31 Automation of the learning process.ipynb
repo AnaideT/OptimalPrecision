{
 "cells": [
  {
   "cell_type": "markdown",
   "metadata": {},
   "source": [
    "# Linear model for the minimum-variance control\n",
    "\n",
    "\n",
    "TODO : add instances as in ANR-REM_data/AnticipationPursuit/Data_analysis/Oldies/2016-09-08%20Harris%20%26%20Wolpert_Testing%20the%20linear%20model.ipynb"
   ]
  },
  {
   "cell_type": "code",
   "execution_count": 1,
   "metadata": {},
   "outputs": [],
   "source": [
    "import numpy as np\n",
    "import matplotlib.pyplot as plt\n",
    "import numpy.random as alea\n",
    "%matplotlib inline\n",
    "from decimal import Decimal\n",
    "import time"
   ]
  },
  {
   "cell_type": "code",
   "execution_count": 2,
   "metadata": {},
   "outputs": [],
   "source": [
    "from HarrisWolpertandPursuit import MinimumVarianceControl, control_learning\n",
    "from PlotFunctions import all_plots"
   ]
  },
  {
   "cell_type": "code",
   "execution_count": null,
   "metadata": {},
   "outputs": [],
   "source": [
    "debut = time.time()\n",
    "m = MinimumVarianceControl(dt = 0.001, k = 0.05, x0 = np.array([0,0]), xT = np.array([20,0]), n_iter = 5000,record_each = 250, eta=5000, v=0.)"
   ]
  },
  {
   "cell_type": "code",
   "execution_count": null,
   "metadata": {
    "scrolled": false
   },
   "outputs": [],
   "source": [
    "u, record, bangdata, mt_T, mt_R = control_learning(dt = 0.001, k = 0.05, x0 = np.array([0,0]), xT = np.array([20,0]), n_iter = 5000, record_each = 250, eta=5000, v=0.)\n",
    "fin = time.time()"
   ]
  },
  {
   "cell_type": "code",
   "execution_count": null,
   "metadata": {},
   "outputs": [],
   "source": [
    "u, record, bangdata, mt_T, mt_R"
   ]
  },
  {
   "cell_type": "code",
   "execution_count": null,
   "metadata": {},
   "outputs": [],
   "source": [
    "fin-debut"
   ]
  },
  {
   "cell_type": "code",
   "execution_count": null,
   "metadata": {},
   "outputs": [],
   "source": [
    "t_Tv = (0.02468+0.001739*np.abs(m.v*m.t_T-record.position[m.n_iter][int(m.t_T/m.dt)]))/(1-0.001739*np.abs(m.v)) # see Transitioning from Saccade to SPEM using LQTC, Korentis & Enderle\n",
    "t_T2 =  float(round(Decimal(t_Tv),3)) #.05 # saccade duration\n",
    "t_R2 =  float(round(Decimal(m.t_R-t_Tv),3)) # .05 # fixing / pursuit duration\n"
   ]
  },
  {
   "cell_type": "code",
   "execution_count": null,
   "metadata": {},
   "outputs": [],
   "source": [
    "len(record.position[250])"
   ]
  },
  {
   "cell_type": "code",
   "execution_count": null,
   "metadata": {
    "scrolled": false
   },
   "outputs": [],
   "source": [
    "all_plots(record, bangdata, m.record_each, m.n_iter, mt_T, mt_R, m.dt, m.xT, m.v)"
   ]
  },
  {
   "cell_type": "code",
   "execution_count": null,
   "metadata": {
    "scrolled": true
   },
   "outputs": [],
   "source": [
    "all_plots(record2, bangdata2, m2.record_each, m2.n_iter, m2.t_T, m2.t_R, m2.dt, m2.xT, m2.v)"
   ]
  },
  {
   "cell_type": "code",
   "execution_count": null,
   "metadata": {},
   "outputs": [],
   "source": [
    "poss = np.zeros(141)\n",
    "poss[0:40] = record.position[m.n_iter][0:40]\n",
    "poss[40:141] = record2.position[m2.n_iter]"
   ]
  },
  {
   "cell_type": "code",
   "execution_count": null,
   "metadata": {},
   "outputs": [],
   "source": [
    "vell = np.zeros(141)\n",
    "vell[0:40] = record.velocity[m.n_iter][0:40]\n",
    "vell[40:141] = record2.velocity[m2.n_iter]"
   ]
  },
  {
   "cell_type": "code",
   "execution_count": null,
   "metadata": {},
   "outputs": [],
   "source": [
    "len(np.linspace(m.t_T*1000,m.t_T*1000+(m2.t_T+m2.t_R)*1000,int((m2.t_T+m2.t_R)/m2.dt)+1))"
   ]
  },
  {
   "cell_type": "code",
   "execution_count": null,
   "metadata": {
    "scrolled": false
   },
   "outputs": [],
   "source": [
    "fig_width = 15\n",
    "fig, ax = plt.subplots(1, 1, figsize=(fig_width, fig_width/1.618))\n",
    "plt.plot(np.linspace(0,m.t_T*1000,int(m.t_T/m.dt)+1),poss[0:41],lw=2,label='Anticipatory')\n",
    "plt.plot(np.linspace(m.t_T*1000,m.t_T*1000+(m2.t_T+m2.t_R)*1000,int((m2.t_T+m2.t_R)/m2.dt)+1),poss[40:140],lw=2,label='Saccade+pursuit')\n",
    "plt.plot([m.t_T*1000,m.t_T*1000],[0,3.5],'r--')\n",
    "plt.plot([0,300],[0,10*0.3],'r--')\n",
    "\n",
    "ax.legend(loc='upper left',prop={'size':15})"
   ]
  },
  {
   "cell_type": "code",
   "execution_count": null,
   "metadata": {
    "scrolled": false
   },
   "outputs": [],
   "source": [
    "fig_width = 15\n",
    "fig, ax = plt.subplots(1, 1, figsize=(fig_width, fig_width/1.618))\n",
    "plt.plot(np.linspace(0,m.t_T*1000,int(m.t_T/m.dt)+1),vell[0:41],lw=2,label='Anticipatory')\n",
    "plt.plot(np.linspace(m.t_T*1000,m.t_T*1000+(m2.t_T+m2.t_R)*1000,int((m2.t_T+m2.t_R)/m2.dt)+1),vell[40:140],lw=2,label='Saccade+pursuit')\n",
    "plt.plot([m.t_T*1000,m.t_T*1000],[0,100],'r--')\n",
    "plt.plot([0,300],[10,10],'r--')\n",
    "\n",
    "ax.legend(loc='upper left',prop={'size':15})"
   ]
  }
 ],
 "metadata": {
  "kernelspec": {
   "display_name": "Python 3",
   "language": "python",
   "name": "python3"
  },
  "language_info": {
   "codemirror_mode": {
    "name": "ipython",
    "version": 3
   },
   "file_extension": ".py",
   "mimetype": "text/x-python",
   "name": "python",
   "nbconvert_exporter": "python",
   "pygments_lexer": "ipython3",
   "version": "3.6.3"
  },
  "toc": {
   "colors": {
    "hover_highlight": "#DAA520",
    "navigate_num": "#000000",
    "navigate_text": "#333333",
    "running_highlight": "#FF0000",
    "selected_highlight": "#FFD700",
    "sidebar_border": "#EEEEEE",
    "wrapper_background": "#FFFFFF"
   },
   "moveMenuLeft": true,
   "nav_menu": {
    "height": "45px",
    "width": "252px"
   },
   "navigate_menu": true,
   "number_sections": true,
   "sideBar": true,
   "threshold": 4,
   "toc_cell": false,
   "toc_section_display": "block",
   "toc_window_display": false,
   "widenNotebook": false
  }
 },
 "nbformat": 4,
 "nbformat_minor": 2
}
