{
 "cells": [
  {
   "cell_type": "markdown",
   "metadata": {},
   "source": [
    "# Asymmetrical bang-bang solution\n",
    "\n",
    "  \n",
    "## Reach of the target\n",
    "\n",
    "Let $t$ be the time variable, $T$ the time (in $s$) when the target is pointed, $x(t)$ and $\\dot{x}(t)$ respectively the position and the velocity at time $t$, $x_T$ the position to reach, $\\rho \\in \\left [0 ,1\\right]$.  \n",
    "$x(t=0) = 0$ and $\\dot{x}(t=0) = 0$  \n",
    "  \n",
    "$\\newcommand{\\intervalle}[2]{\\left[#1\\mathclose{}\\mathpunct{};#2\\right]}\n",
    "\\newcommand{\\intervallefo}[2]{\\left[#1\\mathclose{}\\mathpunct{};#2\\right[}\n",
    "\\newcommand{\\intervalleof}[2]{\\left]#1\\mathclose{}\\mathpunct{};#2\\right]}\n",
    "\\newcommand{\\intervalleoo}[2]{\\left]#1\\mathclose{}\\mathpunct{};#2\\right[}$  \n",
    "$\\forall t \\in \\intervalle{0}{\\rho\\cdot T} : u(t) = U_+$  \n",
    "$\\forall t \\in \\intervalleof{\\rho\\cdot T}{T} : u(t) = U_-$  \n",
    "$\\forall t \\in \\intervalleoo{T}{+\\infty} : u(t) = U_{\\infty}$  \n",
    "  \n",
    "Formally, \n",
    "$$\n",
    "u(t) = \\mathbb 1_{\\intervalle{0}{\\rho\\cdot T}} \\cdot U_+ + \\mathbb 1_{\\intervalleof{\\rho\\cdot T}{T}} \\cdot U_- + \\mathbb 1_{\\intervalleoo{T}{+\\infty}} \\cdot U_\\infty\n",
    "$$\n",
    "\n",
    "where $\\mathbb 1_{\\mathcal{I}}$ is the [indicator function](https://en.wiktionary.org/wiki/indicator_function#English) of the interval $\\mathcal{I}$\n",
    "  \n",
    "We will solve the following differential equation, which represents a linear model of the eye, on the previous intervals:  \n",
    "  \n",
    "$$\n",
    "\\dfrac{d\\dot{x}(t)}{dt} = -\\frac{1}{\\tau}\\cdot\\dot{x}(t)+u(t)\n",
    "$$\n",
    "\n",
    "where $\\tau$ is a constant of the eye, with $\\left[\\tau\\right] = s$"
   ]
  },
  {
   "cell_type": "code",
   "execution_count": null,
   "metadata": {},
   "outputs": [],
   "source": [
    "import numpy as np\n",
    "import matplotlib.pyplot as plt\n",
    "%matplotlib inline"
   ]
  },
  {
   "cell_type": "code",
   "execution_count": null,
   "metadata": {},
   "outputs": [],
   "source": [
    "b = 1/0.013\n",
    "m = 1\n",
    "xT = 10\n",
    "dt = 0.002\n",
    "t_T = .05\n",
    "t_R = .05\n",
    "k = 0.0005\n",
    "T = int(t_T/dt)\n",
    "R = int(t_R/dt)\n",
    "time = np.linspace(0, t_T+t_R, R+T+1)\n",
    "time_ms = time*1000"
   ]
  },
  {
   "cell_type": "markdown",
   "metadata": {},
   "source": [
    "On $\\intervalle{0}{\\rho\\cdot T}: \\dfrac{d\\dot{x}(t)}{dt} = -\\dfrac{1}{\\tau}\\cdot\\dot{x}(t)+U_+$  \n",
    "  \n",
    "We find:  $\\dot{x}(t) = U_+\\cdot\\tau\\left (1-e^{- \\frac{t}{\\tau}} \\right )$ and so : $x(t) = U_+\\cdot\\tau\\left [t-\\tau\\left(1-e^{- \\frac{t}{\\tau}} \\right )\\right]$"
   ]
  },
  {
   "cell_type": "markdown",
   "metadata": {},
   "source": [
    "On $\\intervalleof{\\rho\\cdot T}{T}: \\dfrac{d\\dot{x}(t)}{dt} = -\\dfrac{1}{\\tau}\\cdot\\dot{x}(t)+U_-$  \n",
    "  \n",
    "We find:  $\\dot{x}(t) = U_-\\cdot\\tau\\left (1-e^{\\frac{T-t}{\\tau}} \\right )$ and so : $x(t) = x_T - U_-\\cdot\\tau\\left [T-t+\\tau\\left(1-e^{\\frac{T-t}{\\tau}} \\right )\\right]$\n",
    " "
   ]
  },
  {
   "cell_type": "markdown",
   "metadata": {},
   "source": [
    "On $\\intervalleoo{T}{+\\infty}: \\dfrac{d\\dot{x}(t)}{dt} = -\\dfrac{1}{\\tau}\\cdot\\dot{x}(t)+U_{\\infty}$  \n",
    "  \n",
    "We find:  $U_{\\infty} = 0$ since $\\forall t \\in \\intervalleoo{T}{+\\infty}, \\dot{x}(t) = 0$ (and $\\ddot{x}(t) = 0$) and so : $x(t) = x_T$\n",
    " "
   ]
  },
  {
   "cell_type": "markdown",
   "metadata": {},
   "source": [
    "Then, we use the continuity of the velocity at time $\\rho\\cdot T$ to find relations between $U_+$, $U_-$ and $\\rho$.  \n",
    "    \n",
    "$U_+ = U_- \\cdot \\dfrac{1-e^{\\frac{\\left(1-\\rho \\right)T}{\\tau}}}{1-e^{-\\frac{\\rho T}{\\tau}}}$  \n",
    "  \n",
    "With the continuity of the position at time $\\rho\\cdot T$, we find relations between $U_-$ and $\\rho$, and between $U_+$ and $\\rho$.  \n",
    "\n",
    "$U_- = \\dfrac{1}{\\tau} \\cdot \\dfrac{1-e^{-\\frac{\\rho T}{\\tau}}}{T-\\left (1-\\rho\\right)T e^{-\\frac{\\rho T}{\\tau}}-\\rho T e^{\\frac{\\left(1-\\rho \\right)T}{\\tau}}} \\cdot  x_T$\n",
    "\n",
    "$U_+ = \\dfrac{1}{\\tau} \\cdot \\dfrac{1-e^{\\frac{\\left(1-\\rho \\right)T}{\\tau}}}{T-\\left (1-\\rho\\right)T e^{-\\frac{\\rho T}{\\tau}}-\\rho T e^{\\frac{\\left(1-\\rho \\right)T}{\\tau}}} \\cdot  x_T$"
   ]
  },
  {
   "cell_type": "code",
   "execution_count": null,
   "metadata": {},
   "outputs": [],
   "source": [
    "def fact(n): \n",
    "    \"\"\"The factorial function\n",
    "    Returns n!, that is n x (n-1) x (n-2) x ... x 1\n",
    "    Recursive implementation\n",
    "    \"\"\"\n",
    "    if n == 0:\n",
    "        return 1\n",
    "    else:\n",
    "        return(n*fact(n-1))"
   ]
  },
  {
   "cell_type": "code",
   "execution_count": null,
   "metadata": {},
   "outputs": [],
   "source": [
    "# definition of A and B\n",
    "beta = b\n",
    "A = np.zeros((2,2))\n",
    "B = np.zeros(2)\n",
    "for i in np.arange(2):\n",
    "    for j in np.arange(i,2):\n",
    "        A[i,j] = dt**(j-i)/fact(j-i)\n",
    "A[1, 1] = 1-dt*beta/m\n",
    "B[1] = dt/m"
   ]
  },
  {
   "cell_type": "code",
   "execution_count": null,
   "metadata": {},
   "outputs": [],
   "source": [
    "def power(A, n): \n",
    "    \"\"\"\n",
    "    renvoie A puissance n où A est une matrice carrée\n",
    "        \n",
    "    \"\"\"\n",
    "    if n == 0:\n",
    "        return(np.eye(int(np.sqrt(np.size(A)))))\n",
    "    elif n == 1:\n",
    "        return A\n",
    "    else:\n",
    "        if n % 2 == 0:\n",
    "            A_half = power(A, n//2)\n",
    "            return(A_half.dot(A_half))\n",
    "        else:\n",
    "            A_half = power(A, (n-1)//2)\n",
    "            return(A.dot(A_half.dot(A_half)))\n",
    "\n",
    "def A_pow(A):\n",
    "    A_pow_array = np.zeros((T+R+1,2,2))\n",
    "\n",
    "    for i in np.arange(T+R+1):\n",
    "        A_pow_array[i] = power(A,i)\n",
    "    return A_pow_array\n",
    "\n",
    "A_pow_array = A_pow(A)\n",
    "\n",
    "def pow_fast(n):\n",
    "    return A_pow_array[n]\n",
    "\n",
    "ci0_array = np.zeros(T+R+1)\n",
    "\n",
    "for i in np.arange(T+R+1):\n",
    "    ci0_array[i] = (pow_fast(i).dot(B))[0]\n",
    "\n",
    "ci1_array = np.zeros(T+R+1)\n",
    "\n",
    "for i in np.arange(T+R+1):\n",
    "    ci1_array[i] = (pow_fast(i).dot(B))[1]\n",
    "    \n",
    "#ci2_array = np.zeros(T+R+1)\n",
    "\n",
    "#for i in np.arange(T+R+1):\n",
    "#    ci2_array[i] = (pow_fast(i).dot(B))[2]\n",
    "    \n",
    "#ci3_array = np.zeros(T+R+1)\n",
    "\n",
    "#for i in np.arange(T+R+1):\n",
    "#    ci3_array[i] = (pow_fast(i).dot(B))[3]\n",
    "\n",
    "ci = np.array([ci0_array, ci1_array])"
   ]
  },
  {
   "cell_type": "code",
   "execution_count": null,
   "metadata": {},
   "outputs": [],
   "source": [
    "def expectation(u, t):\n",
    "    \"\"\"Computation of the expectation of the state vector at time t, given u\n",
    "    \"\"\"\n",
    "    if t == 0:\n",
    "        return np.array([0,0])\n",
    "    else:\n",
    "        return (ci[:,0:t]*np.flipud(u[0:t])).sum(axis = 1)"
   ]
  },
  {
   "cell_type": "code",
   "execution_count": null,
   "metadata": {},
   "outputs": [],
   "source": [
    "def variance(u, t):\n",
    "    \"\"\"Computation of the variance of the state vector at time t, given u\n",
    "    \"\"\"\n",
    "    return (m**2)*k*(np.flipud(ci0_array[0:t]**2)*u[0:t]**2).sum()"
   ]
  },
  {
   "cell_type": "code",
   "execution_count": null,
   "metadata": {},
   "outputs": [],
   "source": [
    "n = 100 # number of rho's values"
   ]
  },
  {
   "cell_type": "code",
   "execution_count": null,
   "metadata": {},
   "outputs": [],
   "source": [
    "rho = np.linspace(0.5,0.999,n) # rho's tested values"
   ]
  },
  {
   "cell_type": "code",
   "execution_count": null,
   "metadata": {},
   "outputs": [],
   "source": [
    "Uplus = b*xT*(1-np.exp((1-rho)*b*T*dt/m))/(T*dt-(1-rho)*T*dt*np.exp(-rho*b*T*dt/m)-rho*T*dt*np.exp((1-rho)*b*T*dt/m))"
   ]
  },
  {
   "cell_type": "code",
   "execution_count": null,
   "metadata": {},
   "outputs": [],
   "source": [
    "Umoins = b*xT*(1-np.exp(-rho*b*T*dt/m))/(T*dt-(1-rho)*T*dt*np.exp(-rho*b*T*dt/m)-rho*T*dt*np.exp((1-rho)*b*T*dt/m))"
   ]
  },
  {
   "cell_type": "code",
   "execution_count": null,
   "metadata": {},
   "outputs": [],
   "source": [
    "u = np.zeros((n-1, T+R+1))\n",
    "\n",
    "for i in np.arange(n-1):\n",
    "    rhoT = int(T*rho[i])\n",
    "    u[i,:] = np.concatenate((Uplus[i]*np.ones(rhoT),Umoins[i]*np.ones(T-rhoT),np.zeros(R+1)))"
   ]
  },
  {
   "cell_type": "code",
   "execution_count": null,
   "metadata": {},
   "outputs": [],
   "source": [
    "position = np.zeros((n-1, T+R+1))\n",
    "velocity = np.zeros((n-1, T+R+1))\n",
    "\n",
    "for i in np.arange(n-1):\n",
    "    for j in np.arange(T+R+1):\n",
    "        mean = expectation(u[i,:], j)\n",
    "        position[i,j] = mean[0]\n",
    "        velocity[i,j] = mean[1]"
   ]
  },
  {
   "cell_type": "code",
   "execution_count": null,
   "metadata": {},
   "outputs": [],
   "source": [
    "variancev = np.zeros((n-1, T+R+1))\n",
    "\n",
    "for i in np.arange(n-1):\n",
    "    for j in np.arange(T+R+1):\n",
    "        variancev[i,j] = variance(u[i,:], j)"
   ]
  },
  {
   "cell_type": "code",
   "execution_count": null,
   "metadata": {},
   "outputs": [],
   "source": [
    "fig_width = 15\n",
    "fig, ax = plt.subplots(1, 1, figsize=(fig_width, fig_width/1.618))\n",
    "for i in np.arange(n-1):\n",
    "    ax.plot(u[i,:])"
   ]
  },
  {
   "cell_type": "code",
   "execution_count": null,
   "metadata": {
    "scrolled": false
   },
   "outputs": [],
   "source": [
    "fig_width = 15\n",
    "fig, ax = plt.subplots(1, 1, figsize=(fig_width, fig_width/1.618))\n",
    "for i in np.arange(n-1):\n",
    "    ax.plot(position[i,:])"
   ]
  },
  {
   "cell_type": "code",
   "execution_count": null,
   "metadata": {},
   "outputs": [],
   "source": [
    "fig_width = 15\n",
    "fig, ax = plt.subplots(1, 1, figsize=(fig_width, fig_width/1.618))\n",
    "for i in np.arange(n-1):\n",
    "    ax.plot(velocity[i,:])"
   ]
  },
  {
   "cell_type": "code",
   "execution_count": null,
   "metadata": {},
   "outputs": [],
   "source": [
    "fig_width = 15\n",
    "fig, ax = plt.subplots(1, 1, figsize=(fig_width, fig_width/1.618))\n",
    "for i in np.arange(n-10):\n",
    "    ax.plot(variancev[i,:])"
   ]
  },
  {
   "cell_type": "code",
   "execution_count": null,
   "metadata": {},
   "outputs": [],
   "source": [
    "somme = np.zeros(n-10)\n",
    "for i in np.arange(n-10):\n",
    "    for j in T+np.arange(R+1):\n",
    "        somme[i] += variancev[i,j]"
   ]
  },
  {
   "cell_type": "code",
   "execution_count": null,
   "metadata": {},
   "outputs": [],
   "source": [
    "ind_best = np.argmin(somme)"
   ]
  },
  {
   "cell_type": "code",
   "execution_count": null,
   "metadata": {},
   "outputs": [],
   "source": [
    "rho[ind_best]"
   ]
  },
  {
   "cell_type": "code",
   "execution_count": null,
   "metadata": {},
   "outputs": [],
   "source": [
    "u[ind_best,:]"
   ]
  },
  {
   "cell_type": "code",
   "execution_count": null,
   "metadata": {
    "scrolled": true
   },
   "outputs": [],
   "source": [
    "plt.plot(time_ms, u[ind_best,:])\n",
    "\n",
    "plt.plot([0,(t_T+t_R)*1000],[0,0],'r--')"
   ]
  },
  {
   "cell_type": "code",
   "execution_count": null,
   "metadata": {},
   "outputs": [],
   "source": [
    "plt.plot(time_ms,position[ind_best,:])\n",
    "\n",
    "plt.plot([0,(t_T+t_R)*1000],[xT,xT],'r--')"
   ]
  },
  {
   "cell_type": "code",
   "execution_count": null,
   "metadata": {},
   "outputs": [],
   "source": [
    "plt.plot(time_ms, velocity[ind_best,:])\n",
    "\n",
    "plt.plot([0,(t_T+t_R)*1000],[0,0],'r--')"
   ]
  }
 ],
 "metadata": {
  "kernelspec": {
   "display_name": "Python 3",
   "language": "python",
   "name": "python3"
  },
  "language_info": {
   "codemirror_mode": {
    "name": "ipython",
    "version": 3
   },
   "file_extension": ".py",
   "mimetype": "text/x-python",
   "name": "python",
   "nbconvert_exporter": "python",
   "pygments_lexer": "ipython3",
   "version": "3.6.3"
  },
  "toc": {
   "colors": {
    "hover_highlight": "#DAA520",
    "navigate_num": "#000000",
    "navigate_text": "#333333",
    "running_highlight": "#FF0000",
    "selected_highlight": "#FFD700",
    "sidebar_border": "#EEEEEE",
    "wrapper_background": "#FFFFFF"
   },
   "moveMenuLeft": true,
   "nav_menu": {
    "height": "48px",
    "width": "252px"
   },
   "navigate_menu": true,
   "number_sections": true,
   "sideBar": true,
   "threshold": 4,
   "toc_cell": false,
   "toc_section_display": "block",
   "toc_window_display": false,
   "widenNotebook": false
  }
 },
 "nbformat": 4,
 "nbformat_minor": 2
}
