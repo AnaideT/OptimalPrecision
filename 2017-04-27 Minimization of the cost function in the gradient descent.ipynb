
# Veuillez saisir le message de validation pour vos modifications. Les lignes
# commençant par '#' seront ignorées, et un message vide abandonne la validation.
# Chemins explicites spécifiés sans -i ni -o ; --only supposé...
#
# Validateur : Baptiste <baptiste@babbage>
#
# Sur la branche master
# Modifications qui seront validées :
#	modifié :         2017-04-27 Minimization of the cost function in the gradient descent.ipynb
#
# Fichiers non suivis:
#	biblio/
#	cycler-0.10.0/
#
