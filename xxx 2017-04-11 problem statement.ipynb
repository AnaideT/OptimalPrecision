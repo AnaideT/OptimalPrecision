{
 "cells": [
  {
   "cell_type": "markdown",
   "metadata": {},
   "source": [
    "# Linear model for the minimum-variance control"
   ]
  },
  {
   "cell_type": "code",
   "execution_count": 1,
   "metadata": {
    "collapsed": true
   },
   "outputs": [],
   "source": [
    "import numpy as np\n",
    "import matplotlib.pyplot as plt\n",
    "%matplotlib inline"
   ]
  },
  {
   "cell_type": "markdown",
   "metadata": {},
   "source": [
    "## Definition\n",
    "For the linear models of the eye and arm, we consider a single-input single-output discrete-time system under control with the following state-update equation:\n",
    "$$\n",
    "\\tilde{x}_{t+1} = A\\tilde{x}_t+B\\left (u_t+w_t \\right)\n",
    "$$  \n",
    "where $\\tilde{x}_t$ is the $n$-dimentional state at time $t$, $u_t$ the neural driving signal at time $t$, $w_t$ is a white noise with mean zero and variance $ku_t^2$, $A$ is a fixed $n \\times n$ matrix and B is a $n \\times 1$ vector both describing the dynamics of the system."
   ]
  },
  {
   "cell_type": "code",
   "execution_count": 2,
   "metadata": {
    "collapsed": true
   },
   "outputs": [],
   "source": [
    "beta = 3.9\n",
    "m = 4.\n",
    "A = np.array([[1., 1.],[0., 1-beta/m]])\n",
    "B = np.array([0., 1/m])\n",
    "k = 0.007\n",
    "#k = 0.1"
   ]
  },
  {
   "cell_type": "code",
   "execution_count": 3,
   "metadata": {
    "collapsed": true
   },
   "outputs": [],
   "source": [
    "downscale = 1\n",
    "downscale = 10\n",
    "T = 100//downscale # target position time (steps)\n",
    "R = 50//downscale # post-movement period (steps)\n",
    "x0 = np.array([5., 0.]) # start from 0° with no speed\n",
    "xT = np.array([20., 0.]) # reach 20° with no speed\n",
    "u = np.random.uniform(-5, 5, T+R)\n",
    "\n",
    "time = np.linspace(0, 1, T+R) # in s\n"
   ]
  },
  {
   "cell_type": "markdown",
   "metadata": {},
   "source": [
    "## Mean and covariance matrix\n",
    "$\\tilde{x}_t = A\\tilde{x}_{t-1}+B\\left (u_{t-1}+w_{t-1} \\right) \\\\\n",
    "\\tilde{x}_t = A \\left (A\\tilde{x}_{t-2}+B\\left (u_{t-2}+w_{t-2} \\right)\\right) + B\\left (u_{t-1}+w_{t-1} \\right) \\\\\n",
    "...\\\\\n",
    "\\tilde{x}_t = A^t \\tilde{x}_0 + \\sum \\limits_{i=0}^{t-1}{A^{t-1-i}B \\left (u_i+w_i \\right)}\n",
    "$\n",
    "  \n",
    "We deduce the mean:\n",
    "$E\\left [\\tilde{x}_t \\right] = A^t \\tilde{x}_0 + \\sum \\limits_{i=0}^{t-1}{A^{t-1-i}Bu_i}$ since $E\\left [w_t \\right] = 0$."
   ]
  },
  {
   "cell_type": "code",
   "execution_count": 4,
   "metadata": {
    "collapsed": true
   },
   "outputs": [],
   "source": [
    "def power(A, n): \n",
    "    \"\"\"\n",
    "    renvoie A puissance n où A est une matrice carrée\n",
    "    \n",
    "    See also: numpy.linalg.matrix_power\n",
    "    \n",
    "    \"\"\"\n",
    "    if n==0:\n",
    "        return(np.eye(int(np.sqrt(np.size(A)))));\n",
    "    else:\n",
    "        return(A.dot(power(A, n-1)));"
   ]
  },
  {
   "cell_type": "code",
   "execution_count": 5,
   "metadata": {},
   "outputs": [
    {
     "name": "stdout",
     "output_type": "stream",
     "text": [
      "The slowest run took 36.25 times longer than the fastest. This could mean that an intermediate result is being cached.\n",
      "100000 loops, best of 3: 18 µs per loop\n"
     ]
    }
   ],
   "source": [
    "%%timeit\n",
    "power(A, 10)"
   ]
  },
  {
   "cell_type": "code",
   "execution_count": 6,
   "metadata": {},
   "outputs": [
    {
     "name": "stdout",
     "output_type": "stream",
     "text": [
      "The slowest run took 5.24 times longer than the fastest. This could mean that an intermediate result is being cached.\n",
      "100000 loops, best of 3: 14.1 µs per loop\n"
     ]
    }
   ],
   "source": [
    "%%timeit\n",
    "np.linalg.matrix_power(A, 10)"
   ]
  },
  {
   "cell_type": "code",
   "execution_count": 7,
   "metadata": {
    "collapsed": true
   },
   "outputs": [],
   "source": [
    "def expectation(A, B, x0, u, t):\n",
    "    if t == 0:\n",
    "        return x0\n",
    "    else:\n",
    "        somme =  power(A,t).dot(x0)\n",
    "        for i in np.arange(t):\n",
    "            mat = power(A, t-i-1).dot(B)\n",
    "            #mat = power(A, t-i-1) @ B\n",
    "            somme += mat*u[i]\n",
    "        return somme"
   ]
  },
  {
   "cell_type": "code",
   "execution_count": 8,
   "metadata": {},
   "outputs": [
    {
     "name": "stdout",
     "output_type": "stream",
     "text": [
      "1000 loops, best of 3: 211 µs per loop\n"
     ]
    }
   ],
   "source": [
    "%%timeit\n",
    "expectation(A, B, x0, u, t=10)"
   ]
  },
  {
   "cell_type": "markdown",
   "metadata": {
    "collapsed": true
   },
   "source": [
    "  \n",
    "Then, $cov\\left [\\tilde{x}_t\\right ] = \\sum \\limits_{i=0}^{t-1}{\\left (A^{t-1-i}B \\right )\\left (A^{t-1-i}B \\right )^T E\\left [w_t^2 \\right]} = k\\sum \\limits_{i=0}^{t-1}{\\left (A^{t-1-i}B \\right )\\left (A^{t-1-i}B \\right )^T u_t^2}$"
   ]
  },
  {
   "cell_type": "code",
   "execution_count": 9,
   "metadata": {
    "collapsed": true
   },
   "outputs": [],
   "source": [
    "def variance(A, B, k, u, t):\n",
    "    somme = 0.\n",
    "    for i in np.arange(t):\n",
    "        ci0 = (power(A, t-i-1).dot(B))[0]\n",
    "        somme += k*(ci0**2)*(u[i]**2)\n",
    "    return somme"
   ]
  },
  {
   "cell_type": "markdown",
   "metadata": {},
   "source": [
    "\n",
    "TODO : illustrating this computation on the bang-bang\n",
    "\n",
    "## Minimum-variance problem\n",
    "\n",
    "Here, the problem we consider consists in minimizing the sum of the variance of the position after reaching the target. Let $V_t$ be the top-left value in the covariance matrix at time $t$. Then, we want to minimize $\\sum \\limits_{t=T+1}^{T+R}V_t +bias$. "
   ]
  },
  {
   "cell_type": "code",
   "execution_count": 10,
   "metadata": {
    "collapsed": true
   },
   "outputs": [],
   "source": [
    "def bias(A, B, x0, u, t, xT):\n",
    "    mean = expectation(A, B, x0, u, t)\n",
    "    somme = (mean[0]-xT[0])**2\n",
    "    return somme"
   ]
  },
  {
   "cell_type": "markdown",
   "metadata": {
    "collapsed": true
   },
   "source": [
    " \n",
    "This can be formulated as a quadratic programming problem, which we solved using a gradient descent."
   ]
  },
  {
   "cell_type": "markdown",
   "metadata": {},
   "source": [
    "## Gradient descent\n",
    "\n",
    "Let $\\mathcal{C}$ be the cost function to minimize.  \n",
    "That is, we want to find $\\textbf{u}_{\\textbf{opt}} = \\underset{u_0, ..., u_{T+R}}{argmin} \\left (\\sum \\limits_{t=T+1}^{T+R}\\left [V_t + \\left (E\\left [x_t\\right] - x_T \\right )^2 \\right ]\\right) = \\underset{u_0, ..., u_{T+R}}{argmin}\\left(\\mathcal{C}\\left (\\textbf{u}\\right)\\right)$.\n",
    "\n"
   ]
  },
  {
   "cell_type": "code",
   "execution_count": 11,
   "metadata": {
    "collapsed": true
   },
   "outputs": [],
   "source": [
    "def cost(A,B,k,x0,u,xT):\n",
    "    somme = 0;\n",
    "    for t in (T+1+np.arange(R)):\n",
    "        var = variance(A, B, k, u, t)\n",
    "        bia = bias(A, B, x0, u, t, xT)\n",
    "        somme = somme + var + bia\n",
    "    return somme;"
   ]
  },
  {
   "cell_type": "markdown",
   "metadata": {},
   "source": [
    "First, we start with a random $\\textbf{u}$ which values are in $\\left [-5, 5 \\right]$.  \n",
    "We assume that the control signal is zero during the post-movement period."
   ]
  },
  {
   "cell_type": "markdown",
   "metadata": {
    "collapsed": true
   },
   "source": [
    "Iterating the following process, we will get the right $\\textbf{u}_{\\textbf{opt}}$ :  \n",
    "$\\forall i \\in \\left \\{ 0, ..., T-1 \\right \\} : u_i = u_i - \\eta \\times \\frac{\\partial \\mathcal{C}\\left(\\textbf{u}\\right)}{\\partial u_i}$"
   ]
  },
  {
   "cell_type": "markdown",
   "metadata": {},
   "source": [
    "----"
   ]
  },
  {
   "cell_type": "code",
   "execution_count": 12,
   "metadata": {
    "collapsed": true
   },
   "outputs": [],
   "source": [
    "def cost_deriv(A, B, k, x0, u, xT, i): # Derivative of the cost function with respect to u_i\n",
    "    ci0_2 = 0\n",
    "    somme = 0\n",
    "    for t in (T+1+np.arange(R)):\n",
    "        if i < t:\n",
    "            ci0 = (power(A, t-i-1).dot(B))[0] # to keep only the position term in the n x 1 vector\n",
    "            somme += 2*ci0*((expectation(A, B, x0, u, t))[0]-xT[0]) # bias term\n",
    "            ci0_2 += ci0**2;\n",
    "    somme += 2*k*u[i]*ci0_2; # variance term\n",
    "    return somme"
   ]
  },
  {
   "cell_type": "code",
   "execution_count": 13,
   "metadata": {},
   "outputs": [
    {
     "name": "stdout",
     "output_type": "stream",
     "text": [
      "1000 loops, best of 3: 1.61 ms per loop\n"
     ]
    }
   ],
   "source": [
    "%%timeit\n",
    "cost_deriv(A, B, k, x0, u, xT, i=10)"
   ]
  },
  {
   "cell_type": "markdown",
   "metadata": {},
   "source": [
    "We choose the number of iterations of the process and the stepsize $\\eta$ of the gradient descent."
   ]
  },
  {
   "cell_type": "code",
   "execution_count": 14,
   "metadata": {
    "collapsed": true
   },
   "outputs": [],
   "source": [
    "niter = 500\n",
    "eta = 0.1"
   ]
  },
  {
   "cell_type": "code",
   "execution_count": 15,
   "metadata": {
    "collapsed": true
   },
   "outputs": [],
   "source": [
    "np.random.seed(42)\n",
    "u = np.random.uniform(-5, 5, T+R)\n",
    "u = 15 * np.ones(T+R)\n",
    "u[8:T] *= -1.5\n",
    "u[T:(T+R)] = 0\n",
    "\n",
    "a = np.zeros((niter+1, T+R)) # To save the evolution of the values of u at each iteration\n",
    "cost = np.zeros(niter+1) # To save the evolution of the values of u at each iteration\n",
    "a[0, :] = u\n",
    "for i_iter in np.arange(niter):\n",
    "    u_old = u.copy()\n",
    "    for i in np.arange(T+R):\n",
    "        u[i] = u_old[i] - eta*(cost_deriv(A, B, k, x0, u_old, xT, i))\n",
    "    a[i_iter+1, :] = u;"
   ]
  },
  {
   "cell_type": "code",
   "execution_count": 16,
   "metadata": {},
   "outputs": [
    {
     "data": {
      "text/plain": [
       "499"
      ]
     },
     "execution_count": 16,
     "metadata": {},
     "output_type": "execute_result"
    }
   ],
   "source": [
    "i_iter"
   ]
  },
  {
   "cell_type": "markdown",
   "metadata": {},
   "source": [
    "Then, we draw $\\text{u}$, that is, the evolution of the control signal during the experiment."
   ]
  },
  {
   "cell_type": "code",
   "execution_count": 17,
   "metadata": {},
   "outputs": [
    {
     "data": {
      "text/plain": [
       "array([ 15. ,  15. ,  15. ,  15. ,  15. ,  15. ,  15. ,  15. , -22.5,\n",
       "       -22.5,   0. ,   0. ,   0. ,   0. ,   0. ])"
      ]
     },
     "execution_count": 17,
     "metadata": {},
     "output_type": "execute_result"
    }
   ],
   "source": [
    "a[0, :]"
   ]
  },
  {
   "cell_type": "code",
   "execution_count": 18,
   "metadata": {},
   "outputs": [
    {
     "data": {
      "text/plain": [
       "<matplotlib.text.Text at 0x1077ee6d8>"
      ]
     },
     "execution_count": 18,
     "metadata": {},
     "output_type": "execute_result"
    },
    {
     "data": {
      "image/png": "[encoded data removed]",
      "text/plain": [
       "<matplotlib.figure.Figure at 0x1077c7278>"
      ]
     },
     "metadata": {},
     "output_type": "display_data"
    }
   ],
   "source": [
    "fig_width = 15\n",
    "fig, ax = plt.subplots(1, 1, figsize=(fig_width, fig_width/1.618))\n",
    "N_show = 10\n",
    "from cycler import cycler\n",
    "ax.set_prop_cycle(cycler('color', [plt.cm.magma(h) for h in np.linspace(0, 1, N_show)]))\n",
    "\n",
    "ax.plot(time, a[::(niter//N_show), :].T, '-', alpha=.5, lw=1)\n",
    "ax.set_title(r'Control signal $u$')\n",
    "ax.set_xlabel('Time (ms)', fontsize=14)\n",
    "ax.set_ylabel('U ', fontsize=14)\n",
    "#ax.set_xlim(0, 150)\n"
   ]
  },
  {
   "cell_type": "markdown",
   "metadata": {},
   "source": [
    "We can also draw the evolution of the position during the movement."
   ]
  },
  {
   "cell_type": "code",
   "execution_count": 19,
   "metadata": {},
   "outputs": [
    {
     "data": {
      "image/png": "[encoded data removed]",
      "text/plain": [
       "<matplotlib.figure.Figure at 0x1077b1b00>"
      ]
     },
     "metadata": {},
     "output_type": "display_data"
    }
   ],
   "source": [
    "position = np.zeros(T+R);\n",
    "\n",
    "for i in np.arange(T+R):\n",
    "    position[i] = (expectation(A, B, x0, u, i))[0];\n",
    "    \n",
    "plt.plot(position)\n",
    "plt.show()"
   ]
  },
  {
   "cell_type": "code",
   "execution_count": 20,
   "metadata": {},
   "outputs": [
    {
     "data": {
      "image/png": "[encoded data removed]",
      "text/plain": [
       "<matplotlib.figure.Figure at 0x107ec44a8>"
      ]
     },
     "metadata": {},
     "output_type": "display_data"
    }
   ],
   "source": [
    "speed = np.zeros(T+R);\n",
    "\n",
    "for i in np.arange(T+R-1):\n",
    "    speed[i] = (expectation(A, B, x0, u, i+1))[0]-(expectation(A, B, x0, u, i))[0];\n",
    "    \n",
    "plt.plot(speed)\n",
    "plt.show()"
   ]
  },
  {
   "cell_type": "code",
   "execution_count": 21,
   "metadata": {},
   "outputs": [
    {
     "data": {
      "image/png": "[encoded data removed]",
      "text/plain": [
       "<matplotlib.figure.Figure at 0x107f8c3c8>"
      ]
     },
     "metadata": {},
     "output_type": "display_data"
    }
   ],
   "source": [
    "varia = np.zeros(T+R);\n",
    "\n",
    "for i in np.arange(T+R):\n",
    "    varia[i] = variance(A, B, k, u, i);\n",
    "    \n",
    "plt.plot(varia)\n",
    "plt.show()"
   ]
  },
  {
   "cell_type": "markdown",
   "metadata": {},
   "source": [
    "Finally, we trace the position at time T for each iteration."
   ]
  },
  {
   "cell_type": "code",
   "execution_count": 22,
   "metadata": {},
   "outputs": [
    {
     "data": {
      "image/png": "[encoded data removed]",
      "text/plain": [
       "<matplotlib.figure.Figure at 0x107b5f240>"
      ]
     },
     "metadata": {},
     "output_type": "display_data"
    }
   ],
   "source": [
    "positionT = np.zeros(10);\n",
    "\n",
    "for i in np.arange(10):\n",
    "    positionT[i] = (expectation(A, B, x0, a[i], T+1))[0];\n",
    "    \n",
    "plt.plot(positionT)\n",
    "plt.show()"
   ]
  }
 ],
 "metadata": {
  "kernelspec": {
   "display_name": "Python 3",
   "language": "python",
   "name": "python3"
  },
  "language_info": {
   "codemirror_mode": {
    "name": "ipython",
    "version": 3
   },
   "file_extension": ".py",
   "mimetype": "text/x-python",
   "name": "python",
   "nbconvert_exporter": "python",
   "pygments_lexer": "ipython3",
   "version": "3.4.2"
  }
 },
 "nbformat": 4,
 "nbformat_minor": 2
}
