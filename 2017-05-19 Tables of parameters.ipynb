{
 "cells": [
  {
   "cell_type": "code",
   "execution_count": 1,
   "metadata": {
    "collapsed": true
   },
   "outputs": [],
   "source": [
    "import numpy as np\n",
    "import pandas as pd"
   ]
  },
  {
   "cell_type": "code",
   "execution_count": 2,
   "metadata": {
    "collapsed": true
   },
   "outputs": [],
   "source": [
    "k = np.array([0.0000005,0.000005,0.00005,0.0001,0.0005,0.001,0.005,0.01,0.02,0.03,0.04,0.05,0.07,0.1,0.3,0.5,0.7,1])\n",
    "position_at_time_T = np.array([9.9956,9.9585,9.69276,9.49017,8.64413,8.08835,6.35500,5.46535,4.52218,3.96931,3.58235,3.28615,2.85099,2.40683,1.23859,0.84395,0.64121,0.47176])"
   ]
  },
  {
   "cell_type": "code",
   "execution_count": 3,
   "metadata": {
    "collapsed": true
   },
   "outputs": [],
   "source": [
    "record = pd.DataFrame()\n",
    "\n",
    "for i in np.arange(18):\n",
    "    record_one = pd.DataFrame([{'position at time T':position_at_time_T[i],'k value':k[i]}],index=[i])\n",
    "    record = pd.concat([record, record_one])"
   ]
  },
  {
   "cell_type": "code",
   "execution_count": 4,
   "metadata": {},
   "outputs": [
    {
     "data": {
      "text/html": [
       "<div>\n",
       "<style>\n",
       "    .dataframe thead tr:only-child th {\n",
       "        text-align: right;\n",
       "    }\n",
       "\n",
       "    .dataframe thead th {\n",
       "        text-align: left;\n",
       "    }\n",
       "\n",
       "    .dataframe tbody tr th {\n",
       "        vertical-align: top;\n",
       "    }\n",
       "</style>\n",
       "<table border=\"1\" class=\"dataframe\">\n",
       "  <thead>\n",
       "    <tr style=\"text-align: right;\">\n",
       "      <th></th>\n",
       "      <th>k value</th>\n",
       "      <th>position at time T</th>\n",
       "    </tr>\n",
       "  </thead>\n",
       "  <tbody>\n",
       "    <tr>\n",
       "      <th>0</th>\n",
       "      <td>5.000000e-07</td>\n",
       "      <td>9.99560</td>\n",
       "    </tr>\n",
       "    <tr>\n",
       "      <th>1</th>\n",
       "      <td>5.000000e-06</td>\n",
       "      <td>9.95850</td>\n",
       "    </tr>\n",
       "    <tr>\n",
       "      <th>2</th>\n",
       "      <td>5.000000e-05</td>\n",
       "      <td>9.69276</td>\n",
       "    </tr>\n",
       "    <tr>\n",
       "      <th>3</th>\n",
       "      <td>1.000000e-04</td>\n",
       "      <td>9.49017</td>\n",
       "    </tr>\n",
       "    <tr>\n",
       "      <th>4</th>\n",
       "      <td>5.000000e-04</td>\n",
       "      <td>8.64413</td>\n",
       "    </tr>\n",
       "    <tr>\n",
       "      <th>5</th>\n",
       "      <td>1.000000e-03</td>\n",
       "      <td>8.08835</td>\n",
       "    </tr>\n",
       "    <tr>\n",
       "      <th>6</th>\n",
       "      <td>5.000000e-03</td>\n",
       "      <td>6.35500</td>\n",
       "    </tr>\n",
       "    <tr>\n",
       "      <th>7</th>\n",
       "      <td>1.000000e-02</td>\n",
       "      <td>5.46535</td>\n",
       "    </tr>\n",
       "    <tr>\n",
       "      <th>8</th>\n",
       "      <td>2.000000e-02</td>\n",
       "      <td>4.52218</td>\n",
       "    </tr>\n",
       "    <tr>\n",
       "      <th>9</th>\n",
       "      <td>3.000000e-02</td>\n",
       "      <td>3.96931</td>\n",
       "    </tr>\n",
       "    <tr>\n",
       "      <th>10</th>\n",
       "      <td>4.000000e-02</td>\n",
       "      <td>3.58235</td>\n",
       "    </tr>\n",
       "    <tr>\n",
       "      <th>11</th>\n",
       "      <td>5.000000e-02</td>\n",
       "      <td>3.28615</td>\n",
       "    </tr>\n",
       "    <tr>\n",
       "      <th>12</th>\n",
       "      <td>7.000000e-02</td>\n",
       "      <td>2.85099</td>\n",
       "    </tr>\n",
       "    <tr>\n",
       "      <th>13</th>\n",
       "      <td>1.000000e-01</td>\n",
       "      <td>2.40683</td>\n",
       "    </tr>\n",
       "    <tr>\n",
       "      <th>14</th>\n",
       "      <td>3.000000e-01</td>\n",
       "      <td>1.23859</td>\n",
       "    </tr>\n",
       "    <tr>\n",
       "      <th>15</th>\n",
       "      <td>5.000000e-01</td>\n",
       "      <td>0.84395</td>\n",
       "    </tr>\n",
       "    <tr>\n",
       "      <th>16</th>\n",
       "      <td>7.000000e-01</td>\n",
       "      <td>0.64121</td>\n",
       "    </tr>\n",
       "    <tr>\n",
       "      <th>17</th>\n",
       "      <td>1.000000e+00</td>\n",
       "      <td>0.47176</td>\n",
       "    </tr>\n",
       "  </tbody>\n",
       "</table>\n",
       "</div>"
      ],
      "text/plain": [
       "         k value  position at time T\n",
       "0   5.000000e-07             9.99560\n",
       "1   5.000000e-06             9.95850\n",
       "2   5.000000e-05             9.69276\n",
       "3   1.000000e-04             9.49017\n",
       "4   5.000000e-04             8.64413\n",
       "5   1.000000e-03             8.08835\n",
       "6   5.000000e-03             6.35500\n",
       "7   1.000000e-02             5.46535\n",
       "8   2.000000e-02             4.52218\n",
       "9   3.000000e-02             3.96931\n",
       "10  4.000000e-02             3.58235\n",
       "11  5.000000e-02             3.28615\n",
       "12  7.000000e-02             2.85099\n",
       "13  1.000000e-01             2.40683\n",
       "14  3.000000e-01             1.23859\n",
       "15  5.000000e-01             0.84395\n",
       "16  7.000000e-01             0.64121\n",
       "17  1.000000e+00             0.47176"
      ]
     },
     "execution_count": 4,
     "metadata": {},
     "output_type": "execute_result"
    }
   ],
   "source": [
    "record"
   ]
  },
  {
   "cell_type": "code",
   "execution_count": 5,
   "metadata": {
    "collapsed": true
   },
   "outputs": [],
   "source": [
    "dt = np.array([0.01, 0.005, 0.0025, 0.002, 0.001])\n",
    "eta = np.array([0.2, 0.021, 0.003, 0.0017, 0.00034])\n",
    "n_iter = np.array([20000, 50000, 150000, 200000, 500000])\n",
    "time_to_converge = np.array(['16s', '2min', '20min', '40min', '6h15min'])"
   ]
  },
  {
   "cell_type": "code",
   "execution_count": 6,
   "metadata": {
    "collapsed": true
   },
   "outputs": [],
   "source": [
    "record2 = pd.DataFrame()\n",
    "\n",
    "for i in np.arange(5):\n",
    "    record_one2 = pd.DataFrame([{'dt':dt[i], 'eta':eta[i], 'n_iter':n_iter[i], 'time to converge':time_to_converge[i]}],index=[i])\n",
    "    record2 = pd.concat([record2, record_one2])"
   ]
  },
  {
   "cell_type": "code",
   "execution_count": 7,
   "metadata": {},
   "outputs": [
    {
     "data": {
      "text/html": [
       "<div>\n",
       "<style>\n",
       "    .dataframe thead tr:only-child th {\n",
       "        text-align: right;\n",
       "    }\n",
       "\n",
       "    .dataframe thead th {\n",
       "        text-align: left;\n",
       "    }\n",
       "\n",
       "    .dataframe tbody tr th {\n",
       "        vertical-align: top;\n",
       "    }\n",
       "</style>\n",
       "<table border=\"1\" class=\"dataframe\">\n",
       "  <thead>\n",
       "    <tr style=\"text-align: right;\">\n",
       "      <th></th>\n",
       "      <th>dt</th>\n",
       "      <th>eta</th>\n",
       "      <th>n_iter</th>\n",
       "      <th>time to converge</th>\n",
       "    </tr>\n",
       "  </thead>\n",
       "  <tbody>\n",
       "    <tr>\n",
       "      <th>0</th>\n",
       "      <td>0.0100</td>\n",
       "      <td>0.20000</td>\n",
       "      <td>20000</td>\n",
       "      <td>16s</td>\n",
       "    </tr>\n",
       "    <tr>\n",
       "      <th>1</th>\n",
       "      <td>0.0050</td>\n",
       "      <td>0.02100</td>\n",
       "      <td>50000</td>\n",
       "      <td>2min</td>\n",
       "    </tr>\n",
       "    <tr>\n",
       "      <th>2</th>\n",
       "      <td>0.0025</td>\n",
       "      <td>0.00300</td>\n",
       "      <td>150000</td>\n",
       "      <td>20min</td>\n",
       "    </tr>\n",
       "    <tr>\n",
       "      <th>3</th>\n",
       "      <td>0.0020</td>\n",
       "      <td>0.00170</td>\n",
       "      <td>200000</td>\n",
       "      <td>40min</td>\n",
       "    </tr>\n",
       "    <tr>\n",
       "      <th>4</th>\n",
       "      <td>0.0010</td>\n",
       "      <td>0.00034</td>\n",
       "      <td>500000</td>\n",
       "      <td>6h15min</td>\n",
       "    </tr>\n",
       "  </tbody>\n",
       "</table>\n",
       "</div>"
      ],
      "text/plain": [
       "       dt      eta  n_iter time to converge\n",
       "0  0.0100  0.20000   20000              16s\n",
       "1  0.0050  0.02100   50000             2min\n",
       "2  0.0025  0.00300  150000            20min\n",
       "3  0.0020  0.00170  200000            40min\n",
       "4  0.0010  0.00034  500000          6h15min"
      ]
     },
     "execution_count": 7,
     "metadata": {},
     "output_type": "execute_result"
    }
   ],
   "source": [
    "record2"
   ]
  }
 ],
 "metadata": {
  "kernelspec": {
   "display_name": "Python 3",
   "language": "python",
   "name": "python3"
  },
  "language_info": {
   "codemirror_mode": {
    "name": "ipython",
    "version": 3
   },
   "file_extension": ".py",
   "mimetype": "text/x-python",
   "name": "python",
   "nbconvert_exporter": "python",
   "pygments_lexer": "ipython3",
   "version": "3.4.2"
  }
 },
 "nbformat": 4,
 "nbformat_minor": 2
}
