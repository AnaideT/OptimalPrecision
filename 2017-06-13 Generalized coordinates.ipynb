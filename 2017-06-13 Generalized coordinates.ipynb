{
 "cells": [
  {
   "cell_type": "markdown",
   "metadata": {},
   "source": [
    "# Generalized coordinates"
   ]
  },
  {
   "cell_type": "code",
   "execution_count": 1,
   "metadata": {
    "collapsed": true
   },
   "outputs": [],
   "source": [
    "import numpy as np\n",
    "import matplotlib.pyplot as plt\n",
    "%matplotlib inline\n",
    "from decimal import Decimal"
   ]
  },
  {
   "cell_type": "code",
   "execution_count": 2,
   "metadata": {
    "collapsed": true
   },
   "outputs": [],
   "source": [
    "from PlotFunctions import plot_signal, plot_position, plot_velocity, plot_variance, all_plots\n",
    "%run PlotFunctions.py\n",
    "\n",
    "#plot_signal(record_signal, record_each, n_iter, t_T, t_R, dt)\n",
    "#plot_position(record_position, record_each, n_iter, t_T, t_R, dt)\n",
    "#plot_velocity(record_velocity, record_each, n_iter, t_T, t_R, dt)\n",
    "#plot_variance(record_variance, record_each, n_iter, t_T, t_R, dt)\n",
    "#all_plots(record, bang_data, record_each, n_iter, t_T, t_R, dt, xT, v)"
   ]
  },
  {
   "cell_type": "markdown",
   "metadata": {},
   "source": [
    "## Definition\n",
    "For the linear models of the eye and arm, we consider a single-input single-output discrete-time system under control with the following state-update equation:\n",
    "$$\n",
    "\\tilde{x}_{t+1} = A\\tilde{x}_t+B\\left (u_t+w_t \\right)\n",
    "$$  \n",
    "where $\\tilde{x}_t$ is the $n$-dimentional state at time $t$, $\\tilde{x}_{t+1}$ is the $n$-dimentional state at time $t+dt$, $u_t$ the neural driving signal at time $t$, $w_t$ is a white noise with mean zero and variance $ku_t^2$, $A$ is a fixed $n \\times n$ matrix and B is a $n \\times 1$ vector both describing the dynamics of the system."
   ]
  },
  {
   "cell_type": "markdown",
   "metadata": {},
   "source": [
    "Here, A will be the following matrix:  \n",
    "\n",
    "$$ A = \n",
    "\\begin{bmatrix}\n",
    "1 & dt & \\frac{dt^2}{2} & \\cdots & \\frac{dt^n}{n!}\\\\\n",
    "0 & 1 & dt & \\ddots & \\vdots \\\\\n",
    "\\vdots & \\ddots & \\ddots & \\ddots & \\vdots\\\\\n",
    "0 & 0 & 0 & 1 & dt \\\\\n",
    "0 & \\cdots & \\cdots & \\cdots & 1-\\frac{dt}{\\tau}\n",
    "\\end{bmatrix}\n",
    "\\textbf{ }\\textbf{ }\\textbf{ }\\textbf{ }and\\textbf{ }\\textbf{ }\\textbf{ }\\textbf{ }\n",
    "B = \\begin{bmatrix} 0 \\\\ 0 \\\\ \\vdots \\\\ 0 \\\\ dt\\end{bmatrix}\n",
    "$$  \n",
    "  \n",
    "We choose this matrix since, according to the Taylor's formula:  \n",
    "$ x\\left (t+dt \\right) = x\\left (t \\right) + dt\\times \\dot{x}\\left (t \\right) + \\frac{dt^2}{2}\\times \\ddot{x}\\left (t \\right)+ \\dots + \\frac{dt^n}{n!}\\times x^{(n)}\\left (t \\right) + \\mathcal{o}\\left(dt^n\\right)\n",
    "$\n",
    "and  \n",
    "$x^{(n)}\\left (t+dt \\right) = \\left ( 1 - \\frac{dt}{\\tau} \\right)x^{(n)}\\left (t \\right) + dt\\left (u \\left (t\\right) + w\\left (t\\right) \\right)\n",
    "$"
   ]
  },
  {
   "cell_type": "code",
   "execution_count": 3,
   "metadata": {
    "collapsed": true
   },
   "outputs": [],
   "source": [
    "def fact(n): \n",
    "    \"\"\"The factorial function\n",
    "    Returns n!, that is n x (n-1) x (n-2) x ... x 1\n",
    "    Recursive implementation\n",
    "    \"\"\"\n",
    "    if n == 0:\n",
    "        return 1\n",
    "    else:\n",
    "        return(n*fact(n-1))"
   ]
  },
  {
   "cell_type": "code",
   "execution_count": 4,
   "metadata": {
    "collapsed": true
   },
   "outputs": [],
   "source": [
    "tau = 0.013\n",
    "dt = 0.001 # step time\n",
    "n = 2 # number of coordinates\n",
    "k = 0.01 # kind of accuracy parameter: the smaller k is, the more accurate is the pointing"
   ]
  },
  {
   "cell_type": "code",
   "execution_count": 5,
   "metadata": {
    "collapsed": true
   },
   "outputs": [],
   "source": [
    "# definition of A and B\n",
    "\n",
    "A = np.zeros((n,n))\n",
    "B = np.zeros(n)\n",
    "for i in np.arange(n):\n",
    "    for j in np.arange(i,n):\n",
    "        A[i,j] = dt**(j-i)/fact(j-i)\n",
    "A[n-1, n-1] = 1-dt/tau\n",
    "B[n-1] = dt"
   ]
  },
  {
   "cell_type": "code",
   "execution_count": 6,
   "metadata": {
    "collapsed": true
   },
   "outputs": [],
   "source": [
    "target = np.array([1,5,10,15,20,25,30,35,40])\n",
    "t_Tv = 0.03+0.002*5+0*target#0.02468+0.001739*target # see Transitioning from Saccade to SPEM using LQTC, Korentis & Enderle"
   ]
  },
  {
   "cell_type": "code",
   "execution_count": 7,
   "metadata": {},
   "outputs": [
    {
     "data": {
      "text/plain": [
       "array([ 0.04,  0.04,  0.04,  0.04,  0.04,  0.04,  0.04,  0.04,  0.04])"
      ]
     },
     "execution_count": 7,
     "metadata": {},
     "output_type": "execute_result"
    }
   ],
   "source": [
    "t_Tv"
   ]
  },
  {
   "cell_type": "code",
   "execution_count": 8,
   "metadata": {
    "collapsed": true
   },
   "outputs": [],
   "source": [
    "t_Tv = np.array([0.033,  0.042 ,  0.051,  0.059 ,  0.068,  0.077 , 0.086,  0.094 ])"
   ]
  },
  {
   "cell_type": "code",
   "execution_count": 9,
   "metadata": {
    "collapsed": true
   },
   "outputs": [],
   "source": [
    "t_T =  float(round(Decimal(t_Tv[0]),3)) #.05 # saccade duration\n",
    "t_R =  .1-float(round(Decimal(t_Tv[0]),3)) # .05 # fixing / pursuit duration\n",
    "T = int(np.round(t_T/dt))\n",
    "R = int(np.round(t_R/dt))\n",
    "time = np.linspace(0, t_T+t_R, R+T+1)\n",
    "time_ms = time*1000\n",
    "x0 = np.zeros(n) # starting point\n",
    "xT = np.zeros(n) # ending point\n",
    "xT[0] = 0.5\n",
    "x0[0] = 0\n",
    "x0[1] = 5\n",
    "v = 10\n",
    "#v = 10*np.cos(20*np.pi*time) # velocity of the target (deg/s)\n"
   ]
  },
  {
   "cell_type": "code",
   "execution_count": 10,
   "metadata": {
    "collapsed": true
   },
   "outputs": [],
   "source": [
    "def xT_f(t):\n",
    "#    return np.array([40+10/np.pi*np.cos(2*np.pi*t*dt), -20*np.sin(2*np.pi*t*dt)])\n",
    "    return np.array([target[0]+v*t*dt,v])"
   ]
  },
  {
   "cell_type": "code",
   "execution_count": 11,
   "metadata": {},
   "outputs": [
    {
     "name": "stdout",
     "output_type": "stream",
     "text": [
      "[ 1.    1.01  1.02  1.03  1.04  1.05  1.06  1.07  1.08  1.09  1.1   1.11\n",
      "  1.12  1.13  1.14  1.15  1.16  1.17  1.18  1.19  1.2   1.21  1.22  1.23\n",
      "  1.24  1.25  1.26  1.27  1.28  1.29  1.3   1.31  1.32  1.33  1.34  1.35\n",
      "  1.36  1.37  1.38  1.39  1.4   1.41  1.42  1.43  1.44  1.45  1.46  1.47\n",
      "  1.48  1.49  1.5   1.51  1.52  1.53  1.54  1.55  1.56  1.57  1.58  1.59\n",
      "  1.6   1.61  1.62  1.63  1.64  1.65  1.66  1.67  1.68  1.69  1.7   1.71\n",
      "  1.72  1.73  1.74  1.75  1.76  1.77  1.78  1.79  1.8   1.81  1.82  1.83\n",
      "  1.84  1.85  1.86  1.87  1.88  1.89  1.9   1.91  1.92  1.93  1.94  1.95\n",
      "  1.96  1.97  1.98  1.99  2.  ]\n"
     ]
    }
   ],
   "source": [
    "xx = np.zeros(T+R+1)\n",
    "vv = np.zeros(T+R+1)\n",
    "for i in np.arange(T+R+1):\n",
    "    xx[i] = xT_f(i)[0]\n",
    "    vv[i] = xT_f(i)[1]\n",
    "print(xx)"
   ]
  },
  {
   "cell_type": "code",
   "execution_count": 12,
   "metadata": {},
   "outputs": [
    {
     "data": {
      "text/plain": [
       "[<matplotlib.lines.Line2D at 0x7f302e3bbe80>]"
      ]
     },
     "execution_count": 12,
     "metadata": {},
     "output_type": "execute_result"
    },
    {
     "data": {
      "image/png": "[encoded data removed]",
      "text/plain": [
       "<matplotlib.figure.Figure at 0x7f30308c7ac8>"
      ]
     },
     "metadata": {},
     "output_type": "display_data"
    }
   ],
   "source": [
    "plt.plot(xx)"
   ]
  },
  {
   "cell_type": "markdown",
   "metadata": {},
   "source": [
    "## Mean and covariance matrix\n",
    "$\\tilde{x}_t = A\\tilde{x}_{t-1}+B\\left (u_{t-1}+w_{t-1} \\right) \\\\\n",
    "\\tilde{x}_t = A \\left (A\\tilde{x}_{t-2}+B\\left (u_{t-2}+w_{t-2} \\right)\\right) + B\\left (u_{t-1}+w_{t-1} \\right) \\\\\n",
    "...\\\\\n",
    "\\tilde{x}_t = A^t \\tilde{x}_0 + \\sum \\limits_{i=0}^{t-1}{A^{t-1-i}B \\left (u_i+w_i \\right)}\n",
    "$\n",
    "  \n",
    "We deduce the mean:\n",
    "$E\\left [\\tilde{x}_t \\right] = A^t \\tilde{x}_0 + \\sum \\limits_{i=0}^{t-1}{A^{t-1-i}Bu_i}$ since $E\\left [w_t \\right] = 0$.\n",
    "\n",
    "\n",
    "Then, $cov\\left [\\tilde{x}_t\\right ] = \\sum \\limits_{i=0}^{t-1}{\\left (A^{t-1-i}B \\right )\\left (A^{t-1-i}B \\right )^T E\\left [w_t^2 \\right]} = k\\sum \\limits_{i=0}^{t-1}{\\left (A^{t-1-i}B \\right )\\left (A^{t-1-i}B \\right )^T u_t^2}$\n"
   ]
  },
  {
   "cell_type": "markdown",
   "metadata": {},
   "source": [
    "  \n",
    "## Minimum-variance problem\n",
    "Here, the problem we consider consists in minimizing the sum of the variance of the position after reaching the target. Let $V_t$ be the top-left value in the covariance matrix at time $t$. Then, we want to minimize $\\sum \\limits_{t=T+1}^{T+R}V_t +bias$. "
   ]
  },
  {
   "cell_type": "code",
   "execution_count": 13,
   "metadata": {
    "collapsed": true
   },
   "outputs": [],
   "source": [
    "def power(A, n): \n",
    "    \"\"\"\n",
    "    renvoie A puissance n où A est une matrice carrée\n",
    "        \n",
    "    \"\"\"\n",
    "    if n == 0:\n",
    "        return(np.eye(int(np.sqrt(np.size(A)))))\n",
    "    elif n == 1:\n",
    "        return A\n",
    "    else:\n",
    "        if n % 2 == 0:\n",
    "            A_half = power(A, n//2)\n",
    "            return(A_half.dot(A_half))\n",
    "        else:\n",
    "            A_half = power(A, (n-1)//2)\n",
    "            return(A.dot(A_half.dot(A_half)))\n",
    "\n",
    "def A_pow(A):\n",
    "    A_pow_array = np.zeros((T+R+1,n,n))\n",
    "\n",
    "    for i in np.arange(T+R+1):\n",
    "        A_pow_array[i] = power(A,i)\n",
    "    return A_pow_array\n",
    "\n",
    "A_pow_array = A_pow(A)\n",
    "\n",
    "def pow_fast(n):\n",
    "    return A_pow_array[n]\n",
    "\n",
    "ci0_array = np.zeros(T+R+1)\n",
    "\n",
    "for i in np.arange(T+R+1):\n",
    "    ci0_array[i] = (pow_fast(i).dot(B))[0]\n",
    "\n",
    "ci1_array = np.zeros(T+R+1)\n",
    "\n",
    "for i in np.arange(T+R+1):\n",
    "    ci1_array[i] = (pow_fast(i).dot(B))[1]\n",
    "    \n",
    "#ci2_array = np.zeros(T+R+1)\n",
    "\n",
    "#for i in np.arange(T+R+1):\n",
    "#    ci2_array[i] = (pow_fast(i).dot(B))[2]\n",
    "    \n",
    "#ci3_array = np.zeros(T+R+1)\n",
    "\n",
    "#for i in np.arange(T+R+1):\n",
    "#    ci3_array[i] = (pow_fast(i).dot(B))[3]\n",
    "\n",
    "ci = np.array([ci0_array, ci1_array])#, ci2_array])"
   ]
  },
  {
   "cell_type": "code",
   "execution_count": 14,
   "metadata": {
    "collapsed": true
   },
   "outputs": [],
   "source": [
    "def expectation(u, t):\n",
    "    \"\"\"Computation of the expectation of the state vector at time t, given u\n",
    "    \"\"\"\n",
    "    if t == 0:\n",
    "        return x0\n",
    "    else:\n",
    "        return pow_fast(t).dot(x0)+(ci[:,0:t]*np.flipud(u[0:t])).sum(axis = 1)"
   ]
  },
  {
   "cell_type": "code",
   "execution_count": 15,
   "metadata": {
    "collapsed": true
   },
   "outputs": [],
   "source": [
    "mult_v = np.array([0.01, 1]) # we select the level of each parameter in the cost function\n",
    "#mult_v2 = np.array([1, .0001])"
   ]
  },
  {
   "cell_type": "code",
   "execution_count": 16,
   "metadata": {
    "collapsed": true
   },
   "outputs": [],
   "source": [
    "def variance(u, t):\n",
    "    \"\"\"Computation of the variance of the state vector at time t, given u\n",
    "    \"\"\"\n",
    "    return k*(np.flipud(ci0_array[0:t]**2)*u[0:t]**2).sum()#*mult_v2[0]+k*(np.flipud(ci1_array[0:t]**2)*u[0:t]**2).sum()*mult_v2[1]"
   ]
  },
  {
   "cell_type": "code",
   "execution_count": 17,
   "metadata": {
    "collapsed": true
   },
   "outputs": [],
   "source": [
    "def bias(u, t):\n",
    "    \"\"\"Computation of the bias of the state vector at time t, given u\n",
    "    \"\"\"\n",
    "    return (((expectation(u, t)-(xT_f(t)))**2)*mult_v).sum()"
   ]
  },
  {
   "cell_type": "markdown",
   "metadata": {
    "collapsed": true
   },
   "source": [
    " \n",
    "This can be formulated as a quadratic programming problem, which we solved using a gradient descent."
   ]
  },
  {
   "cell_type": "markdown",
   "metadata": {},
   "source": [
    "## Gradient descent\n",
    "\n",
    "Let $\\mathscr{C}$ be the cost function to minimize.  \n",
    "That is, we want to find $\\textbf{u}_{\\textbf{opt}} = \\underset{u_0, ..., u_{T+R}}{argmin} \\left (\\sum \\limits_{t=T+1}^{T+R}V_t  + \\sum \\limits_{t=T}^{T+R}\\|E\\left [\\tilde{x}_t\\right] - x_T \\|^2 \\right )= \\underset{u_0, ..., u_{T+R}}{argmin}\\left(\\mathscr{C}\\left (\\textbf{u}\\right)\\right)$.\n",
    "\n"
   ]
  },
  {
   "cell_type": "code",
   "execution_count": 18,
   "metadata": {
    "collapsed": true
   },
   "outputs": [],
   "source": [
    "def cost(u):\n",
    "    def var1d(t):\n",
    "        return(variance(u,t))\n",
    "    var_vec = np.vectorize(var1d)\n",
    "    def bias1d(t):\n",
    "        return(bias(u,t))\n",
    "    bias_vec = np.vectorize(bias1d)\n",
    "    return var_vec(T+1+np.arange(R)).sum() + bias_vec(T+np.arange(R+1)).sum()"
   ]
  },
  {
   "cell_type": "markdown",
   "metadata": {
    "collapsed": true
   },
   "source": [
    "Iterating the following process, we will get the right $\\textbf{u}_{\\textbf{opt}}$ :  \n",
    "$\\forall i \\in \\left \\{ 0, ..., T+R-1 \\right \\} : u_i = u_i - \\eta \\times \\frac{\\partial \\mathscr{C}\\left(\\textbf{u}\\right)}{\\partial u_i}$"
   ]
  },
  {
   "cell_type": "code",
   "execution_count": 19,
   "metadata": {
    "collapsed": true
   },
   "outputs": [],
   "source": [
    "def cost_deriv(u, i):\n",
    "    \"\"\"Derivative of the cost function with respect to u_i\n",
    "    \"\"\"\n",
    "    if i < T:\n",
    "        return (2*np.transpose(ci[:,(T-i-1):(T+R-i)])*np.array([((expectation(u,t)-xT_f(t))*mult_v).tolist() for t in (T+np.arange(R+1))])).sum() + 2*k*u[i]*(ci0_array[(T+1-i-1):(T+R-i)]**2).sum()\n",
    "    else:\n",
    "        return (2*np.transpose(ci[:,0:(T+R-i)])*np.array([((expectation(u,t)-xT_f(t))*mult_v).tolist() for t in (i+1+np.arange(R+T-i))])).sum() + 2*k*u[i]*(ci0_array[0:(T+R-i)]**2).sum()"
   ]
  },
  {
   "cell_type": "code",
   "execution_count": 20,
   "metadata": {
    "collapsed": true
   },
   "outputs": [],
   "source": [
    "niter = 10000 # 10000\n",
    "eta = 6000 # 6000"
   ]
  },
  {
   "cell_type": "code",
   "execution_count": 21,
   "metadata": {
    "collapsed": true
   },
   "outputs": [],
   "source": [
    "import time"
   ]
  },
  {
   "cell_type": "code",
   "execution_count": 22,
   "metadata": {
    "collapsed": true
   },
   "outputs": [],
   "source": [
    "ubang = np.ones(T+R+1)*v/tau"
   ]
  },
  {
   "cell_type": "code",
   "execution_count": 23,
   "metadata": {
    "collapsed": true,
    "scrolled": false
   },
   "outputs": [],
   "source": [
    "debut = time.time()\n",
    "\n",
    "u = ubang.copy()\n",
    "a = np.zeros((niter+1, T+R+1)) # To save the evolution of the values of u at each iteration\n",
    "a[0, :] = u.copy()\n",
    "u_old = u.copy()\n",
    "\n",
    "\n",
    "#for i_iter in np.arange(niter):\n",
    "#for i_iter in range(niter):\n",
    "#    u_old = u.copy()\n",
    "#    u[0:T+R] = u_old[0:T+R] - eta*np.array([cost_deriv(u_old, i) for i in range(T+R)])\n",
    "#    a[i_iter+1, :] = u.copy()\n",
    "\n",
    "test = eta*np.array([cost_deriv(u_old, i) for i in np.arange(T+R)])\n",
    "\n",
    "for i_iter in np.arange(niter):\n",
    "    #u_old = u.copy()\n",
    "    u[0:T+R] = u_old[0:T+R] - test\n",
    "    a[i_iter+1, :] = u.copy()\n",
    "\n",
    "fin = time.time()"
   ]
  },
  {
   "cell_type": "code",
   "execution_count": 24,
   "metadata": {},
   "outputs": [
    {
     "data": {
      "text/plain": [
       "array([ 771.57225157,  771.75805535,  771.95934276,  772.17740412,\n",
       "        772.41363724,  772.66955645,  772.94680223,  773.24715182,\n",
       "        773.57253051,  773.92502407,  774.30689207,  774.72058236,\n",
       "        775.1687468 ,  775.65425822,  776.18022888,  776.75003036,\n",
       "        777.36731521,  778.03604038,  778.76049253,  779.54531557,\n",
       "        780.39554038,  781.31661709,  782.31444997,  783.39543536,\n",
       "        784.56650258,  785.8351584 ,  787.20953514,  788.69844283,\n",
       "        790.31142561,  792.05882299,  793.95183608,  796.00259939,\n",
       "        798.22425862,  795.9992429 ,  793.94524964,  792.04912275,\n",
       "        790.29871813,  788.6828258 ,  787.191098  ,  785.81398294,\n",
       "        784.54266351,  783.36900077,  782.28548179,  781.28517149,\n",
       "        780.36166818,  779.5090625 ,  778.7218996 ,  777.99514409,\n",
       "        777.32414785,  776.70462017,  776.13260026,  775.60443188,\n",
       "        775.11673989,  774.6664086 ,  774.25056183,  773.86654444,\n",
       "        773.51190534,  773.18438174,  772.88188468,  772.60248564,\n",
       "        772.34440414,  772.10599637,  771.88574461,  771.68224756,\n",
       "        771.49421129,  771.32044099,  771.15983331,  771.01136926,\n",
       "        770.87410769,  770.74717927,  770.62978093,  770.52117064,\n",
       "        770.42066275,  770.32762354,  770.24146713,  770.16165182,\n",
       "        770.08767652,  770.01907757,  769.95542581,  769.89632377,\n",
       "        769.84140314,  769.79032245,  769.7427648 ,  769.69843591,\n",
       "        769.6570622 ,  769.61838901,  769.58217902,  769.54821069,\n",
       "        769.51627688,  769.48618346,  769.45774814,  769.43079924,\n",
       "        769.40517464,  769.38072071,  769.35729135,  769.33474703,\n",
       "        769.31295391,  769.29178302,  769.27110937,  769.25081121,\n",
       "        769.23076923])"
      ]
     },
     "execution_count": 24,
     "metadata": {},
     "output_type": "execute_result"
    }
   ],
   "source": [
    "u"
   ]
  },
  {
   "cell_type": "code",
   "execution_count": 25,
   "metadata": {
    "scrolled": false
   },
   "outputs": [
    {
     "data": {
      "text/plain": [
       "0.009366055329640707"
      ]
     },
     "execution_count": 25,
     "metadata": {},
     "output_type": "execute_result"
    }
   ],
   "source": [
    "(fin-debut)*100/60/60"
   ]
  },
  {
   "cell_type": "markdown",
   "metadata": {},
   "source": [
    "Then, we draw $\\text{u}$, that is, the evolution of the control signal during the experiment."
   ]
  },
  {
   "cell_type": "code",
   "execution_count": 26,
   "metadata": {
    "scrolled": false
   },
   "outputs": [
    {
     "data": {
      "image/png": "[encoded data removed]",
      "text/plain": [
       "<matplotlib.figure.Figure at 0x7f302e3aed68>"
      ]
     },
     "metadata": {},
     "output_type": "display_data"
    }
   ],
   "source": [
    "plot_signal(a, 500, 10000, t_T, t_R, 0.001)\n",
    "#plot_signal(a, 50, 1000, t_T, t_R, 0.001)"
   ]
  },
  {
   "cell_type": "code",
   "execution_count": 27,
   "metadata": {
    "scrolled": false
   },
   "outputs": [
    {
     "data": {
      "text/plain": [
       "<matplotlib.legend.Legend at 0x7f302dabee80>"
      ]
     },
     "execution_count": 27,
     "metadata": {},
     "output_type": "execute_result"
    },
    {
     "data": {
      "image/png": "[encoded data removed]",
      "text/plain": [
       "<matplotlib.figure.Figure at 0x7f302dba9e48>"
      ]
     },
     "metadata": {},
     "output_type": "display_data"
    }
   ],
   "source": [
    "fig_width = 15\n",
    "fig, ax = plt.subplots(1, 1, figsize=(fig_width, fig_width/1.618))\n",
    "ax.plot(time_ms, a[0], lw=2, label=\"bangbang\")\n",
    "ax.plot(time_ms, a[niter], lw=2, label=\"minimum-variance\")\n",
    "ax.plot([0,(t_T+t_R)*1000],[0,0],'r--')\n",
    "ax.legend()"
   ]
  },
  {
   "cell_type": "code",
   "execution_count": 28,
   "metadata": {
    "collapsed": true
   },
   "outputs": [],
   "source": [
    "position = np.zeros((niter+1,T+R+1))\n",
    "velocity = np.zeros((niter+1,T+R+1))\n",
    "\n",
    "for i in np.arange(niter+1):\n",
    "    for j in np.arange(T+R+1):\n",
    "        mean = expectation(a[i,:], j)\n",
    "        position[i,j] = mean[0]\n",
    "        velocity[i,j] = mean[1]"
   ]
  },
  {
   "cell_type": "code",
   "execution_count": 29,
   "metadata": {
    "scrolled": false
   },
   "outputs": [
    {
     "data": {
      "image/png": "[encoded data removed]",
      "text/plain": [
       "<matplotlib.figure.Figure at 0x7f302dba9ba8>"
      ]
     },
     "metadata": {},
     "output_type": "display_data"
    }
   ],
   "source": [
    "plot_position(position, 500, 10000, t_T, t_R, 0.001)\n",
    "#plot_position(position, 5, 100, t_T, t_R, 0.001)\n"
   ]
  },
  {
   "cell_type": "code",
   "execution_count": 30,
   "metadata": {
    "scrolled": false
   },
   "outputs": [
    {
     "data": {
      "text/plain": [
       "<matplotlib.legend.Legend at 0x7f302da68a20>"
      ]
     },
     "execution_count": 30,
     "metadata": {},
     "output_type": "execute_result"
    },
    {
     "data": {
      "image/png": "[encoded data removed]",
      "text/plain": [
       "<matplotlib.figure.Figure at 0x7f302dba9e80>"
      ]
     },
     "metadata": {},
     "output_type": "display_data"
    }
   ],
   "source": [
    "fig_width = 15\n",
    "fig, ax = plt.subplots(1, 1, figsize=(fig_width, fig_width/1.618))\n",
    "ax.plot(time_ms, position[0], lw=2, label=\"bangbang\")\n",
    "ax.plot(time_ms, position[niter], lw=2, label=\"minimum-variance\")\n",
    "ax.plot(np.linspace(0,(t_T+t_R)*1000,T+R+1), xx,'r--')\n",
    "\n",
    "ax.legend()\n"
   ]
  },
  {
   "cell_type": "code",
   "execution_count": 31,
   "metadata": {
    "scrolled": false
   },
   "outputs": [
    {
     "data": {
      "text/plain": [
       "[<matplotlib.lines.Line2D at 0x7f302daed390>]"
      ]
     },
     "execution_count": 31,
     "metadata": {},
     "output_type": "execute_result"
    },
    {
     "data": {
      "image/png": "[encoded data removed]",
      "text/plain": [
       "<matplotlib.figure.Figure at 0x7f302daedbe0>"
      ]
     },
     "metadata": {},
     "output_type": "display_data"
    }
   ],
   "source": [
    "plot_velocity(velocity, 500, 10000, t_T, t_R, 0.001)\n",
    "#plot_velocity(velocity, 5, 100, t_T, t_R, 0.001)\n",
    "\n",
    "plt.plot(time_ms, vv,'r--')"
   ]
  },
  {
   "cell_type": "code",
   "execution_count": 32,
   "metadata": {
    "scrolled": false
   },
   "outputs": [
    {
     "data": {
      "text/plain": [
       "<matplotlib.legend.Legend at 0x7f302d9ad7b8>"
      ]
     },
     "execution_count": 32,
     "metadata": {},
     "output_type": "execute_result"
    },
    {
     "data": {
      "image/png": "[encoded data removed]",
      "text/plain": [
       "<matplotlib.figure.Figure at 0x7f302d9e5b38>"
      ]
     },
     "metadata": {},
     "output_type": "display_data"
    }
   ],
   "source": [
    "fig_width = 15\n",
    "fig, ax = plt.subplots(1, 1, figsize=(fig_width, fig_width/1.618))\n",
    "ax.plot(time_ms, velocity[0], lw=2, label=\"bangbang\")\n",
    "ax.plot(time_ms, velocity[niter], lw=2, label=\"minimum-variance\")\n",
    "ax.plot(np.linspace(0,(t_T+t_R)*1000,T+R+1), vv,'r--')\n",
    "ax.legend()"
   ]
  },
  {
   "cell_type": "code",
   "execution_count": 33,
   "metadata": {
    "collapsed": true
   },
   "outputs": [],
   "source": [
    "variancev = np.zeros((niter+1,T+R+1))\n",
    "\n",
    "for i in np.arange(niter+1):\n",
    "    for j in np.arange(T+R+1):\n",
    "        variancev[i,j] = variance(a[i,:], j)"
   ]
  },
  {
   "cell_type": "code",
   "execution_count": 40,
   "metadata": {
    "scrolled": false
   },
   "outputs": [
    {
     "data": {
      "image/png": "[encoded data removed]",
      "text/plain": [
       "<matplotlib.figure.Figure at 0x7f2c30bc0550>"
      ]
     },
     "metadata": {},
     "output_type": "display_data"
    }
   ],
   "source": [
    "plot_variance(variancev, 250, 5000, t_T, t_R, 0.001)\n",
    "#plot_variance(variancev, 25, 500, t_T, t_R, 0.001)"
   ]
  },
  {
   "cell_type": "code",
   "execution_count": 41,
   "metadata": {
    "scrolled": false
   },
   "outputs": [
    {
     "data": {
      "text/plain": [
       "<matplotlib.legend.Legend at 0x7f2c30b897f0>"
      ]
     },
     "execution_count": 41,
     "metadata": {},
     "output_type": "execute_result"
    },
    {
     "data": {
      "image/png": "[encoded data removed]",
      "text/plain": [
       "<matplotlib.figure.Figure at 0x7f2c30b74128>"
      ]
     },
     "metadata": {},
     "output_type": "display_data"
    }
   ],
   "source": [
    "fig_width = 15\n",
    "fig, ax = plt.subplots(1, 1, figsize=(fig_width, fig_width/1.618))\n",
    "ax.plot(time_ms, variancev[0], lw=2, label=\"bangbang\")\n",
    "ax.plot(time_ms, variancev[niter], lw=2, label=\"minimum-variance\")\n",
    "ax.legend()"
   ]
  },
  {
   "cell_type": "code",
   "execution_count": 42,
   "metadata": {
    "collapsed": true
   },
   "outputs": [],
   "source": [
    "vel = np.zeros((8,T+R+1))"
   ]
  },
  {
   "cell_type": "code",
   "execution_count": 43,
   "metadata": {
    "collapsed": true
   },
   "outputs": [],
   "source": [
    "pos = np.zeros((8,T+R+1))"
   ]
  },
  {
   "cell_type": "code",
   "execution_count": 44,
   "metadata": {
    "collapsed": true
   },
   "outputs": [],
   "source": [
    "vel[7,:] = velocity[niter]"
   ]
  },
  {
   "cell_type": "code",
   "execution_count": 45,
   "metadata": {
    "collapsed": true
   },
   "outputs": [],
   "source": [
    "pos[7,:] = position[niter]"
   ]
  },
  {
   "cell_type": "code",
   "execution_count": 46,
   "metadata": {},
   "outputs": [
    {
     "ename": "NameError",
     "evalue": "name 'record_position' is not defined",
     "output_type": "error",
     "traceback": [
      "\u001b[0;31m---------------------------------------------------------------------------\u001b[0m",
      "\u001b[0;31mNameError\u001b[0m                                 Traceback (most recent call last)",
      "\u001b[0;32m<ipython-input-46-b166c0e0901a>\u001b[0m in \u001b[0;36m<module>\u001b[0;34m()\u001b[0m\n\u001b[1;32m      7\u001b[0m \u001b[0mfig_width\u001b[0m \u001b[0;34m=\u001b[0m \u001b[0;36m5\u001b[0m\u001b[0;34m\u001b[0m\u001b[0m\n\u001b[1;32m      8\u001b[0m \u001b[0mfig\u001b[0m\u001b[0;34m,\u001b[0m \u001b[0max\u001b[0m \u001b[0;34m=\u001b[0m \u001b[0mplt\u001b[0m\u001b[0;34m.\u001b[0m\u001b[0msubplots\u001b[0m\u001b[0;34m(\u001b[0m\u001b[0;36m1\u001b[0m\u001b[0;34m,\u001b[0m \u001b[0;36m1\u001b[0m\u001b[0;34m,\u001b[0m \u001b[0mfigsize\u001b[0m\u001b[0;34m=\u001b[0m\u001b[0;34m(\u001b[0m\u001b[0mfig_width\u001b[0m\u001b[0;34m,\u001b[0m \u001b[0mfig_width\u001b[0m\u001b[0;34m/\u001b[0m\u001b[0;36m1.618\u001b[0m\u001b[0;34m)\u001b[0m\u001b[0;34m)\u001b[0m\u001b[0;34m\u001b[0m\u001b[0m\n\u001b[0;32m----> 9\u001b[0;31m \u001b[0mplt\u001b[0m\u001b[0;34m.\u001b[0m\u001b[0mplot\u001b[0m\u001b[0;34m(\u001b[0m\u001b[0mnp\u001b[0m\u001b[0;34m.\u001b[0m\u001b[0mlinspace\u001b[0m\u001b[0;34m(\u001b[0m\u001b[0;36m0\u001b[0m\u001b[0;34m,\u001b[0m\u001b[0;36m200\u001b[0m\u001b[0;34m,\u001b[0m\u001b[0;36m2\u001b[0m\u001b[0;34m*\u001b[0m\u001b[0mT\u001b[0m\u001b[0;34m+\u001b[0m\u001b[0;36m2\u001b[0m\u001b[0;34m*\u001b[0m\u001b[0mR\u001b[0m\u001b[0;34m+\u001b[0m\u001b[0;36m1\u001b[0m\u001b[0;34m)\u001b[0m\u001b[0;34m,\u001b[0m \u001b[0mnp\u001b[0m\u001b[0;34m.\u001b[0m\u001b[0mconcatenate\u001b[0m\u001b[0;34m(\u001b[0m\u001b[0;34m(\u001b[0m\u001b[0mrecord_position\u001b[0m\u001b[0;34m[\u001b[0m\u001b[0;36m0\u001b[0m\u001b[0;34m]\u001b[0m\u001b[0;34m,\u001b[0m\u001b[0mnp\u001b[0m\u001b[0;34m.\u001b[0m\u001b[0mones\u001b[0m\u001b[0;34m(\u001b[0m\u001b[0;36m100\u001b[0m\u001b[0;34m)\u001b[0m\u001b[0;34m*\u001b[0m\u001b[0mrecord_position\u001b[0m\u001b[0;34m[\u001b[0m\u001b[0;36m0\u001b[0m\u001b[0;34m]\u001b[0m\u001b[0;34m[\u001b[0m\u001b[0mT\u001b[0m\u001b[0;34m+\u001b[0m\u001b[0mR\u001b[0m\u001b[0;34m]\u001b[0m\u001b[0;34m)\u001b[0m\u001b[0;34m)\u001b[0m\u001b[0;34m,\u001b[0m \u001b[0mcolor\u001b[0m \u001b[0;34m=\u001b[0m \u001b[0mcol\u001b[0m\u001b[0;34m[\u001b[0m\u001b[0;36m0\u001b[0m\u001b[0;34m]\u001b[0m\u001b[0;34m,\u001b[0m \u001b[0mlw\u001b[0m \u001b[0;34m=\u001b[0m \u001b[0;36m2\u001b[0m\u001b[0;34m)\u001b[0m\u001b[0;34m\u001b[0m\u001b[0m\n\u001b[0m\u001b[1;32m     10\u001b[0m \u001b[0mplt\u001b[0m\u001b[0;34m.\u001b[0m\u001b[0mplot\u001b[0m\u001b[0;34m(\u001b[0m\u001b[0mnp\u001b[0m\u001b[0;34m.\u001b[0m\u001b[0mlinspace\u001b[0m\u001b[0;34m(\u001b[0m\u001b[0;36m0\u001b[0m\u001b[0;34m,\u001b[0m\u001b[0;36m200\u001b[0m\u001b[0;34m,\u001b[0m\u001b[0;36m2\u001b[0m\u001b[0;34m*\u001b[0m\u001b[0mT\u001b[0m\u001b[0;34m+\u001b[0m\u001b[0;36m2\u001b[0m\u001b[0;34m*\u001b[0m\u001b[0mR\u001b[0m\u001b[0;34m+\u001b[0m\u001b[0;36m1\u001b[0m\u001b[0;34m)\u001b[0m\u001b[0;34m,\u001b[0m \u001b[0mnp\u001b[0m\u001b[0;34m.\u001b[0m\u001b[0mconcatenate\u001b[0m\u001b[0;34m(\u001b[0m\u001b[0;34m(\u001b[0m\u001b[0mrecord_position\u001b[0m\u001b[0;34m[\u001b[0m\u001b[0;36m1\u001b[0m\u001b[0;34m]\u001b[0m\u001b[0;34m,\u001b[0m\u001b[0mnp\u001b[0m\u001b[0;34m.\u001b[0m\u001b[0mones\u001b[0m\u001b[0;34m(\u001b[0m\u001b[0;36m100\u001b[0m\u001b[0;34m)\u001b[0m\u001b[0;34m*\u001b[0m\u001b[0mrecord_position\u001b[0m\u001b[0;34m[\u001b[0m\u001b[0;36m1\u001b[0m\u001b[0;34m]\u001b[0m\u001b[0;34m[\u001b[0m\u001b[0mT\u001b[0m\u001b[0;34m+\u001b[0m\u001b[0mR\u001b[0m\u001b[0;34m]\u001b[0m\u001b[0;34m)\u001b[0m\u001b[0;34m)\u001b[0m\u001b[0;34m,\u001b[0m \u001b[0mcolor\u001b[0m \u001b[0;34m=\u001b[0m \u001b[0mcol\u001b[0m\u001b[0;34m[\u001b[0m\u001b[0;36m1\u001b[0m\u001b[0;34m]\u001b[0m\u001b[0;34m,\u001b[0m \u001b[0mlw\u001b[0m \u001b[0;34m=\u001b[0m \u001b[0;36m2\u001b[0m\u001b[0;34m)\u001b[0m\u001b[0;34m\u001b[0m\u001b[0m\n\u001b[1;32m     11\u001b[0m \u001b[0mplt\u001b[0m\u001b[0;34m.\u001b[0m\u001b[0mplot\u001b[0m\u001b[0;34m(\u001b[0m\u001b[0mnp\u001b[0m\u001b[0;34m.\u001b[0m\u001b[0mlinspace\u001b[0m\u001b[0;34m(\u001b[0m\u001b[0;36m0\u001b[0m\u001b[0;34m,\u001b[0m\u001b[0;36m200\u001b[0m\u001b[0;34m,\u001b[0m\u001b[0;36m2\u001b[0m\u001b[0;34m*\u001b[0m\u001b[0mT\u001b[0m\u001b[0;34m+\u001b[0m\u001b[0;36m2\u001b[0m\u001b[0;34m*\u001b[0m\u001b[0mR\u001b[0m\u001b[0;34m+\u001b[0m\u001b[0;36m1\u001b[0m\u001b[0;34m)\u001b[0m\u001b[0;34m,\u001b[0m \u001b[0mnp\u001b[0m\u001b[0;34m.\u001b[0m\u001b[0mconcatenate\u001b[0m\u001b[0;34m(\u001b[0m\u001b[0;34m(\u001b[0m\u001b[0mrecord_position\u001b[0m\u001b[0;34m[\u001b[0m\u001b[0;36m2\u001b[0m\u001b[0;34m]\u001b[0m\u001b[0;34m,\u001b[0m\u001b[0mnp\u001b[0m\u001b[0;34m.\u001b[0m\u001b[0mones\u001b[0m\u001b[0;34m(\u001b[0m\u001b[0;36m100\u001b[0m\u001b[0;34m)\u001b[0m\u001b[0;34m*\u001b[0m\u001b[0mrecord_position\u001b[0m\u001b[0;34m[\u001b[0m\u001b[0;36m2\u001b[0m\u001b[0;34m]\u001b[0m\u001b[0;34m[\u001b[0m\u001b[0mT\u001b[0m\u001b[0;34m+\u001b[0m\u001b[0mR\u001b[0m\u001b[0;34m]\u001b[0m\u001b[0;34m)\u001b[0m\u001b[0;34m)\u001b[0m\u001b[0;34m,\u001b[0m \u001b[0mcolor\u001b[0m \u001b[0;34m=\u001b[0m \u001b[0mcol\u001b[0m\u001b[0;34m[\u001b[0m\u001b[0;36m2\u001b[0m\u001b[0;34m]\u001b[0m\u001b[0;34m,\u001b[0m \u001b[0mlw\u001b[0m \u001b[0;34m=\u001b[0m \u001b[0;36m2\u001b[0m\u001b[0;34m)\u001b[0m\u001b[0;34m\u001b[0m\u001b[0m\n",
      "\u001b[0;31mNameError\u001b[0m: name 'record_position' is not defined"
     ]
    },
    {
     "data": {
      "image/png": "[encoded data removed]",
      "text/plain": [
       "<matplotlib.figure.Figure at 0x7f2c315d8898>"
      ]
     },
     "metadata": {},
     "output_type": "display_data"
    }
   ],
   "source": [
    "#all_plots(record, bang_data, record_each, n_iter, t_T, t_R, dt, xT, v)\n",
    "\n",
    "col = np.zeros((8,3))\n",
    "for i in np.arange(8):\n",
    "    col[i] = (8-i)/(2*8),0,i/(2*8)\n",
    "\n",
    "fig_width = 5\n",
    "fig, ax = plt.subplots(1, 1, figsize=(fig_width, fig_width/1.618))\n",
    "plt.plot(np.linspace(0,200,2*T+2*R+1), np.concatenate((record_position[0],np.ones(100)*record_position[0][T+R])), color = col[0], lw = 2)\n",
    "plt.plot(np.linspace(0,200,2*T+2*R+1), np.concatenate((record_position[1],np.ones(100)*record_position[1][T+R])), color = col[1], lw = 2)\n",
    "plt.plot(np.linspace(0,200,2*T+2*R+1), np.concatenate((record_position[2],np.ones(100)*record_position[2][T+R])), color = col[2], lw = 2)\n",
    "plt.plot(np.linspace(0,200,2*T+2*R+1), np.concatenate((record_position[3],np.ones(100)*record_position[3][T+R])), color = col[3], lw = 2)\n",
    "plt.plot(np.linspace(0,200,2*T+2*R+1), np.concatenate((record_position[4],np.ones(100)*record_position[4][T+R])), color = col[4], lw = 2)\n",
    "plt.plot(np.linspace(0,200,2*T+2*R+1), np.concatenate((record_position[5],np.ones(100)*record_position[5][T+R])), color = col[5], lw = 2)\n",
    "plt.plot(np.linspace(0,200,2*T+2*R+1), np.concatenate((record_position[6],np.ones(100)*record_position[6][T+R])), color = col[6], lw = 2)\n",
    "plt.plot(np.linspace(0,200,2*T+2*R+1), np.concatenate((record_position[7],np.ones(100)*record_position[7][T+R])), color = col[7], lw = 2)\n",
    "#ax.plot(np.linspace(0,2*(t_T+t_R)*1000,2*T+2*R+1), np.ones(2*T+2*R+1)*target[0],'r--')\n",
    "#ax.plot(np.linspace(0,2*(t_T+t_R)*1000,2*T+2*R+1), np.ones(2*T+2*R+1)*target[1],'r--')\n",
    "#ax.plot(np.linspace(0,2*(t_T+t_R)*1000,2*T+2*R+1), np.ones(2*T+2*R+1)*target[2],'r--')\n",
    "#ax.plot(np.linspace(0,2*(t_T+t_R)*1000,2*T+2*R+1), np.ones(2*T+2*R+1)*target[3],'r--')\n",
    "#ax.plot(np.linspace(0,2*(t_T+t_R)*1000,2*T+2*R+1), np.ones(2*T+2*R+1)*target[4],'r--')\n",
    "#ax.plot(np.linspace(0,2*(t_T+t_R)*1000,2*T+2*R+1), np.ones(2*T+2*R+1)*target[5],'r--')\n",
    "#ax.plot(np.linspace(0,2*(t_T+t_R)*1000,2*T+2*R+1), np.ones(2*T+2*R+1)*target[6],'r--')\n",
    "#ax.plot(np.linspace(0,2*(t_T+t_R)*1000,2*T+2*R+1), np.ones(2*T+2*R+1)*target[7],'r--')\n",
    "plt.text(170, 2.5, r'$x_T = 5$', fontsize = 10)\n",
    "plt.text(170, 7.5, r'$x_T = 10$', fontsize = 10)\n",
    "plt.text(170, 12.5, r'$x_T = 15$', fontsize = 10)\n",
    "plt.text(170, 17.5, r'$x_T = 20$', fontsize = 10)\n",
    "plt.text(170, 22.5, r'$x_T = 25$', fontsize = 10)\n",
    "plt.text(170, 27.5, r'$x_T = 30$', fontsize = 10)\n",
    "plt.text(170, 32.5, r'$x_T = 35$', fontsize = 10)\n",
    "plt.text(170, 37.5, r'$x_T = 40$', fontsize = 10)\n",
    "\n",
    "\n",
    "ax.set_ylim(-0.5, target[7]+0.5)\n",
    "\n",
    "ax.set_title(r'Evolution of the position for different amplitudes $x_T$', fontsize = 10)\n",
    "ax.set_xlabel('Time ($ms$)', fontsize=10)\n",
    "ax.set_ylabel(r'Position ($deg$)', fontsize=10)\n",
    "plt.savefig('diffamplitudepos.png')"
   ]
  },
  {
   "cell_type": "code",
   "execution_count": null,
   "metadata": {
    "collapsed": true
   },
   "outputs": [],
   "source": [
    "col = np.zeros((8,3))\n",
    "for i in np.arange(8):\n",
    "    col[i] = (8-i)/(2*8),0,i/(2*8)\n",
    "\n",
    "fig_width = 5\n",
    "fig, ax = plt.subplots(1, 1, figsize=(fig_width, fig_width/1.618))\n",
    "plt.plot(np.linspace(0,200,2*T+2*R+1), np.concatenate((record.velocity[0],np.zeros(100))), color = col[0], label= r'$x_T = 5$', lw = 2)\n",
    "plt.plot(np.linspace(0,200,2*T+2*R+1), np.concatenate((record.velocity[1],np.zeros(100))), color = col[1], label= r'$x_T = 10$', lw = 2)\n",
    "plt.plot(np.linspace(0,200,2*T+2*R+1), np.concatenate((record.velocity[2],np.zeros(100))), color = col[2], label= r'$x_T = 15$', lw = 2)\n",
    "plt.plot(np.linspace(0,200,2*T+2*R+1), np.concatenate((record.velocity[3],np.zeros(100))), color = col[3], label= r'$x_T = 20$', lw = 2)\n",
    "plt.plot(np.linspace(0,200,2*T+2*R+1), np.concatenate((record.velocity[4],np.zeros(100))), color = col[4], label= r'$x_T = 25$', lw = 2)\n",
    "plt.plot(np.linspace(0,200,2*T+2*R+1), np.concatenate((record.velocity[5],np.zeros(100))), color = col[5], label= r'$x_T = 30$', lw = 2)\n",
    "plt.plot(np.linspace(0,200,2*T+2*R+1), np.concatenate((record.velocity[6],np.zeros(100))), color = col[6], label= r'$x_T = 35$', lw = 2)\n",
    "plt.plot(np.linspace(0,200,2*T+2*R+1), np.concatenate((record.velocity[7],np.zeros(100))), color = col[7], label= r'$x_T = 40$', lw = 2)\n",
    "\n",
    "ax.legend(prop={'size':8})\n",
    "\n",
    "\n",
    "ax.set_ylim(-20, 600)\n",
    "\n",
    "ax.set_title(r'Evolution of the velocity for different amplitudes $x_T$', fontsize = 10)\n",
    "ax.set_xlabel('Time ($ms$)', fontsize=10)\n",
    "ax.set_ylabel(r'Velocity ($deg\\cdot s^{-1}$)', fontsize=10)\n",
    "\n"
   ]
  },
  {
   "cell_type": "code",
   "execution_count": null,
   "metadata": {
    "collapsed": true
   },
   "outputs": [],
   "source": [
    "peak_vel = np.array([max(record.velocity[0]),max(record.velocity[1]),max(record.velocity[2]),max(record.velocity[3]),max(record.velocity[4]),max(record.velocity[5]),max(record.velocity[6]),max(record.velocity[7])])"
   ]
  },
  {
   "cell_type": "code",
   "execution_count": null,
   "metadata": {
    "collapsed": true
   },
   "outputs": [],
   "source": [
    "alpha = (np.sqrt(np.concatenate((np.zeros(1),target)))*np.concatenate((np.zeros(1),peak_vel))).sum()/((np.concatenate((np.zeros(1),target))).sum())"
   ]
  },
  {
   "cell_type": "code",
   "execution_count": null,
   "metadata": {
    "collapsed": true,
    "scrolled": false
   },
   "outputs": [],
   "source": [
    "fig_width = 5\n",
    "fig, ax = plt.subplots(1, 1, figsize=(fig_width, fig_width/1.618))\n",
    "plt.plot(np.concatenate((np.zeros(1),target)), np.concatenate((np.zeros(1),peak_vel)),lw = 2)\n",
    "ax.set_ylim(-20, 600)\n",
    "\n",
    "ax.set_title('Main sequence diagram', fontsize = 12)\n",
    "ax.set_xlabel('Amplitude ($deg$)', fontsize=10)\n",
    "ax.set_ylabel(r'Peak velocity ($deg\\cdot s^{-1}$)', fontsize=10)"
   ]
  },
  {
   "cell_type": "code",
   "execution_count": null,
   "metadata": {
    "collapsed": true
   },
   "outputs": [],
   "source": [
    "alpha"
   ]
  },
  {
   "cell_type": "code",
   "execution_count": null,
   "metadata": {
    "collapsed": true
   },
   "outputs": [],
   "source": [
    "cost_p = np.zeros(niter+1)\n",
    "\n",
    "for i in np.arange(niter+1):\n",
    "    cost_p[i] = cost(a[i])"
   ]
  },
  {
   "cell_type": "code",
   "execution_count": null,
   "metadata": {
    "collapsed": true
   },
   "outputs": [],
   "source": [
    "fig_width = 15\n",
    "fig, ax = plt.subplots(1, 1, figsize=(fig_width, fig_width/1.618))\n",
    "\n",
    "ax.plot(cost_p, '-', lw = 2)\n",
    "ax.set_title('Cost')\n",
    "ax.set_xlabel('Number of iterations', fontsize=14)\n",
    "ax.set_ylabel('Cost', fontsize=14)\n"
   ]
  },
  {
   "cell_type": "markdown",
   "metadata": {},
   "source": [
    "Finally, we trace the position at time T for each iteration."
   ]
  },
  {
   "cell_type": "code",
   "execution_count": null,
   "metadata": {
    "collapsed": true
   },
   "outputs": [],
   "source": [
    "positionT = np.zeros(niter+1)\n",
    "\n",
    "for i in np.arange(niter+1):\n",
    "    positionT[i] = (expectation(a[i], T))[0]"
   ]
  },
  {
   "cell_type": "code",
   "execution_count": null,
   "metadata": {
    "collapsed": true,
    "scrolled": false
   },
   "outputs": [],
   "source": [
    "fig_width = 15\n",
    "fig, ax = plt.subplots(1, 1, figsize=(fig_width, fig_width/1.618))\n",
    "\n",
    "ax.plot(positionT, '-', lw=2)\n",
    "ax.set_title('Position at time T')\n",
    "ax.set_xlabel('Number of iterations', fontsize=14)\n",
    "ax.set_ylabel('Position (deg)', fontsize=14)\n",
    "ax.plot([0,niter],[xT[0]+v*t_T ,xT[0]+v*t_T],'r--')\n"
   ]
  },
  {
   "cell_type": "code",
   "execution_count": null,
   "metadata": {
    "collapsed": true
   },
   "outputs": [],
   "source": [
    "import pickle\n",
    "import pandas as pd\n",
    "record = pd.DataFrame()\n",
    "for i in np.arange(8):\n",
    "    record_one = pd.DataFrame([{'position':pos[i,:],'velocity':vel[i,:]}],index=[i])\n",
    "    record = pd.concat([record, record_one])\n",
    "record.to_pickle('../2017_OptimalPrecision/DataRecording/'+'HarrisWolpertPursuit_dt=0.001_tau=0.013_data_for_main_sequence.pkl')"
   ]
  },
  {
   "cell_type": "code",
   "execution_count": null,
   "metadata": {
    "collapsed": true
   },
   "outputs": [],
   "source": [
    "import pickle\n",
    "import pandas as pd\n",
    "record = pd.read_pickle('/home/baptiste/Documents/2017_OptimalPrecision/DataRecording/'+'HarrisWolpertPursuit_dt=0.002_beta=100_m=1_cosinus.pkl')"
   ]
  },
  {
   "cell_type": "code",
   "execution_count": null,
   "metadata": {
    "collapsed": true
   },
   "outputs": [],
   "source": [
    "len(record_velocity[500])"
   ]
  },
  {
   "cell_type": "code",
   "execution_count": null,
   "metadata": {
    "collapsed": true
   },
   "outputs": [],
   "source": [
    "plot_signal(record_signal, 500, 10000, 0.1, 1.9, 0.002)"
   ]
  },
  {
   "cell_type": "code",
   "execution_count": null,
   "metadata": {
    "collapsed": true,
    "scrolled": false
   },
   "outputs": [],
   "source": [
    "plot_position(record_position, 500, 10000, 0.1, 1.9, 0.002)\n"
   ]
  },
  {
   "cell_type": "code",
   "execution_count": null,
   "metadata": {
    "collapsed": true,
    "scrolled": false
   },
   "outputs": [],
   "source": [
    "plot_velocity(record_velocity, 500, 10000, 0.1, 1.9, 0.002)\n"
   ]
  }
 ],
 "metadata": {
  "kernelspec": {
   "display_name": "Python 3",
   "language": "python",
   "name": "python3"
  },
  "language_info": {
   "codemirror_mode": {
    "name": "ipython",
    "version": 3
   },
   "file_extension": ".py",
   "mimetype": "text/x-python",
   "name": "python",
   "nbconvert_exporter": "python",
   "pygments_lexer": "ipython3",
   "version": "3.5.2"
  },
  "toc": {
   "colors": {
    "hover_highlight": "#DAA520",
    "navigate_num": "#000000",
    "navigate_text": "#333333",
    "running_highlight": "#FF0000",
    "selected_highlight": "#FFD700",
    "sidebar_border": "#EEEEEE",
    "wrapper_background": "#FFFFFF"
   },
   "moveMenuLeft": true,
   "nav_menu": {
    "height": "102px",
    "width": "252px"
   },
   "navigate_menu": true,
   "number_sections": true,
   "sideBar": true,
   "threshold": 4,
   "toc_cell": false,
   "toc_section_display": "block",
   "toc_window_display": false,
   "widenNotebook": false
  }
 },
 "nbformat": 4,
 "nbformat_minor": 2
}
