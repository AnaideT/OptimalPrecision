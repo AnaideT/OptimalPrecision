{
 "cells": [
  {
   "cell_type": "markdown",
   "metadata": {},
   "source": [
    "# Generalized coordinates"
   ]
  },
  {
   "cell_type": "code",
   "execution_count": 79,
   "metadata": {
    "collapsed": true
   },
   "outputs": [],
   "source": [
    "import numpy as np\n",
    "import matplotlib.pyplot as plt\n",
    "%matplotlib inline\n",
    "from decimal import Decimal"
   ]
  },
  {
   "cell_type": "code",
   "execution_count": 80,
   "metadata": {},
   "outputs": [],
   "source": [
    "from PlotFunctions import plot_signal, plot_position, plot_velocity, plot_variance\n",
    "%run PlotFunctions.py\n",
    "#plot_signal(record_signal, record_each, n_iter, t_T, t_R, dt)\n",
    "#plot_position(record_position, record_each, n_iter, t_T, t_R, dt)\n",
    "#plot_velocity(record_velocity, record_each, n_iter, t_T, t_R, dt)\n",
    "#plot_variance(record_variance, record_each, n_iter, t_T, t_R, dt)"
   ]
  },
  {
   "cell_type": "markdown",
   "metadata": {},
   "source": [
    "## Definition\n",
    "For the linear models of the eye and arm, we consider a single-input single-output discrete-time system under control with the following state-update equation:\n",
    "$$\n",
    "\\tilde{x}_{t+1} = A\\tilde{x}_t+B\\left (u_t+w_t \\right)\n",
    "$$  \n",
    "where $\\tilde{x}_t$ is the $n$-dimentional state at time $t$, $\\tilde{x}_{t+1}$ is the $n$-dimentional state at time $t+dt$, $u_t$ the neural driving signal at time $t$, $w_t$ is a white noise with mean zero and variance $ku_t^2$, $A$ is a fixed $n \\times n$ matrix and B is a $n \\times 1$ vector both describing the dynamics of the system."
   ]
  },
  {
   "cell_type": "markdown",
   "metadata": {},
   "source": [
    "Here, A will be the following matrix:  \n",
    "\n",
    "$$ A = \n",
    "\\begin{bmatrix}\n",
    "1 & dt & \\frac{dt^2}{2} & \\cdots & \\frac{dt^n}{n!}\\\\\n",
    "0 & 1 & dt & \\ddots & \\vdots \\\\\n",
    "\\vdots & \\ddots & \\ddots & \\ddots & \\vdots\\\\\n",
    "0 & 0 & 0 & 1 & dt \\\\\n",
    "0 & \\cdots & \\cdots & \\cdots & 1-\\frac{dt}{\\tau}\n",
    "\\end{bmatrix}\n",
    "\\textbf{ }\\textbf{ }\\textbf{ }\\textbf{ }and\\textbf{ }\\textbf{ }\\textbf{ }\\textbf{ }\n",
    "B = \\begin{bmatrix} 0 \\\\ 0 \\\\ \\vdots \\\\ 0 \\\\ dt\\end{bmatrix}\n",
    "$$  \n",
    "  \n",
    "We choose this matrix since, according to the Taylor's formula:  \n",
    "$ x\\left (t+dt \\right) = x\\left (t \\right) + dt\\times \\dot{x}\\left (t \\right) + \\frac{dt^2}{2}\\times \\ddot{x}\\left (t \\right)+ \\dots + \\frac{dt^n}{n!}\\times x^{(n)}\\left (t \\right) + \\mathcal{o}\\left(dt^n\\right)\n",
    "$\n",
    "and  \n",
    "$x^{(n)}\\left (t+dt \\right) = \\left ( 1 - \\frac{dt}{\\tau} \\right)x^{(n)}\\left (t \\right) + dt\\left (u \\left (t\\right) + w\\left (t\\right) \\right)\n",
    "$"
   ]
  },
  {
   "cell_type": "code",
   "execution_count": 81,
   "metadata": {
    "collapsed": true
   },
   "outputs": [],
   "source": [
    "def fact(n): \n",
    "    \"\"\"The factorial function\n",
    "    Returns n!, that is n x (n-1) x (n-2) x ... x 1\n",
    "    Recursive implementation\n",
    "    \"\"\"\n",
    "    if n == 0:\n",
    "        return 1\n",
    "    else:\n",
    "        return(n*fact(n-1))"
   ]
  },
  {
   "cell_type": "code",
   "execution_count": 82,
   "metadata": {
    "collapsed": true
   },
   "outputs": [],
   "source": [
    "tau = 0.013\n",
    "dt = 0.001 # step time\n",
    "n = 2 # number of coordinates\n",
    "k = 0.01 # kind of accuracy parameter: the smaller k is, the more accurate is the pointing"
   ]
  },
  {
   "cell_type": "code",
   "execution_count": 83,
   "metadata": {
    "collapsed": true
   },
   "outputs": [],
   "source": [
    "# definition of A and B\n",
    "\n",
    "A = np.zeros((n,n))\n",
    "B = np.zeros(n)\n",
    "for i in np.arange(n):\n",
    "    for j in np.arange(i,n):\n",
    "        A[i,j] = dt**(j-i)/fact(j-i)\n",
    "A[n-1, n-1] = 1-dt/tau\n",
    "B[n-1] = dt"
   ]
  },
  {
   "cell_type": "code",
   "execution_count": 84,
   "metadata": {
    "collapsed": true
   },
   "outputs": [],
   "source": [
    "target = np.array([1,5,10,15,20,25,30,35,40])\n",
    "t_Tv = 0.03+0.002*5+0*target#0.02468+0.001739*target # see Transitioning from Saccade to SPEM using LQTC, Korentis & Enderle"
   ]
  },
  {
   "cell_type": "code",
   "execution_count": 85,
   "metadata": {},
   "outputs": [
    {
     "data": {
      "text/plain": [
       "array([ 0.04,  0.04,  0.04,  0.04,  0.04,  0.04,  0.04,  0.04,  0.04])"
      ]
     },
     "execution_count": 85,
     "metadata": {},
     "output_type": "execute_result"
    }
   ],
   "source": [
    "t_Tv"
   ]
  },
  {
   "cell_type": "code",
   "execution_count": 86,
   "metadata": {
    "collapsed": true
   },
   "outputs": [],
   "source": [
    "t_Tv = np.array([0.033,  0.042 ,  0.051,  0.059 ,  0.068,  0.077 , 0.086,  0.094 ])"
   ]
  },
  {
   "cell_type": "code",
   "execution_count": 87,
   "metadata": {
    "collapsed": true
   },
   "outputs": [],
   "source": [
    "t_T =  float(round(Decimal(t_Tv[0]),3)) #.05 # saccade duration\n",
    "t_R =  .1-float(round(Decimal(t_Tv[0]),3)) # .05 # fixing / pursuit duration\n",
    "T = int(np.round(t_T/dt))\n",
    "R = int(np.round(t_R/dt))\n",
    "time = np.linspace(0, t_T+t_R, R+T+1)\n",
    "time_ms = time*1000\n",
    "x0 = np.zeros(n) # starting point\n",
    "xT = np.zeros(n) # ending point\n",
    "xT[0] = 0.5\n",
    "x0[0] = 0\n",
    "x0[1] = 5\n",
    "v = 10\n",
    "#v = 10*np.cos(20*np.pi*time) # velocity of the target (deg/s)"
   ]
  },
  {
   "cell_type": "code",
   "execution_count": 88,
   "metadata": {
    "collapsed": true
   },
   "outputs": [],
   "source": [
    "def xT_f(t):\n",
    "#    return np.array([40+10/np.pi*np.cos(2*np.pi*t*dt), -20*np.sin(2*np.pi*t*dt)])\n",
    "    return np.array([target[0]+v*t*dt,v])"
   ]
  },
  {
   "cell_type": "code",
   "execution_count": 89,
   "metadata": {
    "collapsed": true
   },
   "outputs": [],
   "source": [
    "xx = np.zeros(T+R+1)\n",
    "vv = np.zeros(T+R+1)\n",
    "for i in np.arange(T+R+1):\n",
    "    xx[i] = xT_f(i)[0]\n",
    "    vv[i] = xT_f(i)[1]"
   ]
  },
  {
   "cell_type": "code",
   "execution_count": 90,
   "metadata": {},
   "outputs": [
    {
     "data": {
      "text/plain": [
       "[<matplotlib.lines.Line2D at 0x7fa8757a8390>]"
      ]
     },
     "execution_count": 90,
     "metadata": {},
     "output_type": "execute_result"
    },
    {
     "data": {
      "image/png": "[encoded data removed]",
      "text/plain": [
       "<matplotlib.figure.Figure at 0x7fa8759a1390>"
      ]
     },
     "metadata": {},
     "output_type": "display_data"
    }
   ],
   "source": [
    "plt.plot(xx)"
   ]
  },
  {
   "cell_type": "markdown",
   "metadata": {},
   "source": [
    "## Mean and covariance matrix\n",
    "$\\tilde{x}_t = A\\tilde{x}_{t-1}+B\\left (u_{t-1}+w_{t-1} \\right) \\\\\n",
    "\\tilde{x}_t = A \\left (A\\tilde{x}_{t-2}+B\\left (u_{t-2}+w_{t-2} \\right)\\right) + B\\left (u_{t-1}+w_{t-1} \\right) \\\\\n",
    "...\\\\\n",
    "\\tilde{x}_t = A^t \\tilde{x}_0 + \\sum \\limits_{i=0}^{t-1}{A^{t-1-i}B \\left (u_i+w_i \\right)}\n",
    "$\n",
    "  \n",
    "We deduce the mean:\n",
    "$E\\left [\\tilde{x}_t \\right] = A^t \\tilde{x}_0 + \\sum \\limits_{i=0}^{t-1}{A^{t-1-i}Bu_i}$ since $E\\left [w_t \\right] = 0$.\n",
    "\n",
    "\n",
    "Then, $cov\\left [\\tilde{x}_t\\right ] = \\sum \\limits_{i=0}^{t-1}{\\left (A^{t-1-i}B \\right )\\left (A^{t-1-i}B \\right )^T E\\left [w_t^2 \\right]} = k\\sum \\limits_{i=0}^{t-1}{\\left (A^{t-1-i}B \\right )\\left (A^{t-1-i}B \\right )^T u_t^2}$\n"
   ]
  },
  {
   "cell_type": "markdown",
   "metadata": {},
   "source": [
    "  \n",
    "## Minimum-variance problem\n",
    "Here, the problem we consider consists in minimizing the sum of the variance of the position after reaching the target. Let $V_t$ be the top-left value in the covariance matrix at time $t$. Then, we want to minimize $\\sum \\limits_{t=T+1}^{T+R}V_t +bias$. "
   ]
  },
  {
   "cell_type": "code",
   "execution_count": 91,
   "metadata": {
    "collapsed": true
   },
   "outputs": [],
   "source": [
    "def power(A, n): \n",
    "    \"\"\"\n",
    "    renvoie A puissance n où A est une matrice carrée\n",
    "        \n",
    "    \"\"\"\n",
    "    if n == 0:\n",
    "        return(np.eye(int(np.sqrt(np.size(A)))))\n",
    "    elif n == 1:\n",
    "        return A\n",
    "    else:\n",
    "        if n % 2 == 0:\n",
    "            A_half = power(A, n//2)\n",
    "            return(A_half.dot(A_half))\n",
    "        else:\n",
    "            A_half = power(A, (n-1)//2)\n",
    "            return(A.dot(A_half.dot(A_half)))\n",
    "\n",
    "def A_pow(A):\n",
    "    A_pow_array = np.zeros((T+R+1,n,n))\n",
    "\n",
    "    for i in np.arange(T+R+1):\n",
    "        A_pow_array[i] = power(A,i)\n",
    "    return A_pow_array\n",
    "\n",
    "A_pow_array = A_pow(A)\n",
    "\n",
    "def pow_fast(n):\n",
    "    return A_pow_array[n]\n",
    "\n",
    "ci0_array = np.zeros(T+R+1)\n",
    "\n",
    "for i in np.arange(T+R+1):\n",
    "    ci0_array[i] = (pow_fast(i).dot(B))[0]\n",
    "\n",
    "ci1_array = np.zeros(T+R+1)\n",
    "\n",
    "for i in np.arange(T+R+1):\n",
    "    ci1_array[i] = (pow_fast(i).dot(B))[1]\n",
    "    \n",
    "#ci2_array = np.zeros(T+R+1)\n",
    "\n",
    "#for i in np.arange(T+R+1):\n",
    "#    ci2_array[i] = (pow_fast(i).dot(B))[2]\n",
    "    \n",
    "#ci3_array = np.zeros(T+R+1)\n",
    "\n",
    "#for i in np.arange(T+R+1):\n",
    "#    ci3_array[i] = (pow_fast(i).dot(B))[3]\n",
    "\n",
    "ci = np.array([ci0_array, ci1_array])#, ci2_array])"
   ]
  },
  {
   "cell_type": "code",
   "execution_count": 92,
   "metadata": {
    "collapsed": true
   },
   "outputs": [],
   "source": [
    "def expectation(u, t):\n",
    "    \"\"\"Computation of the expectation of the state vector at time t, given u\n",
    "    \"\"\"\n",
    "    if t == 0:\n",
    "        return x0\n",
    "    else:\n",
    "        return pow_fast(t).dot(x0)+(ci[:,0:t]*np.flipud(u[0:t])).sum(axis = 1)"
   ]
  },
  {
   "cell_type": "code",
   "execution_count": 93,
   "metadata": {
    "collapsed": true
   },
   "outputs": [],
   "source": [
    "mult_v = np.array([0.01, 1]) # we select the level of each parameter in the cost function\n",
    "#mult_v2 = np.array([1, .0001])"
   ]
  },
  {
   "cell_type": "code",
   "execution_count": 94,
   "metadata": {
    "collapsed": true
   },
   "outputs": [],
   "source": [
    "def variance(u, t):\n",
    "    \"\"\"Computation of the variance of the state vector at time t, given u\n",
    "    \"\"\"\n",
    "    return k*(np.flipud(ci0_array[0:t]**2)*u[0:t]**2).sum()#*mult_v2[0]+k*(np.flipud(ci1_array[0:t]**2)*u[0:t]**2).sum()*mult_v2[1]"
   ]
  },
  {
   "cell_type": "code",
   "execution_count": 95,
   "metadata": {
    "collapsed": true
   },
   "outputs": [],
   "source": [
    "def bias(u, t):\n",
    "    \"\"\"Computation of the bias of the state vector at time t, given u\n",
    "    \"\"\"\n",
    "    return (((expectation(u, t)-(xT_f(t)))**2)*mult_v).sum()"
   ]
  },
  {
   "cell_type": "markdown",
   "metadata": {
    "collapsed": true
   },
   "source": [
    " \n",
    "This can be formulated as a quadratic programming problem, which we solved using a gradient descent."
   ]
  },
  {
   "cell_type": "markdown",
   "metadata": {},
   "source": [
    "## Gradient descent\n",
    "\n",
    "Let $\\mathscr{C}$ be the cost function to minimize.  \n",
    "That is, we want to find $\\textbf{u}_{\\textbf{opt}} = \\underset{u_0, ..., u_{T+R}}{argmin} \\left (\\sum \\limits_{t=T+1}^{T+R}V_t  + \\sum \\limits_{t=T}^{T+R}\\|E\\left [\\tilde{x}_t\\right] - x_T \\|^2 \\right )= \\underset{u_0, ..., u_{T+R}}{argmin}\\left(\\mathscr{C}\\left (\\textbf{u}\\right)\\right)$.\n",
    "\n"
   ]
  },
  {
   "cell_type": "code",
   "execution_count": 96,
   "metadata": {
    "collapsed": true
   },
   "outputs": [],
   "source": [
    "def cost(u):\n",
    "    def var1d(t):\n",
    "        return(variance(u,t))\n",
    "    var_vec = np.vectorize(var1d)\n",
    "    def bias1d(t):\n",
    "        return(bias(u,t))\n",
    "    bias_vec = np.vectorize(bias1d)\n",
    "    return var_vec(T+1+np.arange(R)).sum() + bias_vec(T+np.arange(R+1)).sum()"
   ]
  },
  {
   "cell_type": "markdown",
   "metadata": {
    "collapsed": true
   },
   "source": [
    "Iterating the following process, we will get the right $\\textbf{u}_{\\textbf{opt}}$ :  \n",
    "$\\forall i \\in \\left \\{ 0, ..., T+R-1 \\right \\} : u_i = u_i - \\eta \\times \\frac{\\partial \\mathscr{C}\\left(\\textbf{u}\\right)}{\\partial u_i}$"
   ]
  },
  {
   "cell_type": "code",
   "execution_count": 97,
   "metadata": {
    "collapsed": true
   },
   "outputs": [],
   "source": [
    "def cost_deriv(u, i):\n",
    "    \"\"\"Derivative of the cost function with respect to u_i\n",
    "    \"\"\"\n",
    "    if i < T:\n",
    "        return (2*np.transpose(ci[:,(T-i-1):(T+R-i)])*np.array([((expectation(u,t)-xT_f(t))*mult_v).tolist() for t in (T+np.arange(R+1))])).sum() + 2*k*u[i]*(ci0_array[(T+1-i-1):(T+R-i)]**2).sum()\n",
    "    else:\n",
    "        return (2*np.transpose(ci[:,0:(T+R-i)])*np.array([((expectation(u,t)-xT_f(t))*mult_v).tolist() for t in (i+1+np.arange(R+T-i))])).sum() + 2*k*u[i]*(ci0_array[0:(T+R-i)]**2).sum()"
   ]
  },
  {
   "cell_type": "code",
   "execution_count": 98,
   "metadata": {
    "collapsed": true
   },
   "outputs": [],
   "source": [
    "niter = 1000 # 10000\n",
    "eta = 600 # 6000"
   ]
  },
  {
   "cell_type": "code",
   "execution_count": 99,
   "metadata": {},
   "outputs": [],
   "source": [
    "import time"
   ]
  },
  {
   "cell_type": "code",
   "execution_count": 100,
   "metadata": {
    "collapsed": true
   },
   "outputs": [],
   "source": [
    "ubang = np.ones(T+R+1)*v/tau"
   ]
  },
  {
   "cell_type": "code",
   "execution_count": 101,
   "metadata": {
    "scrolled": false
   },
   "outputs": [],
   "source": [
    "debut = time.time()\n",
    "\n",
    "u = ubang.copy()\n",
    "a = np.zeros((niter+1, T+R+1)) # To save the evolution of the values of u at each iteration\n",
    "a[0, :] = u.copy()\n",
    "for i_iter in np.arange(niter):\n",
    "    u_old = u.copy()\n",
    "    u[0:T+R] = u_old[0:T+R] - eta*np.array([cost_deriv(u_old, i) for i in np.arange(T+R)])\n",
    "    a[i_iter+1, :] = u.copy()\n",
    "fin = time.time()"
   ]
  },
  {
   "cell_type": "code",
   "execution_count": 102,
   "metadata": {},
   "outputs": [
    {
     "data": {
      "text/plain": [
       "array([ 782.84778441,  783.05763884,  783.28498046,  783.53126641,\n",
       "        783.79807526,  784.08711707,  784.4002444 ,  784.73946414,\n",
       "        785.1069504 ,  785.50505841,  785.9363396 ,  786.40355797,\n",
       "        786.90970777,  787.45803266,  788.05204654,  788.69555596,\n",
       "        789.39268457,  790.14789944,  790.96603971,  791.85234752,\n",
       "        792.81250156,  793.8526534 ,  794.9794668 ,  796.20016035,\n",
       "        797.5225536 ,  798.95511701,  800.50702609,  802.18821997,\n",
       "        804.00946485,  805.98242271,  808.11972562,  810.43505632,\n",
       "        812.94323535,  778.65297425,  768.31820312,  766.71330482,\n",
       "        767.5539213 ,  768.59017237,  769.23797897,  769.50263038,\n",
       "        769.53222426,  769.4601993 ,  769.36895209,  769.29644664,\n",
       "        769.25263439,  769.23369317,  769.2312699 ,  769.23731888,\n",
       "        769.24598066,  769.25381791,  769.25932715,  769.26226581,\n",
       "        769.26305691,  769.26236307,  769.260831  ,  769.25896964,\n",
       "        769.25711709,  769.25545715,  769.25405717,  769.25290933,\n",
       "        769.25196602,  769.25116581,  769.25044988,  769.24977054,\n",
       "        769.24909413,  769.24840032,  769.24767968,  769.24693053,\n",
       "        769.24615602,  769.24536166,  769.24455359,  769.24373748,\n",
       "        769.24291789,  769.24209813,  769.24128026,  769.24046534,\n",
       "        769.23965363,  769.2388449 ,  769.23803857,  769.23723394,\n",
       "        769.23643023,  769.23562674,  769.23482284,  769.23401803,\n",
       "        769.23321208,  769.23240509,  769.23159763,  769.23079092,\n",
       "        769.22998675,  769.22918715,  769.22839339,  769.22760397,\n",
       "        769.22681144,  769.22599854,  769.22513646,  769.2241927 ,\n",
       "        769.22316684,  769.22219412,  769.2217985 ,  769.22345553,\n",
       "        769.23076923])"
      ]
     },
     "execution_count": 102,
     "metadata": {},
     "output_type": "execute_result"
    }
   ],
   "source": [
    "u"
   ]
  },
  {
   "cell_type": "code",
   "execution_count": 103,
   "metadata": {
    "scrolled": false
   },
   "outputs": [
    {
     "data": {
      "text/plain": [
       "5.4932902455329895"
      ]
     },
     "execution_count": 103,
     "metadata": {},
     "output_type": "execute_result"
    }
   ],
   "source": [
    "(fin-debut)*100/60/60"
   ]
  },
  {
   "cell_type": "markdown",
   "metadata": {},
   "source": [
    "Then, we draw $\\text{u}$, that is, the evolution of the control signal during the experiment."
   ]
  },
  {
   "cell_type": "code",
   "execution_count": 104,
   "metadata": {
    "scrolled": false
   },
   "outputs": [
    {
     "data": {
      "image/png": "[encoded data removed]",
      "text/plain": [
       "<matplotlib.figure.Figure at 0x7fa875c8cd50>"
      ]
     },
     "metadata": {},
     "output_type": "display_data"
    }
   ],
   "source": [
    "#plot_signal(a, 500, 10000, t_T, t_R, 0.001)\n",
    "plot_signal(a, 50, 1000, t_T, t_R, 0.001)"
   ]
  },
  {
   "cell_type": "code",
   "execution_count": 105,
   "metadata": {
    "scrolled": false
   },
   "outputs": [
    {
     "data": {
      "text/plain": [
       "<matplotlib.legend.Legend at 0x7fa8752b7c50>"
      ]
     },
     "execution_count": 105,
     "metadata": {},
     "output_type": "execute_result"
    },
    {
     "data": {
      "image/png": "[encoded data removed]",
      "text/plain": [
       "<matplotlib.figure.Figure at 0x7fa875584990>"
      ]
     },
     "metadata": {},
     "output_type": "display_data"
    }
   ],
   "source": [
    "fig_width = 15\n",
    "fig, ax = plt.subplots(1, 1, figsize=(fig_width, fig_width/1.618))\n",
    "ax.plot(time_ms, a[0], lw=2, label=\"bangbang\")\n",
    "ax.plot(time_ms, a[niter], lw=2, label=\"minimum-variance\")\n",
    "ax.plot([0,(t_T+t_R)*1000],[0,0],'r--')\n",
    "ax.legend()"
   ]
  },
  {
   "cell_type": "code",
   "execution_count": 106,
   "metadata": {
    "collapsed": true
   },
   "outputs": [],
   "source": [
    "position = np.zeros((niter+1,T+R+1))\n",
    "velocity = np.zeros((niter+1,T+R+1))\n",
    "\n",
    "for i in np.arange(niter+1):\n",
    "    for j in np.arange(T+R+1):\n",
    "        mean = expectation(a[i,:], j)\n",
    "        position[i,j] = mean[0]\n",
    "        velocity[i,j] = mean[1]"
   ]
  },
  {
   "cell_type": "code",
   "execution_count": 107,
   "metadata": {
    "scrolled": false
   },
   "outputs": [
    {
     "data": {
      "image/png": "[encoded data removed]",
      "text/plain": [
       "<matplotlib.figure.Figure at 0x7fa875dffdd0>"
      ]
     },
     "metadata": {},
     "output_type": "display_data"
    }
   ],
   "source": [
    "#plot_position(position, 500, 10000, t_T, t_R, 0.001)\n",
    "plot_position(position, 50, 1000, t_T, t_R, 0.001)\n"
   ]
  },
  {
   "cell_type": "code",
   "execution_count": 108,
   "metadata": {
    "scrolled": false
   },
   "outputs": [
    {
     "data": {
      "text/plain": [
       "<matplotlib.legend.Legend at 0x7fa875110d10>"
      ]
     },
     "execution_count": 108,
     "metadata": {},
     "output_type": "execute_result"
    },
    {
     "data": {
      "image/png": "[encoded data removed]",
      "text/plain": [
       "<matplotlib.figure.Figure at 0x7fa8750a5d10>"
      ]
     },
     "metadata": {},
     "output_type": "display_data"
    }
   ],
   "source": [
    "fig_width = 15\n",
    "fig, ax = plt.subplots(1, 1, figsize=(fig_width, fig_width/1.618))\n",
    "ax.plot(time_ms, position[0], lw=2, label=\"bangbang\")\n",
    "ax.plot(time_ms, position[niter], lw=2, label=\"minimum-variance\")\n",
    "ax.plot(np.linspace(0,(t_T+t_R)*1000,T+R+1), xx,'r--')\n",
    "\n",
    "ax.legend()\n"
   ]
  },
  {
   "cell_type": "code",
   "execution_count": 109,
   "metadata": {
    "scrolled": false
   },
   "outputs": [
    {
     "data": {
      "text/plain": [
       "[<matplotlib.lines.Line2D at 0x7fa8759bfa90>]"
      ]
     },
     "execution_count": 109,
     "metadata": {},
     "output_type": "execute_result"
    },
    {
     "data": {
      "image/png": "[encoded data removed]",
      "text/plain": [
       "<matplotlib.figure.Figure at 0x7fa8759bf5d0>"
      ]
     },
     "metadata": {},
     "output_type": "display_data"
    }
   ],
   "source": [
    "#plot_velocity(velocity, 500, 10000, t_T, t_R, 0.001)\n",
    "plot_velocity(velocity, 50, 1000, t_T, t_R, 0.001)\n",
    "\n",
    "plt.plot(time_ms, vv,'r--')"
   ]
  },
  {
   "cell_type": "code",
   "execution_count": 110,
   "metadata": {
    "scrolled": false
   },
   "outputs": [
    {
     "data": {
      "text/plain": [
       "<matplotlib.legend.Legend at 0x7fa875777190>"
      ]
     },
     "execution_count": 110,
     "metadata": {},
     "output_type": "execute_result"
    },
    {
     "data": {
      "image/png": "[encoded data removed]",
      "text/plain": [
       "<matplotlib.figure.Figure at 0x7fa87528bed0>"
      ]
     },
     "metadata": {},
     "output_type": "display_data"
    }
   ],
   "source": [
    "fig_width = 15\n",
    "fig, ax = plt.subplots(1, 1, figsize=(fig_width, fig_width/1.618))\n",
    "ax.plot(time_ms, velocity[0], lw=2, label=\"bangbang\")\n",
    "ax.plot(time_ms, velocity[niter], lw=2, label=\"minimum-variance\")\n",
    "ax.plot(np.linspace(0,(t_T+t_R)*1000,T+R+1), vv,'r--')\n",
    "ax.legend()"
   ]
  },
  {
   "cell_type": "code",
   "execution_count": 111,
   "metadata": {
    "collapsed": true
   },
   "outputs": [],
   "source": [
    "variancev = np.zeros((niter+1,T+R+1))\n",
    "\n",
    "for i in np.arange(niter+1):\n",
    "    for j in np.arange(T+R+1):\n",
    "        variancev[i,j] = variance(a[i,:], j)"
   ]
  },
  {
   "cell_type": "code",
   "execution_count": 112,
   "metadata": {
    "scrolled": false
   },
   "outputs": [
    {
     "data": {
      "image/png": "[encoded data removed]",
      "text/plain": [
       "<matplotlib.figure.Figure at 0x7fa875931b50>"
      ]
     },
     "metadata": {},
     "output_type": "display_data"
    }
   ],
   "source": [
    "#plot_variance(variancev, 250, 5000, t_T, t_R, 0.001)\n",
    "plot_variance(variancev, 25, 500, t_T, t_R, 0.001)"
   ]
  },
  {
   "cell_type": "code",
   "execution_count": 113,
   "metadata": {
    "scrolled": false
   },
   "outputs": [
    {
     "data": {
      "text/plain": [
       "<matplotlib.legend.Legend at 0x7fa87512e5d0>"
      ]
     },
     "execution_count": 113,
     "metadata": {},
     "output_type": "execute_result"
    },
    {
     "data": {
      "image/png": "[encoded data removed]",
      "text/plain": [
       "<matplotlib.figure.Figure at 0x7fa875881710>"
      ]
     },
     "metadata": {},
     "output_type": "display_data"
    }
   ],
   "source": [
    "fig_width = 15\n",
    "fig, ax = plt.subplots(1, 1, figsize=(fig_width, fig_width/1.618))\n",
    "ax.plot(time_ms, variancev[0], lw=2, label=\"bangbang\")\n",
    "ax.plot(time_ms, variancev[niter], lw=2, label=\"minimum-variance\")\n",
    "ax.legend()"
   ]
  },
  {
   "cell_type": "code",
   "execution_count": 114,
   "metadata": {
    "collapsed": true
   },
   "outputs": [],
   "source": [
    "vel = np.zeros((8,T+R+1))"
   ]
  },
  {
   "cell_type": "code",
   "execution_count": 115,
   "metadata": {
    "collapsed": true
   },
   "outputs": [],
   "source": [
    "pos = np.zeros((8,T+R+1))"
   ]
  },
  {
   "cell_type": "code",
   "execution_count": 116,
   "metadata": {
    "collapsed": true
   },
   "outputs": [],
   "source": [
    "vel[7,:] = velocity[niter]"
   ]
  },
  {
   "cell_type": "code",
   "execution_count": 117,
   "metadata": {
    "collapsed": true
   },
   "outputs": [],
   "source": [
    "pos[7,:] = position[niter]"
   ]
  },
  {
   "cell_type": "code",
   "execution_count": 118,
   "metadata": {},
   "outputs": [
    {
     "ename": "NameError",
     "evalue": "name 'record_position' is not defined",
     "output_type": "error",
     "traceback": [
      "\u001b[0;31m---------------------------------------------------------------------------\u001b[0m",
      "\u001b[0;31mNameError\u001b[0m                                 Traceback (most recent call last)",
      "\u001b[0;32m<ipython-input-118-e0999bbb9ef2>\u001b[0m in \u001b[0;36m<module>\u001b[0;34m()\u001b[0m\n\u001b[1;32m      5\u001b[0m \u001b[0mfig_width\u001b[0m \u001b[0;34m=\u001b[0m \u001b[0;36m5\u001b[0m\u001b[0;34m\u001b[0m\u001b[0m\n\u001b[1;32m      6\u001b[0m \u001b[0mfig\u001b[0m\u001b[0;34m,\u001b[0m \u001b[0max\u001b[0m \u001b[0;34m=\u001b[0m \u001b[0mplt\u001b[0m\u001b[0;34m.\u001b[0m\u001b[0msubplots\u001b[0m\u001b[0;34m(\u001b[0m\u001b[0;36m1\u001b[0m\u001b[0;34m,\u001b[0m \u001b[0;36m1\u001b[0m\u001b[0;34m,\u001b[0m \u001b[0mfigsize\u001b[0m\u001b[0;34m=\u001b[0m\u001b[0;34m(\u001b[0m\u001b[0mfig_width\u001b[0m\u001b[0;34m,\u001b[0m \u001b[0mfig_width\u001b[0m\u001b[0;34m/\u001b[0m\u001b[0;36m1.618\u001b[0m\u001b[0;34m)\u001b[0m\u001b[0;34m)\u001b[0m\u001b[0;34m\u001b[0m\u001b[0m\n\u001b[0;32m----> 7\u001b[0;31m \u001b[0mplt\u001b[0m\u001b[0;34m.\u001b[0m\u001b[0mplot\u001b[0m\u001b[0;34m(\u001b[0m\u001b[0mnp\u001b[0m\u001b[0;34m.\u001b[0m\u001b[0mlinspace\u001b[0m\u001b[0;34m(\u001b[0m\u001b[0;36m0\u001b[0m\u001b[0;34m,\u001b[0m\u001b[0;36m200\u001b[0m\u001b[0;34m,\u001b[0m\u001b[0;36m2\u001b[0m\u001b[0;34m*\u001b[0m\u001b[0mT\u001b[0m\u001b[0;34m+\u001b[0m\u001b[0;36m2\u001b[0m\u001b[0;34m*\u001b[0m\u001b[0mR\u001b[0m\u001b[0;34m+\u001b[0m\u001b[0;36m1\u001b[0m\u001b[0;34m)\u001b[0m\u001b[0;34m,\u001b[0m \u001b[0mnp\u001b[0m\u001b[0;34m.\u001b[0m\u001b[0mconcatenate\u001b[0m\u001b[0;34m(\u001b[0m\u001b[0;34m(\u001b[0m\u001b[0mrecord_position\u001b[0m\u001b[0;34m[\u001b[0m\u001b[0;36m0\u001b[0m\u001b[0;34m]\u001b[0m\u001b[0;34m,\u001b[0m\u001b[0mnp\u001b[0m\u001b[0;34m.\u001b[0m\u001b[0mones\u001b[0m\u001b[0;34m(\u001b[0m\u001b[0;36m100\u001b[0m\u001b[0;34m)\u001b[0m\u001b[0;34m*\u001b[0m\u001b[0mrecord_position\u001b[0m\u001b[0;34m[\u001b[0m\u001b[0;36m0\u001b[0m\u001b[0;34m]\u001b[0m\u001b[0;34m[\u001b[0m\u001b[0mT\u001b[0m\u001b[0;34m+\u001b[0m\u001b[0mR\u001b[0m\u001b[0;34m]\u001b[0m\u001b[0;34m)\u001b[0m\u001b[0;34m)\u001b[0m\u001b[0;34m,\u001b[0m \u001b[0mcolor\u001b[0m \u001b[0;34m=\u001b[0m \u001b[0mcol\u001b[0m\u001b[0;34m[\u001b[0m\u001b[0;36m0\u001b[0m\u001b[0;34m]\u001b[0m\u001b[0;34m,\u001b[0m \u001b[0mlw\u001b[0m \u001b[0;34m=\u001b[0m \u001b[0;36m2\u001b[0m\u001b[0;34m)\u001b[0m\u001b[0;34m\u001b[0m\u001b[0m\n\u001b[0m\u001b[1;32m      8\u001b[0m \u001b[0mplt\u001b[0m\u001b[0;34m.\u001b[0m\u001b[0mplot\u001b[0m\u001b[0;34m(\u001b[0m\u001b[0mnp\u001b[0m\u001b[0;34m.\u001b[0m\u001b[0mlinspace\u001b[0m\u001b[0;34m(\u001b[0m\u001b[0;36m0\u001b[0m\u001b[0;34m,\u001b[0m\u001b[0;36m200\u001b[0m\u001b[0;34m,\u001b[0m\u001b[0;36m2\u001b[0m\u001b[0;34m*\u001b[0m\u001b[0mT\u001b[0m\u001b[0;34m+\u001b[0m\u001b[0;36m2\u001b[0m\u001b[0;34m*\u001b[0m\u001b[0mR\u001b[0m\u001b[0;34m+\u001b[0m\u001b[0;36m1\u001b[0m\u001b[0;34m)\u001b[0m\u001b[0;34m,\u001b[0m \u001b[0mnp\u001b[0m\u001b[0;34m.\u001b[0m\u001b[0mconcatenate\u001b[0m\u001b[0;34m(\u001b[0m\u001b[0;34m(\u001b[0m\u001b[0mrecord_position\u001b[0m\u001b[0;34m[\u001b[0m\u001b[0;36m1\u001b[0m\u001b[0;34m]\u001b[0m\u001b[0;34m,\u001b[0m\u001b[0mnp\u001b[0m\u001b[0;34m.\u001b[0m\u001b[0mones\u001b[0m\u001b[0;34m(\u001b[0m\u001b[0;36m100\u001b[0m\u001b[0;34m)\u001b[0m\u001b[0;34m*\u001b[0m\u001b[0mrecord_position\u001b[0m\u001b[0;34m[\u001b[0m\u001b[0;36m1\u001b[0m\u001b[0;34m]\u001b[0m\u001b[0;34m[\u001b[0m\u001b[0mT\u001b[0m\u001b[0;34m+\u001b[0m\u001b[0mR\u001b[0m\u001b[0;34m]\u001b[0m\u001b[0;34m)\u001b[0m\u001b[0;34m)\u001b[0m\u001b[0;34m,\u001b[0m \u001b[0mcolor\u001b[0m \u001b[0;34m=\u001b[0m \u001b[0mcol\u001b[0m\u001b[0;34m[\u001b[0m\u001b[0;36m1\u001b[0m\u001b[0;34m]\u001b[0m\u001b[0;34m,\u001b[0m \u001b[0mlw\u001b[0m \u001b[0;34m=\u001b[0m \u001b[0;36m2\u001b[0m\u001b[0;34m)\u001b[0m\u001b[0;34m\u001b[0m\u001b[0m\n\u001b[1;32m      9\u001b[0m \u001b[0mplt\u001b[0m\u001b[0;34m.\u001b[0m\u001b[0mplot\u001b[0m\u001b[0;34m(\u001b[0m\u001b[0mnp\u001b[0m\u001b[0;34m.\u001b[0m\u001b[0mlinspace\u001b[0m\u001b[0;34m(\u001b[0m\u001b[0;36m0\u001b[0m\u001b[0;34m,\u001b[0m\u001b[0;36m200\u001b[0m\u001b[0;34m,\u001b[0m\u001b[0;36m2\u001b[0m\u001b[0;34m*\u001b[0m\u001b[0mT\u001b[0m\u001b[0;34m+\u001b[0m\u001b[0;36m2\u001b[0m\u001b[0;34m*\u001b[0m\u001b[0mR\u001b[0m\u001b[0;34m+\u001b[0m\u001b[0;36m1\u001b[0m\u001b[0;34m)\u001b[0m\u001b[0;34m,\u001b[0m \u001b[0mnp\u001b[0m\u001b[0;34m.\u001b[0m\u001b[0mconcatenate\u001b[0m\u001b[0;34m(\u001b[0m\u001b[0;34m(\u001b[0m\u001b[0mrecord_position\u001b[0m\u001b[0;34m[\u001b[0m\u001b[0;36m2\u001b[0m\u001b[0;34m]\u001b[0m\u001b[0;34m,\u001b[0m\u001b[0mnp\u001b[0m\u001b[0;34m.\u001b[0m\u001b[0mones\u001b[0m\u001b[0;34m(\u001b[0m\u001b[0;36m100\u001b[0m\u001b[0;34m)\u001b[0m\u001b[0;34m*\u001b[0m\u001b[0mrecord_position\u001b[0m\u001b[0;34m[\u001b[0m\u001b[0;36m2\u001b[0m\u001b[0;34m]\u001b[0m\u001b[0;34m[\u001b[0m\u001b[0mT\u001b[0m\u001b[0;34m+\u001b[0m\u001b[0mR\u001b[0m\u001b[0;34m]\u001b[0m\u001b[0;34m)\u001b[0m\u001b[0;34m)\u001b[0m\u001b[0;34m,\u001b[0m \u001b[0mcolor\u001b[0m \u001b[0;34m=\u001b[0m \u001b[0mcol\u001b[0m\u001b[0;34m[\u001b[0m\u001b[0;36m2\u001b[0m\u001b[0;34m]\u001b[0m\u001b[0;34m,\u001b[0m \u001b[0mlw\u001b[0m \u001b[0;34m=\u001b[0m \u001b[0;36m2\u001b[0m\u001b[0;34m)\u001b[0m\u001b[0;34m\u001b[0m\u001b[0m\n",
      "\u001b[0;31mNameError\u001b[0m: name 'record_position' is not defined"
     ]
    },
    {
     "data": {
      "image/png": "[encoded data removed]",
      "text/plain": [
       "<matplotlib.figure.Figure at 0x7fa875349f90>"
      ]
     },
     "metadata": {},
     "output_type": "display_data"
    }
   ],
   "source": [
    "col = np.zeros((8,3))\n",
    "for i in np.arange(8):\n",
    "    col[i] = (8-i)/(2*8),0,i/(2*8)\n",
    "\n",
    "fig_width = 5\n",
    "fig, ax = plt.subplots(1, 1, figsize=(fig_width, fig_width/1.618))\n",
    "plt.plot(np.linspace(0,200,2*T+2*R+1), np.concatenate((record_position[0],np.ones(100)*record_position[0][T+R])), color = col[0], lw = 2)\n",
    "plt.plot(np.linspace(0,200,2*T+2*R+1), np.concatenate((record_position[1],np.ones(100)*record_position[1][T+R])), color = col[1], lw = 2)\n",
    "plt.plot(np.linspace(0,200,2*T+2*R+1), np.concatenate((record_position[2],np.ones(100)*record_position[2][T+R])), color = col[2], lw = 2)\n",
    "plt.plot(np.linspace(0,200,2*T+2*R+1), np.concatenate((record_position[3],np.ones(100)*record_position[3][T+R])), color = col[3], lw = 2)\n",
    "plt.plot(np.linspace(0,200,2*T+2*R+1), np.concatenate((record_position[4],np.ones(100)*record_position[4][T+R])), color = col[4], lw = 2)\n",
    "plt.plot(np.linspace(0,200,2*T+2*R+1), np.concatenate((record_position[5],np.ones(100)*record_position[5][T+R])), color = col[5], lw = 2)\n",
    "plt.plot(np.linspace(0,200,2*T+2*R+1), np.concatenate((record_position[6],np.ones(100)*record_position[6][T+R])), color = col[6], lw = 2)\n",
    "plt.plot(np.linspace(0,200,2*T+2*R+1), np.concatenate((record_position[7],np.ones(100)*record_position[7][T+R])), color = col[7], lw = 2)\n",
    "#ax.plot(np.linspace(0,2*(t_T+t_R)*1000,2*T+2*R+1), np.ones(2*T+2*R+1)*target[0],'r--')\n",
    "#ax.plot(np.linspace(0,2*(t_T+t_R)*1000,2*T+2*R+1), np.ones(2*T+2*R+1)*target[1],'r--')\n",
    "#ax.plot(np.linspace(0,2*(t_T+t_R)*1000,2*T+2*R+1), np.ones(2*T+2*R+1)*target[2],'r--')\n",
    "#ax.plot(np.linspace(0,2*(t_T+t_R)*1000,2*T+2*R+1), np.ones(2*T+2*R+1)*target[3],'r--')\n",
    "#ax.plot(np.linspace(0,2*(t_T+t_R)*1000,2*T+2*R+1), np.ones(2*T+2*R+1)*target[4],'r--')\n",
    "#ax.plot(np.linspace(0,2*(t_T+t_R)*1000,2*T+2*R+1), np.ones(2*T+2*R+1)*target[5],'r--')\n",
    "#ax.plot(np.linspace(0,2*(t_T+t_R)*1000,2*T+2*R+1), np.ones(2*T+2*R+1)*target[6],'r--')\n",
    "#ax.plot(np.linspace(0,2*(t_T+t_R)*1000,2*T+2*R+1), np.ones(2*T+2*R+1)*target[7],'r--')\n",
    "plt.text(170, 2.5, r'$x_T = 5$', fontsize = 10)\n",
    "plt.text(170, 7.5, r'$x_T = 10$', fontsize = 10)\n",
    "plt.text(170, 12.5, r'$x_T = 15$', fontsize = 10)\n",
    "plt.text(170, 17.5, r'$x_T = 20$', fontsize = 10)\n",
    "plt.text(170, 22.5, r'$x_T = 25$', fontsize = 10)\n",
    "plt.text(170, 27.5, r'$x_T = 30$', fontsize = 10)\n",
    "plt.text(170, 32.5, r'$x_T = 35$', fontsize = 10)\n",
    "plt.text(170, 37.5, r'$x_T = 40$', fontsize = 10)\n",
    "\n",
    "\n",
    "ax.set_ylim(-0.5, target[7]+0.5)\n",
    "\n",
    "ax.set_title(r'Evolution of the position for different amplitudes $x_T$', fontsize = 10)\n",
    "ax.set_xlabel('Time ($ms$)', fontsize=10)\n",
    "ax.set_ylabel(r'Position ($deg$)', fontsize=10)\n",
    "plt.savefig('diffamplitudepos.png')"
   ]
  },
  {
   "cell_type": "code",
   "execution_count": null,
   "metadata": {
    "collapsed": true
   },
   "outputs": [],
   "source": [
    "col = np.zeros((8,3))\n",
    "for i in np.arange(8):\n",
    "    col[i] = (8-i)/(2*8),0,i/(2*8)\n",
    "\n",
    "fig_width = 5\n",
    "fig, ax = plt.subplots(1, 1, figsize=(fig_width, fig_width/1.618))\n",
    "plt.plot(np.linspace(0,200,2*T+2*R+1), np.concatenate((record.velocity[0],np.zeros(100))), color = col[0], label= r'$x_T = 5$', lw = 2)\n",
    "plt.plot(np.linspace(0,200,2*T+2*R+1), np.concatenate((record.velocity[1],np.zeros(100))), color = col[1], label= r'$x_T = 10$', lw = 2)\n",
    "plt.plot(np.linspace(0,200,2*T+2*R+1), np.concatenate((record.velocity[2],np.zeros(100))), color = col[2], label= r'$x_T = 15$', lw = 2)\n",
    "plt.plot(np.linspace(0,200,2*T+2*R+1), np.concatenate((record.velocity[3],np.zeros(100))), color = col[3], label= r'$x_T = 20$', lw = 2)\n",
    "plt.plot(np.linspace(0,200,2*T+2*R+1), np.concatenate((record.velocity[4],np.zeros(100))), color = col[4], label= r'$x_T = 25$', lw = 2)\n",
    "plt.plot(np.linspace(0,200,2*T+2*R+1), np.concatenate((record.velocity[5],np.zeros(100))), color = col[5], label= r'$x_T = 30$', lw = 2)\n",
    "plt.plot(np.linspace(0,200,2*T+2*R+1), np.concatenate((record.velocity[6],np.zeros(100))), color = col[6], label= r'$x_T = 35$', lw = 2)\n",
    "plt.plot(np.linspace(0,200,2*T+2*R+1), np.concatenate((record.velocity[7],np.zeros(100))), color = col[7], label= r'$x_T = 40$', lw = 2)\n",
    "\n",
    "ax.legend(prop={'size':8})\n",
    "\n",
    "\n",
    "ax.set_ylim(-20, 600)\n",
    "\n",
    "ax.set_title(r'Evolution of the velocity for different amplitudes $x_T$', fontsize = 10)\n",
    "ax.set_xlabel('Time ($ms$)', fontsize=10)\n",
    "ax.set_ylabel(r'Velocity ($deg\\cdot s^{-1}$)', fontsize=10)\n",
    "\n"
   ]
  },
  {
   "cell_type": "code",
   "execution_count": null,
   "metadata": {
    "collapsed": true
   },
   "outputs": [],
   "source": [
    "peak_vel = np.array([max(record.velocity[0]),max(record.velocity[1]),max(record.velocity[2]),max(record.velocity[3]),max(record.velocity[4]),max(record.velocity[5]),max(record.velocity[6]),max(record.velocity[7])])"
   ]
  },
  {
   "cell_type": "code",
   "execution_count": null,
   "metadata": {
    "collapsed": true
   },
   "outputs": [],
   "source": [
    "alpha = (np.sqrt(np.concatenate((np.zeros(1),target)))*np.concatenate((np.zeros(1),peak_vel))).sum()/((np.concatenate((np.zeros(1),target))).sum())"
   ]
  },
  {
   "cell_type": "code",
   "execution_count": null,
   "metadata": {
    "collapsed": true,
    "scrolled": false
   },
   "outputs": [],
   "source": [
    "fig_width = 5\n",
    "fig, ax = plt.subplots(1, 1, figsize=(fig_width, fig_width/1.618))\n",
    "plt.plot(np.concatenate((np.zeros(1),target)), np.concatenate((np.zeros(1),peak_vel)),lw = 2)\n",
    "ax.set_ylim(-20, 600)\n",
    "\n",
    "ax.set_title('Main sequence diagram', fontsize = 12)\n",
    "ax.set_xlabel('Amplitude ($deg$)', fontsize=10)\n",
    "ax.set_ylabel(r'Peak velocity ($deg\\cdot s^{-1}$)', fontsize=10)"
   ]
  },
  {
   "cell_type": "code",
   "execution_count": null,
   "metadata": {
    "collapsed": true
   },
   "outputs": [],
   "source": [
    "alpha"
   ]
  },
  {
   "cell_type": "code",
   "execution_count": null,
   "metadata": {
    "collapsed": true
   },
   "outputs": [],
   "source": [
    "cost_p = np.zeros(niter+1)\n",
    "\n",
    "for i in np.arange(niter+1):\n",
    "    cost_p[i] = cost(a[i])"
   ]
  },
  {
   "cell_type": "code",
   "execution_count": null,
   "metadata": {
    "collapsed": true
   },
   "outputs": [],
   "source": [
    "fig_width = 15\n",
    "fig, ax = plt.subplots(1, 1, figsize=(fig_width, fig_width/1.618))\n",
    "\n",
    "ax.plot(cost_p, '-', lw = 2)\n",
    "ax.set_title('Cost')\n",
    "ax.set_xlabel('Number of iterations', fontsize=14)\n",
    "ax.set_ylabel('Cost', fontsize=14)\n"
   ]
  },
  {
   "cell_type": "markdown",
   "metadata": {},
   "source": [
    "Finally, we trace the position at time T for each iteration."
   ]
  },
  {
   "cell_type": "code",
   "execution_count": null,
   "metadata": {
    "collapsed": true
   },
   "outputs": [],
   "source": [
    "positionT = np.zeros(niter+1)\n",
    "\n",
    "for i in np.arange(niter+1):\n",
    "    positionT[i] = (expectation(a[i], T))[0]"
   ]
  },
  {
   "cell_type": "code",
   "execution_count": null,
   "metadata": {
    "collapsed": true,
    "scrolled": false
   },
   "outputs": [],
   "source": [
    "fig_width = 15\n",
    "fig, ax = plt.subplots(1, 1, figsize=(fig_width, fig_width/1.618))\n",
    "\n",
    "ax.plot(positionT, '-', lw=2)\n",
    "ax.set_title('Position at time T')\n",
    "ax.set_xlabel('Number of iterations', fontsize=14)\n",
    "ax.set_ylabel('Position (deg)', fontsize=14)\n",
    "ax.plot([0,niter],[xT[0]+v*t_T ,xT[0]+v*t_T],'r--')\n"
   ]
  },
  {
   "cell_type": "code",
   "execution_count": null,
   "metadata": {
    "collapsed": true
   },
   "outputs": [],
   "source": [
    "import pickle\n",
    "import pandas as pd\n",
    "record = pd.DataFrame()\n",
    "for i in np.arange(8):\n",
    "    record_one = pd.DataFrame([{'position':pos[i,:],'velocity':vel[i,:]}],index=[i])\n",
    "    record = pd.concat([record, record_one])\n",
    "record.to_pickle('../2017_OptimalPrecision/DataRecording/'+'HarrisWolpertPursuit_dt=0.001_tau=0.013_data_for_main_sequence.pkl')"
   ]
  },
  {
   "cell_type": "code",
   "execution_count": null,
   "metadata": {
    "collapsed": true
   },
   "outputs": [],
   "source": [
    "import pickle\n",
    "import pandas as pd\n",
    "record = pd.read_pickle('/home/baptiste/Documents/2017_OptimalPrecision/DataRecording/'+'HarrisWolpertPursuit_dt=0.002_beta=100_m=1_cosinus.pkl')"
   ]
  },
  {
   "cell_type": "code",
   "execution_count": null,
   "metadata": {
    "collapsed": true
   },
   "outputs": [],
   "source": [
    "len(record_velocity[500])"
   ]
  },
  {
   "cell_type": "code",
   "execution_count": null,
   "metadata": {
    "collapsed": true
   },
   "outputs": [],
   "source": [
    "plot_signal(record_signal, 500, 10000, 0.1, 1.9, 0.002)"
   ]
  },
  {
   "cell_type": "code",
   "execution_count": null,
   "metadata": {
    "collapsed": true,
    "scrolled": false
   },
   "outputs": [],
   "source": [
    "plot_position(record_position, 500, 10000, 0.1, 1.9, 0.002)\n"
   ]
  },
  {
   "cell_type": "code",
   "execution_count": null,
   "metadata": {
    "collapsed": true,
    "scrolled": false
   },
   "outputs": [],
   "source": [
    "plot_velocity(record_velocity, 500, 10000, 0.1, 1.9, 0.002)\n"
   ]
  }
 ],
 "metadata": {
  "kernelspec": {
   "display_name": "Python 2",
   "language": "python",
   "name": "python2"
  },
  "language_info": {
   "codemirror_mode": {
    "name": "ipython",
    "version": 2
   },
   "file_extension": ".py",
   "mimetype": "text/x-python",
   "name": "python",
   "nbconvert_exporter": "python",
   "pygments_lexer": "ipython2",
   "version": "2.7.13"
  },
  "toc": {
   "colors": {
    "hover_highlight": "#DAA520",
    "navigate_num": "#000000",
    "navigate_text": "#333333",
    "running_highlight": "#FF0000",
    "selected_highlight": "#FFD700",
    "sidebar_border": "#EEEEEE",
    "wrapper_background": "#FFFFFF"
   },
   "moveMenuLeft": true,
   "nav_menu": {
    "height": "102px",
    "width": "252px"
   },
   "navigate_menu": true,
   "number_sections": true,
   "sideBar": true,
   "threshold": 4,
   "toc_cell": false,
   "toc_section_display": "block",
   "toc_window_display": false,
   "widenNotebook": false
  }
 },
 "nbformat": 4,
 "nbformat_minor": 2
}
