{
 "cells": [
  {
   "cell_type": "markdown",
   "metadata": {},
   "source": [
    "# Noised trajectories"
   ]
  },
  {
   "cell_type": "code",
   "execution_count": null,
   "metadata": {
    "collapsed": true
   },
   "outputs": [],
   "source": [
    "import numpy as np\n",
    "import numpy.random as alea\n",
    "import matplotlib.pyplot as plt\n",
    "%matplotlib inline"
   ]
  },
  {
   "cell_type": "code",
   "execution_count": null,
   "metadata": {
    "collapsed": true
   },
   "outputs": [],
   "source": [
    "from PlotFunctions import plot_signal, plot_position, plot_velocity, plot_variance"
   ]
  },
  {
   "cell_type": "code",
   "execution_count": null,
   "metadata": {},
   "outputs": [],
   "source": [
    "import pickle\n",
    "import pandas as pd\n",
    "record = pd.read_pickle('../2017_OptimalPrecision/DataRecording/dt_0.001/'+'HW_beta100.0_m1.0_dt0.001_k0.0005_niter1200000v_20.0.pkl')"
   ]
  },
  {
   "cell_type": "code",
   "execution_count": null,
   "metadata": {
    "collapsed": true
   },
   "outputs": [],
   "source": [
    "def fact(n): \n",
    "    \"\"\"The factorial function\n",
    "    Returns n!, that is n x (n-1) x (n-2) x ... x 1\n",
    "    Recursive implementation\n",
    "    \"\"\"\n",
    "    if n == 0:\n",
    "        return 1\n",
    "    else:\n",
    "        return(n*fact(n-1))"
   ]
  },
  {
   "cell_type": "code",
   "execution_count": null,
   "metadata": {
    "collapsed": true
   },
   "outputs": [],
   "source": [
    "beta = 100 \n",
    "m = 1\n",
    "dt = 0.001 # step time\n",
    "n = 2 # number of coordinates\n",
    "k = 0.000005 # kind of accuracy parameter: the smaller k is, the more accurate is the pointing"
   ]
  },
  {
   "cell_type": "code",
   "execution_count": null,
   "metadata": {
    "collapsed": true
   },
   "outputs": [],
   "source": [
    "# definition of A and B\n",
    "\n",
    "A = np.zeros((n,n))\n",
    "B = np.zeros(n)\n",
    "for i in np.arange(n):\n",
    "    for j in np.arange(i,n):\n",
    "        A[i,j] = dt**(j-i)/fact(j-i)\n",
    "A[n-1, n-1] = 1-dt*beta/m\n",
    "B[n-1] = dt/m"
   ]
  },
  {
   "cell_type": "code",
   "execution_count": null,
   "metadata": {
    "collapsed": true
   },
   "outputs": [],
   "source": [
    "t_T = .05# saccade duration\n",
    "t_R = .05 # pursuit duration\n",
    "T = int(np.round(t_T/dt))\n",
    "R = int(np.round(t_R/dt))\n",
    "time = np.linspace(0, t_T+t_R, R+T+1)\n",
    "time_ms = time*1000\n",
    "x0 = np.zeros(n) # starting point\n",
    "xT = np.zeros(n) # ending point\n",
    "xT[0] = 10\n",
    "x0[0] = 0\n",
    "#v = 10*np.cos(20*np.pi*time) # velocity of the target (deg/s)"
   ]
  },
  {
   "cell_type": "code",
   "execution_count": null,
   "metadata": {
    "collapsed": true
   },
   "outputs": [],
   "source": [
    "def xT_f(t):\n",
    "    return np.array([xT[0], 0])"
   ]
  },
  {
   "cell_type": "code",
   "execution_count": null,
   "metadata": {
    "collapsed": true
   },
   "outputs": [],
   "source": [
    "xx = np.zeros(T+R+1)\n",
    "vv = np.zeros(T+R+1)\n",
    "for i in np.arange(T+R+1):\n",
    "    xx[i] = xT[0]\n",
    "    vv[i] = 0"
   ]
  },
  {
   "cell_type": "code",
   "execution_count": null,
   "metadata": {
    "collapsed": true
   },
   "outputs": [],
   "source": [
    "def power(A, n): \n",
    "    \"\"\"\n",
    "    renvoie A puissance n où A est une matrice carrée\n",
    "        \n",
    "    \"\"\"\n",
    "    if n == 0:\n",
    "        return(np.eye(int(np.sqrt(np.size(A)))))\n",
    "    elif n == 1:\n",
    "        return A\n",
    "    else:\n",
    "        if n % 2 == 0:\n",
    "            A_half = power(A, n//2)\n",
    "            return(A_half.dot(A_half))\n",
    "        else:\n",
    "            A_half = power(A, (n-1)//2)\n",
    "            return(A.dot(A_half.dot(A_half)))\n",
    "\n",
    "def A_pow(A):\n",
    "    A_pow_array = np.zeros((T+R+1,n,n))\n",
    "\n",
    "    for i in np.arange(T+R+1):\n",
    "        A_pow_array[i] = power(A,i)\n",
    "    return A_pow_array\n",
    "\n",
    "A_pow_array = A_pow(A)\n",
    "\n",
    "def pow_fast(n):\n",
    "    return A_pow_array[n]\n",
    "\n",
    "ci0_array = np.zeros(T+R+1)\n",
    "\n",
    "for i in np.arange(T+R+1):\n",
    "    ci0_array[i] = (pow_fast(i).dot(B))[0]\n",
    "\n",
    "ci1_array = np.zeros(T+R+1)\n",
    "\n",
    "for i in np.arange(T+R+1):\n",
    "    ci1_array[i] = (pow_fast(i).dot(B))[1]\n",
    "    \n",
    "#ci2_array = np.zeros(T+R+1)\n",
    "\n",
    "#for i in np.arange(T+R+1):\n",
    "#    ci2_array[i] = (pow_fast(i).dot(B))[2]\n",
    "    \n",
    "#ci3_array = np.zeros(T+R+1)\n",
    "\n",
    "#for i in np.arange(T+R+1):\n",
    "#    ci3_array[i] = (pow_fast(i).dot(B))[3]\n",
    "\n",
    "ci = np.array([ci0_array, ci1_array])"
   ]
  },
  {
   "cell_type": "code",
   "execution_count": null,
   "metadata": {
    "collapsed": true
   },
   "outputs": [],
   "source": [
    "def state_vector(u, t):\n",
    "    if t == 0:\n",
    "        return x0\n",
    "    else:\n",
    "        w = np.zeros(len(u))\n",
    "        for i in np.arange(t):\n",
    "            if t < T + R:\n",
    "                w[i] = alea.normal(0, k*(u[i])**2)\n",
    "            else:\n",
    "                w[i] = 0\n",
    "        return (ci[:,0:t]*np.flipud(u[0:t]+w[0:t])).sum(axis = 1)"
   ]
  },
  {
   "cell_type": "code",
   "execution_count": null,
   "metadata": {
    "collapsed": true
   },
   "outputs": [],
   "source": [
    "def expectation(u, t):\n",
    "    \"\"\"Computation of the expectation of the state vector at time t, given u\n",
    "    \"\"\"\n",
    "    if t == 0:\n",
    "        return x0\n",
    "    else:\n",
    "        return (ci[:,0:t]*np.flipud(u[0:t])).sum(axis = 1)"
   ]
  },
  {
   "cell_type": "code",
   "execution_count": null,
   "metadata": {
    "collapsed": true
   },
   "outputs": [],
   "source": [
    "def variance(u, t):\n",
    "    \"\"\"Computation of the variance of the state vector at time t, given u\n",
    "    \"\"\"\n",
    "    return (m**2)*k*(np.flipud(ci0_array[0:t]**2)*u[0:t]**2).sum()"
   ]
  },
  {
   "cell_type": "code",
   "execution_count": null,
   "metadata": {
    "scrolled": false
   },
   "outputs": [],
   "source": [
    "fig_width = 15\n",
    "fig, ax = plt.subplots(1, 1, figsize=(fig_width, fig_width/1.618))\n",
    "ntest = 10000\n",
    "poss = np.zeros((ntest,T+R+1))\n",
    "vels = np.zeros((ntest,T+R+1))\n",
    "\n",
    "for j in np.arange(ntest):\n",
    "    pos1 = np.zeros(T+R+1)\n",
    "    pos2 = np.zeros(T+R+1)\n",
    "    vel1 = np.zeros(T+R+1)\n",
    "    vel2 = np.zeros(T+R+1)\n",
    "    for i in np.arange(T+R+1):\n",
    "        mean = expectation(record.signal[1200000], i)\n",
    "        state_v = state_vector(record.signal[1200000], i)\n",
    "        pos1[i] = mean[0]\n",
    "        pos2[i] = state_v[0]\n",
    "        vel1[i] = mean[1]\n",
    "        vel2[i] = state_v[1]\n",
    "    poss[j, :] = pos2\n",
    "    vels[j, :] = vel2\n",
    "pos_mean = np.mean(poss, axis = 0)\n",
    "vel_mean = np.mean(vels, axis = 0)\n",
    "for j in np.arange(ntest):\n",
    "    plt.figure(1)\n",
    "    plt.plot(poss[j])\n",
    "plt.plot(pos_mean, lw = 8, color ='black')\n",
    "plt.plot(pos1, lw = 2, color ='red')\n",
    "fig_width = 15\n",
    "fig, ax = plt.subplots(1, 1, figsize=(fig_width, fig_width/1.618))\n",
    "\n",
    "for j in np.arange(ntest):\n",
    "    plt.figure(2)\n",
    "    plt.plot(vels[j])\n",
    "plt.plot(vel_mean, lw = 8, color = 'black')\n",
    "plt.plot(vel1, lw = 2, color = 'red')\n"
   ]
  },
  {
   "cell_type": "markdown",
   "metadata": {},
   "source": [
    "Prévoir l'enveloppe du bruit?"
   ]
  },
  {
   "cell_type": "code",
   "execution_count": null,
   "metadata": {
    "collapsed": true
   },
   "outputs": [],
   "source": [
    "var_pos = np.zeros(T+R+1)\n",
    "\n",
    "for i in np.arange(T+R+1):\n",
    "    var_pos[i] = np.var(poss[:,i])"
   ]
  },
  {
   "cell_type": "code",
   "execution_count": null,
   "metadata": {},
   "outputs": [],
   "source": [
    "plt.plot(var_pos)"
   ]
  }
 ],
 "metadata": {
  "kernelspec": {
   "display_name": "Python 3",
   "language": "python",
   "name": "python3"
  },
  "language_info": {
   "codemirror_mode": {
    "name": "ipython",
    "version": 3
   },
   "file_extension": ".py",
   "mimetype": "text/x-python",
   "name": "python",
   "nbconvert_exporter": "python",
   "pygments_lexer": "ipython3",
   "version": "3.6.1"
  }
 },
 "nbformat": 4,
 "nbformat_minor": 2
}
